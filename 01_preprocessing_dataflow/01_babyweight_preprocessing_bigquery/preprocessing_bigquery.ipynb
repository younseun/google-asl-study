{
 "cells": [
  {
   "cell_type": "code",
   "execution_count": 6,
   "metadata": {},
   "outputs": [],
   "source": [
    "PROJECT = \"qwiklabs-gcp-ml-49b827b781ab\"  # Replace with your PROJECT\n",
    "BUCKET = \"qwiklabs-gcp-ml-49b827b781ab\"  # Replace with your BUCKET\n",
    "REGION = \"us-central1\"            # Choose an available region for Cloud MLE\n",
    "TFVERSION = \"1.14\"                # TF version for CMLE to use"
   ]
  },
  {
   "cell_type": "code",
   "execution_count": null,
   "metadata": {},
   "outputs": [],
   "source": [
    "import tensorflow as tf\n",
    "import apache_beam as beam\n",
    "import shutil\n",
    "import os\n",
    "print(tf.__version__)"
   ]
  },
  {
   "cell_type": "code",
   "execution_count": 1,
   "metadata": {},
   "outputs": [],
   "source": [
    "query = \"\"\"\n",
    "WITH CTE_Raw_Data AS (\n",
    "SELECT\n",
    "  weight_pounds,\n",
    "  CAST(is_male AS STRING) AS is_male,\n",
    "  mother_age,\n",
    "  plurality,\n",
    "  gestation_weeks,\n",
    "  ABS(FARM_FINGERPRINT(CONCAT(CAST(YEAR AS STRING), CAST(month AS STRING)))) AS hashmonth\n",
    "FROM\n",
    "  publicdata.samples.natality\n",
    "WHERE\n",
    "  year > 2000\n",
    "  AND weight_pounds > 0\n",
    "  AND mother_age > 0\n",
    "  AND plurality > 0\n",
    "  AND gestation_weeks > 0\n",
    "  AND month > 0)\n",
    "\n",
    "-- Ultrasound\n",
    "SELECT\n",
    "  weight_pounds,\n",
    "  is_male,\n",
    "  mother_age,\n",
    "  CASE\n",
    "    WHEN plurality = 1 THEN \"Single(1)\"\n",
    "    WHEN plurality = 2 THEN \"Twins(2)\"\n",
    "    WHEN plurality = 3 THEN \"Triplets(3)\"\n",
    "    WHEN plurality = 4 THEN \"Quadruplets(4)\"\n",
    "    WHEN plurality = 5 THEN \"Quintuplets(5)\"\n",
    "    ELSE \"NULL\"\n",
    "  END AS plurality,\n",
    "  gestation_weeks,\n",
    "  hashmonth\n",
    "FROM\n",
    "  CTE_Raw_Data\n",
    "UNION ALL\n",
    "-- No ultrasound\n",
    "SELECT\n",
    "  weight_pounds,\n",
    "  \"Unknown\" AS is_male,\n",
    "  mother_age,\n",
    "  CASE\n",
    "    WHEN plurality = 1 THEN \"Single(1)\"\n",
    "    WHEN plurality > 1 THEN \"Multiple(2+)\"\n",
    "  END AS plurality,\n",
    "  gestation_weeks,\n",
    "  hashmonth\n",
    "FROM\n",
    "    CTE_Raw_Data\n",
    "\"\"\""
   ]
  },
  {
   "cell_type": "code",
   "execution_count": 2,
   "metadata": {},
   "outputs": [
    {
     "name": "stdout",
     "output_type": "stream",
     "text": [
      "Dataset qwiklabs-gcp-ml-49b827b781ab.temp_babyweight_dataset already exists\n"
     ]
    }
   ],
   "source": [
    "from google.cloud import bigquery\n",
    "\n",
    "# Construct a BigQuery client object.\n",
    "client = bigquery.Client()\n",
    "\n",
    "# Set dataset_id to the ID of the dataset to create.\n",
    "dataset_name = \"temp_babyweight_dataset\"\n",
    "dataset_id = \"{}.{}\".format(client.project, dataset_name)\n",
    "\n",
    "# Construct a full Dataset object to send to the API.\n",
    "dataset = bigquery.Dataset.from_string(dataset_id)\n",
    "\n",
    "# Specify the geographic location where the dataset should reside.\n",
    "dataset.location = \"US\"\n",
    "\n",
    "# Send the dataset to the API for creation.\n",
    "# Raises google.api_core.exceptions.Conflict if the Dataset already\n",
    "# exists within the project.\n",
    "try:\n",
    "    dataset = client.create_dataset(dataset)  # API request\n",
    "    print(\"Created dataset {}.{}\".format(client.project, dataset.dataset_id))\n",
    "except:\n",
    "    print(\"Dataset {}.{} already exists\".format(client.project, dataset.dataset_id))"
   ]
  },
  {
   "cell_type": "code",
   "execution_count": 4,
   "metadata": {},
   "outputs": [
    {
     "name": "stdout",
     "output_type": "stream",
     "text": [
      "Query results loaded to table /projects/qwiklabs-gcp-ml-49b827b781ab/datasets/temp_babyweight_dataset/tables/babyweight_train\n",
      "Query results loaded to table /projects/qwiklabs-gcp-ml-49b827b781ab/datasets/temp_babyweight_dataset/tables/babyweight_eval\n"
     ]
    }
   ],
   "source": [
    "job_config = bigquery.QueryJobConfig()\n",
    "for step in [\"train\", \"eval\"]:\n",
    "    if step == \"train\":\n",
    "        selquery = \"SELECT * FROM ({}) WHERE MOD(hashmonth, 100) < 80\".format(query)\n",
    "    elif step == \"eval\":\n",
    "        selquery = \"SELECT * FROM ({}) WHERE MOD(hashmonth, 100) >= 80 AND MOD(hashmonth, 100) < 90\".format(query)\n",
    "    else: \n",
    "        selquery = \"SELECT * FROM ({}) WHERE MOD(hashmonth, 100) >= 90\".format(query)\n",
    "    # Set the destination table\n",
    "    table_name = \"babyweight_{}\".format(step)\n",
    "    table_ref = client.dataset(dataset_name).table(table_name)\n",
    "    job_config.destination = table_ref\n",
    "    job_config.write_disposition = \"WRITE_TRUNCATE\"\n",
    "\n",
    "    # Start the query, passing in the extra configuration.\n",
    "    query_job = client.query(\n",
    "        query=selquery,\n",
    "        # Location must match that of the dataset(s) referenced in the query\n",
    "        # and of the destination table.\n",
    "        location=\"US\",\n",
    "        job_config=job_config)  # API request - starts the query\n",
    "\n",
    "    query_job.result()  # Waits for the query to finish\n",
    "    print(\"Query results loaded to table {}\".format(table_ref.path))"
   ]
  },
  {
   "cell_type": "markdown",
   "metadata": {},
   "source": [
    "<img src=\"20191206_bigquery_1.png\" alt=\"Drawing\" style=\"width: 800px;\"/>"
   ]
  },
  {
   "cell_type": "code",
   "execution_count": 7,
   "metadata": {},
   "outputs": [
    {
     "name": "stdout",
     "output_type": "stream",
     "text": [
      "Exported qwiklabs-gcp-ml-49b827b781ab:temp_babyweight_dataset.babyweight_train to gs://qwiklabs-gcp-ml-49b827b781ab/babyweight/bq_data/train*.csv\n",
      "Exported qwiklabs-gcp-ml-49b827b781ab:temp_babyweight_dataset.babyweight_eval to gs://qwiklabs-gcp-ml-49b827b781ab/babyweight/bq_data/eval*.csv\n"
     ]
    }
   ],
   "source": [
    "dataset_ref = client.dataset(dataset_id=dataset_name, project=PROJECT)\n",
    "\n",
    "for step in [\"train\", \"eval\"]:\n",
    "    destination_uri = \"gs://{}/{}\".format(BUCKET, \"babyweight/bq_data/{}*.csv\".format(step))\n",
    "    table_name = \"babyweight_{}\".format(step)\n",
    "    table_ref = dataset_ref.table(table_name)\n",
    "    extract_job = client.extract_table(\n",
    "        table_ref,\n",
    "        destination_uri,\n",
    "        # Location must match that of the source table.\n",
    "        location=\"US\",\n",
    "    )  # API request\n",
    "    extract_job.result()  # Waits for job to complete.\n",
    "\n",
    "    print(\"Exported {}:{}.{} to {}\".format(PROJECT, dataset_name, table_name, destination_uri))"
   ]
  },
  {
   "cell_type": "markdown",
   "metadata": {},
   "source": [
    "<img src=\"20191206_storage_1.png\" alt=\"Drawing\" style=\"width: 800px;\"/>"
   ]
  },
  {
   "cell_type": "markdown",
   "metadata": {},
   "source": [
    "# View results"
   ]
  },
  {
   "cell_type": "code",
   "execution_count": 9,
   "metadata": {},
   "outputs": [
    {
     "name": "stdout",
     "output_type": "stream",
     "text": [
      "gs://qwiklabs-gcp-ml-49b827b781ab/babyweight/bq_data/eval000000000000.csv\n",
      "gs://qwiklabs-gcp-ml-49b827b781ab/babyweight/bq_data/train000000000000.csv\n"
     ]
    }
   ],
   "source": [
    "!gsutil ls gs://$BUCKET/babyweight/bq_data/*000000000000*"
   ]
  },
  {
   "cell_type": "code",
   "execution_count": null,
   "metadata": {},
   "outputs": [],
   "source": []
  }
 ],
 "metadata": {
  "kernelspec": {
   "display_name": "Python 3",
   "language": "python",
   "name": "python3"
  },
  "language_info": {
   "codemirror_mode": {
    "name": "ipython",
    "version": 3
   },
   "file_extension": ".py",
   "mimetype": "text/x-python",
   "name": "python",
   "nbconvert_exporter": "python",
   "pygments_lexer": "ipython3",
   "version": "3.5.3"
  }
 },
 "nbformat": 4,
 "nbformat_minor": 4
}
