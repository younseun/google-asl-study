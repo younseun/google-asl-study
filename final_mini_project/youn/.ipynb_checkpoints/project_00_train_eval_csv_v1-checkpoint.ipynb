{
 "cells": [
  {
   "cell_type": "code",
   "execution_count": 1,
   "metadata": {},
   "outputs": [],
   "source": [
    "import numpy as np\n",
    "import tensorflow as tf"
   ]
  },
  {
   "cell_type": "code",
   "execution_count": 2,
   "metadata": {},
   "outputs": [],
   "source": [
    "tf.enable_eager_execution() "
   ]
  },
  {
   "cell_type": "code",
   "execution_count": 3,
   "metadata": {},
   "outputs": [
    {
     "name": "stdout",
     "output_type": "stream",
     "text": [
      "CSV_COLUMN_NAMES:['time', 'V1', 'V2', 'V3', 'V4', 'V5', 'V6', 'V7', 'V8', 'V9', 'V10', 'V11', 'V12', 'V13', 'V14', 'V15', 'V16', 'V17', 'V18', 'V19', 'V20', 'V21', 'V22', 'V23', 'V24', 'V25', 'V26', 'V27', 'V28', 'Amount', 'Class']\n",
      "CSV_DEFAULTS:[[0.0], [0.0], [0.0], [0.0], [0.0], [0.0], [0.0], [0.0], [0.0], [0.0], [0.0], [0.0], [0.0], [0.0], [0.0], [0.0], [0.0], [0.0], [0.0], [0.0], [0.0], [0.0], [0.0], [0.0], [0.0], [0.0], [0.0], [0.0], [0.0], [0.0], [0]]\n"
     ]
    }
   ],
   "source": [
    "CSV_COLUMN_NAMES = [\"time\"]+['V'+(i+1).astype(np.str) for i in np.array(range(28))]+['Amount','Class']\n",
    "CSV_DEFAULTS = [[0.0] for i in np.array(range(30))]+[[0]]\n",
    "print('CSV_COLUMN_NAMES:{}\\nCSV_DEFAULTS:{}'.format(CSV_COLUMN_NAMES,CSV_DEFAULTS))"
   ]
  },
  {
   "cell_type": "code",
   "execution_count": 20,
   "metadata": {},
   "outputs": [],
   "source": [
    "def parse_row(row):\n",
    "    fields = tf.decode_csv(row, record_defaults=CSV_DEFAULTS)\n",
    "    features = {    \n",
    "                'time':fields[0], \n",
    "                'V1'  :fields[1],                 'V2'  :fields[2],                 'V3'  :fields[3], \n",
    "                'V4'  :fields[4],                 'V5'  :fields[5],                 'V6'  :fields[6], \n",
    "                'V7'  :fields[7],                 'V8'  :fields[8],                 'V9'  :fields[9], \n",
    "                'V10' :fields[10],                'V11' :fields[11],                'V12' :fields[12],\n",
    "                'V13' :fields[13],                'V14' :fields[14],                'V15' :fields[15], \n",
    "                'V16' :fields[16],                'V17' :fields[17],                'V18' :fields[18], \n",
    "                'V19' :fields[19],                'V20' :fields[20],                'V21' :fields[21], \n",
    "                'V22' :fields[22],                'V23' :fields[23],                'V24' :fields[24], \n",
    "                'V25' :fields[25],                'V26' :fields[26],                'V27' :fields[27], \n",
    "                'V28' :fields[28],                 'Amount':fields[29]}\n",
    "    labels = fields[30]\n",
    "    \n",
    "    return features, labels"
   ]
  },
  {
   "cell_type": "code",
   "execution_count": 46,
   "metadata": {},
   "outputs": [],
   "source": [
    "def read_dataset(csv_path):  \n",
    "    dataset = tf.data.TextLineDataset(csv_path)\n",
    "    dataset = dataset.skip(1).map(parse_row).shuffle(1000000)\n",
    "    return dataset"
   ]
  },
  {
   "cell_type": "code",
   "execution_count": 13,
   "metadata": {},
   "outputs": [],
   "source": [
    "!head ./input/creditcard.csv > ./input/creditcard_small.csv"
   ]
  },
  {
   "cell_type": "code",
   "execution_count": 52,
   "metadata": {},
   "outputs": [
    {
     "name": "stdout",
     "output_type": "stream",
     "text": [
      "time:153875.0, V1:-0.6136959195137024, V2:3.698772430419922, V28:0.29234498739242554, Amount:0.0, Class:1\n",
      "time:63578.0, V1:-0.6391912698745728, V2:-0.0855947881937027, V28:-0.06268653273582458, Amount:290.17999267578125, Class:1\n",
      "time:67857.0, V1:-1.7393337488174438, V2:-1.304654598236084, V28:0.06627968698740005, Amount:320.0, Class:1\n",
      "time:153761.0, V1:1.1462593078613281, V2:1.4034582376480103, V28:0.2437441200017929, Amount:51.369998931884766, Class:1\n",
      "****************************************************************************************************\n"
     ]
    }
   ],
   "source": [
    "for i, (feature, label) in enumerate(read_dataset(\"./input/creditcard_eval.csv\")):\n",
    "    if i >=2000:\n",
    "        break\n",
    "    if label.numpy() == 1:\n",
    "        print(\"time:{}, V1:{}, V2:{}, V28:{}, Amount:{}, Class:{}\".format(feature[\"time\"].numpy(),\n",
    "                                                                      feature[\"V1\"].numpy(),\n",
    "                                                                      feature[\"V2\"].numpy(),\n",
    "                                                                      feature[\"V28\"].numpy(),\n",
    "                                                                      feature[\"Amount\"].numpy(),\n",
    "                                                                      label.numpy()))\n",
    "#    print(\"*\"*100)\n",
    "#    print(\"time  :\", feature[\"time\"].numpy())\n",
    "#    print(\"V1    :\", feature[\"V1\"].numpy())\n",
    "#    print(\"V2    :\", feature[\"V2\"].numpy())\n",
    "#    print(\"V3    :\", feature[\"V3\"].numpy())\n",
    "#    print(\"V27   :\", feature[\"V27\"].numpy())\n",
    "#    print(\"V28   :\", feature[\"V28\"].numpy())\n",
    "#    print(\"Amount:\", feature[\"Amount\"].numpy())\n",
    "#    print(\"Class :\", label.numpy())\n",
    "print(\"*\"*100)"
   ]
  },
  {
   "cell_type": "code",
   "execution_count": null,
   "metadata": {},
   "outputs": [],
   "source": [
    "def train_input_fn(csv_path, batch_size = 128):\n",
    "    dataset = tf.data.TextLineDataset(csv_path)   \\\n",
    "                             .map(parse_row)\n",
    "    dataset = dataset.shuffle(1000)    \\\n",
    "                     .repeat(15)    \\\n",
    "                     .batch(128)\n",
    "    return dataset"
   ]
  }
 ],
 "metadata": {
  "kernelspec": {
   "display_name": "Python 3",
   "language": "python",
   "name": "python3"
  },
  "language_info": {
   "codemirror_mode": {
    "name": "ipython",
    "version": 3
   },
   "file_extension": ".py",
   "mimetype": "text/x-python",
   "name": "python",
   "nbconvert_exporter": "python",
   "pygments_lexer": "ipython3",
   "version": "3.5.3"
  }
 },
 "nbformat": 4,
 "nbformat_minor": 4
}
