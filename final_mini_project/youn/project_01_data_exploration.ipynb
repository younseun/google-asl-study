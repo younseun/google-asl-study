{
 "cells": [
  {
   "cell_type": "code",
   "execution_count": 72,
   "metadata": {},
   "outputs": [],
   "source": [
    "import pandas as pd\n",
    "import numpy as np\n",
    "import seaborn as sns\n",
    "from matplotlib import pyplot as plt\n",
    "\n",
    "pd.set_option('display.max_rows', 500)\n",
    "pd.set_option('display.max_columns', 500)\n",
    "pd.set_option('display.width', 1000)"
   ]
  },
  {
   "cell_type": "code",
   "execution_count": 28,
   "metadata": {},
   "outputs": [],
   "source": [
    "df = pd.read_csv('./input/creditcard_eval.csv')"
   ]
  },
  {
   "cell_type": "code",
   "execution_count": 29,
   "metadata": {},
   "outputs": [
    {
     "data": {
      "text/html": [
       "<div>\n",
       "<style scoped>\n",
       "    .dataframe tbody tr th:only-of-type {\n",
       "        vertical-align: middle;\n",
       "    }\n",
       "\n",
       "    .dataframe tbody tr th {\n",
       "        vertical-align: top;\n",
       "    }\n",
       "\n",
       "    .dataframe thead th {\n",
       "        text-align: right;\n",
       "    }\n",
       "</style>\n",
       "<table border=\"1\" class=\"dataframe\">\n",
       "  <thead>\n",
       "    <tr style=\"text-align: right;\">\n",
       "      <th></th>\n",
       "      <th>Time</th>\n",
       "      <th>V1</th>\n",
       "      <th>V2</th>\n",
       "      <th>V3</th>\n",
       "      <th>V4</th>\n",
       "      <th>V5</th>\n",
       "      <th>V6</th>\n",
       "      <th>V7</th>\n",
       "      <th>V8</th>\n",
       "      <th>V9</th>\n",
       "      <th>V10</th>\n",
       "      <th>V11</th>\n",
       "      <th>V12</th>\n",
       "      <th>V13</th>\n",
       "      <th>V14</th>\n",
       "      <th>V15</th>\n",
       "      <th>V16</th>\n",
       "      <th>V17</th>\n",
       "      <th>V18</th>\n",
       "      <th>V19</th>\n",
       "      <th>V20</th>\n",
       "      <th>V21</th>\n",
       "      <th>V22</th>\n",
       "      <th>V23</th>\n",
       "      <th>V24</th>\n",
       "      <th>V25</th>\n",
       "      <th>V26</th>\n",
       "      <th>V27</th>\n",
       "      <th>V28</th>\n",
       "      <th>Amount</th>\n",
       "      <th>Class</th>\n",
       "    </tr>\n",
       "  </thead>\n",
       "  <tbody>\n",
       "    <tr>\n",
       "      <th>count</th>\n",
       "      <td>71202.000000</td>\n",
       "      <td>71202.000000</td>\n",
       "      <td>71202.000000</td>\n",
       "      <td>71202.000000</td>\n",
       "      <td>71202.000000</td>\n",
       "      <td>71202.000000</td>\n",
       "      <td>71202.000000</td>\n",
       "      <td>71202.000000</td>\n",
       "      <td>71202.000000</td>\n",
       "      <td>71202.000000</td>\n",
       "      <td>71202.000000</td>\n",
       "      <td>71202.000000</td>\n",
       "      <td>71202.000000</td>\n",
       "      <td>71202.000000</td>\n",
       "      <td>71202.000000</td>\n",
       "      <td>71202.000000</td>\n",
       "      <td>71202.000000</td>\n",
       "      <td>71202.000000</td>\n",
       "      <td>71202.000000</td>\n",
       "      <td>71202.000000</td>\n",
       "      <td>71202.000000</td>\n",
       "      <td>71202.000000</td>\n",
       "      <td>71202.000000</td>\n",
       "      <td>71202.000000</td>\n",
       "      <td>71202.000000</td>\n",
       "      <td>71202.000000</td>\n",
       "      <td>71202.000000</td>\n",
       "      <td>71202.000000</td>\n",
       "      <td>71202.000000</td>\n",
       "      <td>71202.000000</td>\n",
       "      <td>71202.000000</td>\n",
       "    </tr>\n",
       "    <tr>\n",
       "      <th>mean</th>\n",
       "      <td>94767.591585</td>\n",
       "      <td>-0.003438</td>\n",
       "      <td>0.002564</td>\n",
       "      <td>0.004116</td>\n",
       "      <td>-0.008819</td>\n",
       "      <td>0.003284</td>\n",
       "      <td>0.006601</td>\n",
       "      <td>-0.000788</td>\n",
       "      <td>-0.000364</td>\n",
       "      <td>-0.001382</td>\n",
       "      <td>-0.001914</td>\n",
       "      <td>0.005872</td>\n",
       "      <td>0.005588</td>\n",
       "      <td>0.002260</td>\n",
       "      <td>0.000591</td>\n",
       "      <td>-0.002080</td>\n",
       "      <td>0.004386</td>\n",
       "      <td>-0.007442</td>\n",
       "      <td>-0.002714</td>\n",
       "      <td>0.004540</td>\n",
       "      <td>0.002705</td>\n",
       "      <td>-0.002558</td>\n",
       "      <td>-0.003277</td>\n",
       "      <td>-0.001771</td>\n",
       "      <td>-0.001836</td>\n",
       "      <td>0.000387</td>\n",
       "      <td>0.001095</td>\n",
       "      <td>-0.001183</td>\n",
       "      <td>0.000617</td>\n",
       "      <td>88.191769</td>\n",
       "      <td>0.001854</td>\n",
       "    </tr>\n",
       "    <tr>\n",
       "      <th>std</th>\n",
       "      <td>47541.690238</td>\n",
       "      <td>1.956566</td>\n",
       "      <td>1.649993</td>\n",
       "      <td>1.507237</td>\n",
       "      <td>1.419446</td>\n",
       "      <td>1.372018</td>\n",
       "      <td>1.332032</td>\n",
       "      <td>1.230933</td>\n",
       "      <td>1.208079</td>\n",
       "      <td>1.095742</td>\n",
       "      <td>1.096587</td>\n",
       "      <td>1.016970</td>\n",
       "      <td>1.004082</td>\n",
       "      <td>0.989694</td>\n",
       "      <td>0.957375</td>\n",
       "      <td>0.912694</td>\n",
       "      <td>0.873169</td>\n",
       "      <td>0.845632</td>\n",
       "      <td>0.838508</td>\n",
       "      <td>0.813547</td>\n",
       "      <td>0.762177</td>\n",
       "      <td>0.735077</td>\n",
       "      <td>0.726838</td>\n",
       "      <td>0.625285</td>\n",
       "      <td>0.608236</td>\n",
       "      <td>0.520181</td>\n",
       "      <td>0.481596</td>\n",
       "      <td>0.400953</td>\n",
       "      <td>0.328831</td>\n",
       "      <td>248.284003</td>\n",
       "      <td>0.043017</td>\n",
       "    </tr>\n",
       "    <tr>\n",
       "      <th>min</th>\n",
       "      <td>0.000000</td>\n",
       "      <td>-37.558067</td>\n",
       "      <td>-63.344698</td>\n",
       "      <td>-33.680984</td>\n",
       "      <td>-5.683171</td>\n",
       "      <td>-35.182120</td>\n",
       "      <td>-23.496714</td>\n",
       "      <td>-37.060311</td>\n",
       "      <td>-73.216718</td>\n",
       "      <td>-11.126624</td>\n",
       "      <td>-23.228255</td>\n",
       "      <td>-4.453853</td>\n",
       "      <td>-18.431131</td>\n",
       "      <td>-5.791881</td>\n",
       "      <td>-18.049998</td>\n",
       "      <td>-4.498945</td>\n",
       "      <td>-12.432279</td>\n",
       "      <td>-23.241597</td>\n",
       "      <td>-9.498746</td>\n",
       "      <td>-7.213527</td>\n",
       "      <td>-28.009635</td>\n",
       "      <td>-34.830382</td>\n",
       "      <td>-10.933144</td>\n",
       "      <td>-36.666000</td>\n",
       "      <td>-2.766638</td>\n",
       "      <td>-8.696627</td>\n",
       "      <td>-2.534330</td>\n",
       "      <td>-9.895244</td>\n",
       "      <td>-8.464609</td>\n",
       "      <td>0.000000</td>\n",
       "      <td>0.000000</td>\n",
       "    </tr>\n",
       "    <tr>\n",
       "      <th>25%</th>\n",
       "      <td>53989.000000</td>\n",
       "      <td>-0.921177</td>\n",
       "      <td>-0.594188</td>\n",
       "      <td>-0.883402</td>\n",
       "      <td>-0.855824</td>\n",
       "      <td>-0.687537</td>\n",
       "      <td>-0.766024</td>\n",
       "      <td>-0.554971</td>\n",
       "      <td>-0.207643</td>\n",
       "      <td>-0.642863</td>\n",
       "      <td>-0.538160</td>\n",
       "      <td>-0.751367</td>\n",
       "      <td>-0.398270</td>\n",
       "      <td>-0.639107</td>\n",
       "      <td>-0.422711</td>\n",
       "      <td>-0.581099</td>\n",
       "      <td>-0.465776</td>\n",
       "      <td>-0.489257</td>\n",
       "      <td>-0.502060</td>\n",
       "      <td>-0.448959</td>\n",
       "      <td>-0.210928</td>\n",
       "      <td>-0.228993</td>\n",
       "      <td>-0.546089</td>\n",
       "      <td>-0.162689</td>\n",
       "      <td>-0.356907</td>\n",
       "      <td>-0.317460</td>\n",
       "      <td>-0.325214</td>\n",
       "      <td>-0.071813</td>\n",
       "      <td>-0.053319</td>\n",
       "      <td>5.670000</td>\n",
       "      <td>0.000000</td>\n",
       "    </tr>\n",
       "    <tr>\n",
       "      <th>50%</th>\n",
       "      <td>84576.500000</td>\n",
       "      <td>0.009626</td>\n",
       "      <td>0.069818</td>\n",
       "      <td>0.179706</td>\n",
       "      <td>-0.028701</td>\n",
       "      <td>-0.050905</td>\n",
       "      <td>-0.269763</td>\n",
       "      <td>0.042157</td>\n",
       "      <td>0.022607</td>\n",
       "      <td>-0.052841</td>\n",
       "      <td>-0.094751</td>\n",
       "      <td>-0.025686</td>\n",
       "      <td>0.149427</td>\n",
       "      <td>-0.012415</td>\n",
       "      <td>0.051525</td>\n",
       "      <td>0.045621</td>\n",
       "      <td>0.072164</td>\n",
       "      <td>-0.067688</td>\n",
       "      <td>-0.006331</td>\n",
       "      <td>0.008455</td>\n",
       "      <td>-0.062041</td>\n",
       "      <td>-0.029934</td>\n",
       "      <td>0.002013</td>\n",
       "      <td>-0.010834</td>\n",
       "      <td>0.039970</td>\n",
       "      <td>0.017654</td>\n",
       "      <td>-0.049659</td>\n",
       "      <td>0.000422</td>\n",
       "      <td>0.011476</td>\n",
       "      <td>21.980000</td>\n",
       "      <td>0.000000</td>\n",
       "    </tr>\n",
       "    <tr>\n",
       "      <th>75%</th>\n",
       "      <td>139435.500000</td>\n",
       "      <td>1.313343</td>\n",
       "      <td>0.808596</td>\n",
       "      <td>1.023758</td>\n",
       "      <td>0.730327</td>\n",
       "      <td>0.616836</td>\n",
       "      <td>0.402048</td>\n",
       "      <td>0.572708</td>\n",
       "      <td>0.326392</td>\n",
       "      <td>0.593688</td>\n",
       "      <td>0.451240</td>\n",
       "      <td>0.745344</td>\n",
       "      <td>0.621895</td>\n",
       "      <td>0.659566</td>\n",
       "      <td>0.488766</td>\n",
       "      <td>0.644023</td>\n",
       "      <td>0.528423</td>\n",
       "      <td>0.394924</td>\n",
       "      <td>0.499961</td>\n",
       "      <td>0.461350</td>\n",
       "      <td>0.133204</td>\n",
       "      <td>0.184293</td>\n",
       "      <td>0.524382</td>\n",
       "      <td>0.147772</td>\n",
       "      <td>0.437471</td>\n",
       "      <td>0.350703</td>\n",
       "      <td>0.240168</td>\n",
       "      <td>0.090357</td>\n",
       "      <td>0.078605</td>\n",
       "      <td>76.647500</td>\n",
       "      <td>0.000000</td>\n",
       "    </tr>\n",
       "    <tr>\n",
       "      <th>max</th>\n",
       "      <td>172792.000000</td>\n",
       "      <td>2.404135</td>\n",
       "      <td>19.167239</td>\n",
       "      <td>4.101716</td>\n",
       "      <td>16.715537</td>\n",
       "      <td>34.099309</td>\n",
       "      <td>21.550496</td>\n",
       "      <td>36.877368</td>\n",
       "      <td>19.168327</td>\n",
       "      <td>10.370658</td>\n",
       "      <td>15.245686</td>\n",
       "      <td>11.277921</td>\n",
       "      <td>7.848392</td>\n",
       "      <td>4.316156</td>\n",
       "      <td>10.526766</td>\n",
       "      <td>5.667667</td>\n",
       "      <td>8.289890</td>\n",
       "      <td>9.207059</td>\n",
       "      <td>5.041069</td>\n",
       "      <td>4.555359</td>\n",
       "      <td>39.420904</td>\n",
       "      <td>27.202839</td>\n",
       "      <td>10.503090</td>\n",
       "      <td>15.626067</td>\n",
       "      <td>4.014444</td>\n",
       "      <td>5.541598</td>\n",
       "      <td>3.118588</td>\n",
       "      <td>9.879903</td>\n",
       "      <td>16.129609</td>\n",
       "      <td>19656.530000</td>\n",
       "      <td>1.000000</td>\n",
       "    </tr>\n",
       "  </tbody>\n",
       "</table>\n",
       "</div>"
      ],
      "text/plain": [
       "                Time            V1            V2            V3            V4            V5            V6            V7            V8            V9           V10           V11           V12           V13           V14           V15           V16           V17           V18           V19           V20           V21           V22           V23           V24           V25           V26           V27           V28        Amount         Class\n",
       "count   71202.000000  71202.000000  71202.000000  71202.000000  71202.000000  71202.000000  71202.000000  71202.000000  71202.000000  71202.000000  71202.000000  71202.000000  71202.000000  71202.000000  71202.000000  71202.000000  71202.000000  71202.000000  71202.000000  71202.000000  71202.000000  71202.000000  71202.000000  71202.000000  71202.000000  71202.000000  71202.000000  71202.000000  71202.000000  71202.000000  71202.000000\n",
       "mean    94767.591585     -0.003438      0.002564      0.004116     -0.008819      0.003284      0.006601     -0.000788     -0.000364     -0.001382     -0.001914      0.005872      0.005588      0.002260      0.000591     -0.002080      0.004386     -0.007442     -0.002714      0.004540      0.002705     -0.002558     -0.003277     -0.001771     -0.001836      0.000387      0.001095     -0.001183      0.000617     88.191769      0.001854\n",
       "std     47541.690238      1.956566      1.649993      1.507237      1.419446      1.372018      1.332032      1.230933      1.208079      1.095742      1.096587      1.016970      1.004082      0.989694      0.957375      0.912694      0.873169      0.845632      0.838508      0.813547      0.762177      0.735077      0.726838      0.625285      0.608236      0.520181      0.481596      0.400953      0.328831    248.284003      0.043017\n",
       "min         0.000000    -37.558067    -63.344698    -33.680984     -5.683171    -35.182120    -23.496714    -37.060311    -73.216718    -11.126624    -23.228255     -4.453853    -18.431131     -5.791881    -18.049998     -4.498945    -12.432279    -23.241597     -9.498746     -7.213527    -28.009635    -34.830382    -10.933144    -36.666000     -2.766638     -8.696627     -2.534330     -9.895244     -8.464609      0.000000      0.000000\n",
       "25%     53989.000000     -0.921177     -0.594188     -0.883402     -0.855824     -0.687537     -0.766024     -0.554971     -0.207643     -0.642863     -0.538160     -0.751367     -0.398270     -0.639107     -0.422711     -0.581099     -0.465776     -0.489257     -0.502060     -0.448959     -0.210928     -0.228993     -0.546089     -0.162689     -0.356907     -0.317460     -0.325214     -0.071813     -0.053319      5.670000      0.000000\n",
       "50%     84576.500000      0.009626      0.069818      0.179706     -0.028701     -0.050905     -0.269763      0.042157      0.022607     -0.052841     -0.094751     -0.025686      0.149427     -0.012415      0.051525      0.045621      0.072164     -0.067688     -0.006331      0.008455     -0.062041     -0.029934      0.002013     -0.010834      0.039970      0.017654     -0.049659      0.000422      0.011476     21.980000      0.000000\n",
       "75%    139435.500000      1.313343      0.808596      1.023758      0.730327      0.616836      0.402048      0.572708      0.326392      0.593688      0.451240      0.745344      0.621895      0.659566      0.488766      0.644023      0.528423      0.394924      0.499961      0.461350      0.133204      0.184293      0.524382      0.147772      0.437471      0.350703      0.240168      0.090357      0.078605     76.647500      0.000000\n",
       "max    172792.000000      2.404135     19.167239      4.101716     16.715537     34.099309     21.550496     36.877368     19.168327     10.370658     15.245686     11.277921      7.848392      4.316156     10.526766      5.667667      8.289890      9.207059      5.041069      4.555359     39.420904     27.202839     10.503090     15.626067      4.014444      5.541598      3.118588      9.879903     16.129609  19656.530000      1.000000"
      ]
     },
     "execution_count": 29,
     "metadata": {},
     "output_type": "execute_result"
    }
   ],
   "source": [
    "df.describe()"
   ]
  },
  {
   "cell_type": "markdown",
   "metadata": {},
   "source": [
    "# 데이터 분포 확인하기"
   ]
  },
  {
   "cell_type": "code",
   "execution_count": 38,
   "metadata": {},
   "outputs": [
    {
     "data": {
      "text/plain": [
       "(71070, 132)"
      ]
     },
     "execution_count": 38,
     "metadata": {},
     "output_type": "execute_result"
    }
   ],
   "source": [
    "df_0 = df[df[\"Class\"]== 0]\n",
    "df_1 = df[df[\"Class\"]== 1]\n",
    "len(df_0), len(df_1)"
   ]
  },
  {
   "cell_type": "code",
   "execution_count": 70,
   "metadata": {},
   "outputs": [
    {
     "name": "stdout",
     "output_type": "stream",
     "text": [
      "V5\n",
      "Min:-35.1821203113785   Mean:0.009533114323963043   Max:34.0993093435765\n"
     ]
    },
    {
     "data": {
      "image/png": "[encoded data removed]",
      "text/plain": [
       "<Figure size 720x216 with 1 Axes>"
      ]
     },
     "metadata": {
      "needs_background": "light"
     },
     "output_type": "display_data"
    },
    {
     "name": "stdout",
     "output_type": "stream",
     "text": [
      "Min:-21.2258096535165   Mean:-3.361370695994305   Max:9.880564025528619\n"
     ]
    },
    {
     "data": {
      "image/png": "[encoded data removed]",
      "text/plain": [
       "<Figure size 720x216 with 1 Axes>"
      ]
     },
     "metadata": {
      "needs_background": "light"
     },
     "output_type": "display_data"
    }
   ],
   "source": [
    "for column in list(df.columns):\n",
    "    if column in [\"V5\"]:\n",
    "        print(column)\n",
    "        df_0[column].hist(bins=20, figsize=(10, 3), xlabelsize=10, rwidth=0.9)\n",
    "        print('Min:{}   Mean:{}   Max:{}'.format(df_0[column].min(),df_0[column].mean(),df_0[column].max()))\n",
    "        plt.show()\n",
    "        df_1[column].hist(bins=20, figsize=(10, 3), xlabelsize=10, rwidth=0.9)\n",
    "        print('Min:{}   Mean:{}   Max:{}'.format(df_1[column].min(),df_1[column].mean(),df_1[column].max()))\n",
    "        plt.show()"
   ]
  },
  {
   "cell_type": "markdown",
   "metadata": {},
   "source": [
    "# 데이터 정규화"
   ]
  },
  {
   "cell_type": "code",
   "execution_count": 68,
   "metadata": {},
   "outputs": [
    {
     "name": "stdout",
     "output_type": "stream",
     "text": [
      "Original       >>> Min:    -63.3446983175   Mean:      0.0025642215   Max:     19.1672390103\n",
      "StandardScaler >>> Min:    -38.3927232768   Mean:     -0.0000000000   Max:     11.6150884248\n",
      "MinMaxScaler   >>> Min:      0.0000000000   Mean:      0.7677345193   Max:      1.0000000000\n",
      "MaxAbsScaler   >>> Min:     -1.0000000000   Mean:      0.0000404804   Max:      0.3025863177\n",
      "RobustScaler   >>> Min:    -45.2062032154   Mean:     -0.0479431057   Max:     13.6139474693\n"
     ]
    },
    {
     "data": {
      "image/png": "[encoded data removed]",
      "text/plain": [
       "<Figure size 720x216 with 1 Axes>"
      ]
     },
     "metadata": {
      "needs_background": "light"
     },
     "output_type": "display_data"
    },
    {
     "data": {
      "image/png": "[encoded data removed]",
      "text/plain": [
       "<Figure size 720x216 with 1 Axes>"
      ]
     },
     "metadata": {
      "needs_background": "light"
     },
     "output_type": "display_data"
    },
    {
     "data": {
      "image/png": "[encoded data removed]",
      "text/plain": [
       "<Figure size 720x216 with 1 Axes>"
      ]
     },
     "metadata": {
      "needs_background": "light"
     },
     "output_type": "display_data"
    },
    {
     "data": {
      "image/png": "[encoded data removed]",
      "text/plain": [
       "<Figure size 720x216 with 1 Axes>"
      ]
     },
     "metadata": {
      "needs_background": "light"
     },
     "output_type": "display_data"
    },
    {
     "data": {
      "image/png": "[encoded data removed]",
      "text/plain": [
       "<Figure size 720x216 with 1 Axes>"
      ]
     },
     "metadata": {
      "needs_background": "light"
     },
     "output_type": "display_data"
    }
   ],
   "source": [
    "from sklearn.preprocessing import StandardScaler, MinMaxScaler, MaxAbsScaler, RobustScaler\n",
    "column = \"V2\"\n",
    "scaler_stand  = StandardScaler()\n",
    "scaler_minmax = MinMaxScaler()\n",
    "scaler_maxabs = MaxAbsScaler()\n",
    "scaler_robust = RobustScaler()\n",
    "\n",
    "scaler_stand.fit(df[[column]])\n",
    "scaler_minmax.fit(df[[column]])\n",
    "scaler_maxabs.fit(df[[column]])\n",
    "scaler_robust.fit(df[[column]])\n",
    "\n",
    "out_stand = scaler_stand.transform(df[[column]])\n",
    "out_minmax = scaler_minmax.transform(df[[column]])\n",
    "out_maxabs = scaler_maxabs.transform(df[[column]])\n",
    "out_robust = scaler_robust.transform(df[[column]])\n",
    "\n",
    "out_stand = pd.DataFrame(out_stand, columns=[column], index=list(df.index.values))\n",
    "out_minmax = pd.DataFrame(out_minmax, columns=[column], index=list(df.index.values))\n",
    "out_maxabs = pd.DataFrame(out_maxabs, columns=[column], index=list(df.index.values))\n",
    "out_robust = pd.DataFrame(out_robust, columns=[column], index=list(df.index.values))\n",
    "\n",
    "print('Original       >>> Min:{:18.10f}   Mean:{:18.10f}   Max:{:18.10f}'.format(df[column].min(),df[column].mean(),df[column].max()))\n",
    "print('StandardScaler >>> Min:{:18.10f}   Mean:{:18.10f}   Max:{:18.10f}'.format(out_stand[column].min(),out_stand[column].mean(),out_stand[column].max()))\n",
    "print('MinMaxScaler   >>> Min:{:18.10f}   Mean:{:18.10f}   Max:{:18.10f}'.format(out_minmax[column].min(),out_minmax[column].mean(),out_minmax[column].max()))\n",
    "print('MaxAbsScaler   >>> Min:{:18.10f}   Mean:{:18.10f}   Max:{:18.10f}'.format(out_maxabs[column].min(),out_maxabs[column].mean(),out_maxabs[column].max()))\n",
    "print('RobustScaler   >>> Min:{:18.10f}   Mean:{:18.10f}   Max:{:18.10f}'.format(out_robust[column].min(),out_robust[column].mean(),out_robust[column].max()))\n",
    "\n",
    "df[column].hist(bins=20, figsize=(10, 3), xlabelsize=10, rwidth=0.9)\n",
    "plt.show()\n",
    "out_stand.hist(bins=20, figsize=(10, 3), xlabelsize=10, rwidth=0.9)\n",
    "plt.show()\n",
    "out_minmax.hist(bins=20, figsize=(10, 3), xlabelsize=10, rwidth=0.9)\n",
    "plt.show()\n",
    "out_maxabs.hist(bins=20, figsize=(10, 3), xlabelsize=10, rwidth=0.9)\n",
    "plt.show()\n",
    "out_robust.hist(bins=20, figsize=(10, 3), xlabelsize=10, rwidth=0.9)\n",
    "plt.show()"
   ]
  },
  {
   "cell_type": "code",
   "execution_count": 66,
   "metadata": {},
   "outputs": [
    {
     "data": {
      "image/png": "[encoded data removed]",
      "text/plain": [
       "<Figure size 720x216 with 1 Axes>"
      ]
     },
     "metadata": {
      "needs_background": "light"
     },
     "output_type": "display_data"
    }
   ],
   "source": [
    "out_stand.hist(bins=20, figsize=(10, 3), xlabelsize=10, rwidth=0.9)\n",
    "plt.show()"
   ]
  },
  {
   "cell_type": "markdown",
   "metadata": {},
   "source": [
    "### negative/positive 건수"
   ]
  },
  {
   "cell_type": "code",
   "execution_count": 73,
   "metadata": {},
   "outputs": [
    {
     "name": "stdout",
     "output_type": "stream",
     "text": [
      "Examples:\n",
      "    Total: 71202\n",
      "    Positive: 132 (0.19% of total)\n",
      "\n"
     ]
    }
   ],
   "source": [
    "neg, pos = np.bincount(df['Class'])\n",
    "total = neg + pos\n",
    "print('Examples:\\n    Total: {}\\n    Positive: {} ({:.2f}% of total)\\n'.format(\n",
    "    total, pos, 100 * pos / total))"
   ]
  },
  {
   "cell_type": "code",
   "execution_count": null,
   "metadata": {},
   "outputs": [],
   "source": []
  },
  {
   "cell_type": "code",
   "execution_count": null,
   "metadata": {},
   "outputs": [],
   "source": []
  },
  {
   "cell_type": "code",
   "execution_count": null,
   "metadata": {},
   "outputs": [],
   "source": []
  }
 ],
 "metadata": {
  "kernelspec": {
   "display_name": "Python 3",
   "language": "python",
   "name": "python3"
  },
  "language_info": {
   "codemirror_mode": {
    "name": "ipython",
    "version": 3
   },
   "file_extension": ".py",
   "mimetype": "text/x-python",
   "name": "python",
   "nbconvert_exporter": "python",
   "pygments_lexer": "ipython3",
   "version": "3.5.3"
  }
 },
 "nbformat": 4,
 "nbformat_minor": 4
}
