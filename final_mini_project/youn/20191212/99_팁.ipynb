{
 "cells": [
  {
   "cell_type": "markdown",
   "metadata": {},
   "source": [
    "# 파일안에 문자열 검색하기"
   ]
  },
  {
   "cell_type": "code",
   "execution_count": 8,
   "metadata": {},
   "outputs": [
    {
     "name": "stdout",
     "output_type": "stream",
     "text": [
      "./99_Tensorboard.ipynb:81:    \"### Tensorboard cleanup\"\n",
      "./99_Tensorboard.ipynb:98:    \"# this will kill the processes for Tensorboard\\n\",\n",
      "./.ipynb_checkpoints/99_Tensorboard-checkpoint.ipynb:81:    \"### Tensorboard cleanup\"\n",
      "./.ipynb_checkpoints/99_Tensorboard-checkpoint.ipynb:90:    \"# this will kill the processes for Tensorboard\\n\",\n",
      "./Untitled.ipynb:12:      \"./99_Tensorboard.ipynb:    \\\"    \\\\\\\"tensorboard --logdir {} --host 0.0.0.0 --port 6006 &\\\\\\\"\\\\n\\\",\\n\",\n",
      "./Untitled.ipynb:13:      \"./99_Tensorboard.ipynb:    \\\"!ps aux | grep tensorboard | awk '{print $2}' | xargs kill\\\"\\n\",\n"
     ]
    }
   ],
   "source": [
    "!find ./ -name \"*.ipynb\" | xargs grep -n \"Tensorboard\""
   ]
  },
  {
   "cell_type": "code",
   "execution_count": null,
   "metadata": {},
   "outputs": [],
   "source": []
  }
 ],
 "metadata": {
  "kernelspec": {
   "display_name": "Python 3",
   "language": "python",
   "name": "python3"
  },
  "language_info": {
   "codemirror_mode": {
    "name": "ipython",
    "version": 3
   },
   "file_extension": ".py",
   "mimetype": "text/x-python",
   "name": "python",
   "nbconvert_exporter": "python",
   "pygments_lexer": "ipython3",
   "version": "3.5.3"
  }
 },
 "nbformat": 4,
 "nbformat_minor": 4
}
