{
 "cells": [
  {
   "cell_type": "code",
   "execution_count": 1,
   "metadata": {},
   "outputs": [
    {
     "name": "stdout",
     "output_type": "stream",
     "text": [
      "1.15.0\n"
     ]
    }
   ],
   "source": [
    "import tensorflow as tf\n",
    "import numpy as np\n",
    "import pandas as pd\n",
    "import shutil\n",
    "print(tf.__version__)"
   ]
  },
  {
   "cell_type": "code",
   "execution_count": 2,
   "metadata": {},
   "outputs": [],
   "source": [
    "tf.enable_eager_execution() "
   ]
  },
  {
   "cell_type": "code",
   "execution_count": 3,
   "metadata": {},
   "outputs": [
    {
     "name": "stdout",
     "output_type": "stream",
     "text": [
      "CSV_COLUMN_NAMES:['time', 'V1', 'V2', 'V3', 'V4', 'V5', 'V6', 'V7', 'V8', 'V9', 'V10', 'V11', 'V12', 'V13', 'V14', 'V15', 'V16', 'V17', 'V18', 'V19', 'V20', 'V21', 'V22', 'V23', 'V24', 'V25', 'V26', 'V27', 'V28', 'Amount', 'Class']\n",
      "CSV_DEFAULTS:[[0.0], [0.0], [0.0], [0.0], [0.0], [0.0], [0.0], [0.0], [0.0], [0.0], [0.0], [0.0], [0.0], [0.0], [0.0], [0.0], [0.0], [0.0], [0.0], [0.0], [0.0], [0.0], [0.0], [0.0], [0.0], [0.0], [0.0], [0.0], [0.0], [0.0], [0]]\n"
     ]
    }
   ],
   "source": [
    "CSV_COLUMN_NAMES = [\"time\"]+['V'+(i+1).astype(np.str) for i in np.array(range(28))]+['Amount','Class']\n",
    "CSV_DEFAULTS = [[0.0] for i in np.array(range(30))]+[[0]]\n",
    "print('CSV_COLUMN_NAMES:{}\\nCSV_DEFAULTS:{}'.format(CSV_COLUMN_NAMES,CSV_DEFAULTS))"
   ]
  },
  {
   "cell_type": "code",
   "execution_count": 4,
   "metadata": {},
   "outputs": [],
   "source": [
    "FEATURE_NAMES = CSV_COLUMN_NAMES[:-1] # all but first column\n",
    "feature_cols = [tf.feature_column.numeric_column(key = k) for k in FEATURE_NAMES]\n",
    "#for i in feature_cols:\n",
    "#    print(i)  "
   ]
  },
  {
   "cell_type": "code",
   "execution_count": 5,
   "metadata": {},
   "outputs": [],
   "source": [
    "def parse_row(row):\n",
    "    fields = tf.decode_csv(records = row, record_defaults = CSV_DEFAULTS)\n",
    "    features = dict(zip(CSV_COLUMN_NAMES, fields))\n",
    "    label = features.pop(\"Class\")\n",
    "    return features, label\n",
    "\n",
    "def read_dataset(csv_path):\n",
    "    dataset = tf.data.TextLineDataset(filenames = csv_path).skip(count = 1) # skip header\n",
    "    dataset = dataset.map(map_func = parse_row)\n",
    "    return dataset\n",
    "\n",
    "def train_input_fn(csv_path, batch_size = 128):\n",
    "    dataset = read_dataset(csv_path)\n",
    "    dataset = dataset.shuffle(buffer_size = 1000).repeat(count = None).batch(batch_size = batch_size)\n",
    "    return dataset\n",
    "\n",
    "def eval_input_fn(csv_path, batch_size = 128):\n",
    "    dataset = read_dataset(csv_path)\n",
    "    dataset = dataset.batch(batch_size = batch_size)\n",
    "    return dataset"
   ]
  },
  {
   "cell_type": "code",
   "execution_count": 6,
   "metadata": {},
   "outputs": [],
   "source": [
    "# 실제 데이터 확인\n",
    "# tf.enable_eager_execution() 선언되어 있어야 함.\n",
    "#train_data_check = train_input_fn(csv_path = './input/train_smote.csv')\n",
    "#print(train_data_check.make_one_shot_iterator().get_next()[0][\"Amount\"][:10])\n",
    "#print(train_data_check.make_one_shot_iterator().get_next()[1][:10])\n"
   ]
  },
  {
   "cell_type": "markdown",
   "metadata": {},
   "source": [
    "# hidden_units=[10,10]"
   ]
  },
  {
   "cell_type": "code",
   "execution_count": 7,
   "metadata": {},
   "outputs": [
    {
     "name": "stdout",
     "output_type": "stream",
     "text": [
      "INFO:tensorflow:Using config: {'_save_checkpoints_secs': None, '_session_creation_timeout_secs': 7200, '_protocol': None, '_model_dir': 'credit_trained_LR01_10_10', '_num_worker_replicas': 1, '_evaluation_master': '', '_keep_checkpoint_every_n_hours': 10000, '_eval_distribute': None, '_service': None, '_keep_checkpoint_max': 5, '_is_chief': True, '_task_type': 'worker', '_save_checkpoints_steps': 100, '_save_summary_steps': 10, '_log_step_count_steps': 100, '_global_id_in_cluster': 0, '_experimental_max_worker_delay_secs': None, '_num_ps_replicas': 0, '_train_distribute': None, '_master': '', '_task_id': 0, '_device_fn': None, '_cluster_spec': <tensorflow.python.training.server_lib.ClusterSpec object at 0x7f8ded3fd8d0>, '_experimental_distribute': None, '_tf_random_seed': None, '_session_config': allow_soft_placement: true\n",
      "graph_options {\n",
      "  rewrite_options {\n",
      "    meta_optimizer_iterations: ONE\n",
      "  }\n",
      "}\n",
      "}\n"
     ]
    }
   ],
   "source": [
    "OUTDIR = \"credit_trained_LR01_10_10\"\n",
    "\n",
    "config = tf.estimator.RunConfig(\n",
    "    model_dir=OUTDIR,\n",
    "    keep_checkpoint_max=20,\n",
    "    save_summary_steps=10,\n",
    "    save_checkpoints_steps=100\n",
    ")\n",
    "model = tf.estimator.DNNClassifier(\n",
    "                                  hidden_units=[10, 10],\n",
    "                                  feature_columns=feature_cols,\n",
    "                                  optimizer = tf.train.AdamOptimizer(learning_rate=0.01),\n",
    "                                  config = config)"
   ]
  },
  {
   "cell_type": "code",
   "execution_count": 8,
   "metadata": {},
   "outputs": [
    {
     "name": "stdout",
     "output_type": "stream",
     "text": [
      "rm: cannot remove 'credit_trained_LR01_10_10': No such file or directory\n"
     ]
    }
   ],
   "source": [
    "!rm -r {OUTDIR}"
   ]
  },
  {
   "cell_type": "code",
   "execution_count": 9,
   "metadata": {},
   "outputs": [
    {
     "name": "stdout",
     "output_type": "stream",
     "text": [
      "WARNING:tensorflow:From /usr/local/lib/python3.5/dist-packages/tensorflow_core/python/training/training_util.py:236: Variable.initialized_value (from tensorflow.python.ops.variables) is deprecated and will be removed in a future version.\n",
      "Instructions for updating:\n",
      "Use Variable.read_value. Variables in 2.X are initialized automatically both in eager and graph (inside tf.defun) contexts.\n",
      "WARNING:tensorflow:From /usr/local/lib/python3.5/dist-packages/tensorflow_core/python/autograph/converters/directives.py:119: The name tf.decode_csv is deprecated. Please use tf.io.decode_csv instead.\n",
      "\n",
      "INFO:tensorflow:Calling model_fn.\n",
      "WARNING:tensorflow:From /usr/local/lib/python3.5/dist-packages/tensorflow_core/python/ops/resource_variable_ops.py:1630: calling BaseResourceVariable.__init__ (from tensorflow.python.ops.resource_variable_ops) with constraint is deprecated and will be removed in a future version.\n",
      "Instructions for updating:\n",
      "If using Keras pass *_constraint arguments to layers.\n",
      "WARNING:tensorflow:From /usr/local/lib/python3.5/dist-packages/tensorflow_estimator/python/estimator/canned/head.py:437: to_float (from tensorflow.python.ops.math_ops) is deprecated and will be removed in a future version.\n",
      "Instructions for updating:\n",
      "Use `tf.cast` instead.\n",
      "WARNING:tensorflow:From /usr/local/lib/python3.5/dist-packages/tensorflow_core/python/ops/nn_impl.py:183: where (from tensorflow.python.ops.array_ops) is deprecated and will be removed in a future version.\n",
      "Instructions for updating:\n",
      "Use tf.where in 2.0, which has the same broadcast rule as np.where\n",
      "INFO:tensorflow:Done calling model_fn.\n",
      "INFO:tensorflow:Create CheckpointSaverHook.\n",
      "INFO:tensorflow:Graph was finalized.\n",
      "INFO:tensorflow:Running local_init_op.\n",
      "INFO:tensorflow:Done running local_init_op.\n",
      "INFO:tensorflow:Saving checkpoints for 0 into credit_trained_LR01_10_10/model.ckpt.\n",
      "INFO:tensorflow:loss = 923787.4, step = 1\n",
      "INFO:tensorflow:Saving checkpoints for 100 into credit_trained_LR01_10_10/model.ckpt.\n",
      "INFO:tensorflow:global_step/sec: 26.2369\n",
      "INFO:tensorflow:loss = 0.0, step = 101 (3.814 sec)\n",
      "INFO:tensorflow:Saving checkpoints for 200 into credit_trained_LR01_10_10/model.ckpt.\n",
      "INFO:tensorflow:global_step/sec: 42.5376\n",
      "INFO:tensorflow:loss = 27614.635, step = 201 (2.352 sec)\n",
      "INFO:tensorflow:Saving checkpoints for 300 into credit_trained_LR01_10_10/model.ckpt.\n",
      "INFO:tensorflow:global_step/sec: 31.063\n",
      "INFO:tensorflow:loss = 2.0165416e-18, step = 301 (3.222 sec)\n",
      "INFO:tensorflow:Saving checkpoints for 400 into credit_trained_LR01_10_10/model.ckpt.\n",
      "INFO:tensorflow:global_step/sec: 42.5685\n",
      "INFO:tensorflow:loss = 496.77887, step = 401 (2.345 sec)\n",
      "INFO:tensorflow:Saving checkpoints for 500 into credit_trained_LR01_10_10/model.ckpt.\n",
      "WARNING:tensorflow:From /usr/local/lib/python3.5/dist-packages/tensorflow_core/python/training/saver.py:963: remove_checkpoint (from tensorflow.python.training.checkpoint_management) is deprecated and will be removed in a future version.\n",
      "Instructions for updating:\n",
      "Use standard file APIs to delete files with this prefix.\n",
      "INFO:tensorflow:global_step/sec: 39.2809\n",
      "INFO:tensorflow:loss = 0.0, step = 501 (2.550 sec)\n",
      "INFO:tensorflow:Saving checkpoints for 600 into credit_trained_LR01_10_10/model.ckpt.\n",
      "INFO:tensorflow:global_step/sec: 39.6709\n",
      "INFO:tensorflow:loss = 35124.574, step = 601 (2.517 sec)\n",
      "INFO:tensorflow:Saving checkpoints for 700 into credit_trained_LR01_10_10/model.ckpt.\n",
      "INFO:tensorflow:global_step/sec: 42.3017\n",
      "INFO:tensorflow:loss = 6896.731, step = 701 (2.364 sec)\n",
      "INFO:tensorflow:Saving checkpoints for 800 into credit_trained_LR01_10_10/model.ckpt.\n",
      "INFO:tensorflow:global_step/sec: 36.7905\n",
      "INFO:tensorflow:loss = 4.3855343e-19, step = 801 (2.717 sec)\n",
      "INFO:tensorflow:Saving checkpoints for 900 into credit_trained_LR01_10_10/model.ckpt.\n",
      "INFO:tensorflow:global_step/sec: 38.5316\n",
      "INFO:tensorflow:loss = 0.0, step = 901 (2.597 sec)\n",
      "INFO:tensorflow:Saving checkpoints for 1000 into credit_trained_LR01_10_10/model.ckpt.\n",
      "INFO:tensorflow:global_step/sec: 37.2738\n",
      "INFO:tensorflow:loss = 1.4159804e-05, step = 1001 (2.682 sec)\n",
      "INFO:tensorflow:Saving checkpoints for 1100 into credit_trained_LR01_10_10/model.ckpt.\n",
      "INFO:tensorflow:global_step/sec: 38.6733\n",
      "INFO:tensorflow:loss = 346.49268, step = 1101 (2.586 sec)\n",
      "INFO:tensorflow:Saving checkpoints for 1200 into credit_trained_LR01_10_10/model.ckpt.\n",
      "INFO:tensorflow:global_step/sec: 41.4932\n",
      "INFO:tensorflow:loss = 3.127324e-17, step = 1201 (2.410 sec)\n",
      "INFO:tensorflow:Saving checkpoints for 1300 into credit_trained_LR01_10_10/model.ckpt.\n",
      "INFO:tensorflow:global_step/sec: 40.3374\n",
      "INFO:tensorflow:loss = 1.4326073e-32, step = 1301 (2.482 sec)\n",
      "INFO:tensorflow:Saving checkpoints for 1400 into credit_trained_LR01_10_10/model.ckpt.\n",
      "INFO:tensorflow:global_step/sec: 38.2782\n",
      "INFO:tensorflow:loss = 0.0, step = 1401 (2.610 sec)\n",
      "INFO:tensorflow:Saving checkpoints for 1500 into credit_trained_LR01_10_10/model.ckpt.\n",
      "INFO:tensorflow:global_step/sec: 37.2326\n",
      "INFO:tensorflow:loss = 6.0099635, step = 1501 (2.685 sec)\n",
      "INFO:tensorflow:Saving checkpoints for 1600 into credit_trained_LR01_10_10/model.ckpt.\n",
      "INFO:tensorflow:global_step/sec: 37.2243\n",
      "INFO:tensorflow:loss = 2.5456998, step = 1601 (2.687 sec)\n",
      "INFO:tensorflow:Saving checkpoints for 1700 into credit_trained_LR01_10_10/model.ckpt.\n",
      "INFO:tensorflow:global_step/sec: 37.8787\n",
      "INFO:tensorflow:loss = 1.6018519, step = 1701 (2.641 sec)\n",
      "INFO:tensorflow:Saving checkpoints for 1800 into credit_trained_LR01_10_10/model.ckpt.\n",
      "INFO:tensorflow:global_step/sec: 38.9345\n",
      "INFO:tensorflow:loss = 1.1529455, step = 1801 (2.566 sec)\n",
      "INFO:tensorflow:Saving checkpoints for 1900 into credit_trained_LR01_10_10/model.ckpt.\n",
      "INFO:tensorflow:global_step/sec: 34.7889\n",
      "INFO:tensorflow:loss = 0.88676167, step = 1901 (2.879 sec)\n",
      "INFO:tensorflow:Saving checkpoints for 2000 into credit_trained_LR01_10_10/model.ckpt.\n",
      "INFO:tensorflow:global_step/sec: 39.1101\n",
      "INFO:tensorflow:loss = 0.71663314, step = 2001 (2.552 sec)\n",
      "INFO:tensorflow:Saving checkpoints for 2100 into credit_trained_LR01_10_10/model.ckpt.\n",
      "INFO:tensorflow:global_step/sec: 34.5395\n",
      "INFO:tensorflow:loss = 0.58603084, step = 2101 (2.901 sec)\n",
      "INFO:tensorflow:Saving checkpoints for 2200 into credit_trained_LR01_10_10/model.ckpt.\n",
      "INFO:tensorflow:global_step/sec: 36.7237\n",
      "INFO:tensorflow:loss = 0.47905052, step = 2201 (2.718 sec)\n",
      "INFO:tensorflow:Saving checkpoints for 2300 into credit_trained_LR01_10_10/model.ckpt.\n",
      "INFO:tensorflow:global_step/sec: 33.3408\n",
      "INFO:tensorflow:loss = 0.25756624, step = 2301 (3.000 sec)\n",
      "INFO:tensorflow:Saving checkpoints for 2400 into credit_trained_LR01_10_10/model.ckpt.\n",
      "INFO:tensorflow:global_step/sec: 35.1355\n",
      "INFO:tensorflow:loss = 0.15398772, step = 2401 (2.847 sec)\n",
      "INFO:tensorflow:Saving checkpoints for 2500 into credit_trained_LR01_10_10/model.ckpt.\n",
      "INFO:tensorflow:global_step/sec: 33.4182\n",
      "INFO:tensorflow:loss = 0.09686287, step = 2501 (2.992 sec)\n",
      "INFO:tensorflow:Saving checkpoints for 2600 into credit_trained_LR01_10_10/model.ckpt.\n",
      "INFO:tensorflow:global_step/sec: 36.3554\n",
      "INFO:tensorflow:loss = 0.06590104, step = 2601 (2.750 sec)\n",
      "INFO:tensorflow:Saving checkpoints for 2700 into credit_trained_LR01_10_10/model.ckpt.\n",
      "INFO:tensorflow:global_step/sec: 36.4773\n",
      "INFO:tensorflow:loss = 0.047011737, step = 2701 (2.741 sec)\n",
      "INFO:tensorflow:Saving checkpoints for 2800 into credit_trained_LR01_10_10/model.ckpt.\n",
      "INFO:tensorflow:global_step/sec: 33.8846\n",
      "INFO:tensorflow:loss = 0.034780934, step = 2801 (2.957 sec)\n",
      "INFO:tensorflow:Saving checkpoints for 2900 into credit_trained_LR01_10_10/model.ckpt.\n",
      "INFO:tensorflow:global_step/sec: 37.3579\n",
      "INFO:tensorflow:loss = 162.26585, step = 2901 (2.671 sec)\n",
      "INFO:tensorflow:Saving checkpoints for 3000 into credit_trained_LR01_10_10/model.ckpt.\n",
      "INFO:tensorflow:global_step/sec: 38.2614\n",
      "INFO:tensorflow:loss = 0.2586754, step = 3001 (2.614 sec)\n",
      "INFO:tensorflow:Saving checkpoints for 3100 into credit_trained_LR01_10_10/model.ckpt.\n",
      "INFO:tensorflow:global_step/sec: 41.6344\n",
      "INFO:tensorflow:loss = 0.20116979, step = 3101 (2.406 sec)\n",
      "INFO:tensorflow:Saving checkpoints for 3200 into credit_trained_LR01_10_10/model.ckpt.\n",
      "INFO:tensorflow:global_step/sec: 33.9511\n",
      "INFO:tensorflow:loss = 0.21782306, step = 3201 (2.946 sec)\n",
      "INFO:tensorflow:Saving checkpoints for 3300 into credit_trained_LR01_10_10/model.ckpt.\n",
      "INFO:tensorflow:global_step/sec: 36.1478\n",
      "INFO:tensorflow:loss = 0.21292092, step = 3301 (2.766 sec)\n",
      "INFO:tensorflow:Saving checkpoints for 3400 into credit_trained_LR01_10_10/model.ckpt.\n",
      "INFO:tensorflow:global_step/sec: 37.7526\n",
      "INFO:tensorflow:loss = 0.24594761, step = 3401 (2.645 sec)\n",
      "INFO:tensorflow:Saving checkpoints for 3500 into credit_trained_LR01_10_10/model.ckpt.\n",
      "INFO:tensorflow:global_step/sec: 36.4578\n",
      "INFO:tensorflow:loss = 0.242078, step = 3501 (2.743 sec)\n",
      "INFO:tensorflow:Saving checkpoints for 3600 into credit_trained_LR01_10_10/model.ckpt.\n",
      "INFO:tensorflow:global_step/sec: 38.4382\n",
      "INFO:tensorflow:loss = 0.20086117, step = 3601 (2.602 sec)\n",
      "INFO:tensorflow:Saving checkpoints for 3700 into credit_trained_LR01_10_10/model.ckpt.\n",
      "INFO:tensorflow:global_step/sec: 33.6324\n",
      "INFO:tensorflow:loss = 0.20339912, step = 3701 (2.973 sec)\n",
      "INFO:tensorflow:Saving checkpoints for 3800 into credit_trained_LR01_10_10/model.ckpt.\n",
      "INFO:tensorflow:global_step/sec: 38.5013\n",
      "INFO:tensorflow:loss = 0.212284, step = 3801 (2.600 sec)\n",
      "INFO:tensorflow:Saving checkpoints for 3900 into credit_trained_LR01_10_10/model.ckpt.\n",
      "INFO:tensorflow:global_step/sec: 37.0441\n",
      "INFO:tensorflow:loss = 0.206438, step = 3901 (2.696 sec)\n",
      "INFO:tensorflow:Saving checkpoints for 4000 into credit_trained_LR01_10_10/model.ckpt.\n",
      "INFO:tensorflow:global_step/sec: 39.1591\n",
      "INFO:tensorflow:loss = 6.7168083, step = 4001 (2.554 sec)\n",
      "INFO:tensorflow:Saving checkpoints for 4100 into credit_trained_LR01_10_10/model.ckpt.\n",
      "INFO:tensorflow:global_step/sec: 36.9671\n",
      "INFO:tensorflow:loss = 0.2611336, step = 4101 (2.705 sec)\n",
      "INFO:tensorflow:Saving checkpoints for 4200 into credit_trained_LR01_10_10/model.ckpt.\n",
      "INFO:tensorflow:global_step/sec: 37.0161\n",
      "INFO:tensorflow:loss = 0.20769666, step = 4201 (2.701 sec)\n",
      "INFO:tensorflow:Saving checkpoints for 4300 into credit_trained_LR01_10_10/model.ckpt.\n",
      "INFO:tensorflow:global_step/sec: 36.3631\n",
      "INFO:tensorflow:loss = 11.42037, step = 4301 (2.750 sec)\n",
      "INFO:tensorflow:Saving checkpoints for 4400 into credit_trained_LR01_10_10/model.ckpt.\n",
      "INFO:tensorflow:global_step/sec: 34.1145\n",
      "INFO:tensorflow:loss = 0.3036378, step = 4401 (2.932 sec)\n",
      "INFO:tensorflow:Saving checkpoints for 4500 into credit_trained_LR01_10_10/model.ckpt.\n",
      "INFO:tensorflow:global_step/sec: 35.1931\n",
      "INFO:tensorflow:loss = 0.23209475, step = 4501 (2.841 sec)\n",
      "INFO:tensorflow:Saving checkpoints for 4600 into credit_trained_LR01_10_10/model.ckpt.\n",
      "INFO:tensorflow:global_step/sec: 36.3839\n",
      "INFO:tensorflow:loss = 0.1859338, step = 4601 (2.750 sec)\n",
      "INFO:tensorflow:Saving checkpoints for 4700 into credit_trained_LR01_10_10/model.ckpt.\n",
      "INFO:tensorflow:global_step/sec: 39.2608\n",
      "INFO:tensorflow:loss = 0.15368922, step = 4701 (2.547 sec)\n",
      "INFO:tensorflow:Saving checkpoints for 4800 into credit_trained_LR01_10_10/model.ckpt.\n",
      "INFO:tensorflow:global_step/sec: 36.7261\n",
      "INFO:tensorflow:loss = 0.12991104, step = 4801 (2.722 sec)\n",
      "INFO:tensorflow:Saving checkpoints for 4900 into credit_trained_LR01_10_10/model.ckpt.\n",
      "INFO:tensorflow:global_step/sec: 37.7072\n",
      "INFO:tensorflow:loss = 0.11167166, step = 4901 (2.656 sec)\n",
      "INFO:tensorflow:Saving checkpoints for 5000 into credit_trained_LR01_10_10/model.ckpt.\n",
      "INFO:tensorflow:Loss for final step: 0.097384125.\n"
     ]
    },
    {
     "data": {
      "text/plain": [
       "<tensorflow_estimator.python.estimator.canned.dnn.DNNClassifier at 0x7f8ded3fdda0>"
      ]
     },
     "execution_count": 9,
     "metadata": {},
     "output_type": "execute_result"
    }
   ],
   "source": [
    "model.train(input_fn = lambda : train_input_fn('./input/train_smote.csv'),\n",
    "    max_steps = 5000\n",
    ")"
   ]
  },
  {
   "cell_type": "code",
   "execution_count": 10,
   "metadata": {},
   "outputs": [
    {
     "name": "stdout",
     "output_type": "stream",
     "text": [
      "INFO:tensorflow:Calling model_fn.\n",
      "WARNING:tensorflow:From /usr/local/lib/python3.5/dist-packages/tensorflow_core/python/ops/metrics_impl.py:2026: div (from tensorflow.python.ops.math_ops) is deprecated and will be removed in a future version.\n",
      "Instructions for updating:\n",
      "Deprecated in favor of operator or tf.math.divide.\n",
      "WARNING:tensorflow:Trapezoidal rule is known to produce incorrect PR-AUCs; please switch to \"careful_interpolation\" instead.\n",
      "WARNING:tensorflow:Trapezoidal rule is known to produce incorrect PR-AUCs; please switch to \"careful_interpolation\" instead.\n",
      "INFO:tensorflow:Done calling model_fn.\n",
      "INFO:tensorflow:Starting evaluation at 2019-12-09T13:20:11Z\n",
      "INFO:tensorflow:Graph was finalized.\n",
      "INFO:tensorflow:Restoring parameters from credit_trained_LR01_10_10/model.ckpt-5000\n",
      "INFO:tensorflow:Running local_init_op.\n",
      "INFO:tensorflow:Done running local_init_op.\n",
      "INFO:tensorflow:Finished evaluation at 2019-12-09-13:20:21\n",
      "INFO:tensorflow:Saving dict for global step 5000: accuracy = 0.0018433584, accuracy_baseline = 0.9981786, auc = 0.5000659, auc_precision_recall = 0.5009108, average_loss = 7.1685114, global_step = 5000, label/mean = 0.0018214136, loss = 915.01935, precision = 0.0018214537, prediction/mean = 0.9992045, recall = 1.0\n",
      "INFO:tensorflow:Saving 'checkpoint_path' summary for global step 5000: credit_trained_LR01_10_10/model.ckpt-5000\n"
     ]
    },
    {
     "data": {
      "text/plain": [
       "{'accuracy': 0.0018433584,\n",
       " 'accuracy_baseline': 0.9981786,\n",
       " 'auc': 0.5000659,\n",
       " 'auc_precision_recall': 0.5009108,\n",
       " 'average_loss': 7.1685114,\n",
       " 'global_step': 5000,\n",
       " 'label/mean': 0.0018214136,\n",
       " 'loss': 915.01935,\n",
       " 'precision': 0.0018214537,\n",
       " 'prediction/mean': 0.9992045,\n",
       " 'recall': 1.0}"
      ]
     },
     "execution_count": 10,
     "metadata": {},
     "output_type": "execute_result"
    }
   ],
   "source": [
    "model.evaluate(input_fn = lambda: eval_input_fn('./input/valid.csv'))"
   ]
  },
  {
   "cell_type": "code",
   "execution_count": 11,
   "metadata": {},
   "outputs": [],
   "source": [
    "generator_predict = model.predict(input_fn = lambda: eval_input_fn('./input/valid.csv'))"
   ]
  },
  {
   "cell_type": "code",
   "execution_count": 12,
   "metadata": {},
   "outputs": [
    {
     "name": "stdout",
     "output_type": "stream",
     "text": [
      "INFO:tensorflow:Calling model_fn.\n",
      "INFO:tensorflow:Done calling model_fn.\n",
      "INFO:tensorflow:Graph was finalized.\n",
      "INFO:tensorflow:Restoring parameters from credit_trained_LR01_10_10/model.ckpt-5000\n",
      "INFO:tensorflow:Running local_init_op.\n",
      "INFO:tensorflow:Done running local_init_op.\n",
      "classes:[b'1']/class_ids:[1]/logistic:[0.9992405]/probabilities:[7.5951644e-04 9.9924052e-01]/logits:[7.182069]\n",
      "classes:[b'1']/class_ids:[1]/logistic:[0.9992405]/probabilities:[7.5951644e-04 9.9924052e-01]/logits:[7.182069]\n",
      "classes:[b'1']/class_ids:[1]/logistic:[0.9992405]/probabilities:[7.5951644e-04 9.9924052e-01]/logits:[7.182069]\n",
      "classes:[b'1']/class_ids:[1]/logistic:[0.9992405]/probabilities:[7.5951644e-04 9.9924052e-01]/logits:[7.182069]\n",
      "classes:[b'1']/class_ids:[1]/logistic:[0.9992405]/probabilities:[7.5951644e-04 9.9924052e-01]/logits:[7.182069]\n",
      "classes:[b'1']/class_ids:[1]/logistic:[0.9992405]/probabilities:[7.5951644e-04 9.9924052e-01]/logits:[7.182069]\n",
      "classes:[b'1']/class_ids:[1]/logistic:[0.9992405]/probabilities:[7.5951644e-04 9.9924052e-01]/logits:[7.182069]\n",
      "classes:[b'1']/class_ids:[1]/logistic:[0.9992405]/probabilities:[7.5951644e-04 9.9924052e-01]/logits:[7.182069]\n",
      "classes:[b'1']/class_ids:[1]/logistic:[0.9992405]/probabilities:[7.5951644e-04 9.9924052e-01]/logits:[7.182069]\n",
      "classes:[b'1']/class_ids:[1]/logistic:[0.9992405]/probabilities:[7.5951644e-04 9.9924052e-01]/logits:[7.182069]\n",
      "classes:[b'1']/class_ids:[1]/logistic:[0.9992405]/probabilities:[7.5951644e-04 9.9924052e-01]/logits:[7.182069]\n",
      "45568\n"
     ]
    }
   ],
   "source": [
    "for i, y_pred in enumerate(generator_predict):\n",
    "    if i <= 10:\n",
    "        # 'classes', 'class_ids', 'logistic', 'all_class_ids', 'probabilities', 'logits', 'all_classes'\n",
    "        print('classes:{}/class_ids:{}/logistic:{}/probabilities:{}/logits:{}'.format(\n",
    "               y_pred[\"classes\"],y_pred[\"class_ids\"],y_pred[\"logistic\"]\n",
    "               ,y_pred[\"probabilities\"],y_pred[\"logits\"]))\n",
    "print(i)"
   ]
  },
  {
   "cell_type": "code",
   "execution_count": null,
   "metadata": {},
   "outputs": [],
   "source": []
  },
  {
   "cell_type": "code",
   "execution_count": 13,
   "metadata": {},
   "outputs": [
    {
     "name": "stdout",
     "output_type": "stream",
     "text": [
      "INFO:tensorflow:Calling model_fn.\n",
      "INFO:tensorflow:Done calling model_fn.\n",
      "INFO:tensorflow:Graph was finalized.\n",
      "INFO:tensorflow:Restoring parameters from credit_trained_LR01_10_10/model.ckpt-5000\n",
      "INFO:tensorflow:Running local_init_op.\n",
      "INFO:tensorflow:Done running local_init_op.\n",
      "[[    1 45485]\n",
      " [    0    83]]\n"
     ]
    },
    {
     "data": {
      "image/png": "[encoded data removed]",
      "text/plain": [
       "<Figure size 432x288 with 2 Axes>"
      ]
     },
     "metadata": {
      "needs_background": "light"
     },
     "output_type": "display_data"
    }
   ],
   "source": [
    "import numpy as np\n",
    "import seaborn as sns\n",
    "import matplotlib.pyplot as plt\n",
    "\n",
    "def get_predictions(estimator, input_fn):\n",
    "    return [x[\"class_ids\"][0] for x in model.predict(input_fn=input_fn)]\n",
    "\n",
    "LABELS = [\"0\", \"1\"]\n",
    "\n",
    "df_eval = pd.read_csv('./input/valid.csv')\n",
    "\n",
    "# Create a confusion matrix on training data.\n",
    "with tf.Graph().as_default():\n",
    "    cm = tf.confusion_matrix(pd.read_csv('./input/valid.csv')[\"Class\"],get_predictions(model,  lambda: eval_input_fn('./input/valid.csv')))\n",
    "    with tf.Session() as session:\n",
    "        cm_out = session.run(cm)\n",
    "        print(cm_out)\n",
    "\n",
    "# Normalize the confusion matrix so that each row sums to 1.\n",
    "cm_out = cm_out.astype(float) \n",
    "# / cm_out.sum(axis=1)[:, np.newaxis]\n",
    "\n",
    "sns.heatmap(cm_out, annot=True, xticklabels=LABELS, yticklabels=LABELS);\n",
    "plt.xlabel(\"Predicted\");\n",
    "plt.ylabel(\"True\");"
   ]
  },
  {
   "cell_type": "markdown",
   "metadata": {},
   "source": [
    "# hidden_units = [10]"
   ]
  },
  {
   "cell_type": "code",
   "execution_count": 14,
   "metadata": {},
   "outputs": [
    {
     "name": "stdout",
     "output_type": "stream",
     "text": [
      "INFO:tensorflow:Using config: {'_save_checkpoints_secs': None, '_session_creation_timeout_secs': 7200, '_protocol': None, '_model_dir': 'credit_trained_LR01_10', '_num_worker_replicas': 1, '_evaluation_master': '', '_keep_checkpoint_every_n_hours': 10000, '_eval_distribute': None, '_service': None, '_keep_checkpoint_max': 5, '_is_chief': True, '_task_type': 'worker', '_save_checkpoints_steps': 100, '_save_summary_steps': 10, '_log_step_count_steps': 100, '_global_id_in_cluster': 0, '_experimental_max_worker_delay_secs': None, '_num_ps_replicas': 0, '_train_distribute': None, '_master': '', '_task_id': 0, '_device_fn': None, '_cluster_spec': <tensorflow.python.training.server_lib.ClusterSpec object at 0x7f8da3ec3390>, '_experimental_distribute': None, '_tf_random_seed': None, '_session_config': allow_soft_placement: true\n",
      "graph_options {\n",
      "  rewrite_options {\n",
      "    meta_optimizer_iterations: ONE\n",
      "  }\n",
      "}\n",
      "}\n"
     ]
    }
   ],
   "source": [
    "OUTDIR = \"credit_trained_LR01_10\"\n",
    "\n",
    "config = tf.estimator.RunConfig(\n",
    "    model_dir=OUTDIR,\n",
    "    keep_checkpoint_max=20,\n",
    "    save_summary_steps=10,\n",
    "    save_checkpoints_steps=100\n",
    ")\n",
    "model = tf.estimator.DNNClassifier(\n",
    "                                  hidden_units=[10],\n",
    "                                  feature_columns=feature_cols,\n",
    "                                  optimizer = tf.train.AdamOptimizer(learning_rate=0.01),\n",
    "                                  config = config)"
   ]
  },
  {
   "cell_type": "code",
   "execution_count": 15,
   "metadata": {},
   "outputs": [
    {
     "name": "stdout",
     "output_type": "stream",
     "text": [
      "rm: cannot remove 'credit_trained_LR01_10': No such file or directory\n"
     ]
    }
   ],
   "source": [
    "!rm -r {OUTDIR}"
   ]
  },
  {
   "cell_type": "code",
   "execution_count": 16,
   "metadata": {},
   "outputs": [
    {
     "name": "stdout",
     "output_type": "stream",
     "text": [
      "INFO:tensorflow:Calling model_fn.\n",
      "INFO:tensorflow:Done calling model_fn.\n",
      "INFO:tensorflow:Create CheckpointSaverHook.\n",
      "INFO:tensorflow:Graph was finalized.\n",
      "INFO:tensorflow:Running local_init_op.\n",
      "INFO:tensorflow:Done running local_init_op.\n",
      "INFO:tensorflow:Saving checkpoints for 0 into credit_trained_LR01_10/model.ckpt.\n",
      "INFO:tensorflow:loss = 27673.844, step = 1\n",
      "INFO:tensorflow:Saving checkpoints for 100 into credit_trained_LR01_10/model.ckpt.\n",
      "INFO:tensorflow:global_step/sec: 28.1809\n",
      "INFO:tensorflow:loss = 0.0, step = 101 (3.551 sec)\n",
      "INFO:tensorflow:Saving checkpoints for 200 into credit_trained_LR01_10/model.ckpt.\n",
      "INFO:tensorflow:global_step/sec: 38.3574\n",
      "INFO:tensorflow:loss = 1.712575e-06, step = 201 (2.607 sec)\n",
      "INFO:tensorflow:Saving checkpoints for 300 into credit_trained_LR01_10/model.ckpt.\n",
      "INFO:tensorflow:global_step/sec: 38.4304\n",
      "INFO:tensorflow:loss = 4.5955104e-11, step = 301 (2.602 sec)\n",
      "INFO:tensorflow:Saving checkpoints for 400 into credit_trained_LR01_10/model.ckpt.\n",
      "INFO:tensorflow:global_step/sec: 38.0494\n",
      "INFO:tensorflow:loss = 713.4294, step = 401 (2.628 sec)\n",
      "INFO:tensorflow:Saving checkpoints for 500 into credit_trained_LR01_10/model.ckpt.\n",
      "INFO:tensorflow:global_step/sec: 37.8077\n",
      "INFO:tensorflow:loss = 5587.617, step = 501 (2.646 sec)\n",
      "INFO:tensorflow:Saving checkpoints for 600 into credit_trained_LR01_10/model.ckpt.\n",
      "INFO:tensorflow:global_step/sec: 38.3983\n",
      "INFO:tensorflow:loss = 1.2372968e-37, step = 601 (2.607 sec)\n",
      "INFO:tensorflow:Saving checkpoints for 700 into credit_trained_LR01_10/model.ckpt.\n",
      "INFO:tensorflow:global_step/sec: 38.5742\n",
      "INFO:tensorflow:loss = 1.3857931e-12, step = 701 (2.589 sec)\n",
      "INFO:tensorflow:Saving checkpoints for 800 into credit_trained_LR01_10/model.ckpt.\n",
      "INFO:tensorflow:global_step/sec: 38.3927\n",
      "INFO:tensorflow:loss = 0.0, step = 801 (2.606 sec)\n",
      "INFO:tensorflow:Saving checkpoints for 900 into credit_trained_LR01_10/model.ckpt.\n",
      "INFO:tensorflow:global_step/sec: 38.8707\n",
      "INFO:tensorflow:loss = 0.0, step = 901 (2.572 sec)\n",
      "INFO:tensorflow:Saving checkpoints for 1000 into credit_trained_LR01_10/model.ckpt.\n",
      "INFO:tensorflow:global_step/sec: 53.8084\n",
      "INFO:tensorflow:loss = 1.2077675e-16, step = 1001 (1.858 sec)\n",
      "INFO:tensorflow:Saving checkpoints for 1100 into credit_trained_LR01_10/model.ckpt.\n",
      "INFO:tensorflow:global_step/sec: 49.602\n",
      "INFO:tensorflow:loss = 7.244862e-09, step = 1101 (2.020 sec)\n",
      "INFO:tensorflow:Saving checkpoints for 1200 into credit_trained_LR01_10/model.ckpt.\n",
      "INFO:tensorflow:global_step/sec: 38.6898\n",
      "INFO:tensorflow:loss = 7.5896173e-07, step = 1201 (2.581 sec)\n",
      "INFO:tensorflow:Saving checkpoints for 1300 into credit_trained_LR01_10/model.ckpt.\n",
      "INFO:tensorflow:global_step/sec: 45.1495\n",
      "INFO:tensorflow:loss = 0.002397882, step = 1301 (2.216 sec)\n",
      "INFO:tensorflow:Saving checkpoints for 1400 into credit_trained_LR01_10/model.ckpt.\n",
      "INFO:tensorflow:global_step/sec: 37.4529\n",
      "INFO:tensorflow:loss = 4.358945, step = 1401 (2.669 sec)\n",
      "INFO:tensorflow:Saving checkpoints for 1500 into credit_trained_LR01_10/model.ckpt.\n",
      "INFO:tensorflow:global_step/sec: 37.7962\n",
      "INFO:tensorflow:loss = 0.0, step = 1501 (2.646 sec)\n",
      "INFO:tensorflow:Saving checkpoints for 1600 into credit_trained_LR01_10/model.ckpt.\n",
      "INFO:tensorflow:global_step/sec: 35.6478\n",
      "INFO:tensorflow:loss = 0.0, step = 1601 (2.804 sec)\n",
      "INFO:tensorflow:Saving checkpoints for 1700 into credit_trained_LR01_10/model.ckpt.\n",
      "INFO:tensorflow:global_step/sec: 39.0984\n",
      "INFO:tensorflow:loss = 0.0, step = 1701 (2.559 sec)\n",
      "INFO:tensorflow:Saving checkpoints for 1800 into credit_trained_LR01_10/model.ckpt.\n",
      "INFO:tensorflow:global_step/sec: 37.1332\n",
      "INFO:tensorflow:loss = 0.0, step = 1801 (2.693 sec)\n",
      "INFO:tensorflow:Saving checkpoints for 1900 into credit_trained_LR01_10/model.ckpt.\n",
      "INFO:tensorflow:global_step/sec: 36.8994\n",
      "INFO:tensorflow:loss = 0.0, step = 1901 (2.710 sec)\n",
      "INFO:tensorflow:Saving checkpoints for 2000 into credit_trained_LR01_10/model.ckpt.\n",
      "INFO:tensorflow:global_step/sec: 37.0602\n",
      "INFO:tensorflow:loss = 0.0, step = 2001 (2.698 sec)\n",
      "INFO:tensorflow:Saving checkpoints for 2100 into credit_trained_LR01_10/model.ckpt.\n",
      "INFO:tensorflow:global_step/sec: 37.233\n",
      "INFO:tensorflow:loss = 8.13706e-13, step = 2101 (2.688 sec)\n",
      "INFO:tensorflow:Saving checkpoints for 2200 into credit_trained_LR01_10/model.ckpt.\n",
      "INFO:tensorflow:global_step/sec: 45.4072\n",
      "INFO:tensorflow:loss = 1.0668314e-31, step = 2201 (2.201 sec)\n",
      "INFO:tensorflow:Saving checkpoints for 2300 into credit_trained_LR01_10/model.ckpt.\n",
      "INFO:tensorflow:global_step/sec: 37.4376\n",
      "INFO:tensorflow:loss = 0.0, step = 2301 (2.671 sec)\n",
      "INFO:tensorflow:Saving checkpoints for 2400 into credit_trained_LR01_10/model.ckpt.\n",
      "INFO:tensorflow:global_step/sec: 37.7667\n",
      "INFO:tensorflow:loss = 0.0, step = 2401 (2.648 sec)\n",
      "INFO:tensorflow:Saving checkpoints for 2500 into credit_trained_LR01_10/model.ckpt.\n",
      "INFO:tensorflow:global_step/sec: 36.9666\n",
      "INFO:tensorflow:loss = 0.0, step = 2501 (2.706 sec)\n",
      "INFO:tensorflow:Saving checkpoints for 2600 into credit_trained_LR01_10/model.ckpt.\n",
      "INFO:tensorflow:global_step/sec: 36.7452\n",
      "INFO:tensorflow:loss = 0.0, step = 2601 (2.724 sec)\n",
      "INFO:tensorflow:Saving checkpoints for 2700 into credit_trained_LR01_10/model.ckpt.\n",
      "INFO:tensorflow:global_step/sec: 37.0679\n",
      "INFO:tensorflow:loss = 0.0, step = 2701 (2.695 sec)\n",
      "INFO:tensorflow:Saving checkpoints for 2800 into credit_trained_LR01_10/model.ckpt.\n",
      "INFO:tensorflow:global_step/sec: 36.5949\n",
      "INFO:tensorflow:loss = 0.0, step = 2801 (2.733 sec)\n",
      "INFO:tensorflow:Saving checkpoints for 2900 into credit_trained_LR01_10/model.ckpt.\n",
      "INFO:tensorflow:global_step/sec: 37.1145\n",
      "INFO:tensorflow:loss = 0.0, step = 2901 (2.696 sec)\n",
      "INFO:tensorflow:Saving checkpoints for 3000 into credit_trained_LR01_10/model.ckpt.\n",
      "INFO:tensorflow:global_step/sec: 53.0887\n",
      "INFO:tensorflow:loss = 5.430349e-11, step = 3001 (1.881 sec)\n",
      "INFO:tensorflow:Saving checkpoints for 3100 into credit_trained_LR01_10/model.ckpt.\n",
      "INFO:tensorflow:global_step/sec: 51.6812\n",
      "INFO:tensorflow:loss = 0.0, step = 3101 (1.939 sec)\n",
      "INFO:tensorflow:Saving checkpoints for 3200 into credit_trained_LR01_10/model.ckpt.\n",
      "INFO:tensorflow:global_step/sec: 37.5576\n",
      "INFO:tensorflow:loss = 1510.2273, step = 3201 (2.659 sec)\n",
      "INFO:tensorflow:Saving checkpoints for 3300 into credit_trained_LR01_10/model.ckpt.\n",
      "INFO:tensorflow:global_step/sec: 38.4983\n",
      "INFO:tensorflow:loss = 20640.896, step = 3301 (2.597 sec)\n",
      "INFO:tensorflow:Saving checkpoints for 3400 into credit_trained_LR01_10/model.ckpt.\n",
      "INFO:tensorflow:global_step/sec: 51.6969\n",
      "INFO:tensorflow:loss = 1.075514e-17, step = 3401 (1.935 sec)\n",
      "INFO:tensorflow:Saving checkpoints for 3500 into credit_trained_LR01_10/model.ckpt.\n",
      "INFO:tensorflow:global_step/sec: 37.4804\n",
      "INFO:tensorflow:loss = 2.1162068e-13, step = 3501 (2.668 sec)\n",
      "INFO:tensorflow:Saving checkpoints for 3600 into credit_trained_LR01_10/model.ckpt.\n",
      "INFO:tensorflow:global_step/sec: 37.422\n",
      "INFO:tensorflow:loss = 6.290505e-25, step = 3601 (2.672 sec)\n",
      "INFO:tensorflow:Saving checkpoints for 3700 into credit_trained_LR01_10/model.ckpt.\n",
      "INFO:tensorflow:global_step/sec: 37.1098\n",
      "INFO:tensorflow:loss = 6.750246e-10, step = 3701 (2.698 sec)\n",
      "INFO:tensorflow:Saving checkpoints for 3800 into credit_trained_LR01_10/model.ckpt.\n",
      "INFO:tensorflow:global_step/sec: 37.1098\n",
      "INFO:tensorflow:loss = 5.9173395e-12, step = 3801 (2.691 sec)\n",
      "INFO:tensorflow:Saving checkpoints for 3900 into credit_trained_LR01_10/model.ckpt.\n",
      "INFO:tensorflow:global_step/sec: 37.4986\n",
      "INFO:tensorflow:loss = 1035.8793, step = 3901 (2.667 sec)\n",
      "INFO:tensorflow:Saving checkpoints for 4000 into credit_trained_LR01_10/model.ckpt.\n",
      "INFO:tensorflow:global_step/sec: 37.4047\n",
      "INFO:tensorflow:loss = 3.3280575e-31, step = 4001 (2.674 sec)\n",
      "INFO:tensorflow:Saving checkpoints for 4100 into credit_trained_LR01_10/model.ckpt.\n",
      "INFO:tensorflow:global_step/sec: 37.2794\n",
      "INFO:tensorflow:loss = 2.0134934e-08, step = 4101 (2.682 sec)\n",
      "INFO:tensorflow:Saving checkpoints for 4200 into credit_trained_LR01_10/model.ckpt.\n",
      "INFO:tensorflow:global_step/sec: 37.2302\n",
      "INFO:tensorflow:loss = 27.028399, step = 4201 (2.686 sec)\n",
      "INFO:tensorflow:Saving checkpoints for 4300 into credit_trained_LR01_10/model.ckpt.\n",
      "INFO:tensorflow:global_step/sec: 36.7766\n",
      "INFO:tensorflow:loss = 176.40207, step = 4301 (2.720 sec)\n",
      "INFO:tensorflow:Saving checkpoints for 4400 into credit_trained_LR01_10/model.ckpt.\n",
      "INFO:tensorflow:global_step/sec: 36.8112\n",
      "INFO:tensorflow:loss = 3.034583e-16, step = 4401 (2.717 sec)\n",
      "INFO:tensorflow:Saving checkpoints for 4500 into credit_trained_LR01_10/model.ckpt.\n",
      "INFO:tensorflow:global_step/sec: 36.7807\n",
      "INFO:tensorflow:loss = 1.1362424e-06, step = 4501 (2.718 sec)\n",
      "INFO:tensorflow:Saving checkpoints for 4600 into credit_trained_LR01_10/model.ckpt.\n",
      "INFO:tensorflow:global_step/sec: 35.8653\n",
      "INFO:tensorflow:loss = 1.5032123e-11, step = 4601 (2.789 sec)\n",
      "INFO:tensorflow:Saving checkpoints for 4700 into credit_trained_LR01_10/model.ckpt.\n",
      "INFO:tensorflow:global_step/sec: 36.9898\n",
      "INFO:tensorflow:loss = 2.3633338e-21, step = 4701 (2.702 sec)\n",
      "INFO:tensorflow:Saving checkpoints for 4800 into credit_trained_LR01_10/model.ckpt.\n",
      "INFO:tensorflow:global_step/sec: 44.6337\n",
      "INFO:tensorflow:loss = 4.4944484e-13, step = 4801 (2.242 sec)\n",
      "INFO:tensorflow:Saving checkpoints for 4900 into credit_trained_LR01_10/model.ckpt.\n",
      "INFO:tensorflow:global_step/sec: 49.6571\n",
      "INFO:tensorflow:loss = 0.7852979, step = 4901 (2.013 sec)\n",
      "INFO:tensorflow:Saving checkpoints for 5000 into credit_trained_LR01_10/model.ckpt.\n",
      "INFO:tensorflow:Loss for final step: 1.013516e-21.\n"
     ]
    },
    {
     "data": {
      "text/plain": [
       "<tensorflow_estimator.python.estimator.canned.dnn.DNNClassifier at 0x7f8da3ec3320>"
      ]
     },
     "execution_count": 16,
     "metadata": {},
     "output_type": "execute_result"
    }
   ],
   "source": [
    "model.train(input_fn = lambda : train_input_fn('./input/train_smote.csv'),\n",
    "    max_steps = 5000\n",
    ")"
   ]
  },
  {
   "cell_type": "code",
   "execution_count": 17,
   "metadata": {},
   "outputs": [
    {
     "name": "stdout",
     "output_type": "stream",
     "text": [
      "INFO:tensorflow:Calling model_fn.\n",
      "WARNING:tensorflow:Trapezoidal rule is known to produce incorrect PR-AUCs; please switch to \"careful_interpolation\" instead.\n",
      "WARNING:tensorflow:Trapezoidal rule is known to produce incorrect PR-AUCs; please switch to \"careful_interpolation\" instead.\n",
      "INFO:tensorflow:Done calling model_fn.\n",
      "INFO:tensorflow:Starting evaluation at 2019-12-09T13:22:51Z\n",
      "INFO:tensorflow:Graph was finalized.\n",
      "INFO:tensorflow:Restoring parameters from credit_trained_LR01_10/model.ckpt-5000\n",
      "INFO:tensorflow:Running local_init_op.\n",
      "INFO:tensorflow:Done running local_init_op.\n",
      "INFO:tensorflow:Finished evaluation at 2019-12-09-13:23:01\n",
      "INFO:tensorflow:Saving dict for global step 5000: accuracy = 0.005222849, accuracy_baseline = 0.9981786, auc = 0.5075737, auc_precision_recall = 0.5009247, average_loss = 150.71512, global_step = 5000, label/mean = 0.0018214136, loss = 19237.918, precision = 0.0018276302, prediction/mean = 0.9961407, recall = 1.0\n",
      "INFO:tensorflow:Saving 'checkpoint_path' summary for global step 5000: credit_trained_LR01_10/model.ckpt-5000\n"
     ]
    },
    {
     "data": {
      "text/plain": [
       "{'accuracy': 0.005222849,\n",
       " 'accuracy_baseline': 0.9981786,\n",
       " 'auc': 0.5075737,\n",
       " 'auc_precision_recall': 0.5009247,\n",
       " 'average_loss': 150.71512,\n",
       " 'global_step': 5000,\n",
       " 'label/mean': 0.0018214136,\n",
       " 'loss': 19237.918,\n",
       " 'precision': 0.0018276302,\n",
       " 'prediction/mean': 0.9961407,\n",
       " 'recall': 1.0}"
      ]
     },
     "execution_count": 17,
     "metadata": {},
     "output_type": "execute_result"
    }
   ],
   "source": [
    "model.evaluate(input_fn = lambda: eval_input_fn('./input/valid.csv'))"
   ]
  },
  {
   "cell_type": "code",
   "execution_count": 18,
   "metadata": {},
   "outputs": [
    {
     "name": "stdout",
     "output_type": "stream",
     "text": [
      "INFO:tensorflow:Calling model_fn.\n",
      "INFO:tensorflow:Done calling model_fn.\n",
      "INFO:tensorflow:Graph was finalized.\n",
      "INFO:tensorflow:Restoring parameters from credit_trained_LR01_10/model.ckpt-5000\n",
      "INFO:tensorflow:Running local_init_op.\n",
      "INFO:tensorflow:Done running local_init_op.\n",
      "[[  155 45331]\n",
      " [    0    83]]\n"
     ]
    },
    {
     "data": {
      "image/png": "[encoded data removed]",
      "text/plain": [
       "<Figure size 432x288 with 2 Axes>"
      ]
     },
     "metadata": {
      "needs_background": "light"
     },
     "output_type": "display_data"
    }
   ],
   "source": [
    "import numpy as np\n",
    "import seaborn as sns\n",
    "import matplotlib.pyplot as plt\n",
    "\n",
    "def get_predictions(estimator, input_fn):\n",
    "    return [x[\"class_ids\"][0] for x in model.predict(input_fn=input_fn)]\n",
    "\n",
    "LABELS = [\"0\", \"1\"]\n",
    "\n",
    "df_eval = pd.read_csv('./input/valid.csv')\n",
    "\n",
    "# Create a confusion matrix on training data.\n",
    "with tf.Graph().as_default():\n",
    "    cm = tf.confusion_matrix(pd.read_csv('./input/valid.csv')[\"Class\"],get_predictions(model,  lambda: eval_input_fn('./input/valid.csv')))\n",
    "    with tf.Session() as session:\n",
    "        cm_out = session.run(cm)\n",
    "        print(cm_out)\n",
    "\n",
    "# Normalize the confusion matrix so that each row sums to 1.\n",
    "cm_out = cm_out.astype(float) \n",
    "# / cm_out.sum(axis=1)[:, np.newaxis]\n",
    "\n",
    "sns.heatmap(cm_out, annot=True, xticklabels=LABELS, yticklabels=LABELS);\n",
    "plt.xlabel(\"Predicted\");\n",
    "plt.ylabel(\"True\");"
   ]
  },
  {
   "cell_type": "markdown",
   "metadata": {},
   "source": [
    "# hidden_units = [1]"
   ]
  },
  {
   "cell_type": "code",
   "execution_count": 19,
   "metadata": {},
   "outputs": [
    {
     "name": "stdout",
     "output_type": "stream",
     "text": [
      "INFO:tensorflow:Using config: {'_save_checkpoints_secs': None, '_session_creation_timeout_secs': 7200, '_protocol': None, '_model_dir': 'credit_trained_LR01_1', '_num_worker_replicas': 1, '_evaluation_master': '', '_keep_checkpoint_every_n_hours': 10000, '_eval_distribute': None, '_service': None, '_keep_checkpoint_max': 5, '_is_chief': True, '_task_type': 'worker', '_save_checkpoints_steps': 100, '_save_summary_steps': 10, '_log_step_count_steps': 100, '_global_id_in_cluster': 0, '_experimental_max_worker_delay_secs': None, '_num_ps_replicas': 0, '_train_distribute': None, '_master': '', '_task_id': 0, '_device_fn': None, '_cluster_spec': <tensorflow.python.training.server_lib.ClusterSpec object at 0x7f8da00397f0>, '_experimental_distribute': None, '_tf_random_seed': None, '_session_config': allow_soft_placement: true\n",
      "graph_options {\n",
      "  rewrite_options {\n",
      "    meta_optimizer_iterations: ONE\n",
      "  }\n",
      "}\n",
      "}\n"
     ]
    }
   ],
   "source": [
    "OUTDIR = \"credit_trained_LR01_1\"\n",
    "\n",
    "config = tf.estimator.RunConfig(\n",
    "    model_dir=OUTDIR,\n",
    "    keep_checkpoint_max=20,\n",
    "    save_summary_steps=10,\n",
    "    save_checkpoints_steps=100\n",
    ")\n",
    "model = tf.estimator.DNNClassifier(\n",
    "                                  hidden_units=[1],\n",
    "                                  feature_columns=feature_cols,\n",
    "                                  optimizer = tf.train.AdamOptimizer(learning_rate=0.01),\n",
    "                                  config = config)"
   ]
  },
  {
   "cell_type": "code",
   "execution_count": 20,
   "metadata": {},
   "outputs": [
    {
     "name": "stdout",
     "output_type": "stream",
     "text": [
      "rm: cannot remove 'credit_trained_LR01_1': No such file or directory\n"
     ]
    }
   ],
   "source": [
    "!rm -r {OUTDIR}"
   ]
  },
  {
   "cell_type": "code",
   "execution_count": 21,
   "metadata": {},
   "outputs": [
    {
     "name": "stdout",
     "output_type": "stream",
     "text": [
      "INFO:tensorflow:Calling model_fn.\n",
      "INFO:tensorflow:Done calling model_fn.\n",
      "INFO:tensorflow:Create CheckpointSaverHook.\n",
      "INFO:tensorflow:Graph was finalized.\n",
      "INFO:tensorflow:Running local_init_op.\n",
      "INFO:tensorflow:Done running local_init_op.\n",
      "INFO:tensorflow:Saving checkpoints for 0 into credit_trained_LR01_1/model.ckpt.\n",
      "INFO:tensorflow:loss = 88.722855, step = 1\n",
      "INFO:tensorflow:Saving checkpoints for 100 into credit_trained_LR01_1/model.ckpt.\n",
      "INFO:tensorflow:global_step/sec: 30.5085\n",
      "INFO:tensorflow:loss = 46.224125, step = 101 (3.283 sec)\n",
      "INFO:tensorflow:Saving checkpoints for 200 into credit_trained_LR01_1/model.ckpt.\n",
      "INFO:tensorflow:global_step/sec: 38.8504\n",
      "INFO:tensorflow:loss = 24.755188, step = 201 (2.570 sec)\n",
      "INFO:tensorflow:Saving checkpoints for 300 into credit_trained_LR01_1/model.ckpt.\n",
      "INFO:tensorflow:global_step/sec: 35.1699\n",
      "INFO:tensorflow:loss = 15.430589, step = 301 (2.847 sec)\n",
      "INFO:tensorflow:Saving checkpoints for 400 into credit_trained_LR01_1/model.ckpt.\n",
      "INFO:tensorflow:global_step/sec: 38.898\n",
      "INFO:tensorflow:loss = 10.548464, step = 401 (2.567 sec)\n",
      "INFO:tensorflow:Saving checkpoints for 500 into credit_trained_LR01_1/model.ckpt.\n",
      "INFO:tensorflow:global_step/sec: 38.4033\n",
      "INFO:tensorflow:loss = 7.72506, step = 501 (2.604 sec)\n",
      "INFO:tensorflow:Saving checkpoints for 600 into credit_trained_LR01_1/model.ckpt.\n",
      "INFO:tensorflow:global_step/sec: 38.7575\n",
      "INFO:tensorflow:loss = 5.901289, step = 601 (2.580 sec)\n",
      "INFO:tensorflow:Saving checkpoints for 700 into credit_trained_LR01_1/model.ckpt.\n",
      "INFO:tensorflow:global_step/sec: 38.4888\n",
      "INFO:tensorflow:loss = 4.7162886, step = 701 (2.598 sec)\n",
      "INFO:tensorflow:Saving checkpoints for 800 into credit_trained_LR01_1/model.ckpt.\n",
      "INFO:tensorflow:global_step/sec: 42.5707\n",
      "INFO:tensorflow:loss = 3.8455122, step = 801 (2.348 sec)\n",
      "INFO:tensorflow:Saving checkpoints for 900 into credit_trained_LR01_1/model.ckpt.\n",
      "INFO:tensorflow:global_step/sec: 42.0529\n",
      "INFO:tensorflow:loss = 3.2120783, step = 901 (2.378 sec)\n",
      "INFO:tensorflow:Saving checkpoints for 1000 into credit_trained_LR01_1/model.ckpt.\n",
      "INFO:tensorflow:global_step/sec: 40.0603\n",
      "INFO:tensorflow:loss = 2.7300532, step = 1001 (2.496 sec)\n",
      "INFO:tensorflow:Saving checkpoints for 1100 into credit_trained_LR01_1/model.ckpt.\n",
      "INFO:tensorflow:global_step/sec: 43.233\n",
      "INFO:tensorflow:loss = 2.3440487, step = 1101 (2.313 sec)\n",
      "INFO:tensorflow:Saving checkpoints for 1200 into credit_trained_LR01_1/model.ckpt.\n",
      "INFO:tensorflow:global_step/sec: 46.3553\n",
      "INFO:tensorflow:loss = 2.0446124, step = 1201 (2.157 sec)\n",
      "INFO:tensorflow:Saving checkpoints for 1300 into credit_trained_LR01_1/model.ckpt.\n",
      "INFO:tensorflow:global_step/sec: 38.2383\n",
      "INFO:tensorflow:loss = 1.8033181, step = 1301 (2.619 sec)\n",
      "INFO:tensorflow:Saving checkpoints for 1400 into credit_trained_LR01_1/model.ckpt.\n",
      "INFO:tensorflow:global_step/sec: 38.1355\n",
      "INFO:tensorflow:loss = 1.5981406, step = 1401 (2.619 sec)\n",
      "INFO:tensorflow:Saving checkpoints for 1500 into credit_trained_LR01_1/model.ckpt.\n",
      "INFO:tensorflow:global_step/sec: 36.6611\n",
      "INFO:tensorflow:loss = 203.54855, step = 1501 (2.728 sec)\n",
      "INFO:tensorflow:Saving checkpoints for 1600 into credit_trained_LR01_1/model.ckpt.\n",
      "INFO:tensorflow:global_step/sec: 37.1845\n",
      "INFO:tensorflow:loss = 59.06726, step = 1601 (2.690 sec)\n",
      "INFO:tensorflow:Saving checkpoints for 1700 into credit_trained_LR01_1/model.ckpt.\n",
      "INFO:tensorflow:global_step/sec: 37.2745\n",
      "INFO:tensorflow:loss = 28.338194, step = 1701 (2.682 sec)\n",
      "INFO:tensorflow:Saving checkpoints for 1800 into credit_trained_LR01_1/model.ckpt.\n",
      "INFO:tensorflow:global_step/sec: 38.714\n",
      "INFO:tensorflow:loss = 17.652607, step = 1801 (2.583 sec)\n",
      "INFO:tensorflow:Saving checkpoints for 1900 into credit_trained_LR01_1/model.ckpt.\n",
      "INFO:tensorflow:global_step/sec: 36.0179\n",
      "INFO:tensorflow:loss = 12.479262, step = 1901 (2.780 sec)\n",
      "INFO:tensorflow:Saving checkpoints for 2000 into credit_trained_LR01_1/model.ckpt.\n",
      "INFO:tensorflow:global_step/sec: 36.2617\n",
      "INFO:tensorflow:loss = 9.47983, step = 2001 (2.753 sec)\n",
      "INFO:tensorflow:Saving checkpoints for 2100 into credit_trained_LR01_1/model.ckpt.\n",
      "INFO:tensorflow:global_step/sec: 36.2478\n",
      "INFO:tensorflow:loss = 7.5393376, step = 2101 (2.760 sec)\n",
      "INFO:tensorflow:Saving checkpoints for 2200 into credit_trained_LR01_1/model.ckpt.\n",
      "INFO:tensorflow:global_step/sec: 35.5191\n",
      "INFO:tensorflow:loss = 6.1888576, step = 2201 (2.815 sec)\n",
      "INFO:tensorflow:Saving checkpoints for 2300 into credit_trained_LR01_1/model.ckpt.\n",
      "INFO:tensorflow:global_step/sec: 37.5152\n",
      "INFO:tensorflow:loss = 5.1989436, step = 2301 (2.665 sec)\n",
      "INFO:tensorflow:Saving checkpoints for 2400 into credit_trained_LR01_1/model.ckpt.\n",
      "INFO:tensorflow:global_step/sec: 37.5015\n",
      "INFO:tensorflow:loss = 4.444709, step = 2401 (2.666 sec)\n",
      "INFO:tensorflow:Saving checkpoints for 2500 into credit_trained_LR01_1/model.ckpt.\n",
      "INFO:tensorflow:global_step/sec: 43.4698\n",
      "INFO:tensorflow:loss = 3.852615, step = 2501 (2.303 sec)\n",
      "INFO:tensorflow:Saving checkpoints for 2600 into credit_trained_LR01_1/model.ckpt.\n",
      "INFO:tensorflow:global_step/sec: 37.3943\n",
      "INFO:tensorflow:loss = 3.3766406, step = 2601 (2.672 sec)\n",
      "INFO:tensorflow:Saving checkpoints for 2700 into credit_trained_LR01_1/model.ckpt.\n",
      "INFO:tensorflow:global_step/sec: 43.7255\n",
      "INFO:tensorflow:loss = 2.9865503, step = 2701 (2.291 sec)\n",
      "INFO:tensorflow:Saving checkpoints for 2800 into credit_trained_LR01_1/model.ckpt.\n",
      "INFO:tensorflow:global_step/sec: 36.8902\n",
      "INFO:tensorflow:loss = 2.661697, step = 2801 (2.711 sec)\n",
      "INFO:tensorflow:Saving checkpoints for 2900 into credit_trained_LR01_1/model.ckpt.\n",
      "INFO:tensorflow:global_step/sec: 37.6438\n",
      "INFO:tensorflow:loss = 278.87967, step = 2901 (2.653 sec)\n",
      "INFO:tensorflow:Saving checkpoints for 3000 into credit_trained_LR01_1/model.ckpt.\n",
      "INFO:tensorflow:global_step/sec: 37.522\n",
      "INFO:tensorflow:loss = 79.75346, step = 3001 (2.665 sec)\n",
      "INFO:tensorflow:Saving checkpoints for 3100 into credit_trained_LR01_1/model.ckpt.\n",
      "INFO:tensorflow:global_step/sec: 37.9198\n",
      "INFO:tensorflow:loss = 34.91674, step = 3101 (2.637 sec)\n",
      "INFO:tensorflow:Saving checkpoints for 3200 into credit_trained_LR01_1/model.ckpt.\n",
      "INFO:tensorflow:global_step/sec: 37.6497\n",
      "INFO:tensorflow:loss = 20.846066, step = 3201 (2.655 sec)\n",
      "INFO:tensorflow:Saving checkpoints for 3300 into credit_trained_LR01_1/model.ckpt.\n",
      "INFO:tensorflow:global_step/sec: 43.3442\n",
      "INFO:tensorflow:loss = 16.551477, step = 3301 (2.308 sec)\n",
      "INFO:tensorflow:Saving checkpoints for 3400 into credit_trained_LR01_1/model.ckpt.\n",
      "INFO:tensorflow:global_step/sec: 37.673\n",
      "INFO:tensorflow:loss = 10.867248, step = 3401 (2.655 sec)\n",
      "INFO:tensorflow:Saving checkpoints for 3500 into credit_trained_LR01_1/model.ckpt.\n",
      "INFO:tensorflow:global_step/sec: 38.0798\n",
      "INFO:tensorflow:loss = 8.600097, step = 3501 (2.627 sec)\n",
      "INFO:tensorflow:Saving checkpoints for 3600 into credit_trained_LR01_1/model.ckpt.\n",
      "INFO:tensorflow:global_step/sec: 47.3912\n",
      "INFO:tensorflow:loss = 7.0335674, step = 3601 (2.108 sec)\n",
      "INFO:tensorflow:Saving checkpoints for 3700 into credit_trained_LR01_1/model.ckpt.\n",
      "INFO:tensorflow:global_step/sec: 37.7741\n",
      "INFO:tensorflow:loss = 5.909722, step = 3701 (2.648 sec)\n",
      "INFO:tensorflow:Saving checkpoints for 3800 into credit_trained_LR01_1/model.ckpt.\n",
      "INFO:tensorflow:global_step/sec: 36.9381\n",
      "INFO:tensorflow:loss = 8.272646, step = 3801 (2.707 sec)\n",
      "INFO:tensorflow:Saving checkpoints for 3900 into credit_trained_LR01_1/model.ckpt.\n",
      "INFO:tensorflow:global_step/sec: 37.2565\n",
      "INFO:tensorflow:loss = 4.3966784, step = 3901 (2.684 sec)\n",
      "INFO:tensorflow:Saving checkpoints for 4000 into credit_trained_LR01_1/model.ckpt.\n",
      "INFO:tensorflow:global_step/sec: 42.8161\n",
      "INFO:tensorflow:loss = 7.34508, step = 4001 (2.335 sec)\n",
      "INFO:tensorflow:Saving checkpoints for 4100 into credit_trained_LR01_1/model.ckpt.\n",
      "INFO:tensorflow:global_step/sec: 37.8681\n",
      "INFO:tensorflow:loss = 3.4410021, step = 4101 (2.641 sec)\n",
      "INFO:tensorflow:Saving checkpoints for 4200 into credit_trained_LR01_1/model.ckpt.\n",
      "INFO:tensorflow:global_step/sec: 37.0313\n",
      "INFO:tensorflow:loss = 10.507234, step = 4201 (2.700 sec)\n",
      "INFO:tensorflow:Saving checkpoints for 4300 into credit_trained_LR01_1/model.ckpt.\n",
      "INFO:tensorflow:global_step/sec: 36.8084\n",
      "INFO:tensorflow:loss = 360.20905, step = 4301 (2.716 sec)\n",
      "INFO:tensorflow:Saving checkpoints for 4400 into credit_trained_LR01_1/model.ckpt.\n",
      "INFO:tensorflow:global_step/sec: 36.1369\n",
      "INFO:tensorflow:loss = 99.88171, step = 4401 (2.772 sec)\n",
      "INFO:tensorflow:Saving checkpoints for 4500 into credit_trained_LR01_1/model.ckpt.\n",
      "INFO:tensorflow:global_step/sec: 36.183\n",
      "INFO:tensorflow:loss = 39.425148, step = 4501 (2.760 sec)\n",
      "INFO:tensorflow:Saving checkpoints for 4600 into credit_trained_LR01_1/model.ckpt.\n",
      "INFO:tensorflow:global_step/sec: 36.683\n",
      "INFO:tensorflow:loss = 22.385624, step = 4601 (2.726 sec)\n",
      "INFO:tensorflow:Saving checkpoints for 4700 into credit_trained_LR01_1/model.ckpt.\n",
      "INFO:tensorflow:global_step/sec: 36.7794\n",
      "INFO:tensorflow:loss = 15.112308, step = 4701 (2.718 sec)\n",
      "INFO:tensorflow:Saving checkpoints for 4800 into credit_trained_LR01_1/model.ckpt.\n",
      "INFO:tensorflow:global_step/sec: 38.2861\n",
      "INFO:tensorflow:loss = 11.187505, step = 4801 (2.612 sec)\n",
      "INFO:tensorflow:Saving checkpoints for 4900 into credit_trained_LR01_1/model.ckpt.\n",
      "INFO:tensorflow:global_step/sec: 36.8069\n",
      "INFO:tensorflow:loss = 8.759394, step = 4901 (2.720 sec)\n",
      "INFO:tensorflow:Saving checkpoints for 5000 into credit_trained_LR01_1/model.ckpt.\n",
      "INFO:tensorflow:Loss for final step: 7.1329174.\n"
     ]
    },
    {
     "data": {
      "text/plain": [
       "<tensorflow_estimator.python.estimator.canned.dnn.DNNClassifier at 0x7f8da0039c50>"
      ]
     },
     "execution_count": 21,
     "metadata": {},
     "output_type": "execute_result"
    }
   ],
   "source": [
    "model.train(input_fn = lambda : train_input_fn('./input/train_smote.csv'),\n",
    "    max_steps = 5000\n",
    ")"
   ]
  },
  {
   "cell_type": "code",
   "execution_count": 22,
   "metadata": {},
   "outputs": [
    {
     "name": "stdout",
     "output_type": "stream",
     "text": [
      "INFO:tensorflow:Calling model_fn.\n",
      "WARNING:tensorflow:Trapezoidal rule is known to produce incorrect PR-AUCs; please switch to \"careful_interpolation\" instead.\n",
      "WARNING:tensorflow:Trapezoidal rule is known to produce incorrect PR-AUCs; please switch to \"careful_interpolation\" instead.\n",
      "INFO:tensorflow:Done calling model_fn.\n",
      "INFO:tensorflow:Starting evaluation at 2019-12-09T13:25:25Z\n",
      "INFO:tensorflow:Graph was finalized.\n",
      "INFO:tensorflow:Restoring parameters from credit_trained_LR01_1/model.ckpt-5000\n",
      "INFO:tensorflow:Running local_init_op.\n",
      "INFO:tensorflow:Done running local_init_op.\n",
      "INFO:tensorflow:Finished evaluation at 2019-12-09-13:25:36\n",
      "INFO:tensorflow:Saving dict for global step 5000: accuracy = 0.0018214136, accuracy_baseline = 0.9981786, auc = 0.5, auc_precision_recall = 0.5009107, average_loss = 2.911716, global_step = 5000, label/mean = 0.0018214136, loss = 371.66382, precision = 0.0018214136, prediction/mean = 0.94589525, recall = 1.0\n",
      "INFO:tensorflow:Saving 'checkpoint_path' summary for global step 5000: credit_trained_LR01_1/model.ckpt-5000\n"
     ]
    },
    {
     "data": {
      "text/plain": [
       "{'accuracy': 0.0018214136,\n",
       " 'accuracy_baseline': 0.9981786,\n",
       " 'auc': 0.5,\n",
       " 'auc_precision_recall': 0.5009107,\n",
       " 'average_loss': 2.911716,\n",
       " 'global_step': 5000,\n",
       " 'label/mean': 0.0018214136,\n",
       " 'loss': 371.66382,\n",
       " 'precision': 0.0018214136,\n",
       " 'prediction/mean': 0.94589525,\n",
       " 'recall': 1.0}"
      ]
     },
     "execution_count": 22,
     "metadata": {},
     "output_type": "execute_result"
    }
   ],
   "source": [
    "model.evaluate(input_fn = lambda: eval_input_fn('./input/valid.csv'))"
   ]
  },
  {
   "cell_type": "code",
   "execution_count": 23,
   "metadata": {},
   "outputs": [
    {
     "name": "stdout",
     "output_type": "stream",
     "text": [
      "INFO:tensorflow:Calling model_fn.\n",
      "INFO:tensorflow:Done calling model_fn.\n",
      "INFO:tensorflow:Graph was finalized.\n",
      "INFO:tensorflow:Restoring parameters from credit_trained_LR01_1/model.ckpt-5000\n",
      "INFO:tensorflow:Running local_init_op.\n",
      "INFO:tensorflow:Done running local_init_op.\n",
      "[[    0 45486]\n",
      " [    0    83]]\n"
     ]
    },
    {
     "data": {
      "image/png": "[encoded data removed]",
      "text/plain": [
       "<Figure size 432x288 with 2 Axes>"
      ]
     },
     "metadata": {
      "needs_background": "light"
     },
     "output_type": "display_data"
    }
   ],
   "source": [
    "import numpy as np\n",
    "import seaborn as sns\n",
    "import matplotlib.pyplot as plt\n",
    "\n",
    "def get_predictions(estimator, input_fn):\n",
    "    return [x[\"class_ids\"][0] for x in model.predict(input_fn=input_fn)]\n",
    "\n",
    "LABELS = [\"0\", \"1\"]\n",
    "\n",
    "df_eval = pd.read_csv('./input/valid.csv')\n",
    "\n",
    "# Create a confusion matrix on training data.\n",
    "with tf.Graph().as_default():\n",
    "    cm = tf.confusion_matrix(pd.read_csv('./input/valid.csv')[\"Class\"],get_predictions(model,  lambda: eval_input_fn('./input/valid.csv')))\n",
    "    with tf.Session() as session:\n",
    "        cm_out = session.run(cm)\n",
    "        print(cm_out)\n",
    "\n",
    "# Normalize the confusion matrix so that each row sums to 1.\n",
    "cm_out = cm_out.astype(float) \n",
    "# / cm_out.sum(axis=1)[:, np.newaxis]\n",
    "\n",
    "sns.heatmap(cm_out, annot=True, xticklabels=LABELS, yticklabels=LABELS);\n",
    "plt.xlabel(\"Predicted\");\n",
    "plt.ylabel(\"True\");"
   ]
  },
  {
   "cell_type": "code",
   "execution_count": null,
   "metadata": {},
   "outputs": [],
   "source": []
  },
  {
   "cell_type": "code",
   "execution_count": null,
   "metadata": {},
   "outputs": [],
   "source": []
  },
  {
   "cell_type": "markdown",
   "metadata": {},
   "source": [
    "# Train SMOTE Class별 Label확인"
   ]
  },
  {
   "cell_type": "code",
   "execution_count": 17,
   "metadata": {},
   "outputs": [],
   "source": [
    "df_train_smote = pd.read_csv('./input/train_smote.csv')"
   ]
  },
  {
   "cell_type": "code",
   "execution_count": 19,
   "metadata": {},
   "outputs": [
    {
     "data": {
      "text/plain": [
       "1    181971\n",
       "0    181971\n",
       "Name: Class, dtype: int64"
      ]
     },
     "execution_count": 19,
     "metadata": {},
     "output_type": "execute_result"
    }
   ],
   "source": [
    "df_train_smote.Class.value_counts()"
   ]
  },
  {
   "cell_type": "code",
   "execution_count": null,
   "metadata": {},
   "outputs": [],
   "source": []
  },
  {
   "cell_type": "code",
   "execution_count": null,
   "metadata": {},
   "outputs": [],
   "source": []
  },
  {
   "cell_type": "code",
   "execution_count": null,
   "metadata": {},
   "outputs": [],
   "source": []
  },
  {
   "cell_type": "code",
   "execution_count": null,
   "metadata": {},
   "outputs": [],
   "source": []
  },
  {
   "cell_type": "code",
   "execution_count": null,
   "metadata": {},
   "outputs": [],
   "source": []
  },
  {
   "cell_type": "code",
   "execution_count": null,
   "metadata": {},
   "outputs": [],
   "source": []
  },
  {
   "cell_type": "code",
   "execution_count": null,
   "metadata": {},
   "outputs": [],
   "source": []
  },
  {
   "cell_type": "code",
   "execution_count": 31,
   "metadata": {},
   "outputs": [],
   "source": [
    "data = pd.read_csv('./input/creditcard.csv')"
   ]
  },
  {
   "cell_type": "code",
   "execution_count": 32,
   "metadata": {},
   "outputs": [
    {
     "ename": "NameError",
     "evalue": "name 'train_test_split' is not defined",
     "output_type": "error",
     "traceback": [
      "\u001b[0;31m---------------------------------------------------------------------------\u001b[0m",
      "\u001b[0;31mNameError\u001b[0m                                 Traceback (most recent call last)",
      "\u001b[0;32m<ipython-input-32-1e3953be641f>\u001b[0m in \u001b[0;36m<module>\u001b[0;34m\u001b[0m\n\u001b[0;32m----> 1\u001b[0;31m \u001b[0mdf_train\u001b[0m\u001b[0;34m,\u001b[0m \u001b[0mdf_valid\u001b[0m \u001b[0;34m=\u001b[0m \u001b[0mtrain_test_split\u001b[0m\u001b[0;34m(\u001b[0m\u001b[0mdf_train\u001b[0m\u001b[0;34m,\u001b[0m \u001b[0mtest_size\u001b[0m\u001b[0;34m=\u001b[0m\u001b[0;36m0.2\u001b[0m\u001b[0;34m,\u001b[0m \u001b[0mrandom_state\u001b[0m\u001b[0;34m=\u001b[0m\u001b[0;36m27\u001b[0m\u001b[0;34m)\u001b[0m\u001b[0;34m\u001b[0m\u001b[0m\n\u001b[0m\u001b[1;32m      2\u001b[0m \u001b[0mprint\u001b[0m\u001b[0;34m(\u001b[0m\u001b[0;34m'df_train :'\u001b[0m\u001b[0;34m,\u001b[0m \u001b[0mdf_train\u001b[0m\u001b[0;34m.\u001b[0m\u001b[0mshape\u001b[0m\u001b[0;34m)\u001b[0m\u001b[0;34m\u001b[0m\u001b[0m\n\u001b[1;32m      3\u001b[0m \u001b[0mprint\u001b[0m\u001b[0;34m(\u001b[0m\u001b[0;34m'df_valid :'\u001b[0m\u001b[0;34m,\u001b[0m \u001b[0mdf_valid\u001b[0m\u001b[0;34m.\u001b[0m\u001b[0mshape\u001b[0m\u001b[0;34m)\u001b[0m\u001b[0;34m\u001b[0m\u001b[0m\n\u001b[1;32m      4\u001b[0m \u001b[0mprint\u001b[0m\u001b[0;34m(\u001b[0m\u001b[0;34m'df_test :'\u001b[0m\u001b[0;34m,\u001b[0m \u001b[0mdf_test\u001b[0m\u001b[0;34m.\u001b[0m\u001b[0mshape\u001b[0m\u001b[0;34m)\u001b[0m\u001b[0;34m\u001b[0m\u001b[0m\n",
      "\u001b[0;31mNameError\u001b[0m: name 'train_test_split' is not defined"
     ]
    }
   ],
   "source": [
    "df_train, df_valid = train_test_split(df_train, test_size=0.2, random_state=27)\n",
    "print('df_train :', df_train.shape)\n",
    "print('df_valid :', df_valid.shape)\n",
    "print('df_test :', df_test.shape)"
   ]
  },
  {
   "cell_type": "code",
   "execution_count": null,
   "metadata": {},
   "outputs": [],
   "source": []
  },
  {
   "cell_type": "code",
   "execution_count": null,
   "metadata": {},
   "outputs": [],
   "source": []
  },
  {
   "cell_type": "code",
   "execution_count": 28,
   "metadata": {},
   "outputs": [],
   "source": [
    "# pandas_input_fn\n",
    "def pd_input_fn(df,batch_size=128,num_epochs=5,shuffle=True):\n",
    "    return tf.estimator.inputs.pandas_input_fn(\n",
    "      x=df[FEATURE_NAMES],\n",
    "      y=df[LABEL_NAME],\n",
    "      batch_size = batch_size,\n",
    "      num_epochs = num_epochs,\n",
    "      shuffle = shuffle,\n",
    "      queue_capacity = 1000,\n",
    "      num_threads = 1\n",
    "  )"
   ]
  },
  {
   "cell_type": "code",
   "execution_count": null,
   "metadata": {},
   "outputs": [],
   "source": [
    "OUTDIR = \"credit-prac\"\n",
    "\n",
    "config = tf.estimator.RunConfig(\n",
    "    model_dir = OUTDIR,\n",
    "    tf_random_seed = 1,\n",
    "    save_checkpoints_steps = 100\n",
    ")\n",
    "\n",
    "model = tf.estimator.DNNClassifier(\n",
    "  hidden_units = [10,10], \n",
    "  feature_columns = feature_cols, \n",
    "  config = config\n",
    ")"
   ]
  },
  {
   "cell_type": "code",
   "execution_count": null,
   "metadata": {},
   "outputs": [],
   "source": [
    "%%time\n",
    "tf.logging.set_verbosity(tf.logging.INFO) \n",
    "shutil.rmtree(path = OUTDIR, ignore_errors = True)\n",
    "\n",
    "model.train(input_fn = pd_input_fn(df=df_train,num_epochs=5), steps = 500)"
   ]
  },
  {
   "cell_type": "code",
   "execution_count": null,
   "metadata": {},
   "outputs": [],
   "source": []
  },
  {
   "cell_type": "code",
   "execution_count": null,
   "metadata": {},
   "outputs": [],
   "source": []
  },
  {
   "cell_type": "code",
   "execution_count": 65,
   "metadata": {},
   "outputs": [
    {
     "name": "stdout",
     "output_type": "stream",
     "text": [
      "INFO:tensorflow:Calling model_fn.\n",
      "INFO:tensorflow:Done calling model_fn.\n",
      "INFO:tensorflow:Graph was finalized.\n",
      "INFO:tensorflow:Restoring parameters from credit_trained/model.ckpt-5000\n",
      "INFO:tensorflow:Running local_init_op.\n",
      "INFO:tensorflow:Done running local_init_op.\n",
      "[[70783   287]\n",
      " [   77    55]]\n"
     ]
    },
    {
     "data": {
      "image/png": "[encoded data removed]",
      "text/plain": [
       "<Figure size 432x288 with 2 Axes>"
      ]
     },
     "metadata": {
      "needs_background": "light"
     },
     "output_type": "display_data"
    }
   ],
   "source": [
    "import numpy as np\n",
    "import seaborn as sns\n",
    "import matplotlib.pyplot as plt\n",
    "\n",
    "def get_predictions(estimator, input_fn):\n",
    "    return [x[\"class_ids\"][0] for x in model.predict(input_fn=input_fn)]\n",
    "\n",
    "LABELS = [\n",
    "    \"0\", \"1\"\n",
    "]\n",
    "\n",
    "# Create a confusion matrix on training data.\n",
    "with tf.Graph().as_default():\n",
    "    cm = tf.confusion_matrix(df_eval[\"Class\"],get_predictions(model,  lambda: eval_input_fn('./input/creditcard_eval.csv')))\n",
    "    with tf.Session() as session:\n",
    "        cm_out = session.run(cm)\n",
    "        print(cm_out)\n",
    "\n",
    "# Normalize the confusion matrix so that each row sums to 1.\n",
    "cm_out = cm_out.astype(float) \n",
    "# / cm_out.sum(axis=1)[:, np.newaxis]\n",
    "\n",
    "sns.heatmap(cm_out, annot=True, xticklabels=LABELS, yticklabels=LABELS);\n",
    "plt.xlabel(\"Predicted\");\n",
    "plt.ylabel(\"True\");"
   ]
  },
  {
   "cell_type": "code",
   "execution_count": null,
   "metadata": {},
   "outputs": [],
   "source": []
  },
  {
   "cell_type": "code",
   "execution_count": null,
   "metadata": {},
   "outputs": [],
   "source": []
  }
 ],
 "metadata": {
  "kernelspec": {
   "display_name": "Python 3",
   "language": "python",
   "name": "python3"
  },
  "language_info": {
   "codemirror_mode": {
    "name": "ipython",
    "version": 3
   },
   "file_extension": ".py",
   "mimetype": "text/x-python",
   "name": "python",
   "nbconvert_exporter": "python",
   "pygments_lexer": "ipython3",
   "version": "3.5.3"
  }
 },
 "nbformat": 4,
 "nbformat_minor": 4
}
