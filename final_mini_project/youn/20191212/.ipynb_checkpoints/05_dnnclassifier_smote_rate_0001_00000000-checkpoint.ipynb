{
 "cells": [
  {
   "cell_type": "code",
   "execution_count": 2,
   "metadata": {},
   "outputs": [
    {
     "name": "stdout",
     "output_type": "stream",
     "text": [
      "1.15.0\n"
     ]
    }
   ],
   "source": [
    "import tensorflow as tf\n",
    "import numpy as np\n",
    "import pandas as pd\n",
    "import shutil\n",
    "print(tf.__version__)"
   ]
  },
  {
   "cell_type": "code",
   "execution_count": 2,
   "metadata": {},
   "outputs": [],
   "source": [
    "tf.enable_eager_execution() "
   ]
  },
  {
   "cell_type": "code",
   "execution_count": 3,
   "metadata": {},
   "outputs": [
    {
     "name": "stdout",
     "output_type": "stream",
     "text": [
      "CSV_COLUMN_NAMES:['time', 'V1', 'V2', 'V3', 'V4', 'V5', 'V6', 'V7', 'V8', 'V9', 'V10', 'V11', 'V12', 'V13', 'V14', 'V15', 'V16', 'V17', 'V18', 'V19', 'V20', 'V21', 'V22', 'V23', 'V24', 'V25', 'V26', 'V27', 'V28', 'Amount', 'Class']\n",
      "CSV_DEFAULTS:[[0.0], [0.0], [0.0], [0.0], [0.0], [0.0], [0.0], [0.0], [0.0], [0.0], [0.0], [0.0], [0.0], [0.0], [0.0], [0.0], [0.0], [0.0], [0.0], [0.0], [0.0], [0.0], [0.0], [0.0], [0.0], [0.0], [0.0], [0.0], [0.0], [0.0], [0]]\n"
     ]
    }
   ],
   "source": [
    "CSV_COLUMN_NAMES = [\"time\"]+['V'+(i+1).astype(np.str) for i in np.array(range(28))]+['Amount','Class']\n",
    "CSV_DEFAULTS = [[0.0] for i in np.array(range(30))]+[[0]]\n",
    "print('CSV_COLUMN_NAMES:{}\\nCSV_DEFAULTS:{}'.format(CSV_COLUMN_NAMES,CSV_DEFAULTS))"
   ]
  },
  {
   "cell_type": "code",
   "execution_count": 4,
   "metadata": {},
   "outputs": [
    {
     "name": "stdout",
     "output_type": "stream",
     "text": [
      "NumericColumn(key='time', shape=(1,), default_value=None, dtype=tf.float32, normalizer_fn=None)\n",
      "NumericColumn(key='V1', shape=(1,), default_value=None, dtype=tf.float32, normalizer_fn=None)\n",
      "NumericColumn(key='V2', shape=(1,), default_value=None, dtype=tf.float32, normalizer_fn=None)\n",
      "NumericColumn(key='V3', shape=(1,), default_value=None, dtype=tf.float32, normalizer_fn=None)\n",
      "NumericColumn(key='V4', shape=(1,), default_value=None, dtype=tf.float32, normalizer_fn=None)\n",
      "NumericColumn(key='V5', shape=(1,), default_value=None, dtype=tf.float32, normalizer_fn=None)\n",
      "NumericColumn(key='V6', shape=(1,), default_value=None, dtype=tf.float32, normalizer_fn=None)\n",
      "NumericColumn(key='V7', shape=(1,), default_value=None, dtype=tf.float32, normalizer_fn=None)\n",
      "NumericColumn(key='V8', shape=(1,), default_value=None, dtype=tf.float32, normalizer_fn=None)\n",
      "NumericColumn(key='V9', shape=(1,), default_value=None, dtype=tf.float32, normalizer_fn=None)\n",
      "NumericColumn(key='V10', shape=(1,), default_value=None, dtype=tf.float32, normalizer_fn=None)\n",
      "NumericColumn(key='V11', shape=(1,), default_value=None, dtype=tf.float32, normalizer_fn=None)\n",
      "NumericColumn(key='V12', shape=(1,), default_value=None, dtype=tf.float32, normalizer_fn=None)\n",
      "NumericColumn(key='V13', shape=(1,), default_value=None, dtype=tf.float32, normalizer_fn=None)\n",
      "NumericColumn(key='V14', shape=(1,), default_value=None, dtype=tf.float32, normalizer_fn=None)\n",
      "NumericColumn(key='V15', shape=(1,), default_value=None, dtype=tf.float32, normalizer_fn=None)\n",
      "NumericColumn(key='V16', shape=(1,), default_value=None, dtype=tf.float32, normalizer_fn=None)\n",
      "NumericColumn(key='V17', shape=(1,), default_value=None, dtype=tf.float32, normalizer_fn=None)\n",
      "NumericColumn(key='V18', shape=(1,), default_value=None, dtype=tf.float32, normalizer_fn=None)\n",
      "NumericColumn(key='V19', shape=(1,), default_value=None, dtype=tf.float32, normalizer_fn=None)\n",
      "NumericColumn(key='V20', shape=(1,), default_value=None, dtype=tf.float32, normalizer_fn=None)\n",
      "NumericColumn(key='V21', shape=(1,), default_value=None, dtype=tf.float32, normalizer_fn=None)\n",
      "NumericColumn(key='V22', shape=(1,), default_value=None, dtype=tf.float32, normalizer_fn=None)\n",
      "NumericColumn(key='V23', shape=(1,), default_value=None, dtype=tf.float32, normalizer_fn=None)\n",
      "NumericColumn(key='V24', shape=(1,), default_value=None, dtype=tf.float32, normalizer_fn=None)\n",
      "NumericColumn(key='V25', shape=(1,), default_value=None, dtype=tf.float32, normalizer_fn=None)\n",
      "NumericColumn(key='V26', shape=(1,), default_value=None, dtype=tf.float32, normalizer_fn=None)\n",
      "NumericColumn(key='V27', shape=(1,), default_value=None, dtype=tf.float32, normalizer_fn=None)\n",
      "NumericColumn(key='V28', shape=(1,), default_value=None, dtype=tf.float32, normalizer_fn=None)\n",
      "NumericColumn(key='Amount', shape=(1,), default_value=None, dtype=tf.float32, normalizer_fn=None)\n"
     ]
    }
   ],
   "source": [
    "FEATURE_NAMES = CSV_COLUMN_NAMES[:-1] # all but first column\n",
    "feature_cols = [tf.feature_column.numeric_column(key = k) for k in FEATURE_NAMES]\n",
    "for i in feature_cols:\n",
    "    print(i)  "
   ]
  },
  {
   "cell_type": "code",
   "execution_count": 5,
   "metadata": {},
   "outputs": [],
   "source": [
    "def parse_row(row):\n",
    "    fields = tf.decode_csv(records = row, record_defaults = CSV_DEFAULTS)\n",
    "    features = dict(zip(CSV_COLUMN_NAMES, fields))\n",
    "    label = features.pop(\"Class\")\n",
    "    return features, label\n",
    "\n",
    "def read_dataset(csv_path):\n",
    "    dataset = tf.data.TextLineDataset(filenames = csv_path).skip(count = 1) # skip header\n",
    "    dataset = dataset.map(map_func = parse_row)\n",
    "    return dataset\n",
    "\n",
    "def train_input_fn(csv_path, batch_size = 128):\n",
    "    dataset = read_dataset(csv_path)\n",
    "    dataset = dataset.shuffle(buffer_size = 1000).repeat(count = None).batch(batch_size = batch_size)\n",
    "    return dataset\n",
    "\n",
    "def eval_input_fn(csv_path, batch_size = 128):\n",
    "    dataset = read_dataset(csv_path)\n",
    "    dataset = dataset.batch(batch_size = batch_size)\n",
    "    return dataset"
   ]
  },
  {
   "cell_type": "code",
   "execution_count": 6,
   "metadata": {},
   "outputs": [],
   "source": [
    "# 실제 데이터 확인\n",
    "# tf.enable_eager_execution() 선언되어 있어야 함.\n",
    "#train_data_check = train_input_fn(csv_path = './input/train_smote.csv')\n",
    "#print(train_data_check.make_one_shot_iterator().get_next()[0][\"Amount\"][:10])\n",
    "#print(train_data_check.make_one_shot_iterator().get_next()[1][:10])\n"
   ]
  },
  {
   "cell_type": "markdown",
   "metadata": {},
   "source": [
    "### hidden_units=[30,10,30]"
   ]
  },
  {
   "cell_type": "code",
   "execution_count": 6,
   "metadata": {},
   "outputs": [
    {
     "name": "stdout",
     "output_type": "stream",
     "text": [
      "INFO:tensorflow:Using config: {'_master': '', '_experimental_max_worker_delay_secs': None, '_save_summary_steps': 10, '_task_id': 0, '_tf_random_seed': None, '_eval_distribute': None, '_save_checkpoints_steps': 100, '_num_worker_replicas': 1, '_evaluation_master': '', '_num_ps_replicas': 0, '_service': None, '_experimental_distribute': None, '_protocol': None, '_session_creation_timeout_secs': 7200, '_model_dir': 'credit_trained_LR0001_30_10_30', '_global_id_in_cluster': 0, '_cluster_spec': <tensorflow.python.training.server_lib.ClusterSpec object at 0x7efe7a807b00>, '_save_checkpoints_secs': None, '_log_step_count_steps': 100, '_is_chief': True, '_keep_checkpoint_every_n_hours': 10000, '_session_config': allow_soft_placement: true\n",
      "graph_options {\n",
      "  rewrite_options {\n",
      "    meta_optimizer_iterations: ONE\n",
      "  }\n",
      "}\n",
      ", '_keep_checkpoint_max': 20, '_device_fn': None, '_task_type': 'worker', '_train_distribute': None}\n"
     ]
    }
   ],
   "source": [
    "OUTDIR = \"credit_trained_LR0001_30_10_30\"\n",
    "\n",
    "config = tf.estimator.RunConfig(\n",
    "    model_dir=OUTDIR,\n",
    "    keep_checkpoint_max=20,\n",
    "    save_summary_steps=10,\n",
    "    save_checkpoints_steps=100\n",
    ")\n",
    "model = tf.estimator.DNNClassifier(\n",
    "                                  hidden_units=[30,10,30],\n",
    "                                  feature_columns=feature_cols,\n",
    "                                  optimizer = tf.train.AdamOptimizer(learning_rate=0.0001),\n",
    "                                  config = config)"
   ]
  },
  {
   "cell_type": "code",
   "execution_count": 7,
   "metadata": {},
   "outputs": [
    {
     "name": "stdout",
     "output_type": "stream",
     "text": [
      "rm: cannot remove 'credit_trained_LR0001_30_10_30': No such file or directory\n"
     ]
    }
   ],
   "source": [
    "!rm -r {OUTDIR}"
   ]
  },
  {
   "cell_type": "code",
   "execution_count": 8,
   "metadata": {},
   "outputs": [
    {
     "name": "stdout",
     "output_type": "stream",
     "text": [
      "WARNING:tensorflow:From /usr/local/lib/python3.5/dist-packages/tensorflow_core/python/training/training_util.py:236: Variable.initialized_value (from tensorflow.python.ops.variables) is deprecated and will be removed in a future version.\n",
      "Instructions for updating:\n",
      "Use Variable.read_value. Variables in 2.X are initialized automatically both in eager and graph (inside tf.defun) contexts.\n",
      "WARNING:tensorflow:From /usr/local/lib/python3.5/dist-packages/tensorflow_core/python/autograph/converters/directives.py:119: The name tf.decode_csv is deprecated. Please use tf.io.decode_csv instead.\n",
      "\n",
      "INFO:tensorflow:Calling model_fn.\n",
      "WARNING:tensorflow:From /usr/local/lib/python3.5/dist-packages/tensorflow_core/python/ops/resource_variable_ops.py:1630: calling BaseResourceVariable.__init__ (from tensorflow.python.ops.resource_variable_ops) with constraint is deprecated and will be removed in a future version.\n",
      "Instructions for updating:\n",
      "If using Keras pass *_constraint arguments to layers.\n",
      "WARNING:tensorflow:From /usr/local/lib/python3.5/dist-packages/tensorflow_estimator/python/estimator/canned/head.py:437: to_float (from tensorflow.python.ops.math_ops) is deprecated and will be removed in a future version.\n",
      "Instructions for updating:\n",
      "Use `tf.cast` instead.\n",
      "WARNING:tensorflow:From /usr/local/lib/python3.5/dist-packages/tensorflow_core/python/ops/nn_impl.py:183: where (from tensorflow.python.ops.array_ops) is deprecated and will be removed in a future version.\n",
      "Instructions for updating:\n",
      "Use tf.where in 2.0, which has the same broadcast rule as np.where\n",
      "INFO:tensorflow:Done calling model_fn.\n",
      "INFO:tensorflow:Create CheckpointSaverHook.\n",
      "INFO:tensorflow:Graph was finalized.\n",
      "INFO:tensorflow:Running local_init_op.\n",
      "INFO:tensorflow:Done running local_init_op.\n",
      "INFO:tensorflow:Saving checkpoints for 0 into credit_trained_LR0001_30_10_30/model.ckpt.\n",
      "INFO:tensorflow:loss = 272059.47, step = 1\n",
      "INFO:tensorflow:Saving checkpoints for 100 into credit_trained_LR0001_30_10_30/model.ckpt.\n",
      "INFO:tensorflow:global_step/sec: 19.8969\n",
      "INFO:tensorflow:loss = 142413.94, step = 101 (5.028 sec)\n",
      "INFO:tensorflow:Saving checkpoints for 200 into credit_trained_LR0001_30_10_30/model.ckpt.\n",
      "INFO:tensorflow:global_step/sec: 27.8786\n",
      "INFO:tensorflow:loss = 39776.59, step = 201 (3.587 sec)\n",
      "INFO:tensorflow:Saving checkpoints for 300 into credit_trained_LR0001_30_10_30/model.ckpt.\n",
      "INFO:tensorflow:global_step/sec: 31.169\n",
      "INFO:tensorflow:loss = 12228.894, step = 301 (3.208 sec)\n",
      "INFO:tensorflow:Saving checkpoints for 400 into credit_trained_LR0001_30_10_30/model.ckpt.\n",
      "INFO:tensorflow:global_step/sec: 29.0655\n",
      "INFO:tensorflow:loss = 2454.9102, step = 401 (3.442 sec)\n",
      "INFO:tensorflow:Saving checkpoints for 500 into credit_trained_LR0001_30_10_30/model.ckpt.\n",
      "INFO:tensorflow:global_step/sec: 27.9392\n",
      "INFO:tensorflow:loss = 95.47991, step = 501 (3.580 sec)\n",
      "INFO:tensorflow:Saving checkpoints for 600 into credit_trained_LR0001_30_10_30/model.ckpt.\n",
      "INFO:tensorflow:global_step/sec: 29.1002\n",
      "INFO:tensorflow:loss = 88.62813, step = 601 (3.435 sec)\n",
      "INFO:tensorflow:Saving checkpoints for 700 into credit_trained_LR0001_30_10_30/model.ckpt.\n",
      "INFO:tensorflow:global_step/sec: 29.1822\n",
      "INFO:tensorflow:loss = 87.93285, step = 701 (3.426 sec)\n",
      "INFO:tensorflow:Saving checkpoints for 800 into credit_trained_LR0001_30_10_30/model.ckpt.\n",
      "INFO:tensorflow:global_step/sec: 26.6353\n",
      "INFO:tensorflow:loss = 92.89485, step = 801 (3.756 sec)\n",
      "INFO:tensorflow:Saving checkpoints for 900 into credit_trained_LR0001_30_10_30/model.ckpt.\n",
      "INFO:tensorflow:global_step/sec: 27.807\n",
      "INFO:tensorflow:loss = 88.021164, step = 901 (3.593 sec)\n",
      "INFO:tensorflow:Saving checkpoints for 1000 into credit_trained_LR0001_30_10_30/model.ckpt.\n",
      "INFO:tensorflow:global_step/sec: 28.3677\n",
      "INFO:tensorflow:loss = 87.931335, step = 1001 (3.527 sec)\n",
      "INFO:tensorflow:Saving checkpoints for 1100 into credit_trained_LR0001_30_10_30/model.ckpt.\n",
      "INFO:tensorflow:global_step/sec: 29.3243\n",
      "INFO:tensorflow:loss = 88.71321, step = 1101 (3.409 sec)\n",
      "INFO:tensorflow:Saving checkpoints for 1200 into credit_trained_LR0001_30_10_30/model.ckpt.\n",
      "INFO:tensorflow:global_step/sec: 29.4502\n",
      "INFO:tensorflow:loss = 88.93797, step = 1201 (3.396 sec)\n",
      "INFO:tensorflow:Saving checkpoints for 1300 into credit_trained_LR0001_30_10_30/model.ckpt.\n",
      "INFO:tensorflow:global_step/sec: 27.1029\n",
      "INFO:tensorflow:loss = 88.52673, step = 1301 (3.690 sec)\n",
      "INFO:tensorflow:Saving checkpoints for 1400 into credit_trained_LR0001_30_10_30/model.ckpt.\n",
      "INFO:tensorflow:global_step/sec: 29.0656\n",
      "INFO:tensorflow:loss = 88.8458, step = 1401 (3.445 sec)\n",
      "INFO:tensorflow:Saving checkpoints for 1500 into credit_trained_LR0001_30_10_30/model.ckpt.\n",
      "INFO:tensorflow:global_step/sec: 27.3475\n",
      "INFO:tensorflow:loss = 87.72684, step = 1501 (3.652 sec)\n",
      "INFO:tensorflow:Saving checkpoints for 1600 into credit_trained_LR0001_30_10_30/model.ckpt.\n",
      "INFO:tensorflow:global_step/sec: 30.828\n",
      "INFO:tensorflow:loss = 88.71665, step = 1601 (3.249 sec)\n",
      "INFO:tensorflow:Saving checkpoints for 1700 into credit_trained_LR0001_30_10_30/model.ckpt.\n",
      "INFO:tensorflow:global_step/sec: 27.565\n",
      "INFO:tensorflow:loss = 89.0789, step = 1701 (3.623 sec)\n",
      "INFO:tensorflow:Saving checkpoints for 1800 into credit_trained_LR0001_30_10_30/model.ckpt.\n",
      "INFO:tensorflow:global_step/sec: 31.0942\n",
      "INFO:tensorflow:loss = 89.45119, step = 1801 (3.215 sec)\n",
      "INFO:tensorflow:Saving checkpoints for 1900 into credit_trained_LR0001_30_10_30/model.ckpt.\n",
      "INFO:tensorflow:global_step/sec: 28.7489\n",
      "INFO:tensorflow:loss = 88.710464, step = 1901 (3.479 sec)\n",
      "INFO:tensorflow:Saving checkpoints for 2000 into credit_trained_LR0001_30_10_30/model.ckpt.\n",
      "WARNING:tensorflow:From /usr/local/lib/python3.5/dist-packages/tensorflow_core/python/training/saver.py:963: remove_checkpoint (from tensorflow.python.training.checkpoint_management) is deprecated and will be removed in a future version.\n",
      "Instructions for updating:\n",
      "Use standard file APIs to delete files with this prefix.\n",
      "INFO:tensorflow:Loss for final step: 88.7094.\n"
     ]
    },
    {
     "data": {
      "text/plain": [
       "<tensorflow_estimator.python.estimator.canned.dnn.DNNClassifier at 0x7efe7a807a58>"
      ]
     },
     "execution_count": 8,
     "metadata": {},
     "output_type": "execute_result"
    }
   ],
   "source": [
    "model.train(input_fn = lambda : train_input_fn('./input/train_smote.csv'),\n",
    "    max_steps = 2000\n",
    ")"
   ]
  },
  {
   "cell_type": "code",
   "execution_count": 9,
   "metadata": {},
   "outputs": [
    {
     "name": "stdout",
     "output_type": "stream",
     "text": [
      "INFO:tensorflow:Calling model_fn.\n",
      "WARNING:tensorflow:From /usr/local/lib/python3.5/dist-packages/tensorflow_core/python/ops/metrics_impl.py:2026: div (from tensorflow.python.ops.math_ops) is deprecated and will be removed in a future version.\n",
      "Instructions for updating:\n",
      "Deprecated in favor of operator or tf.math.divide.\n",
      "WARNING:tensorflow:Trapezoidal rule is known to produce incorrect PR-AUCs; please switch to \"careful_interpolation\" instead.\n",
      "WARNING:tensorflow:Trapezoidal rule is known to produce incorrect PR-AUCs; please switch to \"careful_interpolation\" instead.\n",
      "INFO:tensorflow:Done calling model_fn.\n",
      "INFO:tensorflow:Starting evaluation at 2019-12-11T00:14:01Z\n",
      "INFO:tensorflow:Graph was finalized.\n",
      "INFO:tensorflow:Restoring parameters from credit_trained_LR0001_30_10_30/model.ckpt-2000\n",
      "INFO:tensorflow:Running local_init_op.\n",
      "INFO:tensorflow:Done running local_init_op.\n",
      "INFO:tensorflow:Finished evaluation at 2019-12-11-00:14:12\n",
      "INFO:tensorflow:Saving dict for global step 2000: accuracy = 0.0057495227, accuracy_baseline = 0.9981786, auc = 0.50162685, auc_precision_recall = 0.00091439317, average_loss = 0.713214, global_step = 2000, label/mean = 0.0018214136, loss = 91.03767, precision = 0.0018285966, prediction/mean = 0.509714, recall = 1.0\n",
      "INFO:tensorflow:Saving 'checkpoint_path' summary for global step 2000: credit_trained_LR0001_30_10_30/model.ckpt-2000\n"
     ]
    },
    {
     "data": {
      "text/plain": [
       "{'accuracy': 0.0057495227,\n",
       " 'accuracy_baseline': 0.9981786,\n",
       " 'auc': 0.50162685,\n",
       " 'auc_precision_recall': 0.00091439317,\n",
       " 'average_loss': 0.713214,\n",
       " 'global_step': 2000,\n",
       " 'label/mean': 0.0018214136,\n",
       " 'loss': 91.03767,\n",
       " 'precision': 0.0018285966,\n",
       " 'prediction/mean': 0.509714,\n",
       " 'recall': 1.0}"
      ]
     },
     "execution_count": 9,
     "metadata": {},
     "output_type": "execute_result"
    }
   ],
   "source": [
    "model.evaluate(input_fn = lambda: eval_input_fn('./input/valid.csv'))"
   ]
  },
  {
   "cell_type": "code",
   "execution_count": 100,
   "metadata": {},
   "outputs": [],
   "source": [
    "#generator_predict = model.predict(input_fn = lambda: eval_input_fn('./input/valid.csv'))"
   ]
  },
  {
   "cell_type": "code",
   "execution_count": 101,
   "metadata": {},
   "outputs": [],
   "source": [
    "#for i, y_pred in enumerate(generator_predict):\n",
    "#    if i <= 10:\n",
    "#        # 'classes', 'class_ids', 'logistic', 'all_class_ids', 'probabilities', 'logits', 'all_classes'\n",
    "#        print('classes:{}/class_ids:{}/logistic:{}/probabilities:{}/logits:{}'.format(\n",
    "#               y_pred[\"classes\"],y_pred[\"class_ids\"],y_pred[\"logistic\"]\n",
    "#               ,y_pred[\"probabilities\"],y_pred[\"logits\"]))\n",
    "#print(i)"
   ]
  },
  {
   "cell_type": "code",
   "execution_count": 10,
   "metadata": {},
   "outputs": [
    {
     "name": "stdout",
     "output_type": "stream",
     "text": [
      "INFO:tensorflow:Calling model_fn.\n",
      "INFO:tensorflow:Done calling model_fn.\n",
      "INFO:tensorflow:Graph was finalized.\n",
      "INFO:tensorflow:Restoring parameters from credit_trained_LR0001_30_10_30/model.ckpt-2000\n",
      "INFO:tensorflow:Running local_init_op.\n",
      "INFO:tensorflow:Done running local_init_op.\n",
      "[[  179 45307]\n",
      " [    0    83]]\n",
      "\n",
      "Class1\n",
      "precision : 0.0018285966071821987\n",
      "recall : 1.0\n"
     ]
    },
    {
     "data": {
      "image/png": "[encoded data removed]",
      "text/plain": [
       "<Figure size 432x288 with 2 Axes>"
      ]
     },
     "metadata": {
      "needs_background": "light"
     },
     "output_type": "display_data"
    }
   ],
   "source": [
    "import numpy as np\n",
    "import seaborn as sns\n",
    "import matplotlib.pyplot as plt\n",
    "\n",
    "def get_predictions(estimator, input_fn):\n",
    "    return [x[\"class_ids\"][0] for x in model.predict(input_fn=input_fn)]\n",
    "\n",
    "LABELS = [\"0\", \"1\"]\n",
    "\n",
    "df_eval = pd.read_csv('./input/valid.csv')\n",
    "\n",
    "# Create a confusion matrix on training data.\n",
    "with tf.Graph().as_default():\n",
    "    cm = tf.confusion_matrix(pd.read_csv('./input/valid.csv')[\"Class\"],get_predictions(model,  lambda: eval_input_fn('./input/valid.csv')))\n",
    "    with tf.Session() as session:\n",
    "        cm_out = session.run(cm)\n",
    "        print(cm_out)\n",
    "\n",
    "# Normalize the confusion matrix so that each row sums to 1.\n",
    "cm_out = cm_out.astype(float) \n",
    "# / cm_out.sum(axis=1)[:, np.newaxis]\n",
    "\n",
    "print()\n",
    "print('Class1')\n",
    "print('precision :',cm_out[1][1]/(cm_out[0][1]+cm_out[1][1]))\n",
    "print('recall :',cm_out[1][1]/(cm_out[1][0]+cm_out[1][1]))\n",
    "\n",
    "sns.heatmap(cm_out, annot=True, xticklabels=LABELS, yticklabels=LABELS);\n",
    "plt.xlabel(\"Predicted\");\n",
    "plt.ylabel(\"True\");"
   ]
  },
  {
   "cell_type": "markdown",
   "metadata": {},
   "source": [
    "# hidden_units=[30, 10] 선택"
   ]
  },
  {
   "cell_type": "code",
   "execution_count": 91,
   "metadata": {},
   "outputs": [
    {
     "name": "stdout",
     "output_type": "stream",
     "text": [
      "INFO:tensorflow:Using config: {'_is_chief': True, '_protocol': None, '_save_checkpoints_secs': None, '_evaluation_master': '', '_service': None, '_keep_checkpoint_max': 20, '_save_summary_steps': 10, '_task_id': 0, '_global_id_in_cluster': 0, '_task_type': 'worker', '_eval_distribute': None, '_num_worker_replicas': 1, '_model_dir': 'credit_trained_LR00001_30_10', '_master': '', '_device_fn': None, '_session_config': allow_soft_placement: true\n",
      "graph_options {\n",
      "  rewrite_options {\n",
      "    meta_optimizer_iterations: ONE\n",
      "  }\n",
      "}\n",
      ", '_experimental_distribute': None, '_cluster_spec': <tensorflow.python.training.server_lib.ClusterSpec object at 0x7f59eca78f98>, '_train_distribute': None, '_experimental_max_worker_delay_secs': None, '_num_ps_replicas': 0, '_tf_random_seed': None, '_save_checkpoints_steps': 100, '_keep_checkpoint_every_n_hours': 10000, '_session_creation_timeout_secs': 7200, '_log_step_count_steps': 100}\n"
     ]
    }
   ],
   "source": [
    "OUTDIR = \"credit_trained_LR00001_30_10\"\n",
    "\n",
    "config = tf.estimator.RunConfig(\n",
    "    model_dir=OUTDIR,\n",
    "    keep_checkpoint_max=20,\n",
    "    save_summary_steps=10,\n",
    "    save_checkpoints_steps=100\n",
    ")\n",
    "model = tf.estimator.DNNClassifier(\n",
    "                                  hidden_units=[30, 10],\n",
    "                                  feature_columns=feature_cols,\n",
    "                                  optimizer = tf.train.AdamOptimizer(learning_rate=0.0001),\n",
    "                                  config = config)"
   ]
  },
  {
   "cell_type": "code",
   "execution_count": 92,
   "metadata": {},
   "outputs": [],
   "source": [
    "!rm -r {OUTDIR}"
   ]
  },
  {
   "cell_type": "code",
   "execution_count": 93,
   "metadata": {},
   "outputs": [
    {
     "name": "stdout",
     "output_type": "stream",
     "text": [
      "INFO:tensorflow:Calling model_fn.\n",
      "INFO:tensorflow:Done calling model_fn.\n",
      "INFO:tensorflow:Create CheckpointSaverHook.\n",
      "INFO:tensorflow:Graph was finalized.\n",
      "INFO:tensorflow:Running local_init_op.\n",
      "INFO:tensorflow:Done running local_init_op.\n",
      "INFO:tensorflow:Saving checkpoints for 0 into credit_trained_LR00001_30_10/model.ckpt.\n",
      "INFO:tensorflow:loss = 2473414.0, step = 1\n",
      "INFO:tensorflow:Saving checkpoints for 100 into credit_trained_LR00001_30_10/model.ckpt.\n",
      "INFO:tensorflow:global_step/sec: 19.6941\n",
      "INFO:tensorflow:loss = 1765084.2, step = 101 (5.085 sec)\n",
      "INFO:tensorflow:Saving checkpoints for 200 into credit_trained_LR00001_30_10/model.ckpt.\n",
      "INFO:tensorflow:global_step/sec: 26.8702\n",
      "INFO:tensorflow:loss = 1571150.2, step = 201 (3.717 sec)\n",
      "INFO:tensorflow:Saving checkpoints for 300 into credit_trained_LR00001_30_10/model.ckpt.\n",
      "INFO:tensorflow:global_step/sec: 26.7729\n",
      "INFO:tensorflow:loss = 631700.5, step = 301 (3.736 sec)\n",
      "INFO:tensorflow:Saving checkpoints for 400 into credit_trained_LR00001_30_10/model.ckpt.\n",
      "INFO:tensorflow:global_step/sec: 24.8941\n",
      "INFO:tensorflow:loss = 177355.86, step = 401 (4.016 sec)\n",
      "INFO:tensorflow:Saving checkpoints for 500 into credit_trained_LR00001_30_10/model.ckpt.\n",
      "INFO:tensorflow:global_step/sec: 25.87\n",
      "INFO:tensorflow:loss = 1433.5593, step = 501 (3.866 sec)\n",
      "INFO:tensorflow:Saving checkpoints for 600 into credit_trained_LR00001_30_10/model.ckpt.\n",
      "INFO:tensorflow:global_step/sec: 24.8496\n",
      "INFO:tensorflow:loss = 794.92676, step = 601 (4.024 sec)\n",
      "INFO:tensorflow:Saving checkpoints for 700 into credit_trained_LR00001_30_10/model.ckpt.\n",
      "INFO:tensorflow:global_step/sec: 26.2301\n",
      "INFO:tensorflow:loss = 1162.4099, step = 701 (3.813 sec)\n",
      "INFO:tensorflow:Saving checkpoints for 800 into credit_trained_LR00001_30_10/model.ckpt.\n",
      "INFO:tensorflow:global_step/sec: 26.4485\n",
      "INFO:tensorflow:loss = 256.29517, step = 801 (3.779 sec)\n",
      "INFO:tensorflow:Saving checkpoints for 900 into credit_trained_LR00001_30_10/model.ckpt.\n",
      "INFO:tensorflow:global_step/sec: 28.8296\n",
      "INFO:tensorflow:loss = 233.19403, step = 901 (3.469 sec)\n",
      "INFO:tensorflow:Saving checkpoints for 1000 into credit_trained_LR00001_30_10/model.ckpt.\n",
      "INFO:tensorflow:global_step/sec: 27.4459\n",
      "INFO:tensorflow:loss = 182.8158, step = 1001 (3.646 sec)\n",
      "INFO:tensorflow:Saving checkpoints for 1100 into credit_trained_LR00001_30_10/model.ckpt.\n",
      "INFO:tensorflow:global_step/sec: 28.8273\n",
      "INFO:tensorflow:loss = 59.907417, step = 1101 (3.466 sec)\n",
      "INFO:tensorflow:Saving checkpoints for 1200 into credit_trained_LR00001_30_10/model.ckpt.\n",
      "INFO:tensorflow:global_step/sec: 25.4919\n",
      "INFO:tensorflow:loss = 17.24416, step = 1201 (3.928 sec)\n",
      "INFO:tensorflow:Saving checkpoints for 1300 into credit_trained_LR00001_30_10/model.ckpt.\n",
      "INFO:tensorflow:global_step/sec: 27.5488\n",
      "INFO:tensorflow:loss = 13.312134, step = 1301 (3.626 sec)\n",
      "INFO:tensorflow:Saving checkpoints for 1400 into credit_trained_LR00001_30_10/model.ckpt.\n",
      "INFO:tensorflow:global_step/sec: 25.7262\n",
      "INFO:tensorflow:loss = 40.66131, step = 1401 (3.886 sec)\n",
      "INFO:tensorflow:Saving checkpoints for 1500 into credit_trained_LR00001_30_10/model.ckpt.\n",
      "INFO:tensorflow:global_step/sec: 26.9138\n",
      "INFO:tensorflow:loss = 72.697876, step = 1501 (3.716 sec)\n",
      "INFO:tensorflow:Saving checkpoints for 1600 into credit_trained_LR00001_30_10/model.ckpt.\n",
      "INFO:tensorflow:global_step/sec: 27.9921\n",
      "INFO:tensorflow:loss = 44.36235, step = 1601 (3.572 sec)\n",
      "INFO:tensorflow:Saving checkpoints for 1700 into credit_trained_LR00001_30_10/model.ckpt.\n",
      "INFO:tensorflow:global_step/sec: 29.5283\n",
      "INFO:tensorflow:loss = 159.03506, step = 1701 (3.391 sec)\n",
      "INFO:tensorflow:Saving checkpoints for 1800 into credit_trained_LR00001_30_10/model.ckpt.\n",
      "INFO:tensorflow:global_step/sec: 26.5574\n",
      "INFO:tensorflow:loss = 62.308357, step = 1801 (3.762 sec)\n",
      "INFO:tensorflow:Saving checkpoints for 1900 into credit_trained_LR00001_30_10/model.ckpt.\n",
      "INFO:tensorflow:global_step/sec: 26.8475\n",
      "INFO:tensorflow:loss = 28.959558, step = 1901 (3.725 sec)\n",
      "INFO:tensorflow:Saving checkpoints for 2000 into credit_trained_LR00001_30_10/model.ckpt.\n",
      "INFO:tensorflow:Loss for final step: 185.49744.\n"
     ]
    },
    {
     "data": {
      "text/plain": [
       "<tensorflow_estimator.python.estimator.canned.dnn.DNNClassifier at 0x7f59ecfa4f60>"
      ]
     },
     "execution_count": 93,
     "metadata": {},
     "output_type": "execute_result"
    }
   ],
   "source": [
    "model.train(input_fn = lambda : train_input_fn('./input/train_smote.csv'),\n",
    "    max_steps = 2000\n",
    ")"
   ]
  },
  {
   "cell_type": "code",
   "execution_count": 94,
   "metadata": {},
   "outputs": [
    {
     "name": "stdout",
     "output_type": "stream",
     "text": [
      "INFO:tensorflow:Calling model_fn.\n",
      "WARNING:tensorflow:Trapezoidal rule is known to produce incorrect PR-AUCs; please switch to \"careful_interpolation\" instead.\n",
      "WARNING:tensorflow:Trapezoidal rule is known to produce incorrect PR-AUCs; please switch to \"careful_interpolation\" instead.\n",
      "INFO:tensorflow:Done calling model_fn.\n",
      "INFO:tensorflow:Starting evaluation at 2019-12-10T05:37:54Z\n",
      "INFO:tensorflow:Graph was finalized.\n",
      "INFO:tensorflow:Restoring parameters from credit_trained_LR00001_30_10/model.ckpt-2000\n",
      "INFO:tensorflow:Running local_init_op.\n",
      "INFO:tensorflow:Done running local_init_op.\n",
      "INFO:tensorflow:Finished evaluation at 2019-12-10-05:38:09\n",
      "INFO:tensorflow:Saving dict for global step 2000: accuracy = 0.990871, accuracy_baseline = 0.9981786, auc = 0.8845542, auc_precision_recall = 0.4564101, average_loss = 0.07713252, global_step = 2000, label/mean = 0.0018214136, loss = 9.845524, precision = 0.12917595, prediction/mean = 0.022681668, recall = 0.6987952\n",
      "INFO:tensorflow:Saving 'checkpoint_path' summary for global step 2000: credit_trained_LR00001_30_10/model.ckpt-2000\n"
     ]
    },
    {
     "data": {
      "text/plain": [
       "{'accuracy': 0.990871,\n",
       " 'accuracy_baseline': 0.9981786,\n",
       " 'auc': 0.8845542,\n",
       " 'auc_precision_recall': 0.4564101,\n",
       " 'average_loss': 0.07713252,\n",
       " 'global_step': 2000,\n",
       " 'label/mean': 0.0018214136,\n",
       " 'loss': 9.845524,\n",
       " 'precision': 0.12917595,\n",
       " 'prediction/mean': 0.022681668,\n",
       " 'recall': 0.6987952}"
      ]
     },
     "execution_count": 94,
     "metadata": {},
     "output_type": "execute_result"
    }
   ],
   "source": [
    "model.evaluate(input_fn = lambda: eval_input_fn('./input/valid.csv'))"
   ]
  },
  {
   "cell_type": "code",
   "execution_count": 95,
   "metadata": {},
   "outputs": [
    {
     "name": "stdout",
     "output_type": "stream",
     "text": [
      "INFO:tensorflow:Calling model_fn.\n",
      "INFO:tensorflow:Done calling model_fn.\n",
      "INFO:tensorflow:Graph was finalized.\n",
      "INFO:tensorflow:Restoring parameters from credit_trained_LR00001_30_10/model.ckpt-2000\n",
      "INFO:tensorflow:Running local_init_op.\n",
      "INFO:tensorflow:Done running local_init_op.\n",
      "[[45095   391]\n",
      " [   25    58]]\n"
     ]
    },
    {
     "data": {
      "image/png": "[encoded data removed]",
      "text/plain": [
       "<Figure size 432x288 with 2 Axes>"
      ]
     },
     "metadata": {
      "needs_background": "light"
     },
     "output_type": "display_data"
    }
   ],
   "source": [
    "import numpy as np\n",
    "import seaborn as sns\n",
    "import matplotlib.pyplot as plt\n",
    "\n",
    "def get_predictions(estimator, input_fn):\n",
    "    return [x[\"class_ids\"][0] for x in model.predict(input_fn=input_fn)]\n",
    "\n",
    "LABELS = [\"0\", \"1\"]\n",
    "\n",
    "df_eval = pd.read_csv('./input/valid.csv')\n",
    "\n",
    "# Create a confusion matrix on training data.\n",
    "with tf.Graph().as_default():\n",
    "    cm = tf.confusion_matrix(pd.read_csv('./input/valid.csv')[\"Class\"],get_predictions(model,  lambda: eval_input_fn('./input/valid.csv')))\n",
    "    with tf.Session() as session:\n",
    "        cm_out = session.run(cm)\n",
    "        print(cm_out)\n",
    "\n",
    "# Normalize the confusion matrix so that each row sums to 1.\n",
    "cm_out = cm_out.astype(float) \n",
    "# / cm_out.sum(axis=1)[:, np.newaxis]\n",
    "\n",
    "sns.heatmap(cm_out, annot=True, xticklabels=LABELS, yticklabels=LABELS);\n",
    "plt.xlabel(\"Predicted\");\n",
    "plt.ylabel(\"True\");"
   ]
  },
  {
   "cell_type": "code",
   "execution_count": null,
   "metadata": {},
   "outputs": [],
   "source": []
  },
  {
   "cell_type": "code",
   "execution_count": null,
   "metadata": {},
   "outputs": [],
   "source": []
  },
  {
   "cell_type": "code",
   "execution_count": null,
   "metadata": {},
   "outputs": [],
   "source": []
  },
  {
   "cell_type": "code",
   "execution_count": null,
   "metadata": {},
   "outputs": [],
   "source": []
  },
  {
   "cell_type": "markdown",
   "metadata": {},
   "source": [
    "# hidden_units = [30]"
   ]
  },
  {
   "cell_type": "code",
   "execution_count": 38,
   "metadata": {},
   "outputs": [
    {
     "name": "stdout",
     "output_type": "stream",
     "text": [
      "INFO:tensorflow:Using config: {'_is_chief': True, '_protocol': None, '_save_checkpoints_secs': None, '_evaluation_master': '', '_service': None, '_keep_checkpoint_max': 20, '_save_summary_steps': 10, '_task_id': 0, '_global_id_in_cluster': 0, '_task_type': 'worker', '_eval_distribute': None, '_num_worker_replicas': 1, '_model_dir': 'credit_trained_LR0001_30', '_master': '', '_device_fn': None, '_session_config': allow_soft_placement: true\n",
      "graph_options {\n",
      "  rewrite_options {\n",
      "    meta_optimizer_iterations: ONE\n",
      "  }\n",
      "}\n",
      ", '_experimental_distribute': None, '_cluster_spec': <tensorflow.python.training.server_lib.ClusterSpec object at 0x7f5a0c380080>, '_train_distribute': None, '_experimental_max_worker_delay_secs': None, '_num_ps_replicas': 0, '_tf_random_seed': None, '_save_checkpoints_steps': 100, '_keep_checkpoint_every_n_hours': 10000, '_session_creation_timeout_secs': 7200, '_log_step_count_steps': 100}\n"
     ]
    }
   ],
   "source": [
    "OUTDIR = \"credit_trained_LR0001_30\"\n",
    "\n",
    "config = tf.estimator.RunConfig(\n",
    "    model_dir=OUTDIR,\n",
    "    keep_checkpoint_max=20,\n",
    "    save_summary_steps=10,\n",
    "    save_checkpoints_steps=100\n",
    ")\n",
    "model = tf.estimator.DNNClassifier(\n",
    "                                  hidden_units=[30],\n",
    "                                  feature_columns=feature_cols,\n",
    "                                  optimizer = tf.train.AdamOptimizer(learning_rate=0.0001),\n",
    "                                  config = config)"
   ]
  },
  {
   "cell_type": "code",
   "execution_count": 39,
   "metadata": {},
   "outputs": [
    {
     "name": "stdout",
     "output_type": "stream",
     "text": [
      "rm: cannot remove 'credit_trained_LR0001_30': No such file or directory\n"
     ]
    }
   ],
   "source": [
    "!rm -r {OUTDIR}"
   ]
  },
  {
   "cell_type": "code",
   "execution_count": 40,
   "metadata": {},
   "outputs": [
    {
     "name": "stdout",
     "output_type": "stream",
     "text": [
      "INFO:tensorflow:Calling model_fn.\n",
      "INFO:tensorflow:Done calling model_fn.\n",
      "INFO:tensorflow:Create CheckpointSaverHook.\n",
      "INFO:tensorflow:Graph was finalized.\n",
      "INFO:tensorflow:Running local_init_op.\n",
      "INFO:tensorflow:Done running local_init_op.\n",
      "INFO:tensorflow:Saving checkpoints for 0 into credit_trained_LR0001_30/model.ckpt.\n",
      "INFO:tensorflow:loss = 949360.75, step = 1\n",
      "INFO:tensorflow:Saving checkpoints for 100 into credit_trained_LR0001_30/model.ckpt.\n",
      "INFO:tensorflow:global_step/sec: 26.8604\n",
      "INFO:tensorflow:loss = 867928.06, step = 101 (3.724 sec)\n",
      "INFO:tensorflow:Saving checkpoints for 200 into credit_trained_LR0001_30/model.ckpt.\n",
      "INFO:tensorflow:global_step/sec: 36.4637\n",
      "INFO:tensorflow:loss = 527019.94, step = 201 (2.747 sec)\n",
      "INFO:tensorflow:Saving checkpoints for 300 into credit_trained_LR0001_30/model.ckpt.\n",
      "INFO:tensorflow:global_step/sec: 35.2167\n",
      "INFO:tensorflow:loss = 327677.16, step = 301 (2.836 sec)\n",
      "INFO:tensorflow:Saving checkpoints for 400 into credit_trained_LR0001_30/model.ckpt.\n",
      "INFO:tensorflow:global_step/sec: 39.2768\n",
      "INFO:tensorflow:loss = 9501.604, step = 401 (2.547 sec)\n",
      "INFO:tensorflow:Saving checkpoints for 500 into credit_trained_LR0001_30/model.ckpt.\n",
      "INFO:tensorflow:global_step/sec: 36.2871\n",
      "INFO:tensorflow:loss = 828.26526, step = 501 (2.756 sec)\n",
      "INFO:tensorflow:Saving checkpoints for 600 into credit_trained_LR0001_30/model.ckpt.\n",
      "INFO:tensorflow:global_step/sec: 35.5092\n",
      "INFO:tensorflow:loss = 164.56906, step = 601 (2.816 sec)\n",
      "INFO:tensorflow:Saving checkpoints for 700 into credit_trained_LR0001_30/model.ckpt.\n",
      "INFO:tensorflow:global_step/sec: 36.6716\n",
      "INFO:tensorflow:loss = 133.86055, step = 701 (2.727 sec)\n",
      "INFO:tensorflow:Saving checkpoints for 800 into credit_trained_LR0001_30/model.ckpt.\n",
      "INFO:tensorflow:global_step/sec: 35.4854\n",
      "INFO:tensorflow:loss = 71.76419, step = 801 (2.818 sec)\n",
      "INFO:tensorflow:Saving checkpoints for 900 into credit_trained_LR0001_30/model.ckpt.\n",
      "INFO:tensorflow:global_step/sec: 35.8078\n",
      "INFO:tensorflow:loss = 67.74049, step = 901 (2.793 sec)\n",
      "INFO:tensorflow:Saving checkpoints for 1000 into credit_trained_LR0001_30/model.ckpt.\n",
      "INFO:tensorflow:global_step/sec: 37.0532\n",
      "INFO:tensorflow:loss = 41.373642, step = 1001 (2.699 sec)\n",
      "INFO:tensorflow:Saving checkpoints for 1100 into credit_trained_LR0001_30/model.ckpt.\n",
      "INFO:tensorflow:global_step/sec: 35.2161\n",
      "INFO:tensorflow:loss = 34.55634, step = 1101 (2.838 sec)\n",
      "INFO:tensorflow:Saving checkpoints for 1200 into credit_trained_LR0001_30/model.ckpt.\n",
      "INFO:tensorflow:global_step/sec: 39.3356\n",
      "INFO:tensorflow:loss = 65.91175, step = 1201 (2.544 sec)\n",
      "INFO:tensorflow:Saving checkpoints for 1300 into credit_trained_LR0001_30/model.ckpt.\n",
      "INFO:tensorflow:global_step/sec: 35.0556\n",
      "INFO:tensorflow:loss = 157.24928, step = 1301 (2.853 sec)\n",
      "INFO:tensorflow:Saving checkpoints for 1400 into credit_trained_LR0001_30/model.ckpt.\n",
      "INFO:tensorflow:global_step/sec: 35.0234\n",
      "INFO:tensorflow:loss = 30.681337, step = 1401 (2.855 sec)\n",
      "INFO:tensorflow:Saving checkpoints for 1500 into credit_trained_LR0001_30/model.ckpt.\n",
      "INFO:tensorflow:global_step/sec: 34.8427\n",
      "INFO:tensorflow:loss = 30.193495, step = 1501 (2.873 sec)\n",
      "INFO:tensorflow:Saving checkpoints for 1600 into credit_trained_LR0001_30/model.ckpt.\n",
      "INFO:tensorflow:global_step/sec: 34.2317\n",
      "INFO:tensorflow:loss = 23.371674, step = 1601 (2.918 sec)\n",
      "INFO:tensorflow:Saving checkpoints for 1700 into credit_trained_LR0001_30/model.ckpt.\n",
      "INFO:tensorflow:global_step/sec: 35.4334\n",
      "INFO:tensorflow:loss = 35.662407, step = 1701 (2.822 sec)\n",
      "INFO:tensorflow:Saving checkpoints for 1800 into credit_trained_LR0001_30/model.ckpt.\n",
      "INFO:tensorflow:global_step/sec: 36.1006\n",
      "INFO:tensorflow:loss = 45.227543, step = 1801 (2.770 sec)\n",
      "INFO:tensorflow:Saving checkpoints for 1900 into credit_trained_LR0001_30/model.ckpt.\n",
      "INFO:tensorflow:global_step/sec: 37.896\n",
      "INFO:tensorflow:loss = 85.03937, step = 1901 (2.639 sec)\n",
      "INFO:tensorflow:Saving checkpoints for 2000 into credit_trained_LR0001_30/model.ckpt.\n",
      "INFO:tensorflow:Loss for final step: 35.81419.\n"
     ]
    },
    {
     "data": {
      "text/plain": [
       "<tensorflow_estimator.python.estimator.canned.dnn.DNNClassifier at 0x7f5a0c380400>"
      ]
     },
     "execution_count": 40,
     "metadata": {},
     "output_type": "execute_result"
    }
   ],
   "source": [
    "model.train(input_fn = lambda : train_input_fn('./input/train_smote.csv'),\n",
    "    max_steps = 2000\n",
    ")"
   ]
  },
  {
   "cell_type": "code",
   "execution_count": 41,
   "metadata": {},
   "outputs": [
    {
     "name": "stdout",
     "output_type": "stream",
     "text": [
      "INFO:tensorflow:Calling model_fn.\n",
      "WARNING:tensorflow:Trapezoidal rule is known to produce incorrect PR-AUCs; please switch to \"careful_interpolation\" instead.\n",
      "WARNING:tensorflow:Trapezoidal rule is known to produce incorrect PR-AUCs; please switch to \"careful_interpolation\" instead.\n",
      "INFO:tensorflow:Done calling model_fn.\n",
      "INFO:tensorflow:Starting evaluation at 2019-12-09T14:38:07Z\n",
      "INFO:tensorflow:Graph was finalized.\n",
      "INFO:tensorflow:Restoring parameters from credit_trained_LR0001_30/model.ckpt-2000\n",
      "INFO:tensorflow:Running local_init_op.\n",
      "INFO:tensorflow:Done running local_init_op.\n",
      "INFO:tensorflow:Finished evaluation at 2019-12-09-14:38:18\n",
      "INFO:tensorflow:Saving dict for global step 2000: accuracy = 0.9469376, accuracy_baseline = 0.9981786, auc = 0.91701734, auc_precision_recall = 0.5007948, average_loss = 0.17892525, global_step = 2000, label/mean = 0.0018214136, loss = 22.83878, precision = 0.027901335, prediction/mean = 0.11988423, recall = 0.8313253\n",
      "INFO:tensorflow:Saving 'checkpoint_path' summary for global step 2000: credit_trained_LR0001_30/model.ckpt-2000\n"
     ]
    },
    {
     "data": {
      "text/plain": [
       "{'accuracy': 0.9469376,\n",
       " 'accuracy_baseline': 0.9981786,\n",
       " 'auc': 0.91701734,\n",
       " 'auc_precision_recall': 0.5007948,\n",
       " 'average_loss': 0.17892525,\n",
       " 'global_step': 2000,\n",
       " 'label/mean': 0.0018214136,\n",
       " 'loss': 22.83878,\n",
       " 'precision': 0.027901335,\n",
       " 'prediction/mean': 0.11988423,\n",
       " 'recall': 0.8313253}"
      ]
     },
     "execution_count": 41,
     "metadata": {},
     "output_type": "execute_result"
    }
   ],
   "source": [
    "model.evaluate(input_fn = lambda: eval_input_fn('./input/valid.csv'))"
   ]
  },
  {
   "cell_type": "code",
   "execution_count": 1,
   "metadata": {},
   "outputs": [
    {
     "ename": "NameError",
     "evalue": "name 'pd' is not defined",
     "output_type": "error",
     "traceback": [
      "\u001b[0;31m---------------------------------------------------------------------------\u001b[0m",
      "\u001b[0;31mNameError\u001b[0m                                 Traceback (most recent call last)",
      "\u001b[0;32m<ipython-input-1-bde641b2b7bb>\u001b[0m in \u001b[0;36m<module>\u001b[0;34m\u001b[0m\n\u001b[1;32m      8\u001b[0m \u001b[0mLABELS\u001b[0m \u001b[0;34m=\u001b[0m \u001b[0;34m[\u001b[0m\u001b[0;34m\"0\"\u001b[0m\u001b[0;34m,\u001b[0m \u001b[0;34m\"1\"\u001b[0m\u001b[0;34m]\u001b[0m\u001b[0;34m\u001b[0m\u001b[0m\n\u001b[1;32m      9\u001b[0m \u001b[0;34m\u001b[0m\u001b[0m\n\u001b[0;32m---> 10\u001b[0;31m \u001b[0mdf_eval\u001b[0m \u001b[0;34m=\u001b[0m \u001b[0mpd\u001b[0m\u001b[0;34m.\u001b[0m\u001b[0mread_csv\u001b[0m\u001b[0;34m(\u001b[0m\u001b[0;34m'./input/valid.csv'\u001b[0m\u001b[0;34m)\u001b[0m\u001b[0;34m\u001b[0m\u001b[0m\n\u001b[0m\u001b[1;32m     11\u001b[0m \u001b[0;34m\u001b[0m\u001b[0m\n\u001b[1;32m     12\u001b[0m \u001b[0;31m# Create a confusion matrix on training data.\u001b[0m\u001b[0;34m\u001b[0m\u001b[0;34m\u001b[0m\u001b[0m\n",
      "\u001b[0;31mNameError\u001b[0m: name 'pd' is not defined"
     ]
    }
   ],
   "source": [
    "import numpy as np\n",
    "import seaborn as sns\n",
    "import matplotlib.pyplot as plt\n",
    "\n",
    "def get_predictions(estimator, input_fn):\n",
    "    return [x[\"class_ids\"][0] for x in model.predict(input_fn=input_fn)]\n",
    "\n",
    "LABELS = [\"0\", \"1\"]\n",
    "\n",
    "df_eval = pd.read_csv('./input/valid.csv')\n",
    "\n",
    "# Create a confusion matrix on training data.\n",
    "with tf.Graph().as_default():\n",
    "    cm = tf.confusion_matrix(pd.read_csv('./input/valid.csv')[\"Class\"],get_predictions(model,  lambda: eval_input_fn('./input/valid.csv')))\n",
    "    with tf.Session() as session:\n",
    "        cm_out = session.run(cm)\n",
    "        print(cm_out)\n",
    "\n",
    "# Normalize the confusion matrix so that each row sums to 1.\n",
    "cm_out = cm_out.astype(float) \n",
    "# / cm_out.sum(axis=1)[:, np.newaxis]\n",
    "\n",
    "print()\n",
    "print('Class1')\n",
    "print('precision :',cm_out[1][1]/(cm_out[0][1]+cm_out[1][1]))\n",
    "print('recall :',cm_out[1][1]/(cm_out[1][0]+cm_out[1][1]))\n",
    "\n",
    "sns.heatmap(cm_out, annot=True, xticklabels=LABELS, yticklabels=LABELS);\n",
    "plt.xlabel(\"Predicted\");\n",
    "plt.ylabel(\"True\");"
   ]
  },
  {
   "cell_type": "code",
   "execution_count": null,
   "metadata": {},
   "outputs": [],
   "source": []
  },
  {
   "cell_type": "code",
   "execution_count": null,
   "metadata": {},
   "outputs": [],
   "source": []
  },
  {
   "cell_type": "code",
   "execution_count": null,
   "metadata": {},
   "outputs": [],
   "source": []
  },
  {
   "cell_type": "markdown",
   "metadata": {},
   "source": [
    "# hidden_units = [10]"
   ]
  },
  {
   "cell_type": "code",
   "execution_count": 43,
   "metadata": {},
   "outputs": [
    {
     "name": "stdout",
     "output_type": "stream",
     "text": [
      "INFO:tensorflow:Using config: {'_is_chief': True, '_protocol': None, '_save_checkpoints_secs': None, '_evaluation_master': '', '_service': None, '_keep_checkpoint_max': 20, '_save_summary_steps': 10, '_task_id': 0, '_global_id_in_cluster': 0, '_task_type': 'worker', '_eval_distribute': None, '_num_worker_replicas': 1, '_model_dir': 'credit_trained_LR0001_10', '_master': '', '_device_fn': None, '_session_config': allow_soft_placement: true\n",
      "graph_options {\n",
      "  rewrite_options {\n",
      "    meta_optimizer_iterations: ONE\n",
      "  }\n",
      "}\n",
      ", '_experimental_distribute': None, '_cluster_spec': <tensorflow.python.training.server_lib.ClusterSpec object at 0x7f59edc196d8>, '_train_distribute': None, '_experimental_max_worker_delay_secs': None, '_num_ps_replicas': 0, '_tf_random_seed': None, '_save_checkpoints_steps': 100, '_keep_checkpoint_every_n_hours': 10000, '_session_creation_timeout_secs': 7200, '_log_step_count_steps': 100}\n"
     ]
    }
   ],
   "source": [
    "OUTDIR = \"credit_trained_LR0001_10\"\n",
    "\n",
    "config = tf.estimator.RunConfig(\n",
    "    model_dir=OUTDIR,\n",
    "    keep_checkpoint_max=20,\n",
    "    save_summary_steps=10,\n",
    "    save_checkpoints_steps=100\n",
    ")\n",
    "model = tf.estimator.DNNClassifier(\n",
    "                                  hidden_units=[10],\n",
    "                                  feature_columns=feature_cols,\n",
    "                                  optimizer = tf.train.AdamOptimizer(learning_rate=0.0001),\n",
    "                                  config = config)"
   ]
  },
  {
   "cell_type": "code",
   "execution_count": 44,
   "metadata": {},
   "outputs": [],
   "source": [
    "!rm -r {OUTDIR}"
   ]
  },
  {
   "cell_type": "code",
   "execution_count": 45,
   "metadata": {},
   "outputs": [
    {
     "name": "stdout",
     "output_type": "stream",
     "text": [
      "INFO:tensorflow:Calling model_fn.\n",
      "INFO:tensorflow:Done calling model_fn.\n",
      "INFO:tensorflow:Create CheckpointSaverHook.\n",
      "INFO:tensorflow:Graph was finalized.\n",
      "INFO:tensorflow:Running local_init_op.\n",
      "INFO:tensorflow:Done running local_init_op.\n",
      "INFO:tensorflow:Saving checkpoints for 0 into credit_trained_LR0001_10/model.ckpt.\n",
      "INFO:tensorflow:loss = 924741.94, step = 1\n",
      "INFO:tensorflow:Saving checkpoints for 100 into credit_trained_LR0001_10/model.ckpt.\n",
      "INFO:tensorflow:global_step/sec: 26.0464\n",
      "INFO:tensorflow:loss = 760011.7, step = 101 (3.845 sec)\n",
      "INFO:tensorflow:Saving checkpoints for 200 into credit_trained_LR0001_10/model.ckpt.\n",
      "INFO:tensorflow:global_step/sec: 35.6151\n",
      "INFO:tensorflow:loss = 686980.3, step = 201 (2.803 sec)\n",
      "INFO:tensorflow:Saving checkpoints for 300 into credit_trained_LR0001_10/model.ckpt.\n",
      "INFO:tensorflow:global_step/sec: 36.0182\n",
      "INFO:tensorflow:loss = 511999.75, step = 301 (2.779 sec)\n",
      "INFO:tensorflow:Saving checkpoints for 400 into credit_trained_LR0001_10/model.ckpt.\n",
      "INFO:tensorflow:global_step/sec: 39.4142\n",
      "INFO:tensorflow:loss = 327514.12, step = 401 (2.535 sec)\n",
      "INFO:tensorflow:Saving checkpoints for 500 into credit_trained_LR0001_10/model.ckpt.\n",
      "INFO:tensorflow:global_step/sec: 35.454\n",
      "INFO:tensorflow:loss = 197744.12, step = 501 (2.820 sec)\n",
      "INFO:tensorflow:Saving checkpoints for 600 into credit_trained_LR0001_10/model.ckpt.\n",
      "INFO:tensorflow:global_step/sec: 36.1151\n",
      "INFO:tensorflow:loss = 29808.373, step = 601 (2.769 sec)\n",
      "INFO:tensorflow:Saving checkpoints for 700 into credit_trained_LR0001_10/model.ckpt.\n",
      "INFO:tensorflow:global_step/sec: 35.2445\n",
      "INFO:tensorflow:loss = 952.6009, step = 701 (2.839 sec)\n",
      "INFO:tensorflow:Saving checkpoints for 800 into credit_trained_LR0001_10/model.ckpt.\n",
      "INFO:tensorflow:global_step/sec: 35.2697\n",
      "INFO:tensorflow:loss = 629.27185, step = 801 (2.835 sec)\n",
      "INFO:tensorflow:Saving checkpoints for 900 into credit_trained_LR0001_10/model.ckpt.\n",
      "INFO:tensorflow:global_step/sec: 35.1429\n",
      "INFO:tensorflow:loss = 400.63397, step = 901 (2.845 sec)\n",
      "INFO:tensorflow:Saving checkpoints for 1000 into credit_trained_LR0001_10/model.ckpt.\n",
      "INFO:tensorflow:global_step/sec: 36.5663\n",
      "INFO:tensorflow:loss = 291.11246, step = 1001 (2.735 sec)\n",
      "INFO:tensorflow:Saving checkpoints for 1100 into credit_trained_LR0001_10/model.ckpt.\n",
      "INFO:tensorflow:global_step/sec: 38.0949\n",
      "INFO:tensorflow:loss = 245.73108, step = 1101 (2.625 sec)\n",
      "INFO:tensorflow:Saving checkpoints for 1200 into credit_trained_LR0001_10/model.ckpt.\n",
      "INFO:tensorflow:global_step/sec: 40.5603\n",
      "INFO:tensorflow:loss = 342.67194, step = 1201 (2.466 sec)\n",
      "INFO:tensorflow:Saving checkpoints for 1300 into credit_trained_LR0001_10/model.ckpt.\n",
      "INFO:tensorflow:global_step/sec: 37.0459\n",
      "INFO:tensorflow:loss = 74.50882, step = 1301 (2.700 sec)\n",
      "INFO:tensorflow:Saving checkpoints for 1400 into credit_trained_LR0001_10/model.ckpt.\n",
      "INFO:tensorflow:global_step/sec: 35.3815\n",
      "INFO:tensorflow:loss = 43.776604, step = 1401 (2.826 sec)\n",
      "INFO:tensorflow:Saving checkpoints for 1500 into credit_trained_LR0001_10/model.ckpt.\n",
      "INFO:tensorflow:global_step/sec: 36.2554\n",
      "INFO:tensorflow:loss = 28.993137, step = 1501 (2.759 sec)\n",
      "INFO:tensorflow:Saving checkpoints for 1600 into credit_trained_LR0001_10/model.ckpt.\n",
      "INFO:tensorflow:global_step/sec: 34.8981\n",
      "INFO:tensorflow:loss = 26.474735, step = 1601 (2.865 sec)\n",
      "INFO:tensorflow:Saving checkpoints for 1700 into credit_trained_LR0001_10/model.ckpt.\n",
      "INFO:tensorflow:global_step/sec: 49.2311\n",
      "INFO:tensorflow:loss = 25.092083, step = 1701 (2.031 sec)\n",
      "INFO:tensorflow:Saving checkpoints for 1800 into credit_trained_LR0001_10/model.ckpt.\n",
      "INFO:tensorflow:global_step/sec: 40.2484\n",
      "INFO:tensorflow:loss = 19.786259, step = 1801 (2.485 sec)\n",
      "INFO:tensorflow:Saving checkpoints for 1900 into credit_trained_LR0001_10/model.ckpt.\n",
      "INFO:tensorflow:global_step/sec: 35.7413\n",
      "INFO:tensorflow:loss = 28.350225, step = 1901 (2.799 sec)\n",
      "INFO:tensorflow:Saving checkpoints for 2000 into credit_trained_LR0001_10/model.ckpt.\n",
      "INFO:tensorflow:Loss for final step: 23.849686.\n"
     ]
    },
    {
     "data": {
      "text/plain": [
       "<tensorflow_estimator.python.estimator.canned.dnn.DNNClassifier at 0x7f59edc198d0>"
      ]
     },
     "execution_count": 45,
     "metadata": {},
     "output_type": "execute_result"
    }
   ],
   "source": [
    "model.train(input_fn = lambda : train_input_fn('./input/train_smote.csv'),\n",
    "    max_steps = 2000\n",
    ")"
   ]
  },
  {
   "cell_type": "code",
   "execution_count": 46,
   "metadata": {},
   "outputs": [
    {
     "name": "stdout",
     "output_type": "stream",
     "text": [
      "INFO:tensorflow:Calling model_fn.\n",
      "WARNING:tensorflow:Trapezoidal rule is known to produce incorrect PR-AUCs; please switch to \"careful_interpolation\" instead.\n",
      "WARNING:tensorflow:Trapezoidal rule is known to produce incorrect PR-AUCs; please switch to \"careful_interpolation\" instead.\n",
      "INFO:tensorflow:Done calling model_fn.\n",
      "INFO:tensorflow:Starting evaluation at 2019-12-09T14:39:27Z\n",
      "INFO:tensorflow:Graph was finalized.\n",
      "INFO:tensorflow:Restoring parameters from credit_trained_LR0001_10/model.ckpt-2000\n",
      "INFO:tensorflow:Running local_init_op.\n",
      "INFO:tensorflow:Done running local_init_op.\n",
      "INFO:tensorflow:Finished evaluation at 2019-12-09-14:39:38\n",
      "INFO:tensorflow:Saving dict for global step 2000: accuracy = 0.9687287, accuracy_baseline = 0.9981786, auc = 0.9290324, auc_precision_recall = 0.45274347, average_loss = 0.16042922, global_step = 2000, label/mean = 0.0018214136, loss = 20.47787, precision = 0.045392953, prediction/mean = 0.120084375, recall = 0.8072289\n",
      "INFO:tensorflow:Saving 'checkpoint_path' summary for global step 2000: credit_trained_LR0001_10/model.ckpt-2000\n"
     ]
    },
    {
     "data": {
      "text/plain": [
       "{'accuracy': 0.9687287,\n",
       " 'accuracy_baseline': 0.9981786,\n",
       " 'auc': 0.9290324,\n",
       " 'auc_precision_recall': 0.45274347,\n",
       " 'average_loss': 0.16042922,\n",
       " 'global_step': 2000,\n",
       " 'label/mean': 0.0018214136,\n",
       " 'loss': 20.47787,\n",
       " 'precision': 0.045392953,\n",
       " 'prediction/mean': 0.120084375,\n",
       " 'recall': 0.8072289}"
      ]
     },
     "execution_count": 46,
     "metadata": {},
     "output_type": "execute_result"
    }
   ],
   "source": [
    "model.evaluate(input_fn = lambda: eval_input_fn('./input/valid.csv'))"
   ]
  },
  {
   "cell_type": "code",
   "execution_count": 47,
   "metadata": {},
   "outputs": [
    {
     "name": "stdout",
     "output_type": "stream",
     "text": [
      "INFO:tensorflow:Calling model_fn.\n",
      "INFO:tensorflow:Done calling model_fn.\n",
      "INFO:tensorflow:Graph was finalized.\n",
      "INFO:tensorflow:Restoring parameters from credit_trained_LR0001_10/model.ckpt-2000\n",
      "INFO:tensorflow:Running local_init_op.\n",
      "INFO:tensorflow:Done running local_init_op.\n",
      "[[44077  1409]\n",
      " [   16    67]]\n"
     ]
    },
    {
     "data": {
      "image/png": "[encoded data removed]",
      "text/plain": [
       "<Figure size 432x288 with 2 Axes>"
      ]
     },
     "metadata": {
      "needs_background": "light"
     },
     "output_type": "display_data"
    }
   ],
   "source": [
    "import numpy as np\n",
    "import seaborn as sns\n",
    "import matplotlib.pyplot as plt\n",
    "\n",
    "def get_predictions(estimator, input_fn):\n",
    "    return [x[\"class_ids\"][0] for x in model.predict(input_fn=input_fn)]\n",
    "\n",
    "LABELS = [\"0\", \"1\"]\n",
    "\n",
    "df_eval = pd.read_csv('./input/valid.csv')\n",
    "\n",
    "# Create a confusion matrix on training data.\n",
    "with tf.Graph().as_default():\n",
    "    cm = tf.confusion_matrix(pd.read_csv('./input/valid.csv')[\"Class\"],get_predictions(model,  lambda: eval_input_fn('./input/valid.csv')))\n",
    "    with tf.Session() as session:\n",
    "        cm_out = session.run(cm)\n",
    "        print(cm_out)\n",
    "\n",
    "# Normalize the confusion matrix so that each row sums to 1.\n",
    "cm_out = cm_out.astype(float) \n",
    "# / cm_out.sum(axis=1)[:, np.newaxis]\n",
    "\n",
    "sns.heatmap(cm_out, annot=True, xticklabels=LABELS, yticklabels=LABELS);\n",
    "plt.xlabel(\"Predicted\");\n",
    "plt.ylabel(\"True\");"
   ]
  },
  {
   "cell_type": "markdown",
   "metadata": {},
   "source": [
    "# hidden_units = [1]"
   ]
  },
  {
   "cell_type": "code",
   "execution_count": 15,
   "metadata": {},
   "outputs": [
    {
     "name": "stdout",
     "output_type": "stream",
     "text": [
      "INFO:tensorflow:Using config: {'_is_chief': True, '_protocol': None, '_save_checkpoints_secs': None, '_evaluation_master': '', '_service': None, '_keep_checkpoint_max': 20, '_save_summary_steps': 10, '_task_id': 0, '_global_id_in_cluster': 0, '_task_type': 'worker', '_eval_distribute': None, '_num_worker_replicas': 1, '_model_dir': 'credit_trained_LR0001_1', '_master': '', '_device_fn': None, '_session_config': allow_soft_placement: true\n",
      "graph_options {\n",
      "  rewrite_options {\n",
      "    meta_optimizer_iterations: ONE\n",
      "  }\n",
      "}\n",
      ", '_experimental_distribute': None, '_cluster_spec': <tensorflow.python.training.server_lib.ClusterSpec object at 0x7f5a49931908>, '_train_distribute': None, '_experimental_max_worker_delay_secs': None, '_num_ps_replicas': 0, '_tf_random_seed': None, '_save_checkpoints_steps': 100, '_keep_checkpoint_every_n_hours': 10000, '_session_creation_timeout_secs': 7200, '_log_step_count_steps': 100}\n"
     ]
    }
   ],
   "source": [
    "OUTDIR = \"credit_trained_LR0001_1\"\n",
    "\n",
    "config = tf.estimator.RunConfig(\n",
    "    model_dir=OUTDIR,\n",
    "    keep_checkpoint_max=20,\n",
    "    save_summary_steps=10,\n",
    "    save_checkpoints_steps=100\n",
    ")\n",
    "model = tf.estimator.DNNClassifier(\n",
    "                                  hidden_units=[1],\n",
    "                                  feature_columns=feature_cols,\n",
    "                                  optimizer = tf.train.AdamOptimizer(learning_rate=0.0001),\n",
    "                                  config = config)"
   ]
  },
  {
   "cell_type": "code",
   "execution_count": 16,
   "metadata": {},
   "outputs": [],
   "source": [
    "!rm -r {OUTDIR}"
   ]
  },
  {
   "cell_type": "code",
   "execution_count": 17,
   "metadata": {},
   "outputs": [
    {
     "name": "stdout",
     "output_type": "stream",
     "text": [
      "INFO:tensorflow:Calling model_fn.\n",
      "INFO:tensorflow:Done calling model_fn.\n",
      "INFO:tensorflow:Create CheckpointSaverHook.\n",
      "INFO:tensorflow:Graph was finalized.\n",
      "INFO:tensorflow:Running local_init_op.\n",
      "INFO:tensorflow:Done running local_init_op.\n",
      "INFO:tensorflow:Saving checkpoints for 0 into credit_trained_LR0001_1/model.ckpt.\n",
      "INFO:tensorflow:loss = 88.722855, step = 1\n",
      "INFO:tensorflow:Saving checkpoints for 100 into credit_trained_LR0001_1/model.ckpt.\n",
      "INFO:tensorflow:global_step/sec: 34.2795\n",
      "INFO:tensorflow:loss = 88.72591, step = 101 (2.919 sec)\n",
      "INFO:tensorflow:Saving checkpoints for 200 into credit_trained_LR0001_1/model.ckpt.\n",
      "INFO:tensorflow:global_step/sec: 39.8364\n",
      "INFO:tensorflow:loss = 88.727646, step = 201 (2.510 sec)\n",
      "INFO:tensorflow:Saving checkpoints for 300 into credit_trained_LR0001_1/model.ckpt.\n",
      "INFO:tensorflow:global_step/sec: 54.4687\n",
      "INFO:tensorflow:loss = 88.72233, step = 301 (1.836 sec)\n",
      "INFO:tensorflow:Saving checkpoints for 400 into credit_trained_LR0001_1/model.ckpt.\n",
      "INFO:tensorflow:global_step/sec: 52.4625\n",
      "INFO:tensorflow:loss = 88.71915, step = 401 (1.906 sec)\n",
      "INFO:tensorflow:Saving checkpoints for 500 into credit_trained_LR0001_1/model.ckpt.\n",
      "INFO:tensorflow:global_step/sec: 45.5019\n",
      "INFO:tensorflow:loss = 88.72127, step = 501 (2.198 sec)\n",
      "INFO:tensorflow:Saving checkpoints for 600 into credit_trained_LR0001_1/model.ckpt.\n",
      "INFO:tensorflow:global_step/sec: 39.4734\n",
      "INFO:tensorflow:loss = 88.72153, step = 601 (2.534 sec)\n",
      "INFO:tensorflow:Saving checkpoints for 700 into credit_trained_LR0001_1/model.ckpt.\n",
      "INFO:tensorflow:global_step/sec: 39.8545\n",
      "INFO:tensorflow:loss = 88.72301, step = 701 (2.508 sec)\n",
      "INFO:tensorflow:Saving checkpoints for 800 into credit_trained_LR0001_1/model.ckpt.\n",
      "INFO:tensorflow:global_step/sec: 49.228\n",
      "INFO:tensorflow:loss = 88.718094, step = 801 (2.032 sec)\n",
      "INFO:tensorflow:Saving checkpoints for 900 into credit_trained_LR0001_1/model.ckpt.\n",
      "INFO:tensorflow:global_step/sec: 37.8952\n",
      "INFO:tensorflow:loss = 88.72179, step = 901 (2.639 sec)\n",
      "INFO:tensorflow:Saving checkpoints for 1000 into credit_trained_LR0001_1/model.ckpt.\n",
      "INFO:tensorflow:global_step/sec: 39.4381\n",
      "INFO:tensorflow:loss = 88.723465, step = 1001 (2.536 sec)\n",
      "INFO:tensorflow:Saving checkpoints for 1100 into credit_trained_LR0001_1/model.ckpt.\n",
      "INFO:tensorflow:global_step/sec: 39.4341\n",
      "INFO:tensorflow:loss = 88.7231, step = 1101 (2.535 sec)\n",
      "INFO:tensorflow:Saving checkpoints for 1200 into credit_trained_LR0001_1/model.ckpt.\n",
      "INFO:tensorflow:global_step/sec: 38.905\n",
      "INFO:tensorflow:loss = 88.721436, step = 1201 (2.570 sec)\n",
      "INFO:tensorflow:Saving checkpoints for 1300 into credit_trained_LR0001_1/model.ckpt.\n",
      "INFO:tensorflow:global_step/sec: 42.9944\n",
      "INFO:tensorflow:loss = 88.73029, step = 1301 (2.326 sec)\n",
      "INFO:tensorflow:Saving checkpoints for 1400 into credit_trained_LR0001_1/model.ckpt.\n",
      "INFO:tensorflow:global_step/sec: 38.6462\n",
      "INFO:tensorflow:loss = 88.71817, step = 1401 (2.587 sec)\n",
      "INFO:tensorflow:Saving checkpoints for 1500 into credit_trained_LR0001_1/model.ckpt.\n",
      "INFO:tensorflow:global_step/sec: 38.9412\n",
      "INFO:tensorflow:loss = 88.73102, step = 1501 (2.569 sec)\n",
      "INFO:tensorflow:Saving checkpoints for 1600 into credit_trained_LR0001_1/model.ckpt.\n",
      "INFO:tensorflow:global_step/sec: 45.4238\n",
      "INFO:tensorflow:loss = 88.717224, step = 1601 (2.200 sec)\n",
      "INFO:tensorflow:Saving checkpoints for 1700 into credit_trained_LR0001_1/model.ckpt.\n",
      "INFO:tensorflow:global_step/sec: 49.4916\n",
      "INFO:tensorflow:loss = 88.71985, step = 1701 (2.021 sec)\n",
      "INFO:tensorflow:Saving checkpoints for 1800 into credit_trained_LR0001_1/model.ckpt.\n",
      "INFO:tensorflow:global_step/sec: 39.1241\n",
      "INFO:tensorflow:loss = 88.71665, step = 1801 (2.555 sec)\n",
      "INFO:tensorflow:Saving checkpoints for 1900 into credit_trained_LR0001_1/model.ckpt.\n",
      "INFO:tensorflow:global_step/sec: 54.2603\n",
      "INFO:tensorflow:loss = 88.72774, step = 1901 (1.843 sec)\n",
      "INFO:tensorflow:Saving checkpoints for 2000 into credit_trained_LR0001_1/model.ckpt.\n",
      "INFO:tensorflow:Loss for final step: 88.71805.\n"
     ]
    },
    {
     "data": {
      "text/plain": [
       "<tensorflow_estimator.python.estimator.canned.dnn.DNNClassifier at 0x7f5a499319e8>"
      ]
     },
     "execution_count": 17,
     "metadata": {},
     "output_type": "execute_result"
    }
   ],
   "source": [
    "model.train(input_fn = lambda : train_input_fn('./input/train_smote.csv'),\n",
    "    max_steps = 2000\n",
    ")"
   ]
  },
  {
   "cell_type": "code",
   "execution_count": 18,
   "metadata": {},
   "outputs": [
    {
     "name": "stdout",
     "output_type": "stream",
     "text": [
      "INFO:tensorflow:Calling model_fn.\n",
      "WARNING:tensorflow:Trapezoidal rule is known to produce incorrect PR-AUCs; please switch to \"careful_interpolation\" instead.\n",
      "WARNING:tensorflow:Trapezoidal rule is known to produce incorrect PR-AUCs; please switch to \"careful_interpolation\" instead.\n",
      "INFO:tensorflow:Done calling model_fn.\n",
      "INFO:tensorflow:Starting evaluation at 2019-12-09T14:28:05Z\n",
      "INFO:tensorflow:Graph was finalized.\n",
      "INFO:tensorflow:Restoring parameters from credit_trained_LR0001_1/model.ckpt-2000\n",
      "INFO:tensorflow:Running local_init_op.\n",
      "INFO:tensorflow:Done running local_init_op.\n",
      "INFO:tensorflow:Finished evaluation at 2019-12-09-14:28:15\n",
      "INFO:tensorflow:Saving dict for global step 2000: accuracy = 0.9981786, accuracy_baseline = 0.9981786, auc = 0.5, auc_precision_recall = 0.5009107, average_loss = 0.69273347, global_step = 2000, label/mean = 0.0018214136, loss = 88.423454, precision = 0.0, prediction/mean = 0.49979085, recall = 0.0\n",
      "INFO:tensorflow:Saving 'checkpoint_path' summary for global step 2000: credit_trained_LR0001_1/model.ckpt-2000\n"
     ]
    },
    {
     "data": {
      "text/plain": [
       "{'accuracy': 0.9981786,\n",
       " 'accuracy_baseline': 0.9981786,\n",
       " 'auc': 0.5,\n",
       " 'auc_precision_recall': 0.5009107,\n",
       " 'average_loss': 0.69273347,\n",
       " 'global_step': 2000,\n",
       " 'label/mean': 0.0018214136,\n",
       " 'loss': 88.423454,\n",
       " 'precision': 0.0,\n",
       " 'prediction/mean': 0.49979085,\n",
       " 'recall': 0.0}"
      ]
     },
     "execution_count": 18,
     "metadata": {},
     "output_type": "execute_result"
    }
   ],
   "source": [
    "model.evaluate(input_fn = lambda: eval_input_fn('./input/valid.csv'))"
   ]
  },
  {
   "cell_type": "code",
   "execution_count": 19,
   "metadata": {},
   "outputs": [
    {
     "name": "stdout",
     "output_type": "stream",
     "text": [
      "INFO:tensorflow:Calling model_fn.\n",
      "INFO:tensorflow:Done calling model_fn.\n",
      "INFO:tensorflow:Graph was finalized.\n",
      "INFO:tensorflow:Restoring parameters from credit_trained_LR0001_1/model.ckpt-2000\n",
      "INFO:tensorflow:Running local_init_op.\n",
      "INFO:tensorflow:Done running local_init_op.\n",
      "[[45486     0]\n",
      " [   83     0]]\n"
     ]
    },
    {
     "data": {
      "image/png": "[encoded data removed]",
      "text/plain": [
       "<Figure size 432x288 with 2 Axes>"
      ]
     },
     "metadata": {
      "needs_background": "light"
     },
     "output_type": "display_data"
    }
   ],
   "source": [
    "import numpy as np\n",
    "import seaborn as sns\n",
    "import matplotlib.pyplot as plt\n",
    "\n",
    "def get_predictions(estimator, input_fn):\n",
    "    return [x[\"class_ids\"][0] for x in model.predict(input_fn=input_fn)]\n",
    "\n",
    "LABELS = [\"0\", \"1\"]\n",
    "\n",
    "df_eval = pd.read_csv('./input/valid.csv')\n",
    "\n",
    "# Create a confusion matrix on training data.\n",
    "with tf.Graph().as_default():\n",
    "    cm = tf.confusion_matrix(pd.read_csv('./input/valid.csv')[\"Class\"],get_predictions(model,  lambda: eval_input_fn('./input/valid.csv')))\n",
    "    with tf.Session() as session:\n",
    "        cm_out = session.run(cm)\n",
    "        print(cm_out)\n",
    "\n",
    "# Normalize the confusion matrix so that each row sums to 1.\n",
    "cm_out = cm_out.astype(float) \n",
    "# / cm_out.sum(axis=1)[:, np.newaxis]\n",
    "\n",
    "sns.heatmap(cm_out, annot=True, xticklabels=LABELS, yticklabels=LABELS);\n",
    "plt.xlabel(\"Predicted\");\n",
    "plt.ylabel(\"True\");"
   ]
  },
  {
   "cell_type": "code",
   "execution_count": null,
   "metadata": {},
   "outputs": [],
   "source": []
  },
  {
   "cell_type": "code",
   "execution_count": null,
   "metadata": {},
   "outputs": [],
   "source": []
  },
  {
   "cell_type": "markdown",
   "metadata": {},
   "source": [
    "# Train SMOTE Class별 Label확인"
   ]
  },
  {
   "cell_type": "code",
   "execution_count": null,
   "metadata": {},
   "outputs": [],
   "source": [
    "df_train_smote = pd.read_csv('./input/train_smote.csv')"
   ]
  },
  {
   "cell_type": "code",
   "execution_count": null,
   "metadata": {},
   "outputs": [],
   "source": [
    "df_train_smote.Class.value_counts()"
   ]
  },
  {
   "cell_type": "code",
   "execution_count": null,
   "metadata": {},
   "outputs": [],
   "source": []
  },
  {
   "cell_type": "code",
   "execution_count": null,
   "metadata": {},
   "outputs": [],
   "source": []
  },
  {
   "cell_type": "code",
   "execution_count": null,
   "metadata": {},
   "outputs": [],
   "source": []
  },
  {
   "cell_type": "code",
   "execution_count": null,
   "metadata": {},
   "outputs": [],
   "source": []
  },
  {
   "cell_type": "code",
   "execution_count": null,
   "metadata": {},
   "outputs": [],
   "source": []
  },
  {
   "cell_type": "code",
   "execution_count": null,
   "metadata": {},
   "outputs": [],
   "source": []
  },
  {
   "cell_type": "code",
   "execution_count": null,
   "metadata": {},
   "outputs": [],
   "source": []
  },
  {
   "cell_type": "code",
   "execution_count": null,
   "metadata": {},
   "outputs": [],
   "source": [
    "data = pd.read_csv('./input/creditcard.csv')"
   ]
  },
  {
   "cell_type": "code",
   "execution_count": null,
   "metadata": {},
   "outputs": [],
   "source": [
    "df_train, df_valid = train_test_split(df_train, test_size=0.2, random_state=27)\n",
    "print('df_train :', df_train.shape)\n",
    "print('df_valid :', df_valid.shape)\n",
    "print('df_test :', df_test.shape)"
   ]
  },
  {
   "cell_type": "code",
   "execution_count": null,
   "metadata": {},
   "outputs": [],
   "source": []
  },
  {
   "cell_type": "code",
   "execution_count": null,
   "metadata": {},
   "outputs": [],
   "source": []
  },
  {
   "cell_type": "code",
   "execution_count": null,
   "metadata": {},
   "outputs": [],
   "source": [
    "# pandas_input_fn\n",
    "def pd_input_fn(df,batch_size=128,num_epochs=5,shuffle=True):\n",
    "    return tf.estimator.inputs.pandas_input_fn(\n",
    "      x=df[FEATURE_NAMES],\n",
    "      y=df[LABEL_NAME],\n",
    "      batch_size = batch_size,\n",
    "      num_epochs = num_epochs,\n",
    "      shuffle = shuffle,\n",
    "      queue_capacity = 1000,\n",
    "      num_threads = 1\n",
    "  )"
   ]
  },
  {
   "cell_type": "code",
   "execution_count": null,
   "metadata": {},
   "outputs": [],
   "source": [
    "OUTDIR = \"credit-prac\"\n",
    "\n",
    "config = tf.estimator.RunConfig(\n",
    "    model_dir = OUTDIR,\n",
    "    tf_random_seed = 1,\n",
    "    save_checkpoints_steps = 100\n",
    ")\n",
    "\n",
    "model = tf.estimator.DNNClassifier(\n",
    "  hidden_units = [10,10], \n",
    "  feature_columns = feature_cols, \n",
    "  config = config\n",
    ")"
   ]
  },
  {
   "cell_type": "code",
   "execution_count": null,
   "metadata": {},
   "outputs": [],
   "source": [
    "%%time\n",
    "tf.logging.set_verbosity(tf.logging.INFO) \n",
    "shutil.rmtree(path = OUTDIR, ignore_errors = True)\n",
    "\n",
    "model.train(input_fn = pd_input_fn(df=df_train,num_epochs=5), steps = 500)"
   ]
  },
  {
   "cell_type": "code",
   "execution_count": null,
   "metadata": {},
   "outputs": [],
   "source": []
  },
  {
   "cell_type": "code",
   "execution_count": null,
   "metadata": {},
   "outputs": [],
   "source": []
  },
  {
   "cell_type": "code",
   "execution_count": null,
   "metadata": {},
   "outputs": [],
   "source": [
    "import numpy as np\n",
    "import seaborn as sns\n",
    "import matplotlib.pyplot as plt\n",
    "\n",
    "def get_predictions(estimator, input_fn):\n",
    "    return [x[\"class_ids\"][0] for x in model.predict(input_fn=input_fn)]\n",
    "\n",
    "LABELS = [\n",
    "    \"0\", \"1\"\n",
    "]\n",
    "\n",
    "# Create a confusion matrix on training data.\n",
    "with tf.Graph().as_default():\n",
    "    cm = tf.confusion_matrix(df_eval[\"Class\"],get_predictions(model,  lambda: eval_input_fn('./input/creditcard_eval.csv')))\n",
    "    with tf.Session() as session:\n",
    "        cm_out = session.run(cm)\n",
    "        print(cm_out)\n",
    "\n",
    "# Normalize the confusion matrix so that each row sums to 1.\n",
    "cm_out = cm_out.astype(float) \n",
    "# / cm_out.sum(axis=1)[:, np.newaxis]\n",
    "\n",
    "sns.heatmap(cm_out, annot=True, xticklabels=LABELS, yticklabels=LABELS);\n",
    "plt.xlabel(\"Predicted\");\n",
    "plt.ylabel(\"True\");"
   ]
  },
  {
   "cell_type": "code",
   "execution_count": null,
   "metadata": {},
   "outputs": [],
   "source": []
  },
  {
   "cell_type": "code",
   "execution_count": null,
   "metadata": {},
   "outputs": [],
   "source": []
  }
 ],
 "metadata": {
  "kernelspec": {
   "display_name": "Python 3",
   "language": "python",
   "name": "python3"
  },
  "language_info": {
   "codemirror_mode": {
    "name": "ipython",
    "version": 3
   },
   "file_extension": ".py",
   "mimetype": "text/x-python",
   "name": "python",
   "nbconvert_exporter": "python",
   "pygments_lexer": "ipython3",
   "version": "3.5.3"
  }
 },
 "nbformat": 4,
 "nbformat_minor": 4
}
