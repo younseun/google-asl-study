{
 "cells": [
  {
   "cell_type": "code",
   "execution_count": 18,
   "metadata": {},
   "outputs": [
    {
     "name": "stdout",
     "output_type": "stream",
     "text": [
      "1.15.0\n"
     ]
    }
   ],
   "source": [
    "import tensorflow as tf\n",
    "import numpy as np\n",
    "import pandas as pd\n",
    "import shutil\n",
    "print(tf.__version__)"
   ]
  },
  {
   "cell_type": "code",
   "execution_count": 19,
   "metadata": {},
   "outputs": [],
   "source": [
    "tf.enable_eager_execution() "
   ]
  },
  {
   "cell_type": "code",
   "execution_count": 20,
   "metadata": {},
   "outputs": [
    {
     "name": "stdout",
     "output_type": "stream",
     "text": [
      "CSV_COLUMN_NAMES:['time', 'V1', 'V2', 'V3', 'V4', 'V5', 'V6', 'V7', 'V8', 'V9', 'V10', 'V11', 'V12', 'V13', 'V14', 'V15', 'V16', 'V17', 'V18', 'V19', 'V20', 'V21', 'V22', 'V23', 'V24', 'V25', 'V26', 'V27', 'V28', 'Amount', 'Class']\n",
      "CSV_DEFAULTS:[[0.0], [0.0], [0.0], [0.0], [0.0], [0.0], [0.0], [0.0], [0.0], [0.0], [0.0], [0.0], [0.0], [0.0], [0.0], [0.0], [0.0], [0.0], [0.0], [0.0], [0.0], [0.0], [0.0], [0.0], [0.0], [0.0], [0.0], [0.0], [0.0], [0.0], [0]]\n"
     ]
    }
   ],
   "source": [
    "CSV_COLUMN_NAMES = [\"time\"]+['V'+(i+1).astype(np.str) for i in np.array(range(28))]+['Amount','Class']\n",
    "CSV_DEFAULTS = [[0.0] for i in np.array(range(30))]+[[0]]\n",
    "print('CSV_COLUMN_NAMES:{}\\nCSV_DEFAULTS:{}'.format(CSV_COLUMN_NAMES,CSV_DEFAULTS))"
   ]
  },
  {
   "cell_type": "code",
   "execution_count": 21,
   "metadata": {},
   "outputs": [],
   "source": [
    "FEATURE_NAMES = CSV_COLUMN_NAMES[:-1] # all but first column\n",
    "\n",
    "feature_cols = [tf.feature_column.numeric_column(key = k) for k in FEATURE_NAMES]\n",
    "#for i in feature_cols:\n",
    "#    print(i)  "
   ]
  },
  {
   "cell_type": "code",
   "execution_count": 22,
   "metadata": {},
   "outputs": [],
   "source": [
    "def parse_row(row):\n",
    "    fields = tf.decode_csv(records = row, record_defaults = CSV_DEFAULTS)\n",
    "    features = dict(zip(CSV_COLUMN_NAMES, fields))\n",
    "    label = features.pop(\"Class\")\n",
    "    return features, label\n",
    "\n",
    "def read_dataset(csv_path):\n",
    "    dataset = tf.data.TextLineDataset(filenames = csv_path).skip(count = 1) # skip header\n",
    "    dataset = dataset.map(map_func = parse_row)\n",
    "    return dataset\n",
    "\n",
    "def train_input_fn(csv_path, batch_size = 128):\n",
    "    dataset = read_dataset(csv_path)\n",
    "    dataset = dataset.shuffle(buffer_size = 1000).repeat(count = None).batch(batch_size = batch_size)\n",
    "    return dataset\n",
    "\n",
    "def eval_input_fn(csv_path, batch_size = 128):\n",
    "    dataset = read_dataset(csv_path)\n",
    "    dataset = dataset.batch(batch_size = batch_size)\n",
    "    return dataset"
   ]
  },
  {
   "cell_type": "markdown",
   "metadata": {},
   "source": [
    "# hidden_units=[10,10]"
   ]
  },
  {
   "cell_type": "code",
   "execution_count": 54,
   "metadata": {},
   "outputs": [
    {
     "name": "stdout",
     "output_type": "stream",
     "text": [
      "INFO:tensorflow:Using config: {'_service': None, '_is_chief': True, '_master': '', '_train_distribute': None, '_experimental_distribute': None, '_tf_random_seed': None, '_num_worker_replicas': 1, '_experimental_max_worker_delay_secs': None, '_task_id': 0, '_session_creation_timeout_secs': 7200, '_log_step_count_steps': 100, '_keep_checkpoint_max': 5, '_save_checkpoints_secs': None, '_evaluation_master': '', '_num_ps_replicas': 0, '_task_type': 'worker', '_session_config': allow_soft_placement: true\n",
      "graph_options {\n",
      "  rewrite_options {\n",
      "    meta_optimizer_iterations: ONE\n",
      "  }\n",
      "}\n",
      ", '_protocol': None, '_global_id_in_cluster': 0, '_save_checkpoints_steps': 2000, '_save_summary_steps': 100, '_device_fn': None, '_cluster_spec': <tensorflow.python.training.server_lib.ClusterSpec object at 0x7f5988bf9908>, '_keep_checkpoint_every_n_hours': 10000, '_model_dir': 'credit_trained', '_eval_distribute': None}\n"
     ]
    }
   ],
   "source": [
    "OUTDIR = \"credit_trained\"\n",
    "\n",
    "config = tf.estimator.RunConfig(\n",
    "    model_dir=OUTDIR,\n",
    "    save_summary_steps=100,\n",
    "    save_checkpoints_steps=2000\n",
    ")\n",
    "model = tf.estimator.DNNClassifier(\n",
    "                                  hidden_units=[10, 10],\n",
    "                                  feature_columns=feature_cols,\n",
    "                                  optimizer = tf.train.AdamOptimizer(learning_rate=0.001),\n",
    "                                  config = config)"
   ]
  },
  {
   "cell_type": "code",
   "execution_count": 55,
   "metadata": {},
   "outputs": [],
   "source": [
    "    # 실제 데이터 확인\n",
    "    #train_data_check = read_dataset_show(filename = './input/creditcard_eval.csv',\n",
    "    #                            mode = tf.estimator.ModeKeys.TRAIN,\n",
    "    #                            batch_size = hparams['train_batch_size'])\n",
    "    #print(train_data_check[0][\"time\"])\n",
    "    #print(train_data_check[1])\n",
    "    "
   ]
  },
  {
   "cell_type": "code",
   "execution_count": 56,
   "metadata": {},
   "outputs": [],
   "source": [
    "#train_input_fn('./input/creditcard_train.csv').make_one_shot_iterator().get_next()"
   ]
  },
  {
   "cell_type": "code",
   "execution_count": 57,
   "metadata": {},
   "outputs": [],
   "source": [
    "!rm -r credit_trained"
   ]
  },
  {
   "cell_type": "code",
   "execution_count": 38,
   "metadata": {
    "collapsed": true,
    "jupyter": {
     "outputs_hidden": true
    }
   },
   "outputs": [
    {
     "name": "stdout",
     "output_type": "stream",
     "text": [
      "INFO:tensorflow:Calling model_fn.\n",
      "INFO:tensorflow:Done calling model_fn.\n",
      "INFO:tensorflow:Create CheckpointSaverHook.\n",
      "INFO:tensorflow:Graph was finalized.\n",
      "INFO:tensorflow:Running local_init_op.\n",
      "INFO:tensorflow:Done running local_init_op.\n",
      "INFO:tensorflow:Saving checkpoints for 0 into credit_trained/model.ckpt.\n",
      "INFO:tensorflow:loss = 0.0, step = 1\n",
      "INFO:tensorflow:global_step/sec: 36.0489\n",
      "INFO:tensorflow:loss = 1.0966278e-14, step = 101 (2.782 sec)\n",
      "INFO:tensorflow:global_step/sec: 43.2417\n",
      "INFO:tensorflow:loss = 2.8405292e-24, step = 201 (2.307 sec)\n",
      "INFO:tensorflow:global_step/sec: 42.0154\n",
      "INFO:tensorflow:loss = 5.537163e-25, step = 301 (2.380 sec)\n",
      "INFO:tensorflow:global_step/sec: 46.064\n",
      "INFO:tensorflow:loss = 5.256786e-12, step = 401 (2.171 sec)\n",
      "INFO:tensorflow:global_step/sec: 46.488\n",
      "INFO:tensorflow:loss = 0.0, step = 501 (2.151 sec)\n",
      "INFO:tensorflow:global_step/sec: 44.6632\n",
      "INFO:tensorflow:loss = 255.49474, step = 601 (2.242 sec)\n",
      "INFO:tensorflow:global_step/sec: 46.0136\n",
      "INFO:tensorflow:loss = 1.6413211e-10, step = 701 (2.170 sec)\n",
      "INFO:tensorflow:global_step/sec: 43.6653\n",
      "INFO:tensorflow:loss = 4.0538666e-09, step = 801 (2.290 sec)\n",
      "INFO:tensorflow:global_step/sec: 42.882\n",
      "INFO:tensorflow:loss = 0.058999564, step = 901 (2.337 sec)\n",
      "INFO:tensorflow:global_step/sec: 47.8467\n",
      "INFO:tensorflow:loss = 1.5068778e-19, step = 1001 (2.090 sec)\n",
      "INFO:tensorflow:global_step/sec: 47.8303\n",
      "INFO:tensorflow:loss = 2590.458, step = 1101 (2.091 sec)\n",
      "INFO:tensorflow:global_step/sec: 46.8161\n",
      "INFO:tensorflow:loss = 1641.7499, step = 1201 (2.131 sec)\n",
      "INFO:tensorflow:global_step/sec: 40.4012\n",
      "INFO:tensorflow:loss = 2983.2532, step = 1301 (2.478 sec)\n",
      "INFO:tensorflow:global_step/sec: 43.2496\n",
      "INFO:tensorflow:loss = 170.90077, step = 1401 (2.309 sec)\n",
      "INFO:tensorflow:global_step/sec: 43.6039\n",
      "INFO:tensorflow:loss = 2.4554174e-05, step = 1501 (2.293 sec)\n",
      "INFO:tensorflow:global_step/sec: 45.4449\n",
      "INFO:tensorflow:loss = 3.7001355e-05, step = 1601 (2.200 sec)\n",
      "INFO:tensorflow:global_step/sec: 45.3351\n",
      "INFO:tensorflow:loss = 1.3336813e-07, step = 1701 (2.205 sec)\n",
      "INFO:tensorflow:global_step/sec: 41.6303\n",
      "INFO:tensorflow:loss = 788.96655, step = 1801 (2.405 sec)\n",
      "INFO:tensorflow:global_step/sec: 44.2765\n",
      "INFO:tensorflow:loss = 470.05737, step = 1901 (2.256 sec)\n",
      "INFO:tensorflow:Saving checkpoints for 2000 into credit_trained/model.ckpt.\n",
      "INFO:tensorflow:global_step/sec: 39.5555\n",
      "INFO:tensorflow:loss = 0.00094484154, step = 2001 (2.528 sec)\n",
      "INFO:tensorflow:global_step/sec: 42.2923\n",
      "INFO:tensorflow:loss = 6.42434e-19, step = 2101 (2.369 sec)\n",
      "INFO:tensorflow:global_step/sec: 45.4403\n",
      "INFO:tensorflow:loss = 0.1321269, step = 2201 (2.202 sec)\n",
      "INFO:tensorflow:global_step/sec: 44.7629\n",
      "INFO:tensorflow:loss = 0.48310608, step = 2301 (2.231 sec)\n",
      "INFO:tensorflow:global_step/sec: 43.0948\n",
      "INFO:tensorflow:loss = 0.37574494, step = 2401 (2.318 sec)\n",
      "INFO:tensorflow:global_step/sec: 45.7505\n",
      "INFO:tensorflow:loss = 0.81507516, step = 2501 (2.189 sec)\n",
      "INFO:tensorflow:global_step/sec: 38.2555\n",
      "INFO:tensorflow:loss = 0.0030237692, step = 2601 (2.614 sec)\n",
      "INFO:tensorflow:global_step/sec: 40.6845\n",
      "INFO:tensorflow:loss = 0.7179304, step = 2701 (2.458 sec)\n",
      "INFO:tensorflow:global_step/sec: 41.5396\n",
      "INFO:tensorflow:loss = 0.0690764, step = 2801 (2.404 sec)\n",
      "INFO:tensorflow:global_step/sec: 42.5261\n",
      "INFO:tensorflow:loss = 0.06875588, step = 2901 (2.351 sec)\n",
      "INFO:tensorflow:global_step/sec: 37.7912\n",
      "INFO:tensorflow:loss = 0.0010962788, step = 3001 (2.649 sec)\n",
      "INFO:tensorflow:global_step/sec: 40.2401\n",
      "INFO:tensorflow:loss = 0.02792744, step = 3101 (2.482 sec)\n",
      "INFO:tensorflow:global_step/sec: 38.7287\n",
      "INFO:tensorflow:loss = 0.23562413, step = 3201 (2.586 sec)\n",
      "INFO:tensorflow:global_step/sec: 44.8791\n",
      "INFO:tensorflow:loss = 0.24911803, step = 3301 (2.229 sec)\n",
      "INFO:tensorflow:global_step/sec: 44.5346\n",
      "INFO:tensorflow:loss = 6.699689e-07, step = 3401 (2.241 sec)\n",
      "INFO:tensorflow:global_step/sec: 44.6958\n",
      "INFO:tensorflow:loss = 0.18260497, step = 3501 (2.237 sec)\n",
      "INFO:tensorflow:global_step/sec: 43.6964\n",
      "INFO:tensorflow:loss = 0.24444737, step = 3601 (2.289 sec)\n",
      "INFO:tensorflow:global_step/sec: 44.3521\n",
      "INFO:tensorflow:loss = 0.001540666, step = 3701 (2.260 sec)\n",
      "INFO:tensorflow:global_step/sec: 40.6157\n",
      "INFO:tensorflow:loss = 2.2574318e-23, step = 3801 (2.462 sec)\n",
      "INFO:tensorflow:global_step/sec: 41.4853\n",
      "INFO:tensorflow:loss = 1.0272716e-13, step = 3901 (2.410 sec)\n",
      "INFO:tensorflow:Saving checkpoints for 4000 into credit_trained/model.ckpt.\n",
      "INFO:tensorflow:global_step/sec: 41.3131\n",
      "INFO:tensorflow:loss = 4.7065373e-18, step = 4001 (2.418 sec)\n",
      "INFO:tensorflow:global_step/sec: 38.3186\n",
      "INFO:tensorflow:loss = 0.79768336, step = 4101 (2.611 sec)\n",
      "INFO:tensorflow:global_step/sec: 41.1263\n",
      "INFO:tensorflow:loss = 1.767461, step = 4201 (2.429 sec)\n",
      "INFO:tensorflow:global_step/sec: 43.0261\n",
      "INFO:tensorflow:loss = 0.0005022401, step = 4301 (2.328 sec)\n",
      "INFO:tensorflow:global_step/sec: 41.3276\n",
      "INFO:tensorflow:loss = 0.0388787, step = 4401 (2.416 sec)\n",
      "INFO:tensorflow:global_step/sec: 44.476\n",
      "INFO:tensorflow:loss = 0.103107296, step = 4501 (2.248 sec)\n",
      "INFO:tensorflow:global_step/sec: 45.5163\n",
      "INFO:tensorflow:loss = 3.7299338e-20, step = 4601 (2.201 sec)\n",
      "INFO:tensorflow:global_step/sec: 45.0627\n",
      "INFO:tensorflow:loss = 2.3098811e-23, step = 4701 (2.218 sec)\n",
      "INFO:tensorflow:global_step/sec: 42.0202\n",
      "INFO:tensorflow:loss = 0.037457377, step = 4801 (2.382 sec)\n",
      "INFO:tensorflow:global_step/sec: 40.2\n",
      "INFO:tensorflow:loss = 18.59228, step = 4901 (2.486 sec)\n",
      "INFO:tensorflow:Saving checkpoints for 5000 into credit_trained/model.ckpt.\n",
      "INFO:tensorflow:Loss for final step: 1.3780996.\n"
     ]
    },
    {
     "data": {
      "text/plain": [
       "<tensorflow_estimator.python.estimator.canned.dnn.DNNClassifier at 0x7f5988c01390>"
      ]
     },
     "execution_count": 38,
     "metadata": {},
     "output_type": "execute_result"
    }
   ],
   "source": [
    "model.train(input_fn = lambda : train_input_fn('./input/creditcard_train.csv'),\n",
    "    max_steps = 5000\n",
    ")"
   ]
  },
  {
   "cell_type": "code",
   "execution_count": 40,
   "metadata": {},
   "outputs": [
    {
     "name": "stdout",
     "output_type": "stream",
     "text": [
      "INFO:tensorflow:Calling model_fn.\n",
      "WARNING:tensorflow:From /usr/local/lib/python3.5/dist-packages/tensorflow_core/python/ops/metrics_impl.py:2026: div (from tensorflow.python.ops.math_ops) is deprecated and will be removed in a future version.\n",
      "Instructions for updating:\n",
      "Deprecated in favor of operator or tf.math.divide.\n",
      "WARNING:tensorflow:Trapezoidal rule is known to produce incorrect PR-AUCs; please switch to \"careful_interpolation\" instead.\n",
      "WARNING:tensorflow:Trapezoidal rule is known to produce incorrect PR-AUCs; please switch to \"careful_interpolation\" instead.\n",
      "INFO:tensorflow:Done calling model_fn.\n",
      "INFO:tensorflow:Starting evaluation at 2019-12-09T06:49:43Z\n",
      "INFO:tensorflow:Graph was finalized.\n",
      "INFO:tensorflow:Restoring parameters from credit_trained/model.ckpt-5000\n",
      "INFO:tensorflow:Running local_init_op.\n",
      "INFO:tensorflow:Done running local_init_op.\n",
      "INFO:tensorflow:Finished evaluation at 2019-12-09-06:49:57\n",
      "INFO:tensorflow:Saving dict for global step 5000: accuracy = 0.9986096, accuracy_baseline = 0.9981461, auc = 0.74705094, auc_precision_recall = 0.40886262, average_loss = 0.021808967, global_step = 5000, label/mean = 0.0018538805, loss = 2.7878673, precision = 0.71428573, prediction/mean = 0.005817739, recall = 0.41666666\n",
      "INFO:tensorflow:Saving 'checkpoint_path' summary for global step 5000: credit_trained/model.ckpt-5000\n"
     ]
    },
    {
     "data": {
      "text/plain": [
       "{'accuracy': 0.9986096,\n",
       " 'accuracy_baseline': 0.9981461,\n",
       " 'auc': 0.74705094,\n",
       " 'auc_precision_recall': 0.40886262,\n",
       " 'average_loss': 0.021808967,\n",
       " 'global_step': 5000,\n",
       " 'label/mean': 0.0018538805,\n",
       " 'loss': 2.7878673,\n",
       " 'precision': 0.71428573,\n",
       " 'prediction/mean': 0.005817739,\n",
       " 'recall': 0.41666666}"
      ]
     },
     "execution_count": 40,
     "metadata": {},
     "output_type": "execute_result"
    }
   ],
   "source": [
    "model.evaluate(input_fn = lambda: eval_input_fn('./input/creditcard_eval.csv'))"
   ]
  },
  {
   "cell_type": "markdown",
   "metadata": {},
   "source": [
    "# hidden_units = [10]"
   ]
  },
  {
   "cell_type": "code",
   "execution_count": null,
   "metadata": {},
   "outputs": [],
   "source": [
    "OUTDIR = \"credit_trained\"\n",
    "\n",
    "config = tf.estimator.RunConfig(\n",
    "    model_dir=OUTDIR,\n",
    "    save_summary_steps=100,\n",
    "    save_checkpoints_steps=2000\n",
    ")\n",
    "model = tf.estimator.DNNClassifier(\n",
    "                                  hidden_units=[10],\n",
    "                                  feature_columns=feature_cols,\n",
    "                                  optimizer = tf.train.AdamOptimizer(learning_rate=0.001),\n",
    "                                  config = config)"
   ]
  },
  {
   "cell_type": "code",
   "execution_count": 58,
   "metadata": {
    "collapsed": true,
    "jupyter": {
     "outputs_hidden": true
    }
   },
   "outputs": [
    {
     "name": "stdout",
     "output_type": "stream",
     "text": [
      "INFO:tensorflow:Calling model_fn.\n",
      "INFO:tensorflow:Done calling model_fn.\n",
      "INFO:tensorflow:Create CheckpointSaverHook.\n",
      "INFO:tensorflow:Graph was finalized.\n",
      "INFO:tensorflow:Running local_init_op.\n",
      "INFO:tensorflow:Done running local_init_op.\n",
      "INFO:tensorflow:Saving checkpoints for 0 into credit_trained/model.ckpt.\n",
      "INFO:tensorflow:loss = 0.0, step = 1\n",
      "INFO:tensorflow:global_step/sec: 32.5348\n",
      "INFO:tensorflow:loss = 1.3985839e-12, step = 101 (3.076 sec)\n",
      "INFO:tensorflow:global_step/sec: 38.2726\n",
      "INFO:tensorflow:loss = 0.4805942, step = 201 (2.613 sec)\n",
      "INFO:tensorflow:global_step/sec: 38.1385\n",
      "INFO:tensorflow:loss = 35.59893, step = 301 (2.622 sec)\n",
      "INFO:tensorflow:global_step/sec: 37.7554\n",
      "INFO:tensorflow:loss = 3.1507484e-38, step = 401 (2.648 sec)\n",
      "INFO:tensorflow:global_step/sec: 37.752\n",
      "INFO:tensorflow:loss = 3227.058, step = 501 (2.652 sec)\n",
      "INFO:tensorflow:global_step/sec: 37.438\n",
      "INFO:tensorflow:loss = 6397.64, step = 601 (2.668 sec)\n",
      "INFO:tensorflow:global_step/sec: 36.6657\n",
      "INFO:tensorflow:loss = 0.0087789055, step = 701 (2.727 sec)\n",
      "INFO:tensorflow:global_step/sec: 37.7918\n",
      "INFO:tensorflow:loss = 4.221084e-05, step = 801 (2.646 sec)\n",
      "INFO:tensorflow:global_step/sec: 37.6792\n",
      "INFO:tensorflow:loss = 1.1456434, step = 901 (2.654 sec)\n",
      "INFO:tensorflow:global_step/sec: 39.1551\n",
      "INFO:tensorflow:loss = 1.0795255e-10, step = 1001 (2.554 sec)\n",
      "INFO:tensorflow:global_step/sec: 37.5286\n",
      "INFO:tensorflow:loss = 1.3028629, step = 1101 (2.665 sec)\n",
      "INFO:tensorflow:global_step/sec: 38.2806\n",
      "INFO:tensorflow:loss = 2.1428023e-17, step = 1201 (2.612 sec)\n",
      "INFO:tensorflow:global_step/sec: 37.7129\n",
      "INFO:tensorflow:loss = 7.3456335e-38, step = 1301 (2.652 sec)\n",
      "INFO:tensorflow:global_step/sec: 37.7927\n",
      "INFO:tensorflow:loss = 1407.7665, step = 1401 (2.645 sec)\n",
      "INFO:tensorflow:global_step/sec: 37.8211\n",
      "INFO:tensorflow:loss = 3.0935254e-21, step = 1501 (2.644 sec)\n",
      "INFO:tensorflow:global_step/sec: 37.2174\n",
      "INFO:tensorflow:loss = 0.44012174, step = 1601 (2.691 sec)\n",
      "INFO:tensorflow:global_step/sec: 37.6579\n",
      "INFO:tensorflow:loss = 6.0852305e-09, step = 1701 (2.651 sec)\n",
      "INFO:tensorflow:global_step/sec: 37.9982\n",
      "INFO:tensorflow:loss = 0.0, step = 1801 (2.632 sec)\n",
      "INFO:tensorflow:global_step/sec: 42.1605\n",
      "INFO:tensorflow:loss = 0.0, step = 1901 (2.372 sec)\n",
      "INFO:tensorflow:Saving checkpoints for 2000 into credit_trained/model.ckpt.\n",
      "INFO:tensorflow:global_step/sec: 35.4612\n",
      "INFO:tensorflow:loss = 4.49278e-23, step = 2001 (2.819 sec)\n",
      "INFO:tensorflow:global_step/sec: 37.0112\n",
      "INFO:tensorflow:loss = 2.5662165e-22, step = 2101 (2.707 sec)\n",
      "INFO:tensorflow:global_step/sec: 37.4829\n",
      "INFO:tensorflow:loss = 8.576298e-37, step = 2201 (2.664 sec)\n",
      "INFO:tensorflow:global_step/sec: 37.8156\n",
      "INFO:tensorflow:loss = 516.51385, step = 2301 (2.644 sec)\n",
      "INFO:tensorflow:global_step/sec: 38.3489\n",
      "INFO:tensorflow:loss = 1.6551703e-10, step = 2401 (2.608 sec)\n",
      "INFO:tensorflow:global_step/sec: 37.7084\n",
      "INFO:tensorflow:loss = 37.444305, step = 2501 (2.651 sec)\n",
      "INFO:tensorflow:global_step/sec: 38.8995\n",
      "INFO:tensorflow:loss = 1.9113717e-08, step = 2601 (2.570 sec)\n",
      "INFO:tensorflow:global_step/sec: 48.1495\n",
      "INFO:tensorflow:loss = 360.38464, step = 2701 (2.078 sec)\n",
      "INFO:tensorflow:global_step/sec: 39.0559\n",
      "INFO:tensorflow:loss = 2.2949185, step = 2801 (2.560 sec)\n",
      "INFO:tensorflow:global_step/sec: 37.0137\n",
      "INFO:tensorflow:loss = 0.0047783544, step = 2901 (2.702 sec)\n",
      "INFO:tensorflow:global_step/sec: 37.0595\n",
      "INFO:tensorflow:loss = 2.9073572e-17, step = 3001 (2.699 sec)\n",
      "INFO:tensorflow:global_step/sec: 38.4688\n",
      "INFO:tensorflow:loss = 0.0, step = 3101 (2.599 sec)\n",
      "INFO:tensorflow:global_step/sec: 37.4034\n",
      "INFO:tensorflow:loss = 0.0, step = 3201 (2.673 sec)\n",
      "INFO:tensorflow:global_step/sec: 37.245\n",
      "INFO:tensorflow:loss = 0.23465624, step = 3301 (2.685 sec)\n",
      "INFO:tensorflow:global_step/sec: 37.8137\n",
      "INFO:tensorflow:loss = 2.0588665, step = 3401 (2.648 sec)\n",
      "INFO:tensorflow:global_step/sec: 36.9774\n",
      "INFO:tensorflow:loss = 0.5956583, step = 3501 (2.702 sec)\n",
      "INFO:tensorflow:global_step/sec: 38.8868\n",
      "INFO:tensorflow:loss = 55.351818, step = 3601 (2.571 sec)\n",
      "INFO:tensorflow:global_step/sec: 37.1071\n",
      "INFO:tensorflow:loss = 0.0031067163, step = 3701 (2.695 sec)\n",
      "INFO:tensorflow:global_step/sec: 37.8731\n",
      "INFO:tensorflow:loss = 0.26417923, step = 3801 (2.641 sec)\n",
      "INFO:tensorflow:global_step/sec: 37.2981\n",
      "INFO:tensorflow:loss = 1.219043e-09, step = 3901 (2.681 sec)\n",
      "INFO:tensorflow:Saving checkpoints for 4000 into credit_trained/model.ckpt.\n",
      "INFO:tensorflow:global_step/sec: 35.2714\n",
      "INFO:tensorflow:loss = 9.280466e-07, step = 4001 (2.835 sec)\n",
      "INFO:tensorflow:global_step/sec: 37.4042\n",
      "INFO:tensorflow:loss = 0.0, step = 4101 (2.674 sec)\n",
      "INFO:tensorflow:global_step/sec: 37.1096\n",
      "INFO:tensorflow:loss = 0.0, step = 4201 (2.694 sec)\n",
      "INFO:tensorflow:global_step/sec: 38.7166\n",
      "INFO:tensorflow:loss = 0.0, step = 4301 (2.583 sec)\n",
      "INFO:tensorflow:global_step/sec: 36.7344\n",
      "INFO:tensorflow:loss = 3472.6577, step = 4401 (2.722 sec)\n",
      "INFO:tensorflow:global_step/sec: 38.4965\n",
      "INFO:tensorflow:loss = 2.3631559e-07, step = 4501 (2.598 sec)\n",
      "INFO:tensorflow:global_step/sec: 36.7485\n",
      "INFO:tensorflow:loss = 1.507308e-35, step = 4601 (2.721 sec)\n",
      "INFO:tensorflow:global_step/sec: 37.7908\n",
      "INFO:tensorflow:loss = 8.243816e-10, step = 4701 (2.647 sec)\n",
      "INFO:tensorflow:global_step/sec: 36.3539\n",
      "INFO:tensorflow:loss = 0.0, step = 4801 (2.751 sec)\n",
      "INFO:tensorflow:global_step/sec: 38.9366\n",
      "INFO:tensorflow:loss = 6.695984e-12, step = 4901 (2.568 sec)\n",
      "INFO:tensorflow:Saving checkpoints for 5000 into credit_trained/model.ckpt.\n",
      "INFO:tensorflow:Loss for final step: 0.4087933.\n"
     ]
    },
    {
     "data": {
      "text/plain": [
       "<tensorflow_estimator.python.estimator.canned.dnn.DNNClassifier at 0x7f5988bf95c0>"
      ]
     },
     "execution_count": 58,
     "metadata": {},
     "output_type": "execute_result"
    }
   ],
   "source": [
    "model.train(input_fn = lambda : train_input_fn('./input/creditcard_train.csv'),\n",
    "    max_steps = 5000\n",
    ")"
   ]
  },
  {
   "cell_type": "code",
   "execution_count": 59,
   "metadata": {
    "collapsed": true,
    "jupyter": {
     "outputs_hidden": true
    }
   },
   "outputs": [
    {
     "name": "stdout",
     "output_type": "stream",
     "text": [
      "INFO:tensorflow:Calling model_fn.\n",
      "WARNING:tensorflow:Trapezoidal rule is known to produce incorrect PR-AUCs; please switch to \"careful_interpolation\" instead.\n",
      "WARNING:tensorflow:Trapezoidal rule is known to produce incorrect PR-AUCs; please switch to \"careful_interpolation\" instead.\n",
      "INFO:tensorflow:Done calling model_fn.\n",
      "INFO:tensorflow:Starting evaluation at 2019-12-09T07:13:26Z\n",
      "INFO:tensorflow:Graph was finalized.\n",
      "INFO:tensorflow:Restoring parameters from credit_trained/model.ckpt-5000\n",
      "INFO:tensorflow:Running local_init_op.\n",
      "INFO:tensorflow:Done running local_init_op.\n",
      "INFO:tensorflow:Finished evaluation at 2019-12-09-07:13:41\n",
      "INFO:tensorflow:Saving dict for global step 5000: accuracy = 0.99488777, accuracy_baseline = 0.9981461, auc = 0.7092686, auc_precision_recall = 0.2918286, average_loss = 0.3758344, global_step = 5000, label/mean = 0.0018538805, loss = 48.04338, precision = 0.16081871, prediction/mean = 0.004946728, recall = 0.41666666\n",
      "INFO:tensorflow:Saving 'checkpoint_path' summary for global step 5000: credit_trained/model.ckpt-5000\n"
     ]
    },
    {
     "data": {
      "text/plain": [
       "{'accuracy': 0.99488777,\n",
       " 'accuracy_baseline': 0.9981461,\n",
       " 'auc': 0.7092686,\n",
       " 'auc_precision_recall': 0.2918286,\n",
       " 'average_loss': 0.3758344,\n",
       " 'global_step': 5000,\n",
       " 'label/mean': 0.0018538805,\n",
       " 'loss': 48.04338,\n",
       " 'precision': 0.16081871,\n",
       " 'prediction/mean': 0.004946728,\n",
       " 'recall': 0.41666666}"
      ]
     },
     "execution_count": 59,
     "metadata": {},
     "output_type": "execute_result"
    }
   ],
   "source": [
    "model.evaluate(input_fn = lambda: eval_input_fn('./input/creditcard_eval.csv'))"
   ]
  },
  {
   "cell_type": "code",
   "execution_count": null,
   "metadata": {},
   "outputs": [],
   "source": []
  },
  {
   "cell_type": "code",
   "execution_count": null,
   "metadata": {},
   "outputs": [],
   "source": []
  },
  {
   "cell_type": "code",
   "execution_count": 60,
   "metadata": {},
   "outputs": [],
   "source": [
    "df_train = pd.read_csv('./input/creditcard_train.csv')"
   ]
  },
  {
   "cell_type": "code",
   "execution_count": 61,
   "metadata": {},
   "outputs": [],
   "source": [
    "df_eval = pd.read_csv('./input/creditcard_eval.csv')"
   ]
  },
  {
   "cell_type": "code",
   "execution_count": 63,
   "metadata": {},
   "outputs": [
    {
     "data": {
      "text/plain": [
       "0    213245\n",
       "1       360\n",
       "Name: Class, dtype: int64"
      ]
     },
     "execution_count": 63,
     "metadata": {},
     "output_type": "execute_result"
    }
   ],
   "source": [
    "df_train.Class.value_counts()"
   ]
  },
  {
   "cell_type": "code",
   "execution_count": 64,
   "metadata": {},
   "outputs": [
    {
     "data": {
      "text/plain": [
       "0    71070\n",
       "1      132\n",
       "Name: Class, dtype: int64"
      ]
     },
     "execution_count": 64,
     "metadata": {},
     "output_type": "execute_result"
    }
   ],
   "source": [
    "df_eval.Class.value_counts()"
   ]
  },
  {
   "cell_type": "code",
   "execution_count": null,
   "metadata": {},
   "outputs": [],
   "source": []
  },
  {
   "cell_type": "code",
   "execution_count": null,
   "metadata": {},
   "outputs": [],
   "source": []
  },
  {
   "cell_type": "code",
   "execution_count": 49,
   "metadata": {},
   "outputs": [],
   "source": [
    "OUTDIR='/home/jupyter/google-asl-study/final_mini_project/youn/credit_trained'"
   ]
  },
  {
   "cell_type": "code",
   "execution_count": 52,
   "metadata": {},
   "outputs": [],
   "source": [
    "get_ipython().system_raw(\n",
    "    \"tensorboard --logdir {} --host 0.0.0.0 --port 6006 &\"\n",
    "    .format(OUTDIR)\n",
    ")\n",
    "\n",
    "get_ipython().system_raw(\"/home/jupyter/training-data-analyst/courses/machine_learning/deepdive/02_tensorflow/assets/ngrok http 6006 &\")"
   ]
  },
  {
   "cell_type": "code",
   "execution_count": 53,
   "metadata": {},
   "outputs": [
    {
     "name": "stdout",
     "output_type": "stream",
     "text": [
      "http://d4618cba.ngrok.io\n"
     ]
    }
   ],
   "source": [
    "!curl -s http://localhost:4040/api/tunnels | python3 -c \\\n",
    "    \"import sys, json; print(json.load(sys.stdin)['tunnels'][0]['public_url'])\""
   ]
  },
  {
   "cell_type": "code",
   "execution_count": 48,
   "metadata": {},
   "outputs": [
    {
     "name": "stdout",
     "output_type": "stream",
     "text": [
      "http://37195a34.ngrok.io\n"
     ]
    }
   ],
   "source": [
    "!curl -s http://localhost:4040/api/tunnels | python3 -c     \"import sys, json; print(json.load(sys.stdin)['tunnels'][0]['public_url'])\""
   ]
  },
  {
   "cell_type": "code",
   "execution_count": null,
   "metadata": {},
   "outputs": [],
   "source": []
  },
  {
   "cell_type": "code",
   "execution_count": null,
   "metadata": {},
   "outputs": [],
   "source": []
  },
  {
   "cell_type": "code",
   "execution_count": 31,
   "metadata": {},
   "outputs": [],
   "source": [
    "data = pd.read_csv('./input/creditcard.csv')"
   ]
  },
  {
   "cell_type": "code",
   "execution_count": 32,
   "metadata": {},
   "outputs": [
    {
     "ename": "NameError",
     "evalue": "name 'train_test_split' is not defined",
     "output_type": "error",
     "traceback": [
      "\u001b[0;31m---------------------------------------------------------------------------\u001b[0m",
      "\u001b[0;31mNameError\u001b[0m                                 Traceback (most recent call last)",
      "\u001b[0;32m<ipython-input-32-1e3953be641f>\u001b[0m in \u001b[0;36m<module>\u001b[0;34m\u001b[0m\n\u001b[0;32m----> 1\u001b[0;31m \u001b[0mdf_train\u001b[0m\u001b[0;34m,\u001b[0m \u001b[0mdf_valid\u001b[0m \u001b[0;34m=\u001b[0m \u001b[0mtrain_test_split\u001b[0m\u001b[0;34m(\u001b[0m\u001b[0mdf_train\u001b[0m\u001b[0;34m,\u001b[0m \u001b[0mtest_size\u001b[0m\u001b[0;34m=\u001b[0m\u001b[0;36m0.2\u001b[0m\u001b[0;34m,\u001b[0m \u001b[0mrandom_state\u001b[0m\u001b[0;34m=\u001b[0m\u001b[0;36m27\u001b[0m\u001b[0;34m)\u001b[0m\u001b[0;34m\u001b[0m\u001b[0m\n\u001b[0m\u001b[1;32m      2\u001b[0m \u001b[0mprint\u001b[0m\u001b[0;34m(\u001b[0m\u001b[0;34m'df_train :'\u001b[0m\u001b[0;34m,\u001b[0m \u001b[0mdf_train\u001b[0m\u001b[0;34m.\u001b[0m\u001b[0mshape\u001b[0m\u001b[0;34m)\u001b[0m\u001b[0;34m\u001b[0m\u001b[0m\n\u001b[1;32m      3\u001b[0m \u001b[0mprint\u001b[0m\u001b[0;34m(\u001b[0m\u001b[0;34m'df_valid :'\u001b[0m\u001b[0;34m,\u001b[0m \u001b[0mdf_valid\u001b[0m\u001b[0;34m.\u001b[0m\u001b[0mshape\u001b[0m\u001b[0;34m)\u001b[0m\u001b[0;34m\u001b[0m\u001b[0m\n\u001b[1;32m      4\u001b[0m \u001b[0mprint\u001b[0m\u001b[0;34m(\u001b[0m\u001b[0;34m'df_test :'\u001b[0m\u001b[0;34m,\u001b[0m \u001b[0mdf_test\u001b[0m\u001b[0;34m.\u001b[0m\u001b[0mshape\u001b[0m\u001b[0;34m)\u001b[0m\u001b[0;34m\u001b[0m\u001b[0m\n",
      "\u001b[0;31mNameError\u001b[0m: name 'train_test_split' is not defined"
     ]
    }
   ],
   "source": [
    "df_train, df_valid = train_test_split(df_train, test_size=0.2, random_state=27)\n",
    "print('df_train :', df_train.shape)\n",
    "print('df_valid :', df_valid.shape)\n",
    "print('df_test :', df_test.shape)"
   ]
  },
  {
   "cell_type": "code",
   "execution_count": null,
   "metadata": {},
   "outputs": [],
   "source": []
  },
  {
   "cell_type": "code",
   "execution_count": null,
   "metadata": {},
   "outputs": [],
   "source": []
  },
  {
   "cell_type": "code",
   "execution_count": 28,
   "metadata": {},
   "outputs": [],
   "source": [
    "# pandas_input_fn\n",
    "def pd_input_fn(df,batch_size=128,num_epochs=5,shuffle=True):\n",
    "    return tf.estimator.inputs.pandas_input_fn(\n",
    "      x=df[FEATURE_NAMES],\n",
    "      y=df[LABEL_NAME],\n",
    "      batch_size = batch_size,\n",
    "      num_epochs = num_epochs,\n",
    "      shuffle = shuffle,\n",
    "      queue_capacity = 1000,\n",
    "      num_threads = 1\n",
    "  )"
   ]
  },
  {
   "cell_type": "code",
   "execution_count": null,
   "metadata": {},
   "outputs": [],
   "source": [
    "OUTDIR = \"credit-prac\"\n",
    "\n",
    "config = tf.estimator.RunConfig(\n",
    "    model_dir = OUTDIR,\n",
    "    tf_random_seed = 1,\n",
    "    save_checkpoints_steps = 100\n",
    ")\n",
    "\n",
    "model = tf.estimator.DNNClassifier(\n",
    "  hidden_units = [10,10], \n",
    "  feature_columns = feature_cols, \n",
    "  config = config\n",
    ")"
   ]
  },
  {
   "cell_type": "code",
   "execution_count": null,
   "metadata": {},
   "outputs": [],
   "source": [
    "%%time\n",
    "tf.logging.set_verbosity(tf.logging.INFO) \n",
    "shutil.rmtree(path = OUTDIR, ignore_errors = True)\n",
    "\n",
    "model.train(input_fn = pd_input_fn(df=df_train,num_epochs=5), steps = 500)"
   ]
  },
  {
   "cell_type": "code",
   "execution_count": null,
   "metadata": {},
   "outputs": [],
   "source": []
  },
  {
   "cell_type": "code",
   "execution_count": null,
   "metadata": {},
   "outputs": [],
   "source": []
  },
  {
   "cell_type": "code",
   "execution_count": 65,
   "metadata": {},
   "outputs": [
    {
     "name": "stdout",
     "output_type": "stream",
     "text": [
      "INFO:tensorflow:Calling model_fn.\n",
      "INFO:tensorflow:Done calling model_fn.\n",
      "INFO:tensorflow:Graph was finalized.\n",
      "INFO:tensorflow:Restoring parameters from credit_trained/model.ckpt-5000\n",
      "INFO:tensorflow:Running local_init_op.\n",
      "INFO:tensorflow:Done running local_init_op.\n",
      "[[70783   287]\n",
      " [   77    55]]\n"
     ]
    },
    {
     "data": {
      "image/png": "[encoded data removed]",
      "text/plain": [
       "<Figure size 432x288 with 2 Axes>"
      ]
     },
     "metadata": {
      "needs_background": "light"
     },
     "output_type": "display_data"
    }
   ],
   "source": [
    "import numpy as np\n",
    "import seaborn as sns\n",
    "import matplotlib.pyplot as plt\n",
    "\n",
    "def get_predictions(estimator, input_fn):\n",
    "    return [x[\"class_ids\"][0] for x in model.predict(input_fn=input_fn)]\n",
    "\n",
    "LABELS = [\n",
    "    \"0\", \"1\"\n",
    "]\n",
    "\n",
    "# Create a confusion matrix on training data.\n",
    "with tf.Graph().as_default():\n",
    "    cm = tf.confusion_matrix(df_eval[\"Class\"],get_predictions(model,  lambda: eval_input_fn('./input/creditcard_eval.csv')))\n",
    "    with tf.Session() as session:\n",
    "        cm_out = session.run(cm)\n",
    "        print(cm_out)\n",
    "\n",
    "# Normalize the confusion matrix so that each row sums to 1.\n",
    "cm_out = cm_out.astype(float) \n",
    "# / cm_out.sum(axis=1)[:, np.newaxis]\n",
    "\n",
    "sns.heatmap(cm_out, annot=True, xticklabels=LABELS, yticklabels=LABELS);\n",
    "plt.xlabel(\"Predicted\");\n",
    "plt.ylabel(\"True\");"
   ]
  },
  {
   "cell_type": "code",
   "execution_count": null,
   "metadata": {},
   "outputs": [],
   "source": []
  },
  {
   "cell_type": "code",
   "execution_count": null,
   "metadata": {},
   "outputs": [],
   "source": []
  }
 ],
 "metadata": {
  "kernelspec": {
   "display_name": "Python 3",
   "language": "python",
   "name": "python3"
  },
  "language_info": {
   "codemirror_mode": {
    "name": "ipython",
    "version": 3
   },
   "file_extension": ".py",
   "mimetype": "text/x-python",
   "name": "python",
   "nbconvert_exporter": "python",
   "pygments_lexer": "ipython3",
   "version": "3.5.3"
  }
 },
 "nbformat": 4,
 "nbformat_minor": 4
}
