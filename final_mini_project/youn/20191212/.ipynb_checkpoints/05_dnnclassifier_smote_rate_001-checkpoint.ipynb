{
 "cells": [
  {
   "cell_type": "code",
   "execution_count": 1,
   "metadata": {},
   "outputs": [
    {
     "name": "stdout",
     "output_type": "stream",
     "text": [
      "1.15.0\n"
     ]
    }
   ],
   "source": [
    "import tensorflow as tf\n",
    "import numpy as np\n",
    "import pandas as pd\n",
    "import shutil\n",
    "print(tf.__version__)"
   ]
  },
  {
   "cell_type": "code",
   "execution_count": 2,
   "metadata": {},
   "outputs": [],
   "source": [
    "tf.enable_eager_execution() "
   ]
  },
  {
   "cell_type": "code",
   "execution_count": 2,
   "metadata": {},
   "outputs": [
    {
     "name": "stdout",
     "output_type": "stream",
     "text": [
      "CSV_COLUMN_NAMES:['time', 'V1', 'V2', 'V3', 'V4', 'V5', 'V6', 'V7', 'V8', 'V9', 'V10', 'V11', 'V12', 'V13', 'V14', 'V15', 'V16', 'V17', 'V18', 'V19', 'V20', 'V21', 'V22', 'V23', 'V24', 'V25', 'V26', 'V27', 'V28', 'Amount', 'Class']\n",
      "CSV_DEFAULTS:[[0.0], [0.0], [0.0], [0.0], [0.0], [0.0], [0.0], [0.0], [0.0], [0.0], [0.0], [0.0], [0.0], [0.0], [0.0], [0.0], [0.0], [0.0], [0.0], [0.0], [0.0], [0.0], [0.0], [0.0], [0.0], [0.0], [0.0], [0.0], [0.0], [0.0], [0]]\n"
     ]
    }
   ],
   "source": [
    "CSV_COLUMN_NAMES = [\"time\"]+['V'+(i+1).astype(np.str) for i in np.array(range(28))]+['Amount','Class']\n",
    "CSV_DEFAULTS = [[0.0] for i in np.array(range(30))]+[[0]]\n",
    "print('CSV_COLUMN_NAMES:{}\\nCSV_DEFAULTS:{}'.format(CSV_COLUMN_NAMES,CSV_DEFAULTS))"
   ]
  },
  {
   "cell_type": "code",
   "execution_count": 3,
   "metadata": {},
   "outputs": [],
   "source": [
    "FEATURE_NAMES = CSV_COLUMN_NAMES[:-1] # all but first column\n",
    "feature_cols = [tf.feature_column.numeric_column(key = k) for k in FEATURE_NAMES]\n",
    "#for i in feature_cols:\n",
    "#    print(i)  "
   ]
  },
  {
   "cell_type": "code",
   "execution_count": 4,
   "metadata": {},
   "outputs": [],
   "source": [
    "def parse_row(row):\n",
    "    fields = tf.decode_csv(records = row, record_defaults = CSV_DEFAULTS)\n",
    "    features = dict(zip(CSV_COLUMN_NAMES, fields))\n",
    "    label = features.pop(\"Class\")\n",
    "    return features, label\n",
    "\n",
    "def read_dataset(csv_path):\n",
    "    dataset = tf.data.TextLineDataset(filenames = csv_path).skip(count = 1) # skip header\n",
    "    dataset = dataset.map(map_func = parse_row)\n",
    "    return dataset\n",
    "\n",
    "def train_input_fn(csv_path, batch_size = 128):\n",
    "    dataset = read_dataset(csv_path)\n",
    "    dataset = dataset.shuffle(buffer_size = 10000).repeat(count = None).batch(batch_size = batch_size)\n",
    "    return dataset\n",
    "\n",
    "def eval_input_fn(csv_path, batch_size = 128):\n",
    "    dataset = read_dataset(csv_path)\n",
    "    dataset = dataset.batch(batch_size = batch_size)\n",
    "    return dataset"
   ]
  },
  {
   "cell_type": "code",
   "execution_count": 17,
   "metadata": {},
   "outputs": [
    {
     "name": "stdout",
     "output_type": "stream",
     "text": [
      "{'V3': <tf.Tensor: id=1668, shape=(2,), dtype=float32, numpy=array([-2.831034 , -2.4460442], dtype=float32)>, 'V12': <tf.Tensor: id=1650, shape=(2,), dtype=float32, numpy=array([0.4015108, 1.1793581], dtype=float32)>, 'time': <tf.Tensor: id=1675, shape=(2,), dtype=float32, numpy=array([125276.,  40238.], dtype=float32)>, 'V27': <tf.Tensor: id=1666, shape=(2,), dtype=float32, numpy=array([-0.10555946, -0.30745932], dtype=float32)>, 'V21': <tf.Tensor: id=1660, shape=(2,), dtype=float32, numpy=array([0.015308 , 0.1055823], dtype=float32)>, 'V15': <tf.Tensor: id=1653, shape=(2,), dtype=float32, numpy=array([0.39245912, 0.20739678], dtype=float32)>, 'V1': <tf.Tensor: id=1647, shape=(2,), dtype=float32, numpy=array([ 2.0581715, -4.8021445], dtype=float32)>, 'V19': <tf.Tensor: id=1657, shape=(2,), dtype=float32, numpy=array([-0.03328181,  0.77208555], dtype=float32)>, 'V16': <tf.Tensor: id=1654, shape=(2,), dtype=float32, numpy=array([0.15064052, 0.6868173 ], dtype=float32)>, 'V5': <tf.Tensor: id=1670, shape=(2,), dtype=float32, numpy=array([ 1.3117914, -2.5124266], dtype=float32)>, 'V18': <tf.Tensor: id=1656, shape=(2,), dtype=float32, numpy=array([-0.14206888,  0.5671886 ], dtype=float32)>, 'V22': <tf.Tensor: id=1661, shape=(2,), dtype=float32, numpy=array([0.0763656 , 0.11003021], dtype=float32)>, 'V24': <tf.Tensor: id=1663, shape=(2,), dtype=float32, numpy=array([0.02380788, 0.49979058], dtype=float32)>, 'V17': <tf.Tensor: id=1655, shape=(2,), dtype=float32, numpy=array([0.31273973, 1.0717018 ], dtype=float32)>, 'V13': <tf.Tensor: id=1651, shape=(2,), dtype=float32, numpy=array([ 1.3751972 , -0.30279917], dtype=float32)>, 'V26': <tf.Tensor: id=1665, shape=(2,), dtype=float32, numpy=array([0.61789066, 0.14587204], dtype=float32)>, 'V4': <tf.Tensor: id=1669, shape=(2,), dtype=float32, numpy=array([0.23528281, 2.7769303 ], dtype=float32)>, 'V28': <tf.Tensor: id=1667, shape=(2,), dtype=float32, numpy=array([-0.04263856, -0.11965122], dtype=float32)>, 'V2': <tf.Tensor: id=1658, shape=(2,), dtype=float32, numpy=array([0.27720255, 4.232233  ], dtype=float32)>, 'V11': <tf.Tensor: id=1649, shape=(2,), dtype=float32, numpy=array([-0.6523771 ,  0.30572528], dtype=float32)>, 'V6': <tf.Tensor: id=1671, shape=(2,), dtype=float32, numpy=array([-0.9397265, -0.8012834], dtype=float32)>, 'V8': <tf.Tensor: id=1673, shape=(2,), dtype=float32, numpy=array([-0.50946736,  3.2426715 ], dtype=float32)>, 'Amount': <tf.Tensor: id=1646, shape=(2,), dtype=float32, numpy=array([58.86,  6.25], dtype=float32)>, 'V7': <tf.Tensor: id=1672, shape=(2,), dtype=float32, numpy=array([ 0.8698609, -2.1273632], dtype=float32)>, 'V23': <tf.Tensor: id=1662, shape=(2,), dtype=float32, numpy=array([-0.09091155,  0.5586068 ], dtype=float32)>, 'V20': <tf.Tensor: id=1659, shape=(2,), dtype=float32, numpy=array([0.05069464, 0.0138681 ], dtype=float32)>, 'V9': <tf.Tensor: id=1674, shape=(2,), dtype=float32, numpy=array([-0.22280154, -1.2857659 ], dtype=float32)>, 'V10': <tf.Tensor: id=1648, shape=(2,), dtype=float32, numpy=array([-0.3349233,  2.0359423], dtype=float32)>, 'V25': <tf.Tensor: id=1664, shape=(2,), dtype=float32, numpy=array([0.3609923 , 0.09489545], dtype=float32)>, 'V14': <tf.Tensor: id=1652, shape=(2,), dtype=float32, numpy=array([-0.7626188,  2.477376 ], dtype=float32)>}\n",
      "tf.Tensor([0 0], shape=(2,), dtype=int32)\n"
     ]
    }
   ],
   "source": [
    "# 실제 데이터 확인\n",
    "# tf.enable_eager_execution() 선언되어 있어야 함.\n",
    "train_data_check = train_input_fn(csv_path = './input/train_smote.csv')\n",
    "print(train_data_check.make_one_shot_iterator().get_next()[0])\n",
    "print(train_data_check.make_one_shot_iterator().get_next()[1][:2])\n"
   ]
  },
  {
   "cell_type": "markdown",
   "metadata": {},
   "source": [
    "# hidden_units=[10,10]"
   ]
  },
  {
   "cell_type": "code",
   "execution_count": 5,
   "metadata": {},
   "outputs": [
    {
     "name": "stdout",
     "output_type": "stream",
     "text": [
      "INFO:tensorflow:Using config: {'_evaluation_master': '', '_save_summary_steps': 40, '_protocol': None, '_task_id': 0, '_device_fn': None, '_keep_checkpoint_every_n_hours': 10000, '_master': '', '_service': None, '_experimental_max_worker_delay_secs': None, '_save_checkpoints_secs': None, '_cluster_spec': <tensorflow.python.training.server_lib.ClusterSpec object at 0x7f1b2a83a5c0>, '_session_creation_timeout_secs': 7200, '_eval_distribute': None, '_model_dir': 'credit_trained_LR001_10_10', '_is_chief': True, '_session_config': allow_soft_placement: true\n",
      "graph_options {\n",
      "  rewrite_options {\n",
      "    meta_optimizer_iterations: ONE\n",
      "  }\n",
      "}\n",
      ", '_tf_random_seed': None, '_train_distribute': None, '_num_ps_replicas': 0, '_task_type': 'worker', '_global_id_in_cluster': 0, '_log_step_count_steps': 100, '_keep_checkpoint_max': 20, '_experimental_distribute': None, '_save_checkpoints_steps': 200, '_num_worker_replicas': 1}\n"
     ]
    }
   ],
   "source": [
    "OUTDIR = \"credit_trained_LR001_10_10\"\n",
    "\n",
    "config = tf.estimator.RunConfig(\n",
    "    model_dir=OUTDIR,\n",
    "    keep_checkpoint_max=20,\n",
    "    save_summary_steps=40,\n",
    "    save_checkpoints_steps=200\n",
    ")\n",
    "model = tf.estimator.DNNClassifier(\n",
    "                                  hidden_units=[10, 10],\n",
    "                                  feature_columns=feature_cols,\n",
    "                                  optimizer = tf.train.AdamOptimizer(learning_rate=0.001),\n",
    "                                  config = config)"
   ]
  },
  {
   "cell_type": "code",
   "execution_count": 13,
   "metadata": {},
   "outputs": [],
   "source": [
    "!rm -r {OUTDIR}"
   ]
  },
  {
   "cell_type": "code",
   "execution_count": 17,
   "metadata": {},
   "outputs": [
    {
     "name": "stdout",
     "output_type": "stream",
     "text": [
      "INFO:tensorflow:Calling model_fn.\n",
      "INFO:tensorflow:Done calling model_fn.\n",
      "INFO:tensorflow:Create CheckpointSaverHook.\n",
      "INFO:tensorflow:Graph was finalized.\n",
      "INFO:tensorflow:Restoring parameters from credit_trained_LR001_10_10/model.ckpt-350\n",
      "WARNING:tensorflow:From /usr/local/lib/python3.5/dist-packages/tensorflow_core/python/training/saver.py:1069: get_checkpoint_mtimes (from tensorflow.python.training.checkpoint_management) is deprecated and will be removed in a future version.\n",
      "Instructions for updating:\n",
      "Use standard file utilities to get mtimes.\n",
      "INFO:tensorflow:Running local_init_op.\n",
      "INFO:tensorflow:Done running local_init_op.\n",
      "INFO:tensorflow:Saving checkpoints for 350 into credit_trained_LR001_10_10/model.ckpt.\n",
      "INFO:tensorflow:loss = 1054.7957, step = 351\n",
      "INFO:tensorflow:global_step/sec: 23.0377\n",
      "INFO:tensorflow:loss = 546.3751, step = 451 (4.342 sec)\n",
      "INFO:tensorflow:Saving checkpoints for 550 into credit_trained_LR001_10_10/model.ckpt.\n",
      "INFO:tensorflow:global_step/sec: 46.3995\n",
      "INFO:tensorflow:loss = 169.5143, step = 551 (2.159 sec)\n",
      "INFO:tensorflow:global_step/sec: 35.221\n",
      "INFO:tensorflow:loss = 211.67862, step = 651 (2.835 sec)\n",
      "INFO:tensorflow:Saving checkpoints for 750 into credit_trained_LR001_10_10/model.ckpt.\n",
      "INFO:tensorflow:global_step/sec: 33.4946\n",
      "INFO:tensorflow:loss = 601.5141, step = 751 (2.986 sec)\n",
      "INFO:tensorflow:global_step/sec: 37.3268\n",
      "INFO:tensorflow:loss = 793.66675, step = 851 (2.679 sec)\n",
      "INFO:tensorflow:Saving checkpoints for 950 into credit_trained_LR001_10_10/model.ckpt.\n",
      "INFO:tensorflow:global_step/sec: 33.223\n",
      "INFO:tensorflow:loss = 122.85239, step = 951 (3.011 sec)\n",
      "INFO:tensorflow:Saving checkpoints for 1000 into credit_trained_LR001_10_10/model.ckpt.\n",
      "INFO:tensorflow:Loss for final step: 611.43207.\n"
     ]
    },
    {
     "data": {
      "text/plain": [
       "<tensorflow_estimator.python.estimator.canned.dnn.DNNClassifier at 0x7f1b2a83a518>"
      ]
     },
     "execution_count": 17,
     "metadata": {},
     "output_type": "execute_result"
    }
   ],
   "source": [
    "model.train(input_fn = lambda : train_input_fn('./input/train_smote.csv'),\n",
    "    max_steps = 1000\n",
    ")"
   ]
  },
  {
   "cell_type": "code",
   "execution_count": 18,
   "metadata": {},
   "outputs": [
    {
     "name": "stdout",
     "output_type": "stream",
     "text": [
      "INFO:tensorflow:Calling model_fn.\n",
      "WARNING:tensorflow:Trapezoidal rule is known to produce incorrect PR-AUCs; please switch to \"careful_interpolation\" instead.\n",
      "WARNING:tensorflow:Trapezoidal rule is known to produce incorrect PR-AUCs; please switch to \"careful_interpolation\" instead.\n",
      "INFO:tensorflow:Done calling model_fn.\n",
      "INFO:tensorflow:Starting evaluation at 2019-12-09T14:22:32Z\n",
      "INFO:tensorflow:Graph was finalized.\n",
      "INFO:tensorflow:Restoring parameters from credit_trained_LR001_10_10/model.ckpt-1000\n",
      "INFO:tensorflow:Running local_init_op.\n",
      "INFO:tensorflow:Done running local_init_op.\n",
      "INFO:tensorflow:Finished evaluation at 2019-12-09-14:22:42\n",
      "INFO:tensorflow:Saving dict for global step 1000: accuracy = 0.9623428, accuracy_baseline = 0.9981786, auc = 0.9289776, auc_precision_recall = 0.6191958, average_loss = 0.14442687, global_step = 1000, label/mean = 0.0018214136, loss = 18.43526, precision = 0.039481107, prediction/mean = 0.09292555, recall = 0.8433735\n",
      "INFO:tensorflow:Saving 'checkpoint_path' summary for global step 1000: credit_trained_LR001_10_10/model.ckpt-1000\n"
     ]
    },
    {
     "data": {
      "text/plain": [
       "{'accuracy': 0.9623428,\n",
       " 'accuracy_baseline': 0.9981786,\n",
       " 'auc': 0.9289776,\n",
       " 'auc_precision_recall': 0.6191958,\n",
       " 'average_loss': 0.14442687,\n",
       " 'global_step': 1000,\n",
       " 'label/mean': 0.0018214136,\n",
       " 'loss': 18.43526,\n",
       " 'precision': 0.039481107,\n",
       " 'prediction/mean': 0.09292555,\n",
       " 'recall': 0.8433735}"
      ]
     },
     "execution_count": 18,
     "metadata": {},
     "output_type": "execute_result"
    }
   ],
   "source": [
    "model.evaluate(input_fn = lambda: eval_input_fn('./input/valid.csv'))"
   ]
  },
  {
   "cell_type": "code",
   "execution_count": 9,
   "metadata": {},
   "outputs": [],
   "source": [
    "generator_predict = model.predict(input_fn = lambda: eval_input_fn('./input/valid.csv'))"
   ]
  },
  {
   "cell_type": "code",
   "execution_count": 10,
   "metadata": {},
   "outputs": [
    {
     "name": "stdout",
     "output_type": "stream",
     "text": [
      "INFO:tensorflow:Calling model_fn.\n",
      "INFO:tensorflow:Done calling model_fn.\n",
      "INFO:tensorflow:Graph was finalized.\n",
      "INFO:tensorflow:Restoring parameters from credit_trained_LR001_10_10/model.ckpt-1000\n",
      "INFO:tensorflow:Running local_init_op.\n",
      "INFO:tensorflow:Done running local_init_op.\n",
      "classes:[b'0']/class_ids:[0]/logistic:[0.]/probabilities:[1.0000000e+00 2.0295526e-11]/logits:[-24.62062]\n",
      "classes:[b'0']/class_ids:[0]/logistic:[1.0430813e-06]/probabilities:[9.9999893e-01 1.1312853e-06]/logits:[-13.692155]\n",
      "classes:[b'0']/class_ids:[0]/logistic:[0.]/probabilities:[1.0000000e+00 8.8405195e-12]/logits:[-25.451675]\n",
      "classes:[b'0']/class_ids:[0]/logistic:[0.00010321]/probabilities:[9.9989676e-01 1.0317596e-04]/logits:[-9.178971]\n",
      "classes:[b'0']/class_ids:[0]/logistic:[9.825826e-05]/probabilities:[9.999018e-01 9.827159e-05]/logits:[-9.227677]\n",
      "classes:[b'0']/class_ids:[0]/logistic:[0.00151905]/probabilities:[0.998481   0.00151901]/logits:[-6.4881754]\n",
      "classes:[b'0']/class_ids:[0]/logistic:[0.00045696]/probabilities:[9.9954307e-01 4.5696538e-04]/logits:[-7.690446]\n",
      "classes:[b'0']/class_ids:[0]/logistic:[8.940697e-08]/probabilities:[1.0000000e+00 4.3290292e-08]/logits:[-16.955338]\n",
      "classes:[b'0']/class_ids:[0]/logistic:[2.682209e-06]/probabilities:[9.9999726e-01 2.6841565e-06]/logits:[-12.828141]\n",
      "classes:[b'0']/class_ids:[0]/logistic:[0.1890749]/probabilities:[0.8109252  0.18907487]/logits:[-1.4560326]\n",
      "classes:[b'0']/class_ids:[0]/logistic:[0.]/probabilities:[1.0000000e+00 1.8780482e-09]/logits:[-20.093033]\n",
      "45568\n"
     ]
    }
   ],
   "source": [
    "for i, y_pred in enumerate(generator_predict):\n",
    "    if i <= 10:\n",
    "        # 'classes', 'class_ids', 'logistic', 'all_class_ids', 'probabilities', 'logits', 'all_classes'\n",
    "        print('classes:{}/class_ids:{}/logistic:{}/probabilities:{}/logits:{}'.format(\n",
    "               y_pred[\"classes\"],y_pred[\"class_ids\"],y_pred[\"logistic\"]\n",
    "               ,y_pred[\"probabilities\"],y_pred[\"logits\"]))\n",
    "print(i)"
   ]
  },
  {
   "cell_type": "code",
   "execution_count": 19,
   "metadata": {},
   "outputs": [
    {
     "name": "stdout",
     "output_type": "stream",
     "text": [
      "INFO:tensorflow:Calling model_fn.\n",
      "INFO:tensorflow:Done calling model_fn.\n",
      "INFO:tensorflow:Graph was finalized.\n",
      "INFO:tensorflow:Restoring parameters from credit_trained_LR001_10_10/model.ckpt-1000\n",
      "INFO:tensorflow:Running local_init_op.\n",
      "INFO:tensorflow:Done running local_init_op.\n",
      "[[43783  1703]\n",
      " [   13    70]]\n"
     ]
    },
    {
     "data": {
      "image/png": "[encoded data removed]",
      "text/plain": [
       "<Figure size 432x288 with 2 Axes>"
      ]
     },
     "metadata": {
      "needs_background": "light"
     },
     "output_type": "display_data"
    }
   ],
   "source": [
    "import numpy as np\n",
    "import seaborn as sns\n",
    "import matplotlib.pyplot as plt\n",
    "\n",
    "def get_predictions(estimator, input_fn):\n",
    "    return [x[\"class_ids\"][0] for x in model.predict(input_fn=input_fn)]\n",
    "\n",
    "LABELS = [\"0\", \"1\"]\n",
    "\n",
    "df_eval = pd.read_csv('./input/valid.csv')\n",
    "\n",
    "# Create a confusion matrix on training data.\n",
    "with tf.Graph().as_default():\n",
    "    cm = tf.confusion_matrix(pd.read_csv('./input/valid.csv')[\"Class\"],get_predictions(model,  lambda: eval_input_fn('./input/valid.csv')))\n",
    "    with tf.Session() as session:\n",
    "        cm_out = session.run(cm)\n",
    "        print(cm_out)\n",
    "\n",
    "# Normalize the confusion matrix so that each row sums to 1.\n",
    "cm_out = cm_out.astype(float) \n",
    "# / cm_out.sum(axis=1)[:, np.newaxis]\n",
    "\n",
    "sns.heatmap(cm_out, annot=True, xticklabels=LABELS, yticklabels=LABELS);\n",
    "plt.xlabel(\"Predicted\");\n",
    "plt.ylabel(\"True\");"
   ]
  },
  {
   "cell_type": "markdown",
   "metadata": {},
   "source": [
    "# hidden_units = [10]"
   ]
  },
  {
   "cell_type": "code",
   "execution_count": 52,
   "metadata": {},
   "outputs": [
    {
     "name": "stdout",
     "output_type": "stream",
     "text": [
      "INFO:tensorflow:Using config: {'_experimental_distribute': None, '_evaluation_master': '', '_model_dir': 'credit_trained_LR001_10', '_global_id_in_cluster': 0, '_keep_checkpoint_every_n_hours': 10000, '_task_type': 'worker', '_service': None, '_session_creation_timeout_secs': 7200, '_log_step_count_steps': 100, '_save_checkpoints_steps': 100, '_save_summary_steps': 10, '_protocol': None, '_task_id': 0, '_save_checkpoints_secs': None, '_keep_checkpoint_max': 5, '_train_distribute': None, '_eval_distribute': None, '_num_ps_replicas': 0, '_session_config': allow_soft_placement: true\n",
      "graph_options {\n",
      "  rewrite_options {\n",
      "    meta_optimizer_iterations: ONE\n",
      "  }\n",
      "}\n",
      ", '_num_worker_replicas': 1, '_tf_random_seed': None, '_master': '', '_is_chief': True, '_cluster_spec': <tensorflow.python.training.server_lib.ClusterSpec object at 0x7ff73818de48>, '_experimental_max_worker_delay_secs': None, '_device_fn': None}\n"
     ]
    }
   ],
   "source": [
    "OUTDIR = \"credit_trained_LR001_10\"\n",
    "\n",
    "config = tf.estimator.RunConfig(\n",
    "    model_dir=OUTDIR,\n",
    "    save_summary_steps=10,\n",
    "    save_checkpoints_steps=100\n",
    ")\n",
    "model = tf.estimator.DNNClassifier(\n",
    "                                  hidden_units=[10],\n",
    "                                  feature_columns=feature_cols,\n",
    "                                  optimizer = tf.train.AdamOptimizer(learning_rate=0.001),\n",
    "                                  config = config)"
   ]
  },
  {
   "cell_type": "code",
   "execution_count": 53,
   "metadata": {},
   "outputs": [
    {
     "name": "stdout",
     "output_type": "stream",
     "text": [
      "rm: cannot remove 'credit_trained_LR001_10': No such file or directory\n"
     ]
    }
   ],
   "source": [
    "!rm -r {OUTDIR}"
   ]
  },
  {
   "cell_type": "code",
   "execution_count": 54,
   "metadata": {},
   "outputs": [
    {
     "name": "stdout",
     "output_type": "stream",
     "text": [
      "INFO:tensorflow:Calling model_fn.\n",
      "INFO:tensorflow:Done calling model_fn.\n",
      "INFO:tensorflow:Create CheckpointSaverHook.\n",
      "INFO:tensorflow:Graph was finalized.\n",
      "INFO:tensorflow:Running local_init_op.\n",
      "INFO:tensorflow:Done running local_init_op.\n",
      "INFO:tensorflow:Saving checkpoints for 0 into credit_trained_LR001_10/model.ckpt.\n",
      "INFO:tensorflow:loss = 1.0466638e-24, step = 1\n",
      "INFO:tensorflow:Saving checkpoints for 100 into credit_trained_LR001_10/model.ckpt.\n",
      "INFO:tensorflow:global_step/sec: 19.7499\n",
      "INFO:tensorflow:loss = 36.430286, step = 101 (5.066 sec)\n",
      "INFO:tensorflow:Saving checkpoints for 200 into credit_trained_LR001_10/model.ckpt.\n",
      "INFO:tensorflow:global_step/sec: 29.9724\n",
      "INFO:tensorflow:loss = 0.0002217642, step = 201 (3.341 sec)\n",
      "INFO:tensorflow:Saving checkpoints for 300 into credit_trained_LR001_10/model.ckpt.\n",
      "INFO:tensorflow:global_step/sec: 29.4484\n",
      "INFO:tensorflow:loss = 1161.4927, step = 301 (3.395 sec)\n",
      "INFO:tensorflow:Saving checkpoints for 400 into credit_trained_LR001_10/model.ckpt.\n",
      "INFO:tensorflow:global_step/sec: 33.5577\n",
      "INFO:tensorflow:loss = 2.5557708e-21, step = 401 (2.976 sec)\n",
      "INFO:tensorflow:Saving checkpoints for 500 into credit_trained_LR001_10/model.ckpt.\n",
      "INFO:tensorflow:global_step/sec: 28.5738\n",
      "INFO:tensorflow:loss = 7.7246532, step = 501 (3.504 sec)\n",
      "INFO:tensorflow:Saving checkpoints for 600 into credit_trained_LR001_10/model.ckpt.\n",
      "INFO:tensorflow:global_step/sec: 36.7703\n",
      "INFO:tensorflow:loss = 1.4361449e-28, step = 601 (2.716 sec)\n",
      "INFO:tensorflow:Saving checkpoints for 700 into credit_trained_LR001_10/model.ckpt.\n",
      "INFO:tensorflow:global_step/sec: 28.6924\n",
      "INFO:tensorflow:loss = 0.0, step = 701 (3.484 sec)\n",
      "INFO:tensorflow:Saving checkpoints for 800 into credit_trained_LR001_10/model.ckpt.\n",
      "INFO:tensorflow:global_step/sec: 34.8712\n",
      "INFO:tensorflow:loss = 6099.367, step = 801 (2.868 sec)\n",
      "INFO:tensorflow:Saving checkpoints for 900 into credit_trained_LR001_10/model.ckpt.\n",
      "INFO:tensorflow:global_step/sec: 32.0175\n",
      "INFO:tensorflow:loss = 3.0383118e-10, step = 901 (3.124 sec)\n",
      "INFO:tensorflow:Saving checkpoints for 1000 into credit_trained_LR001_10/model.ckpt.\n",
      "INFO:tensorflow:global_step/sec: 35.1918\n",
      "INFO:tensorflow:loss = 1.0630554e-09, step = 1001 (2.841 sec)\n",
      "INFO:tensorflow:Saving checkpoints for 1100 into credit_trained_LR001_10/model.ckpt.\n",
      "INFO:tensorflow:global_step/sec: 30.0794\n",
      "INFO:tensorflow:loss = 0.38892284, step = 1101 (3.329 sec)\n",
      "INFO:tensorflow:Saving checkpoints for 1200 into credit_trained_LR001_10/model.ckpt.\n",
      "INFO:tensorflow:global_step/sec: 33.058\n",
      "INFO:tensorflow:loss = 0.0035560643, step = 1201 (3.029 sec)\n",
      "INFO:tensorflow:Saving checkpoints for 1300 into credit_trained_LR001_10/model.ckpt.\n",
      "INFO:tensorflow:global_step/sec: 34.9472\n",
      "INFO:tensorflow:loss = 3.8516777e-16, step = 1301 (2.857 sec)\n",
      "INFO:tensorflow:Saving checkpoints for 1400 into credit_trained_LR001_10/model.ckpt.\n",
      "INFO:tensorflow:global_step/sec: 27.3877\n",
      "INFO:tensorflow:loss = 0.098567195, step = 1401 (3.652 sec)\n",
      "INFO:tensorflow:Saving checkpoints for 1500 into credit_trained_LR001_10/model.ckpt.\n",
      "INFO:tensorflow:global_step/sec: 34.1095\n",
      "INFO:tensorflow:loss = 0.0, step = 1501 (2.927 sec)\n",
      "INFO:tensorflow:Saving checkpoints for 1600 into credit_trained_LR001_10/model.ckpt.\n",
      "INFO:tensorflow:global_step/sec: 32.9434\n",
      "INFO:tensorflow:loss = 0.006228411, step = 1601 (3.039 sec)\n",
      "INFO:tensorflow:Saving checkpoints for 1700 into credit_trained_LR001_10/model.ckpt.\n",
      "INFO:tensorflow:global_step/sec: 31.2367\n",
      "INFO:tensorflow:loss = 0.0, step = 1701 (3.202 sec)\n",
      "INFO:tensorflow:Saving checkpoints for 1800 into credit_trained_LR001_10/model.ckpt.\n",
      "INFO:tensorflow:global_step/sec: 30.7007\n",
      "INFO:tensorflow:loss = 0.0, step = 1801 (3.253 sec)\n",
      "INFO:tensorflow:Saving checkpoints for 1900 into credit_trained_LR001_10/model.ckpt.\n",
      "INFO:tensorflow:global_step/sec: 35.3058\n",
      "INFO:tensorflow:loss = 0.0, step = 1901 (2.832 sec)\n",
      "INFO:tensorflow:Saving checkpoints for 2000 into credit_trained_LR001_10/model.ckpt.\n",
      "INFO:tensorflow:global_step/sec: 29.1841\n",
      "INFO:tensorflow:loss = 0.0, step = 2001 (3.431 sec)\n",
      "INFO:tensorflow:Saving checkpoints for 2100 into credit_trained_LR001_10/model.ckpt.\n",
      "INFO:tensorflow:global_step/sec: 29.8274\n",
      "INFO:tensorflow:loss = 0.0, step = 2101 (3.348 sec)\n",
      "INFO:tensorflow:Saving checkpoints for 2200 into credit_trained_LR001_10/model.ckpt.\n",
      "INFO:tensorflow:global_step/sec: 30.6957\n",
      "INFO:tensorflow:loss = 1.2348992e-18, step = 2201 (3.263 sec)\n",
      "INFO:tensorflow:Saving checkpoints for 2300 into credit_trained_LR001_10/model.ckpt.\n",
      "INFO:tensorflow:global_step/sec: 32.6533\n",
      "INFO:tensorflow:loss = 0.00017507735, step = 2301 (3.058 sec)\n",
      "INFO:tensorflow:Saving checkpoints for 2400 into credit_trained_LR001_10/model.ckpt.\n",
      "INFO:tensorflow:global_step/sec: 30.7766\n",
      "INFO:tensorflow:loss = 0.0, step = 2401 (3.249 sec)\n",
      "INFO:tensorflow:Saving checkpoints for 2500 into credit_trained_LR001_10/model.ckpt.\n",
      "INFO:tensorflow:global_step/sec: 33.3241\n",
      "INFO:tensorflow:loss = 0.0, step = 2501 (3.005 sec)\n",
      "INFO:tensorflow:Saving checkpoints for 2600 into credit_trained_LR001_10/model.ckpt.\n",
      "INFO:tensorflow:global_step/sec: 33.1556\n",
      "INFO:tensorflow:loss = 0.0, step = 2601 (3.012 sec)\n",
      "INFO:tensorflow:Saving checkpoints for 2700 into credit_trained_LR001_10/model.ckpt.\n",
      "INFO:tensorflow:global_step/sec: 34.0967\n",
      "INFO:tensorflow:loss = 0.0, step = 2701 (2.933 sec)\n",
      "INFO:tensorflow:Saving checkpoints for 2800 into credit_trained_LR001_10/model.ckpt.\n",
      "INFO:tensorflow:global_step/sec: 31.6011\n",
      "INFO:tensorflow:loss = 3.3558951e-18, step = 2801 (3.164 sec)\n",
      "INFO:tensorflow:Saving checkpoints for 2900 into credit_trained_LR001_10/model.ckpt.\n",
      "INFO:tensorflow:global_step/sec: 36.63\n",
      "INFO:tensorflow:loss = 0.0, step = 2901 (2.730 sec)\n",
      "INFO:tensorflow:Saving checkpoints for 3000 into credit_trained_LR001_10/model.ckpt.\n",
      "INFO:tensorflow:global_step/sec: 33.6286\n",
      "INFO:tensorflow:loss = 5.4759487e-14, step = 3001 (2.973 sec)\n",
      "INFO:tensorflow:Saving checkpoints for 3100 into credit_trained_LR001_10/model.ckpt.\n",
      "INFO:tensorflow:global_step/sec: 34.8445\n",
      "INFO:tensorflow:loss = 2.5609344e-23, step = 3101 (2.870 sec)\n",
      "INFO:tensorflow:Saving checkpoints for 3200 into credit_trained_LR001_10/model.ckpt.\n",
      "INFO:tensorflow:global_step/sec: 28.9379\n",
      "INFO:tensorflow:loss = 4.5581195e-12, step = 3201 (3.460 sec)\n",
      "INFO:tensorflow:Saving checkpoints for 3300 into credit_trained_LR001_10/model.ckpt.\n",
      "INFO:tensorflow:global_step/sec: 34.9533\n",
      "INFO:tensorflow:loss = 0.0, step = 3301 (2.860 sec)\n",
      "INFO:tensorflow:Saving checkpoints for 3400 into credit_trained_LR001_10/model.ckpt.\n",
      "INFO:tensorflow:global_step/sec: 34.4786\n",
      "INFO:tensorflow:loss = 0.0023982858, step = 3401 (2.897 sec)\n",
      "INFO:tensorflow:Saving checkpoints for 3500 into credit_trained_LR001_10/model.ckpt.\n",
      "INFO:tensorflow:global_step/sec: 35.2144\n",
      "INFO:tensorflow:loss = 0.0028746102, step = 3501 (2.839 sec)\n",
      "INFO:tensorflow:Saving checkpoints for 3600 into credit_trained_LR001_10/model.ckpt.\n",
      "INFO:tensorflow:global_step/sec: 34.2466\n",
      "INFO:tensorflow:loss = 0.89725566, step = 3601 (2.920 sec)\n",
      "INFO:tensorflow:Saving checkpoints for 3700 into credit_trained_LR001_10/model.ckpt.\n",
      "INFO:tensorflow:global_step/sec: 30.3167\n",
      "INFO:tensorflow:loss = 5346.441, step = 3701 (3.299 sec)\n",
      "INFO:tensorflow:Saving checkpoints for 3800 into credit_trained_LR001_10/model.ckpt.\n",
      "INFO:tensorflow:global_step/sec: 33.871\n",
      "INFO:tensorflow:loss = 0.0, step = 3801 (2.954 sec)\n",
      "INFO:tensorflow:Saving checkpoints for 3900 into credit_trained_LR001_10/model.ckpt.\n",
      "INFO:tensorflow:global_step/sec: 28.7728\n",
      "INFO:tensorflow:loss = 4.2818444e-30, step = 3901 (3.475 sec)\n",
      "INFO:tensorflow:Saving checkpoints for 4000 into credit_trained_LR001_10/model.ckpt.\n",
      "INFO:tensorflow:global_step/sec: 31.5738\n",
      "INFO:tensorflow:loss = 2.0278448e-16, step = 4001 (3.167 sec)\n",
      "INFO:tensorflow:Saving checkpoints for 4100 into credit_trained_LR001_10/model.ckpt.\n",
      "INFO:tensorflow:global_step/sec: 32.8604\n",
      "INFO:tensorflow:loss = 0.00013378316, step = 4101 (3.043 sec)\n",
      "INFO:tensorflow:Saving checkpoints for 4200 into credit_trained_LR001_10/model.ckpt.\n",
      "INFO:tensorflow:global_step/sec: 32.0066\n",
      "INFO:tensorflow:loss = 5.9407157e-08, step = 4201 (3.124 sec)\n",
      "INFO:tensorflow:Saving checkpoints for 4300 into credit_trained_LR001_10/model.ckpt.\n",
      "INFO:tensorflow:global_step/sec: 33.0876\n",
      "INFO:tensorflow:loss = 1870.4812, step = 4301 (3.022 sec)\n",
      "INFO:tensorflow:Saving checkpoints for 4400 into credit_trained_LR001_10/model.ckpt.\n",
      "INFO:tensorflow:global_step/sec: 30.3191\n",
      "INFO:tensorflow:loss = 0.0, step = 4401 (3.298 sec)\n",
      "INFO:tensorflow:Saving checkpoints for 4500 into credit_trained_LR001_10/model.ckpt.\n",
      "INFO:tensorflow:global_step/sec: 31.6735\n",
      "INFO:tensorflow:loss = 0.0, step = 4501 (3.162 sec)\n",
      "INFO:tensorflow:Saving checkpoints for 4600 into credit_trained_LR001_10/model.ckpt.\n",
      "INFO:tensorflow:global_step/sec: 33.4384\n",
      "INFO:tensorflow:loss = 0.0, step = 4601 (2.986 sec)\n",
      "INFO:tensorflow:Saving checkpoints for 4700 into credit_trained_LR001_10/model.ckpt.\n",
      "INFO:tensorflow:global_step/sec: 29.1394\n",
      "INFO:tensorflow:loss = 2.3135555e-33, step = 4701 (3.436 sec)\n",
      "INFO:tensorflow:Saving checkpoints for 4800 into credit_trained_LR001_10/model.ckpt.\n",
      "INFO:tensorflow:global_step/sec: 30.8817\n",
      "INFO:tensorflow:loss = 0.0, step = 4801 (3.236 sec)\n",
      "INFO:tensorflow:Saving checkpoints for 4900 into credit_trained_LR001_10/model.ckpt.\n",
      "INFO:tensorflow:global_step/sec: 34.2004\n",
      "INFO:tensorflow:loss = 0.0, step = 4901 (2.923 sec)\n",
      "INFO:tensorflow:Saving checkpoints for 5000 into credit_trained_LR001_10/model.ckpt.\n",
      "INFO:tensorflow:Loss for final step: 1.3883082e-10.\n"
     ]
    },
    {
     "data": {
      "text/plain": [
       "<tensorflow_estimator.python.estimator.canned.dnn.DNNClassifier at 0x7ff73818dd30>"
      ]
     },
     "execution_count": 54,
     "metadata": {},
     "output_type": "execute_result"
    }
   ],
   "source": [
    "model.train(input_fn = lambda : train_input_fn('./input/train_smote.csv'),\n",
    "    max_steps = 5000\n",
    ")"
   ]
  },
  {
   "cell_type": "code",
   "execution_count": 55,
   "metadata": {},
   "outputs": [
    {
     "name": "stdout",
     "output_type": "stream",
     "text": [
      "INFO:tensorflow:Calling model_fn.\n",
      "WARNING:tensorflow:Trapezoidal rule is known to produce incorrect PR-AUCs; please switch to \"careful_interpolation\" instead.\n",
      "WARNING:tensorflow:Trapezoidal rule is known to produce incorrect PR-AUCs; please switch to \"careful_interpolation\" instead.\n",
      "INFO:tensorflow:Done calling model_fn.\n",
      "INFO:tensorflow:Starting evaluation at 2019-12-09T13:36:01Z\n",
      "INFO:tensorflow:Graph was finalized.\n",
      "INFO:tensorflow:Restoring parameters from credit_trained_LR001_10/model.ckpt-5000\n",
      "INFO:tensorflow:Running local_init_op.\n",
      "INFO:tensorflow:Done running local_init_op.\n",
      "INFO:tensorflow:Finished evaluation at 2019-12-09-13:36:16\n",
      "INFO:tensorflow:Saving dict for global step 5000: accuracy = 0.0024358665, accuracy_baseline = 0.9981786, auc = 0.5008574, auc_precision_recall = 0.50091225, average_loss = 1633.9825, global_step = 5000, label/mean = 0.0018214136, loss = 208568.5, precision = 0.0018225336, prediction/mean = 0.99929744, recall = 1.0\n",
      "INFO:tensorflow:Saving 'checkpoint_path' summary for global step 5000: credit_trained_LR001_10/model.ckpt-5000\n"
     ]
    },
    {
     "data": {
      "text/plain": [
       "{'accuracy': 0.0024358665,\n",
       " 'accuracy_baseline': 0.9981786,\n",
       " 'auc': 0.5008574,\n",
       " 'auc_precision_recall': 0.50091225,\n",
       " 'average_loss': 1633.9825,\n",
       " 'global_step': 5000,\n",
       " 'label/mean': 0.0018214136,\n",
       " 'loss': 208568.5,\n",
       " 'precision': 0.0018225336,\n",
       " 'prediction/mean': 0.99929744,\n",
       " 'recall': 1.0}"
      ]
     },
     "execution_count": 55,
     "metadata": {},
     "output_type": "execute_result"
    }
   ],
   "source": [
    "model.evaluate(input_fn = lambda: eval_input_fn('./input/valid.csv'))"
   ]
  },
  {
   "cell_type": "code",
   "execution_count": 56,
   "metadata": {},
   "outputs": [
    {
     "name": "stdout",
     "output_type": "stream",
     "text": [
      "INFO:tensorflow:Calling model_fn.\n",
      "INFO:tensorflow:Done calling model_fn.\n",
      "INFO:tensorflow:Graph was finalized.\n",
      "INFO:tensorflow:Restoring parameters from credit_trained_LR001_10/model.ckpt-5000\n",
      "INFO:tensorflow:Running local_init_op.\n",
      "INFO:tensorflow:Done running local_init_op.\n",
      "[[   28 45458]\n",
      " [    0    83]]\n"
     ]
    },
    {
     "data": {
      "image/png": "[encoded data removed]",
      "text/plain": [
       "<Figure size 432x288 with 2 Axes>"
      ]
     },
     "metadata": {
      "needs_background": "light"
     },
     "output_type": "display_data"
    }
   ],
   "source": [
    "import numpy as np\n",
    "import seaborn as sns\n",
    "import matplotlib.pyplot as plt\n",
    "\n",
    "def get_predictions(estimator, input_fn):\n",
    "    return [x[\"class_ids\"][0] for x in model.predict(input_fn=input_fn)]\n",
    "\n",
    "LABELS = [\"0\", \"1\"]\n",
    "\n",
    "df_eval = pd.read_csv('./input/valid.csv')\n",
    "\n",
    "# Create a confusion matrix on training data.\n",
    "with tf.Graph().as_default():\n",
    "    cm = tf.confusion_matrix(pd.read_csv('./input/valid.csv')[\"Class\"],get_predictions(model,  lambda: eval_input_fn('./input/valid.csv')))\n",
    "    with tf.Session() as session:\n",
    "        cm_out = session.run(cm)\n",
    "        print(cm_out)\n",
    "\n",
    "# Normalize the confusion matrix so that each row sums to 1.\n",
    "cm_out = cm_out.astype(float) \n",
    "# / cm_out.sum(axis=1)[:, np.newaxis]\n",
    "\n",
    "sns.heatmap(cm_out, annot=True, xticklabels=LABELS, yticklabels=LABELS);\n",
    "plt.xlabel(\"Predicted\");\n",
    "plt.ylabel(\"True\");"
   ]
  },
  {
   "cell_type": "markdown",
   "metadata": {},
   "source": [
    "# hidden_units = [1]"
   ]
  },
  {
   "cell_type": "code",
   "execution_count": 57,
   "metadata": {},
   "outputs": [
    {
     "name": "stdout",
     "output_type": "stream",
     "text": [
      "INFO:tensorflow:Using config: {'_experimental_distribute': None, '_evaluation_master': '', '_model_dir': 'credit_trained_LR001_1', '_global_id_in_cluster': 0, '_keep_checkpoint_every_n_hours': 10000, '_task_type': 'worker', '_service': None, '_session_creation_timeout_secs': 7200, '_log_step_count_steps': 100, '_save_checkpoints_steps': 100, '_save_summary_steps': 10, '_protocol': None, '_task_id': 0, '_save_checkpoints_secs': None, '_keep_checkpoint_max': 5, '_train_distribute': None, '_eval_distribute': None, '_num_ps_replicas': 0, '_session_config': allow_soft_placement: true\n",
      "graph_options {\n",
      "  rewrite_options {\n",
      "    meta_optimizer_iterations: ONE\n",
      "  }\n",
      "}\n",
      ", '_num_worker_replicas': 1, '_tf_random_seed': None, '_master': '', '_is_chief': True, '_cluster_spec': <tensorflow.python.training.server_lib.ClusterSpec object at 0x7ff799417780>, '_experimental_max_worker_delay_secs': None, '_device_fn': None}\n"
     ]
    }
   ],
   "source": [
    "OUTDIR = \"credit_trained_LR001_1\"\n",
    "\n",
    "config = tf.estimator.RunConfig(\n",
    "    model_dir=OUTDIR,\n",
    "    save_summary_steps=10,\n",
    "    save_checkpoints_steps=100\n",
    ")\n",
    "model = tf.estimator.DNNClassifier(\n",
    "                                  hidden_units=[1],\n",
    "                                  feature_columns=feature_cols,\n",
    "                                  optimizer = tf.train.AdamOptimizer(learning_rate=0.001),\n",
    "                                  config = config)"
   ]
  },
  {
   "cell_type": "code",
   "execution_count": 58,
   "metadata": {},
   "outputs": [
    {
     "name": "stdout",
     "output_type": "stream",
     "text": [
      "rm: cannot remove 'credit_trained_LR001_1': No such file or directory\n"
     ]
    }
   ],
   "source": [
    "!rm -r {OUTDIR}"
   ]
  },
  {
   "cell_type": "code",
   "execution_count": 59,
   "metadata": {},
   "outputs": [
    {
     "name": "stdout",
     "output_type": "stream",
     "text": [
      "INFO:tensorflow:Calling model_fn.\n",
      "INFO:tensorflow:Done calling model_fn.\n",
      "INFO:tensorflow:Create CheckpointSaverHook.\n",
      "INFO:tensorflow:Graph was finalized.\n",
      "INFO:tensorflow:Running local_init_op.\n",
      "INFO:tensorflow:Done running local_init_op.\n",
      "INFO:tensorflow:Saving checkpoints for 0 into credit_trained_LR001_1/model.ckpt.\n",
      "INFO:tensorflow:loss = 161896.97, step = 1\n",
      "INFO:tensorflow:Saving checkpoints for 100 into credit_trained_LR001_1/model.ckpt.\n",
      "INFO:tensorflow:global_step/sec: 21.018\n",
      "INFO:tensorflow:loss = 116.60617, step = 101 (4.765 sec)\n",
      "INFO:tensorflow:Saving checkpoints for 200 into credit_trained_LR001_1/model.ckpt.\n",
      "INFO:tensorflow:global_step/sec: 30.0563\n",
      "INFO:tensorflow:loss = 123.13315, step = 201 (3.323 sec)\n",
      "INFO:tensorflow:Saving checkpoints for 300 into credit_trained_LR001_1/model.ckpt.\n",
      "INFO:tensorflow:global_step/sec: 39.0098\n",
      "INFO:tensorflow:loss = 72.859024, step = 301 (2.563 sec)\n",
      "INFO:tensorflow:Saving checkpoints for 400 into credit_trained_LR001_1/model.ckpt.\n",
      "INFO:tensorflow:global_step/sec: 37.1063\n",
      "INFO:tensorflow:loss = 68.025986, step = 401 (2.695 sec)\n",
      "INFO:tensorflow:Saving checkpoints for 500 into credit_trained_LR001_1/model.ckpt.\n",
      "INFO:tensorflow:global_step/sec: 38.0193\n",
      "INFO:tensorflow:loss = 65.525444, step = 501 (2.631 sec)\n",
      "INFO:tensorflow:Saving checkpoints for 600 into credit_trained_LR001_1/model.ckpt.\n",
      "INFO:tensorflow:global_step/sec: 35.2856\n",
      "INFO:tensorflow:loss = 59.37502, step = 601 (2.839 sec)\n",
      "INFO:tensorflow:Saving checkpoints for 700 into credit_trained_LR001_1/model.ckpt.\n",
      "INFO:tensorflow:global_step/sec: 39.9291\n",
      "INFO:tensorflow:loss = 58.353207, step = 701 (2.500 sec)\n",
      "INFO:tensorflow:Saving checkpoints for 800 into credit_trained_LR001_1/model.ckpt.\n",
      "INFO:tensorflow:global_step/sec: 35.4846\n",
      "INFO:tensorflow:loss = 51.84216, step = 801 (2.822 sec)\n",
      "INFO:tensorflow:Saving checkpoints for 900 into credit_trained_LR001_1/model.ckpt.\n",
      "INFO:tensorflow:global_step/sec: 33.325\n",
      "INFO:tensorflow:loss = 54.761642, step = 901 (2.997 sec)\n",
      "INFO:tensorflow:Saving checkpoints for 1000 into credit_trained_LR001_1/model.ckpt.\n",
      "INFO:tensorflow:global_step/sec: 37.6139\n",
      "INFO:tensorflow:loss = 45.43498, step = 1001 (2.659 sec)\n",
      "INFO:tensorflow:Saving checkpoints for 1100 into credit_trained_LR001_1/model.ckpt.\n",
      "INFO:tensorflow:global_step/sec: 36.4564\n",
      "INFO:tensorflow:loss = 42.57447, step = 1101 (2.747 sec)\n",
      "INFO:tensorflow:Saving checkpoints for 1200 into credit_trained_LR001_1/model.ckpt.\n",
      "INFO:tensorflow:global_step/sec: 31.3887\n",
      "INFO:tensorflow:loss = 39.932255, step = 1201 (3.181 sec)\n",
      "INFO:tensorflow:Saving checkpoints for 1300 into credit_trained_LR001_1/model.ckpt.\n",
      "INFO:tensorflow:global_step/sec: 31.1592\n",
      "INFO:tensorflow:loss = 37.48449, step = 1301 (3.210 sec)\n",
      "INFO:tensorflow:Saving checkpoints for 1400 into credit_trained_LR001_1/model.ckpt.\n",
      "INFO:tensorflow:global_step/sec: 28.0742\n",
      "INFO:tensorflow:loss = 35.21274, step = 1401 (3.561 sec)\n",
      "INFO:tensorflow:Saving checkpoints for 1500 into credit_trained_LR001_1/model.ckpt.\n",
      "INFO:tensorflow:global_step/sec: 33.7113\n",
      "INFO:tensorflow:loss = 170.0214, step = 1501 (2.966 sec)\n",
      "INFO:tensorflow:Saving checkpoints for 1600 into credit_trained_LR001_1/model.ckpt.\n",
      "INFO:tensorflow:global_step/sec: 33.6028\n",
      "INFO:tensorflow:loss = 155.35568, step = 1601 (2.977 sec)\n",
      "INFO:tensorflow:Saving checkpoints for 1700 into credit_trained_LR001_1/model.ckpt.\n",
      "INFO:tensorflow:global_step/sec: 27.4873\n",
      "INFO:tensorflow:loss = 142.17491, step = 1701 (3.642 sec)\n",
      "INFO:tensorflow:Saving checkpoints for 1800 into credit_trained_LR001_1/model.ckpt.\n",
      "INFO:tensorflow:global_step/sec: 32.8994\n",
      "INFO:tensorflow:loss = 130.88864, step = 1801 (3.035 sec)\n",
      "INFO:tensorflow:Saving checkpoints for 1900 into credit_trained_LR001_1/model.ckpt.\n",
      "INFO:tensorflow:global_step/sec: 32.6609\n",
      "INFO:tensorflow:loss = 120.98841, step = 1901 (3.061 sec)\n",
      "INFO:tensorflow:Saving checkpoints for 2000 into credit_trained_LR001_1/model.ckpt.\n",
      "INFO:tensorflow:global_step/sec: 34.9523\n",
      "INFO:tensorflow:loss = 112.1798, step = 2001 (2.865 sec)\n",
      "INFO:tensorflow:Saving checkpoints for 2100 into credit_trained_LR001_1/model.ckpt.\n",
      "INFO:tensorflow:global_step/sec: 29.6596\n",
      "INFO:tensorflow:loss = 103.44559, step = 2101 (3.372 sec)\n",
      "INFO:tensorflow:Saving checkpoints for 2200 into credit_trained_LR001_1/model.ckpt.\n",
      "INFO:tensorflow:global_step/sec: 33.6947\n",
      "INFO:tensorflow:loss = 97.096596, step = 2201 (2.963 sec)\n",
      "INFO:tensorflow:Saving checkpoints for 2300 into credit_trained_LR001_1/model.ckpt.\n",
      "INFO:tensorflow:global_step/sec: 38.0033\n",
      "INFO:tensorflow:loss = 89.15662, step = 2301 (2.632 sec)\n",
      "INFO:tensorflow:Saving checkpoints for 2400 into credit_trained_LR001_1/model.ckpt.\n",
      "INFO:tensorflow:global_step/sec: 33.3384\n",
      "INFO:tensorflow:loss = 84.60754, step = 2401 (3.002 sec)\n",
      "INFO:tensorflow:Saving checkpoints for 2500 into credit_trained_LR001_1/model.ckpt.\n",
      "INFO:tensorflow:global_step/sec: 30.367\n",
      "INFO:tensorflow:loss = 79.13891, step = 2501 (3.293 sec)\n",
      "INFO:tensorflow:Saving checkpoints for 2600 into credit_trained_LR001_1/model.ckpt.\n",
      "INFO:tensorflow:global_step/sec: 35.3215\n",
      "INFO:tensorflow:loss = 74.1106, step = 2601 (2.832 sec)\n",
      "INFO:tensorflow:Saving checkpoints for 2700 into credit_trained_LR001_1/model.ckpt.\n",
      "INFO:tensorflow:global_step/sec: 33.9267\n",
      "INFO:tensorflow:loss = 69.47448, step = 2701 (2.947 sec)\n",
      "INFO:tensorflow:Saving checkpoints for 2800 into credit_trained_LR001_1/model.ckpt.\n",
      "INFO:tensorflow:global_step/sec: 35.0269\n",
      "INFO:tensorflow:loss = 65.19493, step = 2801 (2.851 sec)\n",
      "INFO:tensorflow:Saving checkpoints for 2900 into credit_trained_LR001_1/model.ckpt.\n",
      "INFO:tensorflow:global_step/sec: 32.5468\n",
      "INFO:tensorflow:loss = 116.328255, step = 2901 (3.073 sec)\n",
      "INFO:tensorflow:Saving checkpoints for 3000 into credit_trained_LR001_1/model.ckpt.\n",
      "INFO:tensorflow:global_step/sec: 33.0227\n",
      "INFO:tensorflow:loss = 107.69201, step = 3001 (3.028 sec)\n",
      "INFO:tensorflow:Saving checkpoints for 3100 into credit_trained_LR001_1/model.ckpt.\n",
      "INFO:tensorflow:global_step/sec: 37.5934\n",
      "INFO:tensorflow:loss = 99.949425, step = 3101 (2.665 sec)\n",
      "INFO:tensorflow:Saving checkpoints for 3200 into credit_trained_LR001_1/model.ckpt.\n",
      "INFO:tensorflow:global_step/sec: 30.979\n",
      "INFO:tensorflow:loss = 92.9662, step = 3201 (3.224 sec)\n",
      "INFO:tensorflow:Saving checkpoints for 3300 into credit_trained_LR001_1/model.ckpt.\n",
      "INFO:tensorflow:global_step/sec: 42.7669\n",
      "INFO:tensorflow:loss = 86.63329, step = 3301 (2.337 sec)\n",
      "INFO:tensorflow:Saving checkpoints for 3400 into credit_trained_LR001_1/model.ckpt.\n",
      "INFO:tensorflow:global_step/sec: 36.1952\n",
      "INFO:tensorflow:loss = 80.870125, step = 3401 (2.763 sec)\n",
      "INFO:tensorflow:Saving checkpoints for 3500 into credit_trained_LR001_1/model.ckpt.\n",
      "INFO:tensorflow:global_step/sec: 35.1942\n",
      "INFO:tensorflow:loss = 75.595345, step = 3501 (2.844 sec)\n",
      "INFO:tensorflow:Saving checkpoints for 3600 into credit_trained_LR001_1/model.ckpt.\n",
      "INFO:tensorflow:global_step/sec: 37.2581\n",
      "INFO:tensorflow:loss = 70.75323, step = 3601 (2.681 sec)\n",
      "INFO:tensorflow:Saving checkpoints for 3700 into credit_trained_LR001_1/model.ckpt.\n",
      "INFO:tensorflow:global_step/sec: 36.5731\n",
      "INFO:tensorflow:loss = 66.30583, step = 3701 (2.734 sec)\n",
      "INFO:tensorflow:Saving checkpoints for 3800 into credit_trained_LR001_1/model.ckpt.\n",
      "INFO:tensorflow:global_step/sec: 36.591\n",
      "INFO:tensorflow:loss = 62.20734, step = 3801 (2.733 sec)\n",
      "INFO:tensorflow:Saving checkpoints for 3900 into credit_trained_LR001_1/model.ckpt.\n",
      "INFO:tensorflow:global_step/sec: 36.3681\n",
      "INFO:tensorflow:loss = 58.96874, step = 3901 (2.750 sec)\n",
      "INFO:tensorflow:Saving checkpoints for 4000 into credit_trained_LR001_1/model.ckpt.\n",
      "INFO:tensorflow:global_step/sec: 36.6192\n",
      "INFO:tensorflow:loss = 54.917282, step = 4001 (2.735 sec)\n",
      "INFO:tensorflow:Saving checkpoints for 4100 into credit_trained_LR001_1/model.ckpt.\n",
      "INFO:tensorflow:global_step/sec: 35.4516\n",
      "INFO:tensorflow:loss = 51.680965, step = 4101 (2.817 sec)\n",
      "INFO:tensorflow:Saving checkpoints for 4200 into credit_trained_LR001_1/model.ckpt.\n",
      "INFO:tensorflow:global_step/sec: 36.3956\n",
      "INFO:tensorflow:loss = 48.666485, step = 4201 (2.748 sec)\n",
      "INFO:tensorflow:Saving checkpoints for 4300 into credit_trained_LR001_1/model.ckpt.\n",
      "INFO:tensorflow:global_step/sec: 35.4537\n",
      "INFO:tensorflow:loss = 148.70993, step = 4301 (2.824 sec)\n",
      "INFO:tensorflow:Saving checkpoints for 4400 into credit_trained_LR001_1/model.ckpt.\n",
      "INFO:tensorflow:global_step/sec: 35.5926\n",
      "INFO:tensorflow:loss = 136.07216, step = 4401 (2.806 sec)\n",
      "INFO:tensorflow:Saving checkpoints for 4500 into credit_trained_LR001_1/model.ckpt.\n",
      "INFO:tensorflow:global_step/sec: 37.185\n",
      "INFO:tensorflow:loss = 125.073845, step = 4501 (2.690 sec)\n",
      "INFO:tensorflow:Saving checkpoints for 4600 into credit_trained_LR001_1/model.ckpt.\n",
      "INFO:tensorflow:global_step/sec: 35.4029\n",
      "INFO:tensorflow:loss = 115.41564, step = 4601 (2.824 sec)\n",
      "INFO:tensorflow:Saving checkpoints for 4700 into credit_trained_LR001_1/model.ckpt.\n",
      "INFO:tensorflow:global_step/sec: 36.4933\n",
      "INFO:tensorflow:loss = 106.83422, step = 4701 (2.740 sec)\n",
      "INFO:tensorflow:Saving checkpoints for 4800 into credit_trained_LR001_1/model.ckpt.\n",
      "INFO:tensorflow:global_step/sec: 33.7454\n",
      "INFO:tensorflow:loss = 99.14355, step = 4801 (2.963 sec)\n",
      "INFO:tensorflow:Saving checkpoints for 4900 into credit_trained_LR001_1/model.ckpt.\n",
      "INFO:tensorflow:global_step/sec: 48.9114\n",
      "INFO:tensorflow:loss = 92.20557, step = 4901 (2.044 sec)\n",
      "INFO:tensorflow:Saving checkpoints for 5000 into credit_trained_LR001_1/model.ckpt.\n",
      "INFO:tensorflow:Loss for final step: 85.97386.\n"
     ]
    },
    {
     "data": {
      "text/plain": [
       "<tensorflow_estimator.python.estimator.canned.dnn.DNNClassifier at 0x7ff799417a20>"
      ]
     },
     "execution_count": 59,
     "metadata": {},
     "output_type": "execute_result"
    }
   ],
   "source": [
    "model.train(input_fn = lambda : train_input_fn('./input/train_smote.csv'),\n",
    "    max_steps = 5000\n",
    ")"
   ]
  },
  {
   "cell_type": "code",
   "execution_count": 60,
   "metadata": {},
   "outputs": [
    {
     "name": "stdout",
     "output_type": "stream",
     "text": [
      "INFO:tensorflow:Calling model_fn.\n",
      "WARNING:tensorflow:Trapezoidal rule is known to produce incorrect PR-AUCs; please switch to \"careful_interpolation\" instead.\n",
      "WARNING:tensorflow:Trapezoidal rule is known to produce incorrect PR-AUCs; please switch to \"careful_interpolation\" instead.\n",
      "INFO:tensorflow:Done calling model_fn.\n",
      "INFO:tensorflow:Starting evaluation at 2019-12-09T13:39:00Z\n",
      "INFO:tensorflow:Graph was finalized.\n",
      "INFO:tensorflow:Restoring parameters from credit_trained_LR001_1/model.ckpt-5000\n",
      "INFO:tensorflow:Running local_init_op.\n",
      "INFO:tensorflow:Done running local_init_op.\n",
      "INFO:tensorflow:Finished evaluation at 2019-12-09-13:39:14\n",
      "INFO:tensorflow:Saving dict for global step 5000: accuracy = 0.0018214136, accuracy_baseline = 0.9981786, auc = 0.49994504, auc_precision_recall = 0.0009108068, average_loss = 0.7155252, global_step = 5000, label/mean = 0.0018214136, loss = 91.33269, precision = 0.0018214136, prediction/mean = 0.5111016, recall = 1.0\n",
      "INFO:tensorflow:Saving 'checkpoint_path' summary for global step 5000: credit_trained_LR001_1/model.ckpt-5000\n"
     ]
    },
    {
     "data": {
      "text/plain": [
       "{'accuracy': 0.0018214136,\n",
       " 'accuracy_baseline': 0.9981786,\n",
       " 'auc': 0.49994504,\n",
       " 'auc_precision_recall': 0.0009108068,\n",
       " 'average_loss': 0.7155252,\n",
       " 'global_step': 5000,\n",
       " 'label/mean': 0.0018214136,\n",
       " 'loss': 91.33269,\n",
       " 'precision': 0.0018214136,\n",
       " 'prediction/mean': 0.5111016,\n",
       " 'recall': 1.0}"
      ]
     },
     "execution_count": 60,
     "metadata": {},
     "output_type": "execute_result"
    }
   ],
   "source": [
    "model.evaluate(input_fn = lambda: eval_input_fn('./input/valid.csv'))"
   ]
  },
  {
   "cell_type": "code",
   "execution_count": 61,
   "metadata": {},
   "outputs": [
    {
     "name": "stdout",
     "output_type": "stream",
     "text": [
      "INFO:tensorflow:Calling model_fn.\n",
      "INFO:tensorflow:Done calling model_fn.\n",
      "INFO:tensorflow:Graph was finalized.\n",
      "INFO:tensorflow:Restoring parameters from credit_trained_LR001_1/model.ckpt-5000\n",
      "INFO:tensorflow:Running local_init_op.\n",
      "INFO:tensorflow:Done running local_init_op.\n",
      "[[    0 45486]\n",
      " [    0    83]]\n"
     ]
    },
    {
     "data": {
      "image/png": "[encoded data removed]",
      "text/plain": [
       "<Figure size 432x288 with 2 Axes>"
      ]
     },
     "metadata": {
      "needs_background": "light"
     },
     "output_type": "display_data"
    }
   ],
   "source": [
    "import numpy as np\n",
    "import seaborn as sns\n",
    "import matplotlib.pyplot as plt\n",
    "\n",
    "def get_predictions(estimator, input_fn):\n",
    "    return [x[\"class_ids\"][0] for x in model.predict(input_fn=input_fn)]\n",
    "\n",
    "LABELS = [\"0\", \"1\"]\n",
    "\n",
    "df_eval = pd.read_csv('./input/valid.csv')\n",
    "\n",
    "# Create a confusion matrix on training data.\n",
    "with tf.Graph().as_default():\n",
    "    cm = tf.confusion_matrix(pd.read_csv('./input/valid.csv')[\"Class\"],get_predictions(model,  lambda: eval_input_fn('./input/valid.csv')))\n",
    "    with tf.Session() as session:\n",
    "        cm_out = session.run(cm)\n",
    "        print(cm_out)\n",
    "\n",
    "# Normalize the confusion matrix so that each row sums to 1.\n",
    "cm_out = cm_out.astype(float) \n",
    "# / cm_out.sum(axis=1)[:, np.newaxis]\n",
    "\n",
    "sns.heatmap(cm_out, annot=True, xticklabels=LABELS, yticklabels=LABELS);\n",
    "plt.xlabel(\"Predicted\");\n",
    "plt.ylabel(\"True\");"
   ]
  },
  {
   "cell_type": "code",
   "execution_count": null,
   "metadata": {},
   "outputs": [],
   "source": []
  },
  {
   "cell_type": "code",
   "execution_count": null,
   "metadata": {},
   "outputs": [],
   "source": []
  },
  {
   "cell_type": "markdown",
   "metadata": {},
   "source": [
    "# Train SMOTE Class별 Label확인"
   ]
  },
  {
   "cell_type": "code",
   "execution_count": 17,
   "metadata": {},
   "outputs": [],
   "source": [
    "df_train_smote = pd.read_csv('./input/train_smote.csv')"
   ]
  },
  {
   "cell_type": "code",
   "execution_count": 19,
   "metadata": {},
   "outputs": [
    {
     "data": {
      "text/plain": [
       "1    181971\n",
       "0    181971\n",
       "Name: Class, dtype: int64"
      ]
     },
     "execution_count": 19,
     "metadata": {},
     "output_type": "execute_result"
    }
   ],
   "source": [
    "df_train_smote.Class.value_counts()"
   ]
  },
  {
   "cell_type": "code",
   "execution_count": null,
   "metadata": {},
   "outputs": [],
   "source": []
  },
  {
   "cell_type": "code",
   "execution_count": null,
   "metadata": {},
   "outputs": [],
   "source": []
  },
  {
   "cell_type": "code",
   "execution_count": null,
   "metadata": {},
   "outputs": [],
   "source": []
  },
  {
   "cell_type": "code",
   "execution_count": null,
   "metadata": {},
   "outputs": [],
   "source": []
  },
  {
   "cell_type": "code",
   "execution_count": null,
   "metadata": {},
   "outputs": [],
   "source": []
  },
  {
   "cell_type": "code",
   "execution_count": null,
   "metadata": {},
   "outputs": [],
   "source": []
  },
  {
   "cell_type": "code",
   "execution_count": null,
   "metadata": {},
   "outputs": [],
   "source": []
  },
  {
   "cell_type": "code",
   "execution_count": 31,
   "metadata": {},
   "outputs": [],
   "source": [
    "data = pd.read_csv('./input/creditcard.csv')"
   ]
  },
  {
   "cell_type": "code",
   "execution_count": 32,
   "metadata": {},
   "outputs": [
    {
     "ename": "NameError",
     "evalue": "name 'train_test_split' is not defined",
     "output_type": "error",
     "traceback": [
      "\u001b[0;31m---------------------------------------------------------------------------\u001b[0m",
      "\u001b[0;31mNameError\u001b[0m                                 Traceback (most recent call last)",
      "\u001b[0;32m<ipython-input-32-1e3953be641f>\u001b[0m in \u001b[0;36m<module>\u001b[0;34m\u001b[0m\n\u001b[0;32m----> 1\u001b[0;31m \u001b[0mdf_train\u001b[0m\u001b[0;34m,\u001b[0m \u001b[0mdf_valid\u001b[0m \u001b[0;34m=\u001b[0m \u001b[0mtrain_test_split\u001b[0m\u001b[0;34m(\u001b[0m\u001b[0mdf_train\u001b[0m\u001b[0;34m,\u001b[0m \u001b[0mtest_size\u001b[0m\u001b[0;34m=\u001b[0m\u001b[0;36m0.2\u001b[0m\u001b[0;34m,\u001b[0m \u001b[0mrandom_state\u001b[0m\u001b[0;34m=\u001b[0m\u001b[0;36m27\u001b[0m\u001b[0;34m)\u001b[0m\u001b[0;34m\u001b[0m\u001b[0m\n\u001b[0m\u001b[1;32m      2\u001b[0m \u001b[0mprint\u001b[0m\u001b[0;34m(\u001b[0m\u001b[0;34m'df_train :'\u001b[0m\u001b[0;34m,\u001b[0m \u001b[0mdf_train\u001b[0m\u001b[0;34m.\u001b[0m\u001b[0mshape\u001b[0m\u001b[0;34m)\u001b[0m\u001b[0;34m\u001b[0m\u001b[0m\n\u001b[1;32m      3\u001b[0m \u001b[0mprint\u001b[0m\u001b[0;34m(\u001b[0m\u001b[0;34m'df_valid :'\u001b[0m\u001b[0;34m,\u001b[0m \u001b[0mdf_valid\u001b[0m\u001b[0;34m.\u001b[0m\u001b[0mshape\u001b[0m\u001b[0;34m)\u001b[0m\u001b[0;34m\u001b[0m\u001b[0m\n\u001b[1;32m      4\u001b[0m \u001b[0mprint\u001b[0m\u001b[0;34m(\u001b[0m\u001b[0;34m'df_test :'\u001b[0m\u001b[0;34m,\u001b[0m \u001b[0mdf_test\u001b[0m\u001b[0;34m.\u001b[0m\u001b[0mshape\u001b[0m\u001b[0;34m)\u001b[0m\u001b[0;34m\u001b[0m\u001b[0m\n",
      "\u001b[0;31mNameError\u001b[0m: name 'train_test_split' is not defined"
     ]
    }
   ],
   "source": [
    "df_train, df_valid = train_test_split(df_train, test_size=0.2, random_state=27)\n",
    "print('df_train :', df_train.shape)\n",
    "print('df_valid :', df_valid.shape)\n",
    "print('df_test :', df_test.shape)"
   ]
  },
  {
   "cell_type": "code",
   "execution_count": null,
   "metadata": {},
   "outputs": [],
   "source": []
  },
  {
   "cell_type": "code",
   "execution_count": null,
   "metadata": {},
   "outputs": [],
   "source": []
  },
  {
   "cell_type": "code",
   "execution_count": 28,
   "metadata": {},
   "outputs": [],
   "source": [
    "# pandas_input_fn\n",
    "def pd_input_fn(df,batch_size=128,num_epochs=5,shuffle=True):\n",
    "    return tf.estimator.inputs.pandas_input_fn(\n",
    "      x=df[FEATURE_NAMES],\n",
    "      y=df[LABEL_NAME],\n",
    "      batch_size = batch_size,\n",
    "      num_epochs = num_epochs,\n",
    "      shuffle = shuffle,\n",
    "      queue_capacity = 1000,\n",
    "      num_threads = 1\n",
    "  )"
   ]
  },
  {
   "cell_type": "code",
   "execution_count": null,
   "metadata": {},
   "outputs": [],
   "source": [
    "OUTDIR = \"credit-prac\"\n",
    "\n",
    "config = tf.estimator.RunConfig(\n",
    "    model_dir = OUTDIR,\n",
    "    tf_random_seed = 1,\n",
    "    save_checkpoints_steps = 100\n",
    ")\n",
    "\n",
    "model = tf.estimator.DNNClassifier(\n",
    "  hidden_units = [10,10], \n",
    "  feature_columns = feature_cols, \n",
    "  config = config\n",
    ")"
   ]
  },
  {
   "cell_type": "code",
   "execution_count": null,
   "metadata": {},
   "outputs": [],
   "source": [
    "%%time\n",
    "tf.logging.set_verbosity(tf.logging.INFO) \n",
    "shutil.rmtree(path = OUTDIR, ignore_errors = True)\n",
    "\n",
    "model.train(input_fn = pd_input_fn(df=df_train,num_epochs=5), steps = 500)"
   ]
  },
  {
   "cell_type": "code",
   "execution_count": null,
   "metadata": {},
   "outputs": [],
   "source": []
  },
  {
   "cell_type": "code",
   "execution_count": null,
   "metadata": {},
   "outputs": [],
   "source": []
  },
  {
   "cell_type": "code",
   "execution_count": 65,
   "metadata": {},
   "outputs": [
    {
     "name": "stdout",
     "output_type": "stream",
     "text": [
      "INFO:tensorflow:Calling model_fn.\n",
      "INFO:tensorflow:Done calling model_fn.\n",
      "INFO:tensorflow:Graph was finalized.\n",
      "INFO:tensorflow:Restoring parameters from credit_trained/model.ckpt-5000\n",
      "INFO:tensorflow:Running local_init_op.\n",
      "INFO:tensorflow:Done running local_init_op.\n",
      "[[70783   287]\n",
      " [   77    55]]\n"
     ]
    },
    {
     "data": {
      "image/png": "[encoded data removed]",
      "text/plain": [
       "<Figure size 432x288 with 2 Axes>"
      ]
     },
     "metadata": {
      "needs_background": "light"
     },
     "output_type": "display_data"
    }
   ],
   "source": [
    "import numpy as np\n",
    "import seaborn as sns\n",
    "import matplotlib.pyplot as plt\n",
    "\n",
    "def get_predictions(estimator, input_fn):\n",
    "    return [x[\"class_ids\"][0] for x in model.predict(input_fn=input_fn)]\n",
    "\n",
    "LABELS = [\n",
    "    \"0\", \"1\"\n",
    "]\n",
    "\n",
    "# Create a confusion matrix on training data.\n",
    "with tf.Graph().as_default():\n",
    "    cm = tf.confusion_matrix(df_eval[\"Class\"],get_predictions(model,  lambda: eval_input_fn('./input/creditcard_eval.csv')))\n",
    "    with tf.Session() as session:\n",
    "        cm_out = session.run(cm)\n",
    "        print(cm_out)\n",
    "\n",
    "# Normalize the confusion matrix so that each row sums to 1.\n",
    "cm_out = cm_out.astype(float) \n",
    "# / cm_out.sum(axis=1)[:, np.newaxis]\n",
    "\n",
    "sns.heatmap(cm_out, annot=True, xticklabels=LABELS, yticklabels=LABELS);\n",
    "plt.xlabel(\"Predicted\");\n",
    "plt.ylabel(\"True\");"
   ]
  },
  {
   "cell_type": "code",
   "execution_count": null,
   "metadata": {},
   "outputs": [],
   "source": []
  },
  {
   "cell_type": "code",
   "execution_count": null,
   "metadata": {},
   "outputs": [],
   "source": [
    "tf.estimator.RunConfig"
   ]
  }
 ],
 "metadata": {
  "kernelspec": {
   "display_name": "Python 3",
   "language": "python",
   "name": "python3"
  },
  "language_info": {
   "codemirror_mode": {
    "name": "ipython",
    "version": 3
   },
   "file_extension": ".py",
   "mimetype": "text/x-python",
   "name": "python",
   "nbconvert_exporter": "python",
   "pygments_lexer": "ipython3",
   "version": "3.5.3"
  }
 },
 "nbformat": 4,
 "nbformat_minor": 4
}
