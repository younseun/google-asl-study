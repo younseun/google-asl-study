{
 "cells": [
  {
   "cell_type": "code",
   "execution_count": 85,
   "metadata": {},
   "outputs": [],
   "source": [
    "import numpy as np\n",
    "import pandas as pd\n",
    "import matplotlib.pyplot as plt\n",
    "import seaborn as sns\n",
    "\n",
    "from imblearn.over_sampling import SMOTE\n",
    "from sklearn.utils import resample\n",
    "from sklearn.model_selection import train_test_split\n",
    "from sklearn.linear_model import LogisticRegression\n",
    "from sklearn.dummy import DummyClassifier\n",
    "from sklearn.metrics import accuracy_score, f1_score, confusion_matrix, recall_score, precision_score, fbeta_score"
   ]
  },
  {
   "cell_type": "code",
   "execution_count": 2,
   "metadata": {},
   "outputs": [],
   "source": [
    "# setting up default plotting parameters\n",
    "%matplotlib inline\n",
    "\n",
    "plt.rcParams['figure.figsize'] = [20.0, 7.0]\n",
    "plt.rcParams.update({'font.size': 22,})\n",
    "\n",
    "sns.set_palette('viridis')\n",
    "sns.set_style('white')\n",
    "sns.set_context('talk', font_scale=0.8)"
   ]
  },
  {
   "cell_type": "code",
   "execution_count": 3,
   "metadata": {},
   "outputs": [
    {
     "name": "stdout",
     "output_type": "stream",
     "text": [
      "(284807, 31)\n"
     ]
    },
    {
     "data": {
      "text/html": [
       "<div>\n",
       "<style scoped>\n",
       "    .dataframe tbody tr th:only-of-type {\n",
       "        vertical-align: middle;\n",
       "    }\n",
       "\n",
       "    .dataframe tbody tr th {\n",
       "        vertical-align: top;\n",
       "    }\n",
       "\n",
       "    .dataframe thead th {\n",
       "        text-align: right;\n",
       "    }\n",
       "</style>\n",
       "<table border=\"1\" class=\"dataframe\">\n",
       "  <thead>\n",
       "    <tr style=\"text-align: right;\">\n",
       "      <th></th>\n",
       "      <th>Time</th>\n",
       "      <th>V1</th>\n",
       "      <th>V2</th>\n",
       "      <th>V3</th>\n",
       "      <th>V4</th>\n",
       "      <th>V5</th>\n",
       "      <th>V6</th>\n",
       "      <th>V7</th>\n",
       "      <th>V8</th>\n",
       "      <th>V9</th>\n",
       "      <th>...</th>\n",
       "      <th>V21</th>\n",
       "      <th>V22</th>\n",
       "      <th>V23</th>\n",
       "      <th>V24</th>\n",
       "      <th>V25</th>\n",
       "      <th>V26</th>\n",
       "      <th>V27</th>\n",
       "      <th>V28</th>\n",
       "      <th>Amount</th>\n",
       "      <th>Class</th>\n",
       "    </tr>\n",
       "  </thead>\n",
       "  <tbody>\n",
       "    <tr>\n",
       "      <th>0</th>\n",
       "      <td>0.0</td>\n",
       "      <td>-1.359807</td>\n",
       "      <td>-0.072781</td>\n",
       "      <td>2.536347</td>\n",
       "      <td>1.378155</td>\n",
       "      <td>-0.338321</td>\n",
       "      <td>0.462388</td>\n",
       "      <td>0.239599</td>\n",
       "      <td>0.098698</td>\n",
       "      <td>0.363787</td>\n",
       "      <td>...</td>\n",
       "      <td>-0.018307</td>\n",
       "      <td>0.277838</td>\n",
       "      <td>-0.110474</td>\n",
       "      <td>0.066928</td>\n",
       "      <td>0.128539</td>\n",
       "      <td>-0.189115</td>\n",
       "      <td>0.133558</td>\n",
       "      <td>-0.021053</td>\n",
       "      <td>149.62</td>\n",
       "      <td>0</td>\n",
       "    </tr>\n",
       "    <tr>\n",
       "      <th>1</th>\n",
       "      <td>0.0</td>\n",
       "      <td>1.191857</td>\n",
       "      <td>0.266151</td>\n",
       "      <td>0.166480</td>\n",
       "      <td>0.448154</td>\n",
       "      <td>0.060018</td>\n",
       "      <td>-0.082361</td>\n",
       "      <td>-0.078803</td>\n",
       "      <td>0.085102</td>\n",
       "      <td>-0.255425</td>\n",
       "      <td>...</td>\n",
       "      <td>-0.225775</td>\n",
       "      <td>-0.638672</td>\n",
       "      <td>0.101288</td>\n",
       "      <td>-0.339846</td>\n",
       "      <td>0.167170</td>\n",
       "      <td>0.125895</td>\n",
       "      <td>-0.008983</td>\n",
       "      <td>0.014724</td>\n",
       "      <td>2.69</td>\n",
       "      <td>0</td>\n",
       "    </tr>\n",
       "    <tr>\n",
       "      <th>2</th>\n",
       "      <td>1.0</td>\n",
       "      <td>-1.358354</td>\n",
       "      <td>-1.340163</td>\n",
       "      <td>1.773209</td>\n",
       "      <td>0.379780</td>\n",
       "      <td>-0.503198</td>\n",
       "      <td>1.800499</td>\n",
       "      <td>0.791461</td>\n",
       "      <td>0.247676</td>\n",
       "      <td>-1.514654</td>\n",
       "      <td>...</td>\n",
       "      <td>0.247998</td>\n",
       "      <td>0.771679</td>\n",
       "      <td>0.909412</td>\n",
       "      <td>-0.689281</td>\n",
       "      <td>-0.327642</td>\n",
       "      <td>-0.139097</td>\n",
       "      <td>-0.055353</td>\n",
       "      <td>-0.059752</td>\n",
       "      <td>378.66</td>\n",
       "      <td>0</td>\n",
       "    </tr>\n",
       "    <tr>\n",
       "      <th>3</th>\n",
       "      <td>1.0</td>\n",
       "      <td>-0.966272</td>\n",
       "      <td>-0.185226</td>\n",
       "      <td>1.792993</td>\n",
       "      <td>-0.863291</td>\n",
       "      <td>-0.010309</td>\n",
       "      <td>1.247203</td>\n",
       "      <td>0.237609</td>\n",
       "      <td>0.377436</td>\n",
       "      <td>-1.387024</td>\n",
       "      <td>...</td>\n",
       "      <td>-0.108300</td>\n",
       "      <td>0.005274</td>\n",
       "      <td>-0.190321</td>\n",
       "      <td>-1.175575</td>\n",
       "      <td>0.647376</td>\n",
       "      <td>-0.221929</td>\n",
       "      <td>0.062723</td>\n",
       "      <td>0.061458</td>\n",
       "      <td>123.50</td>\n",
       "      <td>0</td>\n",
       "    </tr>\n",
       "    <tr>\n",
       "      <th>4</th>\n",
       "      <td>2.0</td>\n",
       "      <td>-1.158233</td>\n",
       "      <td>0.877737</td>\n",
       "      <td>1.548718</td>\n",
       "      <td>0.403034</td>\n",
       "      <td>-0.407193</td>\n",
       "      <td>0.095921</td>\n",
       "      <td>0.592941</td>\n",
       "      <td>-0.270533</td>\n",
       "      <td>0.817739</td>\n",
       "      <td>...</td>\n",
       "      <td>-0.009431</td>\n",
       "      <td>0.798278</td>\n",
       "      <td>-0.137458</td>\n",
       "      <td>0.141267</td>\n",
       "      <td>-0.206010</td>\n",
       "      <td>0.502292</td>\n",
       "      <td>0.219422</td>\n",
       "      <td>0.215153</td>\n",
       "      <td>69.99</td>\n",
       "      <td>0</td>\n",
       "    </tr>\n",
       "  </tbody>\n",
       "</table>\n",
       "<p>5 rows × 31 columns</p>\n",
       "</div>"
      ],
      "text/plain": [
       "   Time        V1        V2        V3        V4        V5        V6        V7  \\\n",
       "0   0.0 -1.359807 -0.072781  2.536347  1.378155 -0.338321  0.462388  0.239599   \n",
       "1   0.0  1.191857  0.266151  0.166480  0.448154  0.060018 -0.082361 -0.078803   \n",
       "2   1.0 -1.358354 -1.340163  1.773209  0.379780 -0.503198  1.800499  0.791461   \n",
       "3   1.0 -0.966272 -0.185226  1.792993 -0.863291 -0.010309  1.247203  0.237609   \n",
       "4   2.0 -1.158233  0.877737  1.548718  0.403034 -0.407193  0.095921  0.592941   \n",
       "\n",
       "         V8        V9  ...       V21       V22       V23       V24       V25  \\\n",
       "0  0.098698  0.363787  ... -0.018307  0.277838 -0.110474  0.066928  0.128539   \n",
       "1  0.085102 -0.255425  ... -0.225775 -0.638672  0.101288 -0.339846  0.167170   \n",
       "2  0.247676 -1.514654  ...  0.247998  0.771679  0.909412 -0.689281 -0.327642   \n",
       "3  0.377436 -1.387024  ... -0.108300  0.005274 -0.190321 -1.175575  0.647376   \n",
       "4 -0.270533  0.817739  ... -0.009431  0.798278 -0.137458  0.141267 -0.206010   \n",
       "\n",
       "        V26       V27       V28  Amount  Class  \n",
       "0 -0.189115  0.133558 -0.021053  149.62      0  \n",
       "1  0.125895 -0.008983  0.014724    2.69      0  \n",
       "2 -0.139097 -0.055353 -0.059752  378.66      0  \n",
       "3 -0.221929  0.062723  0.061458  123.50      0  \n",
       "4  0.502292  0.219422  0.215153   69.99      0  \n",
       "\n",
       "[5 rows x 31 columns]"
      ]
     },
     "execution_count": 3,
     "metadata": {},
     "output_type": "execute_result"
    }
   ],
   "source": [
    "# read in data\n",
    "df = pd.read_csv('./input/creditcard.csv')\n",
    "\n",
    "print(df.shape)\n",
    "df.head()"
   ]
  },
  {
   "cell_type": "code",
   "execution_count": 4,
   "metadata": {},
   "outputs": [],
   "source": [
    "df.describe().T.to_csv('./Data_Schema/df_describe.csv')"
   ]
  },
  {
   "cell_type": "code",
   "execution_count": 5,
   "metadata": {},
   "outputs": [
    {
     "name": "stdout",
     "output_type": "stream",
     "text": [
      "0    284315\n",
      "1       492\n",
      "Name: Class, dtype: int64\n"
     ]
    }
   ],
   "source": [
    "print(df.Class.value_counts())"
   ]
  },
  {
   "cell_type": "code",
   "execution_count": 6,
   "metadata": {},
   "outputs": [
    {
     "data": {
      "image/png": "[encoded data removed]",
      "text/plain": [
       "<Figure size 1296x288 with 2 Axes>"
      ]
     },
     "metadata": {},
     "output_type": "display_data"
    }
   ],
   "source": [
    "fig, ax = plt.subplots(1, 2, figsize=(18,4))\n",
    "\n",
    "amount_val = df['Amount'].values\n",
    "time_val = df['Time'].values\n",
    "\n",
    "sns.distplot(amount_val, ax=ax[0], color='r')\n",
    "ax[0].set_title('Distribution of Transaction Amount', fontsize=14)\n",
    "ax[0].set_xlim([min(amount_val), max(amount_val)])\n",
    "\n",
    "sns.distplot(time_val, ax=ax[1], color='b')\n",
    "ax[1].set_title('Distribution of Transaction Time', fontsize=14)\n",
    "ax[1].set_xlim([min(time_val), max(time_val)])\n",
    "\n",
    "plt.show()"
   ]
  },
  {
   "cell_type": "code",
   "execution_count": 7,
   "metadata": {},
   "outputs": [],
   "source": [
    "# Since most of our data has already been scaled we should scale the columns that are left to scale (Amount and Time)\n",
    "from sklearn.preprocessing import StandardScaler, RobustScaler\n",
    "\n",
    "# RobustScaler is less prone to outliers.\n",
    "\n",
    "std_scaler = StandardScaler()\n",
    "rob_scaler = RobustScaler()\n",
    "\n",
    "df['scaled_amount'] = rob_scaler.fit_transform(df['Amount'].values.reshape(-1,1))\n",
    "df['scaled_time'] = rob_scaler.fit_transform(df['Time'].values.reshape(-1,1))\n",
    "\n",
    "df.drop(['Time','Amount'], axis=1, inplace=True)"
   ]
  },
  {
   "cell_type": "code",
   "execution_count": 8,
   "metadata": {},
   "outputs": [
    {
     "data": {
      "image/png": "[encoded data removed]",
      "text/plain": [
       "<Figure size 1296x288 with 2 Axes>"
      ]
     },
     "metadata": {},
     "output_type": "display_data"
    }
   ],
   "source": [
    "fig, ax = plt.subplots(1, 2, figsize=(18,4))\n",
    "\n",
    "amount_val = df['scaled_amount'].values\n",
    "time_val = df['scaled_time'].values\n",
    "\n",
    "sns.distplot(amount_val, ax=ax[0], color='r')\n",
    "ax[0].set_title('Distribution of Transaction Amount', fontsize=14)\n",
    "ax[0].set_xlim([min(amount_val), max(amount_val)])\n",
    "\n",
    "sns.distplot(time_val, ax=ax[1], color='b')\n",
    "ax[1].set_title('Distribution of Transaction Time', fontsize=14)\n",
    "ax[1].set_xlim([min(time_val), max(time_val)])\n",
    "\n",
    "plt.show()"
   ]
  },
  {
   "cell_type": "code",
   "execution_count": null,
   "metadata": {},
   "outputs": [],
   "source": []
  },
  {
   "cell_type": "code",
   "execution_count": null,
   "metadata": {},
   "outputs": [],
   "source": []
  },
  {
   "cell_type": "code",
   "execution_count": 9,
   "metadata": {},
   "outputs": [
    {
     "data": {
      "image/png": "[encoded data removed]",
      "text/plain": [
       "<Figure size 1440x504 with 1 Axes>"
      ]
     },
     "metadata": {},
     "output_type": "display_data"
    }
   ],
   "source": [
    "# using seaborns countplot to show distribution of questions in dataset\n",
    "fig, ax = plt.subplots()\n",
    "g = sns.countplot(df.Class, palette='viridis')\n",
    "g.set_xticklabels(['Not Fraud', 'Fraud'])\n",
    "g.set_yticklabels([])\n",
    "\n",
    "# function to show values on bars\n",
    "def show_values_on_bars(axs):\n",
    "    def _show_on_single_plot(ax):        \n",
    "        for p in ax.patches:\n",
    "            _x = p.get_x() + p.get_width() / 2\n",
    "            _y = p.get_y() + p.get_height()\n",
    "            value = '{:.0f}'.format(p.get_height())\n",
    "            ax.text(_x, _y, value, ha=\"center\") \n",
    "\n",
    "    if isinstance(axs, np.ndarray):\n",
    "        for idx, ax in np.ndenumerate(axs):\n",
    "            _show_on_single_plot(ax)\n",
    "    else:\n",
    "        _show_on_single_plot(axs)\n",
    "show_values_on_bars(ax)\n",
    "\n",
    "sns.despine(left=True, bottom=True)\n",
    "plt.xlabel('')\n",
    "plt.ylabel('')\n",
    "plt.title('Distribution of Transactions', fontsize=30)\n",
    "plt.tick_params(axis='x', which='major', labelsize=15)\n",
    "plt.show()\n"
   ]
  },
  {
   "cell_type": "code",
   "execution_count": 10,
   "metadata": {},
   "outputs": [
    {
     "data": {
      "text/plain": [
       "0.17304750013189596"
      ]
     },
     "execution_count": 10,
     "metadata": {},
     "output_type": "execute_result"
    }
   ],
   "source": [
    "# print percentage of questions where target == 1\n",
    "(len(df.loc[df.Class==1])) / (len(df.loc[df.Class == 0])) * 100"
   ]
  },
  {
   "cell_type": "code",
   "execution_count": 11,
   "metadata": {},
   "outputs": [
    {
     "data": {
      "text/html": [
       "<div>\n",
       "<style scoped>\n",
       "    .dataframe tbody tr th:only-of-type {\n",
       "        vertical-align: middle;\n",
       "    }\n",
       "\n",
       "    .dataframe tbody tr th {\n",
       "        vertical-align: top;\n",
       "    }\n",
       "\n",
       "    .dataframe thead th {\n",
       "        text-align: right;\n",
       "    }\n",
       "</style>\n",
       "<table border=\"1\" class=\"dataframe\">\n",
       "  <thead>\n",
       "    <tr style=\"text-align: right;\">\n",
       "      <th></th>\n",
       "      <th>V1</th>\n",
       "      <th>V2</th>\n",
       "      <th>V3</th>\n",
       "      <th>V4</th>\n",
       "      <th>V5</th>\n",
       "      <th>V6</th>\n",
       "      <th>V7</th>\n",
       "      <th>V8</th>\n",
       "      <th>V9</th>\n",
       "      <th>V10</th>\n",
       "      <th>...</th>\n",
       "      <th>V22</th>\n",
       "      <th>V23</th>\n",
       "      <th>V24</th>\n",
       "      <th>V25</th>\n",
       "      <th>V26</th>\n",
       "      <th>V27</th>\n",
       "      <th>V28</th>\n",
       "      <th>scaled_amount</th>\n",
       "      <th>scaled_time</th>\n",
       "      <th>Class</th>\n",
       "    </tr>\n",
       "  </thead>\n",
       "  <tbody>\n",
       "    <tr>\n",
       "      <th>264873</th>\n",
       "      <td>-0.395578</td>\n",
       "      <td>1.489129</td>\n",
       "      <td>-0.833442</td>\n",
       "      <td>-0.224271</td>\n",
       "      <td>0.369444</td>\n",
       "      <td>-1.453886</td>\n",
       "      <td>0.796593</td>\n",
       "      <td>-0.060403</td>\n",
       "      <td>0.338270</td>\n",
       "      <td>-0.343885</td>\n",
       "      <td>...</td>\n",
       "      <td>0.955194</td>\n",
       "      <td>-0.172092</td>\n",
       "      <td>-0.041050</td>\n",
       "      <td>-0.313444</td>\n",
       "      <td>-0.174301</td>\n",
       "      <td>0.064657</td>\n",
       "      <td>-0.036960</td>\n",
       "      <td>-0.269126</td>\n",
       "      <td>0.903934</td>\n",
       "      <td>0</td>\n",
       "    </tr>\n",
       "    <tr>\n",
       "      <th>163821</th>\n",
       "      <td>1.950487</td>\n",
       "      <td>0.002312</td>\n",
       "      <td>-1.761814</td>\n",
       "      <td>1.232470</td>\n",
       "      <td>0.523175</td>\n",
       "      <td>-0.650657</td>\n",
       "      <td>0.504231</td>\n",
       "      <td>-0.200857</td>\n",
       "      <td>0.116805</td>\n",
       "      <td>0.443750</td>\n",
       "      <td>...</td>\n",
       "      <td>0.326297</td>\n",
       "      <td>-0.068839</td>\n",
       "      <td>-0.416589</td>\n",
       "      <td>0.426044</td>\n",
       "      <td>-0.486299</td>\n",
       "      <td>-0.031266</td>\n",
       "      <td>-0.072543</td>\n",
       "      <td>0.229721</td>\n",
       "      <td>0.370599</td>\n",
       "      <td>0</td>\n",
       "    </tr>\n",
       "    <tr>\n",
       "      <th>72083</th>\n",
       "      <td>1.105167</td>\n",
       "      <td>-0.166253</td>\n",
       "      <td>0.569520</td>\n",
       "      <td>0.681043</td>\n",
       "      <td>-0.259189</td>\n",
       "      <td>0.642792</td>\n",
       "      <td>-0.437034</td>\n",
       "      <td>0.356746</td>\n",
       "      <td>0.441417</td>\n",
       "      <td>-0.113006</td>\n",
       "      <td>...</td>\n",
       "      <td>0.293023</td>\n",
       "      <td>-0.028688</td>\n",
       "      <td>-0.242206</td>\n",
       "      <td>0.389813</td>\n",
       "      <td>0.482852</td>\n",
       "      <td>0.010705</td>\n",
       "      <td>-0.008399</td>\n",
       "      <td>-0.293440</td>\n",
       "      <td>-0.354034</td>\n",
       "      <td>0</td>\n",
       "    </tr>\n",
       "    <tr>\n",
       "      <th>196949</th>\n",
       "      <td>1.805238</td>\n",
       "      <td>0.961264</td>\n",
       "      <td>-1.717212</td>\n",
       "      <td>4.094625</td>\n",
       "      <td>0.938666</td>\n",
       "      <td>-0.227785</td>\n",
       "      <td>0.152911</td>\n",
       "      <td>0.066753</td>\n",
       "      <td>-1.073784</td>\n",
       "      <td>0.334537</td>\n",
       "      <td>...</td>\n",
       "      <td>-0.450959</td>\n",
       "      <td>0.098530</td>\n",
       "      <td>-0.662272</td>\n",
       "      <td>-0.150154</td>\n",
       "      <td>-0.098852</td>\n",
       "      <td>-0.000030</td>\n",
       "      <td>0.017622</td>\n",
       "      <td>0.222036</td>\n",
       "      <td>0.553096</td>\n",
       "      <td>0</td>\n",
       "    </tr>\n",
       "    <tr>\n",
       "      <th>126213</th>\n",
       "      <td>0.835421</td>\n",
       "      <td>-1.191847</td>\n",
       "      <td>0.578455</td>\n",
       "      <td>0.586101</td>\n",
       "      <td>-1.236663</td>\n",
       "      <td>0.194617</td>\n",
       "      <td>-0.532404</td>\n",
       "      <td>0.061561</td>\n",
       "      <td>-0.734344</td>\n",
       "      <td>0.754427</td>\n",
       "      <td>...</td>\n",
       "      <td>-0.109154</td>\n",
       "      <td>-0.308356</td>\n",
       "      <td>0.011968</td>\n",
       "      <td>0.461350</td>\n",
       "      <td>-0.244810</td>\n",
       "      <td>0.031845</td>\n",
       "      <td>0.060910</td>\n",
       "      <td>3.004262</td>\n",
       "      <td>-0.079101</td>\n",
       "      <td>0</td>\n",
       "    </tr>\n",
       "  </tbody>\n",
       "</table>\n",
       "<p>5 rows × 31 columns</p>\n",
       "</div>"
      ],
      "text/plain": [
       "              V1        V2        V3        V4        V5        V6        V7  \\\n",
       "264873 -0.395578  1.489129 -0.833442 -0.224271  0.369444 -1.453886  0.796593   \n",
       "163821  1.950487  0.002312 -1.761814  1.232470  0.523175 -0.650657  0.504231   \n",
       "72083   1.105167 -0.166253  0.569520  0.681043 -0.259189  0.642792 -0.437034   \n",
       "196949  1.805238  0.961264 -1.717212  4.094625  0.938666 -0.227785  0.152911   \n",
       "126213  0.835421 -1.191847  0.578455  0.586101 -1.236663  0.194617 -0.532404   \n",
       "\n",
       "              V8        V9       V10  ...       V22       V23       V24  \\\n",
       "264873 -0.060403  0.338270 -0.343885  ...  0.955194 -0.172092 -0.041050   \n",
       "163821 -0.200857  0.116805  0.443750  ...  0.326297 -0.068839 -0.416589   \n",
       "72083   0.356746  0.441417 -0.113006  ...  0.293023 -0.028688 -0.242206   \n",
       "196949  0.066753 -1.073784  0.334537  ... -0.450959  0.098530 -0.662272   \n",
       "126213  0.061561 -0.734344  0.754427  ... -0.109154 -0.308356  0.011968   \n",
       "\n",
       "             V25       V26       V27       V28  scaled_amount  scaled_time  \\\n",
       "264873 -0.313444 -0.174301  0.064657 -0.036960      -0.269126     0.903934   \n",
       "163821  0.426044 -0.486299 -0.031266 -0.072543       0.229721     0.370599   \n",
       "72083   0.389813  0.482852  0.010705 -0.008399      -0.293440    -0.354034   \n",
       "196949 -0.150154 -0.098852 -0.000030  0.017622       0.222036     0.553096   \n",
       "126213  0.461350 -0.244810  0.031845  0.060910       3.004262    -0.079101   \n",
       "\n",
       "        Class  \n",
       "264873      0  \n",
       "163821      0  \n",
       "72083       0  \n",
       "196949      0  \n",
       "126213      0  \n",
       "\n",
       "[5 rows x 31 columns]"
      ]
     },
     "execution_count": 11,
     "metadata": {},
     "output_type": "execute_result"
    }
   ],
   "source": [
    "# Prepare data for modeling\n",
    "# Separate input features and target\n",
    "X = df.drop('Class', axis=1)\n",
    "y = df.Class\n",
    "\n",
    "# setting up testing and training sets\n",
    "X_train, X_test, y_train, y_test = train_test_split(X, y, test_size=0.25, random_state=27)\n",
    "\n",
    "# concatenate our training data back together\n",
    "Train = pd.concat([X_train, y_train], axis=1)\n",
    "Train.head()"
   ]
  },
  {
   "cell_type": "code",
   "execution_count": 12,
   "metadata": {},
   "outputs": [
    {
     "name": "stdout",
     "output_type": "stream",
     "text": [
      "(213605, 30) (71202, 30) (213605,) (71202,)\n"
     ]
    }
   ],
   "source": [
    "print(X_train.shape, X_test.shape, y_train.shape, y_test.shape)"
   ]
  },
  {
   "cell_type": "code",
   "execution_count": null,
   "metadata": {},
   "outputs": [],
   "source": []
  },
  {
   "cell_type": "markdown",
   "metadata": {},
   "source": [
    "# 1. 성과지표(Accuracy >> Recall/Precision/f1)"
   ]
  },
  {
   "cell_type": "code",
   "execution_count": 13,
   "metadata": {},
   "outputs": [
    {
     "name": "stdout",
     "output_type": "stream",
     "text": [
      "Unique predicted labels:  [0]\n",
      "Test score:  0.9981461194910255\n"
     ]
    }
   ],
   "source": [
    "# DummyClassifier to predict only target 0\n",
    "dummy = DummyClassifier(strategy='most_frequent').fit(X_train, y_train)\n",
    "dummy_pred = dummy.predict(X_test)\n",
    "\n",
    "# checking unique labels\n",
    "print('Unique predicted labels: ', (np.unique(dummy_pred)))\n",
    "\n",
    "# checking accuracy\n",
    "print('Test score: ', accuracy_score(y_test, dummy_pred))"
   ]
  },
  {
   "cell_type": "markdown",
   "metadata": {},
   "source": [
    "# LogisticRegression"
   ]
  },
  {
   "cell_type": "code",
   "execution_count": 14,
   "metadata": {},
   "outputs": [
    {
     "name": "stdout",
     "output_type": "stream",
     "text": [
      "Test score:  0.9992275497879273\n"
     ]
    }
   ],
   "source": [
    "# Modeling the data as is\n",
    "# Train model\n",
    "lr = LogisticRegression(solver='liblinear').fit(X_train, y_train)\n",
    " \n",
    "# Predict on training set\n",
    "lr_pred = lr.predict(X_test)\n",
    "\n",
    "# checking accuracy\n",
    "print('Test score: ', accuracy_score(y_test, lr_pred))"
   ]
  },
  {
   "cell_type": "code",
   "execution_count": 15,
   "metadata": {},
   "outputs": [
    {
     "data": {
      "text/plain": [
       "0    71111\n",
       "1       91\n",
       "Name: 0, dtype: int64"
      ]
     },
     "execution_count": 15,
     "metadata": {},
     "output_type": "execute_result"
    }
   ],
   "source": [
    "lr_predictions = pd.DataFrame(lr_pred)\n",
    "lr_predictions[0].value_counts()"
   ]
  },
  {
   "cell_type": "code",
   "execution_count": 16,
   "metadata": {},
   "outputs": [
    {
     "data": {
      "text/html": [
       "<div>\n",
       "<style scoped>\n",
       "    .dataframe tbody tr th:only-of-type {\n",
       "        vertical-align: middle;\n",
       "    }\n",
       "\n",
       "    .dataframe tbody tr th {\n",
       "        vertical-align: top;\n",
       "    }\n",
       "\n",
       "    .dataframe thead th {\n",
       "        text-align: right;\n",
       "    }\n",
       "</style>\n",
       "<table border=\"1\" class=\"dataframe\">\n",
       "  <thead>\n",
       "    <tr style=\"text-align: right;\">\n",
       "      <th></th>\n",
       "      <th>0</th>\n",
       "      <th>1</th>\n",
       "    </tr>\n",
       "  </thead>\n",
       "  <tbody>\n",
       "    <tr>\n",
       "      <th>0</th>\n",
       "      <td>71063</td>\n",
       "      <td>7</td>\n",
       "    </tr>\n",
       "    <tr>\n",
       "      <th>1</th>\n",
       "      <td>48</td>\n",
       "      <td>84</td>\n",
       "    </tr>\n",
       "  </tbody>\n",
       "</table>\n",
       "</div>"
      ],
      "text/plain": [
       "       0   1\n",
       "0  71063   7\n",
       "1     48  84"
      ]
     },
     "execution_count": 16,
     "metadata": {},
     "output_type": "execute_result"
    }
   ],
   "source": [
    "# confusion matrix\n",
    "pd.DataFrame(confusion_matrix(y_test, lr_pred))"
   ]
  },
  {
   "cell_type": "code",
   "execution_count": 19,
   "metadata": {},
   "outputs": [
    {
     "name": "stdout",
     "output_type": "stream",
     "text": [
      "recall   :0.5909090909090909 = 78/(78+54)\n",
      "precision:0.8863636363636364 = 78/(78+10)\n",
      "f1       :0.7090909090909091 = 2/(1/0.5909090909090909+1/0.8863636363636364)\n"
     ]
    }
   ],
   "source": [
    "print('recall   :{3} = {0}/({0}+{1})\\nprecision:{4} = {0}/({0}+{2})\\nf1       :{5} = 2/(1/{3}+1/{4})'.\n",
    "      format(78, \n",
    "             54, \n",
    "             10, \n",
    "             78 / (54 + 78), \n",
    "             78/ (78 + 10),\n",
    "             2/(1/(78 / (54 + 78))+1/(78/ (78 + 10)))))"
   ]
  },
  {
   "cell_type": "code",
   "execution_count": 20,
   "metadata": {},
   "outputs": [
    {
     "name": "stdout",
     "output_type": "stream",
     "text": [
      "        Accuracy /     Recall /  Precision /         F1\n",
      "LR  :    0.99923 /    0.63636 /    0.92308 /    0.75336\n"
     ]
    }
   ],
   "source": [
    "# score value\n",
    "print('        Accuracy /     Recall /  Precision /         F1')\n",
    "print('LR  : {:10.5f} / {:10.5f} / {:10.5f} / {:10.5f}'.format(accuracy_score(y_test, lr_pred), recall_score(y_test, lr_pred), precision_score(y_test, lr_pred), f1_score(y_test, lr_pred)))"
   ]
  },
  {
   "cell_type": "markdown",
   "metadata": {},
   "source": [
    "## 2. 알고리즘 변경(LinearRegression >> RandomForestClassifier)\n",
    "###    RandomForestClassifier"
   ]
  },
  {
   "cell_type": "code",
   "execution_count": 21,
   "metadata": {},
   "outputs": [
    {
     "data": {
      "text/plain": [
       "0.9995786635206876"
      ]
     },
     "execution_count": 21,
     "metadata": {},
     "output_type": "execute_result"
    }
   ],
   "source": [
    "from sklearn.ensemble import RandomForestClassifier\n",
    "\n",
    "# train model\n",
    "rfc = RandomForestClassifier(n_estimators=10).fit(X_train, y_train)\n",
    "\n",
    "# predict on test set\n",
    "rfc_pred = rfc.predict(X_test)\n",
    "\n",
    "accuracy_score(y_test, rfc_pred)"
   ]
  },
  {
   "cell_type": "code",
   "execution_count": 22,
   "metadata": {},
   "outputs": [
    {
     "data": {
      "text/plain": [
       "0    71090\n",
       "1      112\n",
       "Name: 0, dtype: int64"
      ]
     },
     "execution_count": 22,
     "metadata": {},
     "output_type": "execute_result"
    }
   ],
   "source": [
    "rfc_predictions = pd.DataFrame(rfc_pred)\n",
    "rfc_predictions[0].value_counts()"
   ]
  },
  {
   "cell_type": "code",
   "execution_count": 23,
   "metadata": {},
   "outputs": [
    {
     "data": {
      "text/html": [
       "<div>\n",
       "<style scoped>\n",
       "    .dataframe tbody tr th:only-of-type {\n",
       "        vertical-align: middle;\n",
       "    }\n",
       "\n",
       "    .dataframe tbody tr th {\n",
       "        vertical-align: top;\n",
       "    }\n",
       "\n",
       "    .dataframe thead th {\n",
       "        text-align: right;\n",
       "    }\n",
       "</style>\n",
       "<table border=\"1\" class=\"dataframe\">\n",
       "  <thead>\n",
       "    <tr style=\"text-align: right;\">\n",
       "      <th></th>\n",
       "      <th>0</th>\n",
       "      <th>1</th>\n",
       "    </tr>\n",
       "  </thead>\n",
       "  <tbody>\n",
       "    <tr>\n",
       "      <th>0</th>\n",
       "      <td>71065</td>\n",
       "      <td>5</td>\n",
       "    </tr>\n",
       "    <tr>\n",
       "      <th>1</th>\n",
       "      <td>25</td>\n",
       "      <td>107</td>\n",
       "    </tr>\n",
       "  </tbody>\n",
       "</table>\n",
       "</div>"
      ],
      "text/plain": [
       "       0    1\n",
       "0  71065    5\n",
       "1     25  107"
      ]
     },
     "execution_count": 23,
     "metadata": {},
     "output_type": "execute_result"
    }
   ],
   "source": [
    "# confusion matrix\n",
    "pd.DataFrame(confusion_matrix(y_test, rfc_pred))"
   ]
  },
  {
   "cell_type": "code",
   "execution_count": 24,
   "metadata": {},
   "outputs": [
    {
     "name": "stdout",
     "output_type": "stream",
     "text": [
      "recall   :0.7878787878787878 = 104/(104+28)\n",
      "precision:0.9719626168224299 = 104/(104+3)\n",
      "f1       :0.8702928870292886 = 2/(1/0.7878787878787878+1/0.9719626168224299)\n"
     ]
    }
   ],
   "source": [
    "print('recall   :{3} = {0}/({0}+{1})\\nprecision:{4} = {0}/({0}+{2})\\nf1       :{5} = 2/(1/{3}+1/{4})'.\n",
    "      format(104, \n",
    "             28, \n",
    "             3, \n",
    "             104 / (28 + 104), \n",
    "             104/ (104 + 3),\n",
    "             2/(1/(104 / (28 + 104))+1/(104/ (104 + 3)))))"
   ]
  },
  {
   "cell_type": "code",
   "execution_count": 25,
   "metadata": {},
   "outputs": [
    {
     "name": "stdout",
     "output_type": "stream",
     "text": [
      "        Accuracy /     Recall /  Precision /         F1\n",
      "LR  :    0.99923 /    0.63636 /    0.92308 /    0.75336\n",
      "RFC :    0.99958 /    0.81061 /    0.95536 /    0.87705\n"
     ]
    }
   ],
   "source": [
    "print('        Accuracy /     Recall /  Precision /         F1')\n",
    "print('LR  : {:10.5f} / {:10.5f} / {:10.5f} / {:10.5f}'.format(accuracy_score(y_test, lr_pred), recall_score(y_test, lr_pred), precision_score(y_test, lr_pred), f1_score(y_test, lr_pred)))\n",
    "print('RFC : {:10.5f} / {:10.5f} / {:10.5f} / {:10.5f}'.format(accuracy_score(y_test, rfc_pred), recall_score(y_test, rfc_pred), precision_score(y_test, rfc_pred), f1_score(y_test, rfc_pred)))"
   ]
  },
  {
   "cell_type": "markdown",
   "metadata": {},
   "source": [
    "# 3. Resampling Techniques\n",
    "      - Oversampling Minority Class"
   ]
  },
  {
   "cell_type": "markdown",
   "metadata": {},
   "source": [
    "Oversampling can be defined as adding more copies of the minority class. Oversampling can be a good choice when you don't have a ton of data to work with. A con to consider when undersampling is that it can cause overfitting and poor generalization to your test set.\n",
    "\n",
    "We will use the resampling module from Scikit-Learn to randomly replicate samples from the minority class.\n",
    "\n",
    "Important Note\n",
    "Always split into test and train sets BEFORE trying any resampling techniques! Oversampling before splitting the data can allow the exact same observations to be present in both the test and train sets! This can allow our model to simply memorize specific data points and cause overfitting."
   ]
  },
  {
   "cell_type": "markdown",
   "metadata": {},
   "source": [
    "오버 샘플링은 소수 클래스의 사본을 더 추가하는 것으로 정의 할 수 있습니다. 작업 할 데이터가 많지 않은 경우 오버 샘플링을 선택하는 것이 좋습니다. 언더 샘플링시 고려해야 할 단점은 테스트 세트에 과적 합 및 일반화가 잘못 될 수 있다는 것입니다.\n",
    "\n",
    "Scikit-Learn의 리샘플링 모듈을 사용하여 소수 클래스의 샘플을 무작위로 복제합니다.\n",
    "\n",
    "중요 사항\n",
    "리샘플링 기술을 시도하기 전에 항상 테스트 및 트레인 세트로 분할하십시오! 데이터를 분할하기 전에 오버 샘플링하면 테스트와 트레인 세트 모두에 똑같은 관측 값이 표시 될 수 있습니다! 이를 통해 모델이 특정 데이터 포인트를 암기하고 과적 합을 유발할 수 있습니다."
   ]
  },
  {
   "cell_type": "code",
   "execution_count": 26,
   "metadata": {},
   "outputs": [],
   "source": [
    "# separate minority and majority classes\n",
    "not_fraud = Train[Train.Class==0]\n",
    "fraud = Train[Train.Class==1]"
   ]
  },
  {
   "cell_type": "code",
   "execution_count": 27,
   "metadata": {},
   "outputs": [
    {
     "data": {
      "text/plain": [
       "0    213245\n",
       "1       360\n",
       "Name: Class, dtype: int64"
      ]
     },
     "execution_count": 27,
     "metadata": {},
     "output_type": "execute_result"
    }
   ],
   "source": [
    "Train.Class.value_counts()"
   ]
  },
  {
   "cell_type": "code",
   "execution_count": 28,
   "metadata": {},
   "outputs": [
    {
     "data": {
      "text/plain": [
       "1    213245\n",
       "0    213245\n",
       "Name: Class, dtype: int64"
      ]
     },
     "execution_count": 28,
     "metadata": {},
     "output_type": "execute_result"
    }
   ],
   "source": [
    "# upsample minority\n",
    "fraud_upsampled = resample(fraud,\n",
    "                          replace=True, # sample with replacement\n",
    "                          n_samples=len(not_fraud), # match number in majority class\n",
    "                          random_state=27) # reproducible results\n",
    "# combine majority and upsampled minority\n",
    "upsampled = pd.concat([not_fraud, fraud_upsampled])\n",
    "# check new class counts\n",
    "upsampled.Class.value_counts()"
   ]
  },
  {
   "cell_type": "code",
   "execution_count": 31,
   "metadata": {},
   "outputs": [
    {
     "data": {
      "text/html": [
       "<div>\n",
       "<style scoped>\n",
       "    .dataframe tbody tr th:only-of-type {\n",
       "        vertical-align: middle;\n",
       "    }\n",
       "\n",
       "    .dataframe tbody tr th {\n",
       "        vertical-align: top;\n",
       "    }\n",
       "\n",
       "    .dataframe thead th {\n",
       "        text-align: right;\n",
       "    }\n",
       "</style>\n",
       "<table border=\"1\" class=\"dataframe\">\n",
       "  <thead>\n",
       "    <tr style=\"text-align: right;\">\n",
       "      <th></th>\n",
       "      <th>V1</th>\n",
       "      <th>V2</th>\n",
       "      <th>V3</th>\n",
       "      <th>V4</th>\n",
       "      <th>V5</th>\n",
       "      <th>V6</th>\n",
       "      <th>V7</th>\n",
       "      <th>V8</th>\n",
       "      <th>V9</th>\n",
       "      <th>V10</th>\n",
       "      <th>...</th>\n",
       "      <th>V22</th>\n",
       "      <th>V23</th>\n",
       "      <th>V24</th>\n",
       "      <th>V25</th>\n",
       "      <th>V26</th>\n",
       "      <th>V27</th>\n",
       "      <th>V28</th>\n",
       "      <th>scaled_amount</th>\n",
       "      <th>scaled_time</th>\n",
       "      <th>Class</th>\n",
       "    </tr>\n",
       "  </thead>\n",
       "  <tbody>\n",
       "    <tr>\n",
       "      <th>541</th>\n",
       "      <td>-2.312227</td>\n",
       "      <td>1.951992</td>\n",
       "      <td>-1.609851</td>\n",
       "      <td>3.997906</td>\n",
       "      <td>-0.522188</td>\n",
       "      <td>-1.426545</td>\n",
       "      <td>-2.537387</td>\n",
       "      <td>1.391657</td>\n",
       "      <td>-2.770089</td>\n",
       "      <td>-2.772272</td>\n",
       "      <td>...</td>\n",
       "      <td>-0.035049</td>\n",
       "      <td>-0.465211</td>\n",
       "      <td>0.320198</td>\n",
       "      <td>0.044519</td>\n",
       "      <td>0.177840</td>\n",
       "      <td>0.261145</td>\n",
       "      <td>-0.143276</td>\n",
       "      <td>-0.307413</td>\n",
       "      <td>-0.990214</td>\n",
       "      <td>1</td>\n",
       "    </tr>\n",
       "    <tr>\n",
       "      <th>541</th>\n",
       "      <td>-2.312227</td>\n",
       "      <td>1.951992</td>\n",
       "      <td>-1.609851</td>\n",
       "      <td>3.997906</td>\n",
       "      <td>-0.522188</td>\n",
       "      <td>-1.426545</td>\n",
       "      <td>-2.537387</td>\n",
       "      <td>1.391657</td>\n",
       "      <td>-2.770089</td>\n",
       "      <td>-2.772272</td>\n",
       "      <td>...</td>\n",
       "      <td>-0.035049</td>\n",
       "      <td>-0.465211</td>\n",
       "      <td>0.320198</td>\n",
       "      <td>0.044519</td>\n",
       "      <td>0.177840</td>\n",
       "      <td>0.261145</td>\n",
       "      <td>-0.143276</td>\n",
       "      <td>-0.307413</td>\n",
       "      <td>-0.990214</td>\n",
       "      <td>1</td>\n",
       "    </tr>\n",
       "    <tr>\n",
       "      <th>541</th>\n",
       "      <td>-2.312227</td>\n",
       "      <td>1.951992</td>\n",
       "      <td>-1.609851</td>\n",
       "      <td>3.997906</td>\n",
       "      <td>-0.522188</td>\n",
       "      <td>-1.426545</td>\n",
       "      <td>-2.537387</td>\n",
       "      <td>1.391657</td>\n",
       "      <td>-2.770089</td>\n",
       "      <td>-2.772272</td>\n",
       "      <td>...</td>\n",
       "      <td>-0.035049</td>\n",
       "      <td>-0.465211</td>\n",
       "      <td>0.320198</td>\n",
       "      <td>0.044519</td>\n",
       "      <td>0.177840</td>\n",
       "      <td>0.261145</td>\n",
       "      <td>-0.143276</td>\n",
       "      <td>-0.307413</td>\n",
       "      <td>-0.990214</td>\n",
       "      <td>1</td>\n",
       "    </tr>\n",
       "    <tr>\n",
       "      <th>541</th>\n",
       "      <td>-2.312227</td>\n",
       "      <td>1.951992</td>\n",
       "      <td>-1.609851</td>\n",
       "      <td>3.997906</td>\n",
       "      <td>-0.522188</td>\n",
       "      <td>-1.426545</td>\n",
       "      <td>-2.537387</td>\n",
       "      <td>1.391657</td>\n",
       "      <td>-2.770089</td>\n",
       "      <td>-2.772272</td>\n",
       "      <td>...</td>\n",
       "      <td>-0.035049</td>\n",
       "      <td>-0.465211</td>\n",
       "      <td>0.320198</td>\n",
       "      <td>0.044519</td>\n",
       "      <td>0.177840</td>\n",
       "      <td>0.261145</td>\n",
       "      <td>-0.143276</td>\n",
       "      <td>-0.307413</td>\n",
       "      <td>-0.990214</td>\n",
       "      <td>1</td>\n",
       "    </tr>\n",
       "    <tr>\n",
       "      <th>541</th>\n",
       "      <td>-2.312227</td>\n",
       "      <td>1.951992</td>\n",
       "      <td>-1.609851</td>\n",
       "      <td>3.997906</td>\n",
       "      <td>-0.522188</td>\n",
       "      <td>-1.426545</td>\n",
       "      <td>-2.537387</td>\n",
       "      <td>1.391657</td>\n",
       "      <td>-2.770089</td>\n",
       "      <td>-2.772272</td>\n",
       "      <td>...</td>\n",
       "      <td>-0.035049</td>\n",
       "      <td>-0.465211</td>\n",
       "      <td>0.320198</td>\n",
       "      <td>0.044519</td>\n",
       "      <td>0.177840</td>\n",
       "      <td>0.261145</td>\n",
       "      <td>-0.143276</td>\n",
       "      <td>-0.307413</td>\n",
       "      <td>-0.990214</td>\n",
       "      <td>1</td>\n",
       "    </tr>\n",
       "    <tr>\n",
       "      <th>...</th>\n",
       "      <td>...</td>\n",
       "      <td>...</td>\n",
       "      <td>...</td>\n",
       "      <td>...</td>\n",
       "      <td>...</td>\n",
       "      <td>...</td>\n",
       "      <td>...</td>\n",
       "      <td>...</td>\n",
       "      <td>...</td>\n",
       "      <td>...</td>\n",
       "      <td>...</td>\n",
       "      <td>...</td>\n",
       "      <td>...</td>\n",
       "      <td>...</td>\n",
       "      <td>...</td>\n",
       "      <td>...</td>\n",
       "      <td>...</td>\n",
       "      <td>...</td>\n",
       "      <td>...</td>\n",
       "      <td>...</td>\n",
       "      <td>...</td>\n",
       "    </tr>\n",
       "    <tr>\n",
       "      <th>280149</th>\n",
       "      <td>-0.676143</td>\n",
       "      <td>1.126366</td>\n",
       "      <td>-2.213700</td>\n",
       "      <td>0.468308</td>\n",
       "      <td>-1.120541</td>\n",
       "      <td>-0.003346</td>\n",
       "      <td>-2.234739</td>\n",
       "      <td>1.210158</td>\n",
       "      <td>-0.652250</td>\n",
       "      <td>-3.463891</td>\n",
       "      <td>...</td>\n",
       "      <td>0.834108</td>\n",
       "      <td>0.190944</td>\n",
       "      <td>0.032070</td>\n",
       "      <td>-0.739695</td>\n",
       "      <td>0.471111</td>\n",
       "      <td>0.385107</td>\n",
       "      <td>0.194361</td>\n",
       "      <td>0.780968</td>\n",
       "      <td>0.994596</td>\n",
       "      <td>1</td>\n",
       "    </tr>\n",
       "    <tr>\n",
       "      <th>280149</th>\n",
       "      <td>-0.676143</td>\n",
       "      <td>1.126366</td>\n",
       "      <td>-2.213700</td>\n",
       "      <td>0.468308</td>\n",
       "      <td>-1.120541</td>\n",
       "      <td>-0.003346</td>\n",
       "      <td>-2.234739</td>\n",
       "      <td>1.210158</td>\n",
       "      <td>-0.652250</td>\n",
       "      <td>-3.463891</td>\n",
       "      <td>...</td>\n",
       "      <td>0.834108</td>\n",
       "      <td>0.190944</td>\n",
       "      <td>0.032070</td>\n",
       "      <td>-0.739695</td>\n",
       "      <td>0.471111</td>\n",
       "      <td>0.385107</td>\n",
       "      <td>0.194361</td>\n",
       "      <td>0.780968</td>\n",
       "      <td>0.994596</td>\n",
       "      <td>1</td>\n",
       "    </tr>\n",
       "    <tr>\n",
       "      <th>280149</th>\n",
       "      <td>-0.676143</td>\n",
       "      <td>1.126366</td>\n",
       "      <td>-2.213700</td>\n",
       "      <td>0.468308</td>\n",
       "      <td>-1.120541</td>\n",
       "      <td>-0.003346</td>\n",
       "      <td>-2.234739</td>\n",
       "      <td>1.210158</td>\n",
       "      <td>-0.652250</td>\n",
       "      <td>-3.463891</td>\n",
       "      <td>...</td>\n",
       "      <td>0.834108</td>\n",
       "      <td>0.190944</td>\n",
       "      <td>0.032070</td>\n",
       "      <td>-0.739695</td>\n",
       "      <td>0.471111</td>\n",
       "      <td>0.385107</td>\n",
       "      <td>0.194361</td>\n",
       "      <td>0.780968</td>\n",
       "      <td>0.994596</td>\n",
       "      <td>1</td>\n",
       "    </tr>\n",
       "    <tr>\n",
       "      <th>280149</th>\n",
       "      <td>-0.676143</td>\n",
       "      <td>1.126366</td>\n",
       "      <td>-2.213700</td>\n",
       "      <td>0.468308</td>\n",
       "      <td>-1.120541</td>\n",
       "      <td>-0.003346</td>\n",
       "      <td>-2.234739</td>\n",
       "      <td>1.210158</td>\n",
       "      <td>-0.652250</td>\n",
       "      <td>-3.463891</td>\n",
       "      <td>...</td>\n",
       "      <td>0.834108</td>\n",
       "      <td>0.190944</td>\n",
       "      <td>0.032070</td>\n",
       "      <td>-0.739695</td>\n",
       "      <td>0.471111</td>\n",
       "      <td>0.385107</td>\n",
       "      <td>0.194361</td>\n",
       "      <td>0.780968</td>\n",
       "      <td>0.994596</td>\n",
       "      <td>1</td>\n",
       "    </tr>\n",
       "    <tr>\n",
       "      <th>280149</th>\n",
       "      <td>-0.676143</td>\n",
       "      <td>1.126366</td>\n",
       "      <td>-2.213700</td>\n",
       "      <td>0.468308</td>\n",
       "      <td>-1.120541</td>\n",
       "      <td>-0.003346</td>\n",
       "      <td>-2.234739</td>\n",
       "      <td>1.210158</td>\n",
       "      <td>-0.652250</td>\n",
       "      <td>-3.463891</td>\n",
       "      <td>...</td>\n",
       "      <td>0.834108</td>\n",
       "      <td>0.190944</td>\n",
       "      <td>0.032070</td>\n",
       "      <td>-0.739695</td>\n",
       "      <td>0.471111</td>\n",
       "      <td>0.385107</td>\n",
       "      <td>0.194361</td>\n",
       "      <td>0.780968</td>\n",
       "      <td>0.994596</td>\n",
       "      <td>1</td>\n",
       "    </tr>\n",
       "  </tbody>\n",
       "</table>\n",
       "<p>213245 rows × 31 columns</p>\n",
       "</div>"
      ],
      "text/plain": [
       "              V1        V2        V3        V4        V5        V6        V7  \\\n",
       "541    -2.312227  1.951992 -1.609851  3.997906 -0.522188 -1.426545 -2.537387   \n",
       "541    -2.312227  1.951992 -1.609851  3.997906 -0.522188 -1.426545 -2.537387   \n",
       "541    -2.312227  1.951992 -1.609851  3.997906 -0.522188 -1.426545 -2.537387   \n",
       "541    -2.312227  1.951992 -1.609851  3.997906 -0.522188 -1.426545 -2.537387   \n",
       "541    -2.312227  1.951992 -1.609851  3.997906 -0.522188 -1.426545 -2.537387   \n",
       "...          ...       ...       ...       ...       ...       ...       ...   \n",
       "280149 -0.676143  1.126366 -2.213700  0.468308 -1.120541 -0.003346 -2.234739   \n",
       "280149 -0.676143  1.126366 -2.213700  0.468308 -1.120541 -0.003346 -2.234739   \n",
       "280149 -0.676143  1.126366 -2.213700  0.468308 -1.120541 -0.003346 -2.234739   \n",
       "280149 -0.676143  1.126366 -2.213700  0.468308 -1.120541 -0.003346 -2.234739   \n",
       "280149 -0.676143  1.126366 -2.213700  0.468308 -1.120541 -0.003346 -2.234739   \n",
       "\n",
       "              V8        V9       V10  ...       V22       V23       V24  \\\n",
       "541     1.391657 -2.770089 -2.772272  ... -0.035049 -0.465211  0.320198   \n",
       "541     1.391657 -2.770089 -2.772272  ... -0.035049 -0.465211  0.320198   \n",
       "541     1.391657 -2.770089 -2.772272  ... -0.035049 -0.465211  0.320198   \n",
       "541     1.391657 -2.770089 -2.772272  ... -0.035049 -0.465211  0.320198   \n",
       "541     1.391657 -2.770089 -2.772272  ... -0.035049 -0.465211  0.320198   \n",
       "...          ...       ...       ...  ...       ...       ...       ...   \n",
       "280149  1.210158 -0.652250 -3.463891  ...  0.834108  0.190944  0.032070   \n",
       "280149  1.210158 -0.652250 -3.463891  ...  0.834108  0.190944  0.032070   \n",
       "280149  1.210158 -0.652250 -3.463891  ...  0.834108  0.190944  0.032070   \n",
       "280149  1.210158 -0.652250 -3.463891  ...  0.834108  0.190944  0.032070   \n",
       "280149  1.210158 -0.652250 -3.463891  ...  0.834108  0.190944  0.032070   \n",
       "\n",
       "             V25       V26       V27       V28  scaled_amount  scaled_time  \\\n",
       "541     0.044519  0.177840  0.261145 -0.143276      -0.307413    -0.990214   \n",
       "541     0.044519  0.177840  0.261145 -0.143276      -0.307413    -0.990214   \n",
       "541     0.044519  0.177840  0.261145 -0.143276      -0.307413    -0.990214   \n",
       "541     0.044519  0.177840  0.261145 -0.143276      -0.307413    -0.990214   \n",
       "541     0.044519  0.177840  0.261145 -0.143276      -0.307413    -0.990214   \n",
       "...          ...       ...       ...       ...            ...          ...   \n",
       "280149 -0.739695  0.471111  0.385107  0.194361       0.780968     0.994596   \n",
       "280149 -0.739695  0.471111  0.385107  0.194361       0.780968     0.994596   \n",
       "280149 -0.739695  0.471111  0.385107  0.194361       0.780968     0.994596   \n",
       "280149 -0.739695  0.471111  0.385107  0.194361       0.780968     0.994596   \n",
       "280149 -0.739695  0.471111  0.385107  0.194361       0.780968     0.994596   \n",
       "\n",
       "        Class  \n",
       "541         1  \n",
       "541         1  \n",
       "541         1  \n",
       "541         1  \n",
       "541         1  \n",
       "...       ...  \n",
       "280149      1  \n",
       "280149      1  \n",
       "280149      1  \n",
       "280149      1  \n",
       "280149      1  \n",
       "\n",
       "[213245 rows x 31 columns]"
      ]
     },
     "execution_count": 31,
     "metadata": {},
     "output_type": "execute_result"
    }
   ],
   "source": [
    "fraud_upsampled.sort_values(by=['scaled_time'])"
   ]
  },
  {
   "cell_type": "code",
   "execution_count": 32,
   "metadata": {},
   "outputs": [],
   "source": [
    "# trying logistic regression again with the balanced dataset\n",
    "y_train_up = upsampled.Class\n",
    "X_train_up = upsampled.drop('Class', axis=1)\n",
    "\n",
    "upsampled = LogisticRegression(solver='liblinear').fit(X_train_up, y_train_up)\n",
    "\n",
    "upsampled_pred = upsampled.predict(X_test)"
   ]
  },
  {
   "cell_type": "code",
   "execution_count": 33,
   "metadata": {},
   "outputs": [
    {
     "data": {
      "text/html": [
       "<div>\n",
       "<style scoped>\n",
       "    .dataframe tbody tr th:only-of-type {\n",
       "        vertical-align: middle;\n",
       "    }\n",
       "\n",
       "    .dataframe tbody tr th {\n",
       "        vertical-align: top;\n",
       "    }\n",
       "\n",
       "    .dataframe thead th {\n",
       "        text-align: right;\n",
       "    }\n",
       "</style>\n",
       "<table border=\"1\" class=\"dataframe\">\n",
       "  <thead>\n",
       "    <tr style=\"text-align: right;\">\n",
       "      <th></th>\n",
       "      <th>0</th>\n",
       "      <th>1</th>\n",
       "    </tr>\n",
       "  </thead>\n",
       "  <tbody>\n",
       "    <tr>\n",
       "      <th>0</th>\n",
       "      <td>69546</td>\n",
       "      <td>1524</td>\n",
       "    </tr>\n",
       "    <tr>\n",
       "      <th>1</th>\n",
       "      <td>15</td>\n",
       "      <td>117</td>\n",
       "    </tr>\n",
       "  </tbody>\n",
       "</table>\n",
       "</div>"
      ],
      "text/plain": [
       "       0     1\n",
       "0  69546  1524\n",
       "1     15   117"
      ]
     },
     "execution_count": 33,
     "metadata": {},
     "output_type": "execute_result"
    }
   ],
   "source": [
    "# confusion matrix\n",
    "pd.DataFrame(confusion_matrix(y_test, upsampled_pred))"
   ]
  },
  {
   "cell_type": "code",
   "execution_count": 34,
   "metadata": {},
   "outputs": [
    {
     "name": "stdout",
     "output_type": "stream",
     "text": [
      "             Accuracy /     Recall /  Precision /         F1\n",
      "LR       :    0.99923 /    0.63636 /    0.92308 /    0.75336\n",
      "RFC      :    0.99958 /    0.81061 /    0.95536 /    0.87705\n",
      "Resample :    0.97839 /    0.88636 /    0.07130 /    0.13198\n"
     ]
    }
   ],
   "source": [
    "print('             Accuracy /     Recall /  Precision /         F1')\n",
    "print('LR       : {:10.5f} / {:10.5f} / {:10.5f} / {:10.5f}'.format(accuracy_score(y_test, lr_pred), recall_score(y_test, lr_pred), precision_score(y_test, lr_pred), f1_score(y_test, lr_pred)))\n",
    "print('RFC      : {:10.5f} / {:10.5f} / {:10.5f} / {:10.5f}'.format(accuracy_score(y_test, rfc_pred), recall_score(y_test, rfc_pred), precision_score(y_test, rfc_pred), f1_score(y_test, rfc_pred)))\n",
    "print('Resample : {:10.5f} / {:10.5f} / {:10.5f} / {:10.5f}'.format(accuracy_score(y_test, upsampled_pred), recall_score(y_test, upsampled_pred), precision_score(y_test, upsampled_pred), f1_score(y_test, upsampled_pred)))"
   ]
  },
  {
   "cell_type": "code",
   "execution_count": null,
   "metadata": {},
   "outputs": [],
   "source": []
  },
  {
   "cell_type": "markdown",
   "metadata": {},
   "source": [
    "### Upsampling후에 RandomForest"
   ]
  },
  {
   "cell_type": "code",
   "execution_count": 35,
   "metadata": {},
   "outputs": [
    {
     "data": {
      "text/plain": [
       "1    213245\n",
       "0    213245\n",
       "Name: Class, dtype: int64"
      ]
     },
     "execution_count": 35,
     "metadata": {},
     "output_type": "execute_result"
    }
   ],
   "source": [
    "# separate minority and majority classes\n",
    "not_fraud = Train[Train.Class==0]\n",
    "fraud = Train[Train.Class==1]\n",
    "\n",
    "# upsample minority\n",
    "fraud_upsampled = resample(fraud,\n",
    "                          replace=True, # sample with replacement\n",
    "                          n_samples=len(not_fraud), # match number in majority class\n",
    "                          random_state=27) # reproducible results\n",
    "\n",
    "# combine majority and upsampled minority\n",
    "upsampled = pd.concat([not_fraud, fraud_upsampled])\n",
    "# check new class counts\n",
    "upsampled.Class.value_counts()"
   ]
  },
  {
   "cell_type": "code",
   "execution_count": 36,
   "metadata": {},
   "outputs": [],
   "source": [
    "# trying logistic regression again with the balanced dataset\n",
    "y_train_up = upsampled.Class\n",
    "X_train_up = upsampled.drop('Class', axis=1)\n",
    "upsampled_rfc = RandomForestClassifier(n_estimators=10).fit(X_train_up, y_train_up)\n",
    "upsampled_rfc_pred = upsampled_rfc.predict(X_test)"
   ]
  },
  {
   "cell_type": "code",
   "execution_count": 37,
   "metadata": {},
   "outputs": [
    {
     "data": {
      "text/html": [
       "<div>\n",
       "<style scoped>\n",
       "    .dataframe tbody tr th:only-of-type {\n",
       "        vertical-align: middle;\n",
       "    }\n",
       "\n",
       "    .dataframe tbody tr th {\n",
       "        vertical-align: top;\n",
       "    }\n",
       "\n",
       "    .dataframe thead th {\n",
       "        text-align: right;\n",
       "    }\n",
       "</style>\n",
       "<table border=\"1\" class=\"dataframe\">\n",
       "  <thead>\n",
       "    <tr style=\"text-align: right;\">\n",
       "      <th></th>\n",
       "      <th>0</th>\n",
       "      <th>1</th>\n",
       "    </tr>\n",
       "  </thead>\n",
       "  <tbody>\n",
       "    <tr>\n",
       "      <th>0</th>\n",
       "      <td>71067</td>\n",
       "      <td>3</td>\n",
       "    </tr>\n",
       "    <tr>\n",
       "      <th>1</th>\n",
       "      <td>24</td>\n",
       "      <td>108</td>\n",
       "    </tr>\n",
       "  </tbody>\n",
       "</table>\n",
       "</div>"
      ],
      "text/plain": [
       "       0    1\n",
       "0  71067    3\n",
       "1     24  108"
      ]
     },
     "execution_count": 37,
     "metadata": {},
     "output_type": "execute_result"
    }
   ],
   "source": [
    "# confusion matrix\n",
    "pd.DataFrame(confusion_matrix(y_test, upsampled_rfc_pred))"
   ]
  },
  {
   "cell_type": "code",
   "execution_count": 38,
   "metadata": {},
   "outputs": [
    {
     "name": "stdout",
     "output_type": "stream",
     "text": [
      "             Accuracy /     Recall /  Precision /         F1\n",
      "LR       :    0.99923 /    0.63636 /    0.92308 /    0.75336\n",
      "RFC      :    0.99958 /    0.81061 /    0.95536 /    0.87705\n",
      "Resample :    0.97839 /    0.88636 /    0.07130 /    0.13198\n",
      "Up RFC   :    0.99962 /    0.81818 /    0.97297 /    0.88889\n"
     ]
    }
   ],
   "source": [
    "print('             Accuracy /     Recall /  Precision /         F1')\n",
    "print('LR       : {:10.5f} / {:10.5f} / {:10.5f} / {:10.5f}'.format(accuracy_score(y_test, lr_pred), recall_score(y_test, lr_pred), precision_score(y_test, lr_pred), f1_score(y_test, lr_pred)))\n",
    "print('RFC      : {:10.5f} / {:10.5f} / {:10.5f} / {:10.5f}'.format(accuracy_score(y_test, rfc_pred), recall_score(y_test, rfc_pred), precision_score(y_test, rfc_pred), f1_score(y_test, rfc_pred)))\n",
    "print('Resample : {:10.5f} / {:10.5f} / {:10.5f} / {:10.5f}'.format(accuracy_score(y_test, upsampled_pred), recall_score(y_test, upsampled_pred), precision_score(y_test, upsampled_pred), f1_score(y_test, upsampled_pred)))\n",
    "print('Up RFC   : {:10.5f} / {:10.5f} / {:10.5f} / {:10.5f}'.format(accuracy_score(y_test, upsampled_rfc_pred), recall_score(y_test, upsampled_rfc_pred), precision_score(y_test, upsampled_rfc_pred), f1_score(y_test, upsampled_rfc_pred)))\n"
   ]
  },
  {
   "cell_type": "markdown",
   "metadata": {},
   "source": [
    "# 4. 언더 샘플링 과반수 클래스\n",
    "언더 샘플링은 대다수 클래스의 일부 관측치를 제거하는 것으로 정의 할 수 있습니다. 언더 샘플링은 수백만 행의 데이터를 생각할 때 좋은 선택이 될 수 있습니다. 그러나 언더 샘플링의 단점은 가치있는 정보를 제거한다는 것입니다.\n",
    "\n",
    "Scikit-Learn의 리샘플링 모듈을 다시 사용하여 대다수 클래스에서 샘플을 무작위로 제거합니다."
   ]
  },
  {
   "cell_type": "code",
   "execution_count": 39,
   "metadata": {},
   "outputs": [
    {
     "data": {
      "text/plain": [
       "1    360\n",
       "0    360\n",
       "Name: Class, dtype: int64"
      ]
     },
     "execution_count": 39,
     "metadata": {},
     "output_type": "execute_result"
    }
   ],
   "source": [
    "# separate minority and majority classes\n",
    "not_fraud = Train[Train.Class==0]\n",
    "fraud = Train[Train.Class==1]\n",
    "\n",
    "# downsample majority\n",
    "not_fraud_downsampled = resample(not_fraud,\n",
    "                                replace = False, # sample without replacement\n",
    "                                n_samples = len(fraud), # match minority n\n",
    "                                random_state = 27) # reproducible results\n",
    "\n",
    "# combine minority and downsampled majority\n",
    "downsampled = pd.concat([not_fraud_downsampled, fraud])\n",
    "\n",
    "# checking counts\n",
    "downsampled.Class.value_counts()"
   ]
  },
  {
   "cell_type": "code",
   "execution_count": 40,
   "metadata": {},
   "outputs": [],
   "source": [
    "# trying logistic regression again with the balanced dataset\n",
    "y_train_down = downsampled.Class\n",
    "X_train_down = downsampled.drop('Class', axis=1)\n",
    "\n",
    "downsampled = LogisticRegression(solver='liblinear').fit(X_train_down, y_train_down)\n",
    "\n",
    "downsampled_pred = downsampled.predict(X_test)"
   ]
  },
  {
   "cell_type": "code",
   "execution_count": 41,
   "metadata": {},
   "outputs": [
    {
     "data": {
      "text/html": [
       "<div>\n",
       "<style scoped>\n",
       "    .dataframe tbody tr th:only-of-type {\n",
       "        vertical-align: middle;\n",
       "    }\n",
       "\n",
       "    .dataframe tbody tr th {\n",
       "        vertical-align: top;\n",
       "    }\n",
       "\n",
       "    .dataframe thead th {\n",
       "        text-align: right;\n",
       "    }\n",
       "</style>\n",
       "<table border=\"1\" class=\"dataframe\">\n",
       "  <thead>\n",
       "    <tr style=\"text-align: right;\">\n",
       "      <th></th>\n",
       "      <th>0</th>\n",
       "      <th>1</th>\n",
       "    </tr>\n",
       "  </thead>\n",
       "  <tbody>\n",
       "    <tr>\n",
       "      <th>0</th>\n",
       "      <td>68593</td>\n",
       "      <td>2477</td>\n",
       "    </tr>\n",
       "    <tr>\n",
       "      <th>1</th>\n",
       "      <td>15</td>\n",
       "      <td>117</td>\n",
       "    </tr>\n",
       "  </tbody>\n",
       "</table>\n",
       "</div>"
      ],
      "text/plain": [
       "       0     1\n",
       "0  68593  2477\n",
       "1     15   117"
      ]
     },
     "execution_count": 41,
     "metadata": {},
     "output_type": "execute_result"
    }
   ],
   "source": [
    "# confusion matrix\n",
    "pd.DataFrame(confusion_matrix(y_test, downsampled_pred))"
   ]
  },
  {
   "cell_type": "code",
   "execution_count": 42,
   "metadata": {},
   "outputs": [
    {
     "name": "stdout",
     "output_type": "stream",
     "text": [
      "               Accuracy /     Recall /  Precision /         F1\n",
      "LR         :    0.99923 /    0.63636 /    0.92308 /    0.75336\n",
      "RFC        :    0.99958 /    0.81061 /    0.95536 /    0.87705\n",
      "Up LR      :    0.97839 /    0.88636 /    0.07130 /    0.13198\n",
      "Up RFC     :    0.99962 /    0.81818 /    0.97297 /    0.88889\n",
      "Down LR    :    0.96500 /    0.88636 /    0.04510 /    0.08584\n"
     ]
    }
   ],
   "source": [
    "print('               Accuracy /     Recall /  Precision /         F1')\n",
    "print('LR         : {:10.5f} / {:10.5f} / {:10.5f} / {:10.5f}'.format(accuracy_score(y_test, lr_pred), recall_score(y_test, lr_pred), precision_score(y_test, lr_pred), f1_score(y_test, lr_pred)))\n",
    "print('RFC        : {:10.5f} / {:10.5f} / {:10.5f} / {:10.5f}'.format(accuracy_score(y_test, rfc_pred), recall_score(y_test, rfc_pred), precision_score(y_test, rfc_pred), f1_score(y_test, rfc_pred)))\n",
    "print('Up LR      : {:10.5f} / {:10.5f} / {:10.5f} / {:10.5f}'.format(accuracy_score(y_test, upsampled_pred), recall_score(y_test, upsampled_pred), precision_score(y_test, upsampled_pred), f1_score(y_test, upsampled_pred)))\n",
    "print('Up RFC     : {:10.5f} / {:10.5f} / {:10.5f} / {:10.5f}'.format(accuracy_score(y_test, upsampled_rfc_pred), recall_score(y_test, upsampled_rfc_pred), precision_score(y_test, upsampled_rfc_pred), f1_score(y_test, upsampled_rfc_pred)))\n",
    "print('Down LR    : {:10.5f} / {:10.5f} / {:10.5f} / {:10.5f}'.format(accuracy_score(y_test, downsampled_pred), recall_score(y_test, downsampled_pred), precision_score(y_test, downsampled_pred), f1_score(y_test, downsampled_pred)))"
   ]
  },
  {
   "cell_type": "markdown",
   "metadata": {},
   "source": [
    "### DownSampling후에 RandomForest"
   ]
  },
  {
   "cell_type": "code",
   "execution_count": 43,
   "metadata": {},
   "outputs": [
    {
     "data": {
      "text/plain": [
       "1    360\n",
       "0    360\n",
       "Name: Class, dtype: int64"
      ]
     },
     "execution_count": 43,
     "metadata": {},
     "output_type": "execute_result"
    }
   ],
   "source": [
    "# separate minority and majority classes\n",
    "not_fraud = Train[Train.Class==0]\n",
    "fraud = Train[Train.Class==1]\n",
    "\n",
    "# downsample minority\n",
    "not_fraud_downsampled = resample(not_fraud,\n",
    "                                replace = False, # sample without replacement\n",
    "                                n_samples = len(fraud), # match minority n\n",
    "                                random_state = 27) # reproducible results\n",
    "\n",
    "# combine minority and downsampled majority\n",
    "downsampled = pd.concat([not_fraud_downsampled, fraud])\n",
    "\n",
    "# checking counts\n",
    "downsampled.Class.value_counts()"
   ]
  },
  {
   "cell_type": "code",
   "execution_count": 44,
   "metadata": {},
   "outputs": [],
   "source": [
    "# trying logistic regression again with the balanced dataset\n",
    "y_train_down = downsampled.Class\n",
    "X_train_down = downsampled.drop('Class', axis=1)\n",
    "\n",
    "downsampled_rfc = RandomForestClassifier(n_estimators=10).fit(X_train_down, y_train_down)\n",
    "downsampled_rfc_pred = downsampled_rfc.predict(X_test)"
   ]
  },
  {
   "cell_type": "code",
   "execution_count": 45,
   "metadata": {},
   "outputs": [
    {
     "data": {
      "text/html": [
       "<div>\n",
       "<style scoped>\n",
       "    .dataframe tbody tr th:only-of-type {\n",
       "        vertical-align: middle;\n",
       "    }\n",
       "\n",
       "    .dataframe tbody tr th {\n",
       "        vertical-align: top;\n",
       "    }\n",
       "\n",
       "    .dataframe thead th {\n",
       "        text-align: right;\n",
       "    }\n",
       "</style>\n",
       "<table border=\"1\" class=\"dataframe\">\n",
       "  <thead>\n",
       "    <tr style=\"text-align: right;\">\n",
       "      <th></th>\n",
       "      <th>0</th>\n",
       "      <th>1</th>\n",
       "    </tr>\n",
       "  </thead>\n",
       "  <tbody>\n",
       "    <tr>\n",
       "      <th>0</th>\n",
       "      <td>69472</td>\n",
       "      <td>1598</td>\n",
       "    </tr>\n",
       "    <tr>\n",
       "      <th>1</th>\n",
       "      <td>16</td>\n",
       "      <td>116</td>\n",
       "    </tr>\n",
       "  </tbody>\n",
       "</table>\n",
       "</div>"
      ],
      "text/plain": [
       "       0     1\n",
       "0  69472  1598\n",
       "1     16   116"
      ]
     },
     "execution_count": 45,
     "metadata": {},
     "output_type": "execute_result"
    }
   ],
   "source": [
    "# confusion matrix\n",
    "pd.DataFrame(confusion_matrix(y_test, downsampled_rfc_pred))"
   ]
  },
  {
   "cell_type": "code",
   "execution_count": 46,
   "metadata": {},
   "outputs": [
    {
     "name": "stdout",
     "output_type": "stream",
     "text": [
      "               Accuracy /     Recall /  Precision /         F1\n",
      "LR         :    0.99923 /    0.63636 /    0.92308 /    0.75336\n",
      "RFC        :    0.99958 /    0.81061 /    0.95536 /    0.87705\n",
      "Up LR      :    0.97839 /    0.88636 /    0.07130 /    0.13198\n",
      "Up RFC     :    0.99962 /    0.81818 /    0.97297 /    0.88889\n",
      "Down LR    :    0.96500 /    0.88636 /    0.04510 /    0.08584\n",
      "Down RFC   :    0.97733 /    0.87879 /    0.06768 /    0.12568\n"
     ]
    }
   ],
   "source": [
    "print('               Accuracy /     Recall /  Precision /         F1')\n",
    "print('LR         : {:10.5f} / {:10.5f} / {:10.5f} / {:10.5f}'.format(accuracy_score(y_test, lr_pred), recall_score(y_test, lr_pred), precision_score(y_test, lr_pred), f1_score(y_test, lr_pred)))\n",
    "print('RFC        : {:10.5f} / {:10.5f} / {:10.5f} / {:10.5f}'.format(accuracy_score(y_test, rfc_pred), recall_score(y_test, rfc_pred), precision_score(y_test, rfc_pred), f1_score(y_test, rfc_pred)))\n",
    "print('Up LR      : {:10.5f} / {:10.5f} / {:10.5f} / {:10.5f}'.format(accuracy_score(y_test, upsampled_pred), recall_score(y_test, upsampled_pred), precision_score(y_test, upsampled_pred), f1_score(y_test, upsampled_pred)))\n",
    "print('Up RFC     : {:10.5f} / {:10.5f} / {:10.5f} / {:10.5f}'.format(accuracy_score(y_test, upsampled_rfc_pred), recall_score(y_test, upsampled_rfc_pred), precision_score(y_test, upsampled_rfc_pred), f1_score(y_test, upsampled_rfc_pred)))\n",
    "print('Down LR    : {:10.5f} / {:10.5f} / {:10.5f} / {:10.5f}'.format(accuracy_score(y_test, downsampled_pred), recall_score(y_test, downsampled_pred), precision_score(y_test, downsampled_pred), f1_score(y_test, downsampled_pred)))\n",
    "print('Down RFC   : {:10.5f} / {:10.5f} / {:10.5f} / {:10.5f}'.format(accuracy_score(y_test, downsampled_rfc_pred), recall_score(y_test, downsampled_rfc_pred), precision_score(y_test, downsampled_rfc_pred), f1_score(y_test, downsampled_rfc_pred)))"
   ]
  },
  {
   "cell_type": "markdown",
   "metadata": {},
   "source": [
    "# 5. Generate Synthetic Samples\n",
    "SMOTE 또는 Synthetic Minority Oversampling Technique은 소수 클래스의 sythetic 관찰을 생성하는 인기있는 알고리즘입니다."
   ]
  },
  {
   "cell_type": "code",
   "execution_count": 47,
   "metadata": {},
   "outputs": [
    {
     "name": "stdout",
     "output_type": "stream",
     "text": [
      "Requirement already satisfied: imblearn in /usr/local/lib/python3.5/dist-packages (0.0)\n",
      "Requirement already satisfied: imbalanced-learn in /usr/local/lib/python3.5/dist-packages (from imblearn) (0.5.0)\n",
      "Requirement already satisfied: joblib>=0.11 in /usr/local/lib/python3.5/dist-packages (from imbalanced-learn->imblearn) (0.14.0)\n",
      "Requirement already satisfied: numpy>=1.11 in /usr/local/lib/python3.5/dist-packages (from imbalanced-learn->imblearn) (1.17.4)\n",
      "Requirement already satisfied: scipy>=0.17 in /usr/local/lib/python3.5/dist-packages (from imbalanced-learn->imblearn) (1.3.2)\n",
      "Requirement already satisfied: scikit-learn>=0.21 in /usr/local/lib/python3.5/dist-packages (from imbalanced-learn->imblearn) (0.21.3)\n"
     ]
    }
   ],
   "source": [
    "!sudo pip install imblearn"
   ]
  },
  {
   "cell_type": "code",
   "execution_count": 51,
   "metadata": {},
   "outputs": [
    {
     "data": {
      "text/plain": [
       "1    213245\n",
       "0    213245\n",
       "Name: Class, dtype: int64"
      ]
     },
     "execution_count": 51,
     "metadata": {},
     "output_type": "execute_result"
    }
   ],
   "source": [
    "sm = SMOTE(random_state=27, ratio=1.0)\n",
    "X_train_smote, y_train_smote = sm.fit_sample(X_train, y_train)\n",
    "X_SMOTE = pd.concat([pd.DataFrame(X_train_smote), pd.DataFrame({'Class':y_train_smote})], axis=1)\n",
    "X_SMOTE.Class.value_counts()"
   ]
  },
  {
   "cell_type": "code",
   "execution_count": 52,
   "metadata": {},
   "outputs": [
    {
     "data": {
      "text/plain": [
       "0.9774725429060982"
      ]
     },
     "execution_count": 52,
     "metadata": {},
     "output_type": "execute_result"
    }
   ],
   "source": [
    "smote = LogisticRegression(solver='liblinear').fit(X_train_smote, y_train_smote)\n",
    "smote_pred = smote.predict(X_test)\n",
    "\n",
    "# Checking accuracy\n",
    "accuracy_score(y_test, smote_pred)"
   ]
  },
  {
   "cell_type": "code",
   "execution_count": 53,
   "metadata": {},
   "outputs": [
    {
     "data": {
      "text/html": [
       "<div>\n",
       "<style scoped>\n",
       "    .dataframe tbody tr th:only-of-type {\n",
       "        vertical-align: middle;\n",
       "    }\n",
       "\n",
       "    .dataframe tbody tr th {\n",
       "        vertical-align: top;\n",
       "    }\n",
       "\n",
       "    .dataframe thead th {\n",
       "        text-align: right;\n",
       "    }\n",
       "</style>\n",
       "<table border=\"1\" class=\"dataframe\">\n",
       "  <thead>\n",
       "    <tr style=\"text-align: right;\">\n",
       "      <th></th>\n",
       "      <th>0</th>\n",
       "      <th>1</th>\n",
       "    </tr>\n",
       "  </thead>\n",
       "  <tbody>\n",
       "    <tr>\n",
       "      <th>0</th>\n",
       "      <td>69481</td>\n",
       "      <td>1589</td>\n",
       "    </tr>\n",
       "    <tr>\n",
       "      <th>1</th>\n",
       "      <td>15</td>\n",
       "      <td>117</td>\n",
       "    </tr>\n",
       "  </tbody>\n",
       "</table>\n",
       "</div>"
      ],
      "text/plain": [
       "       0     1\n",
       "0  69481  1589\n",
       "1     15   117"
      ]
     },
     "execution_count": 53,
     "metadata": {},
     "output_type": "execute_result"
    }
   ],
   "source": [
    "# confusion matrix\n",
    "pd.DataFrame(confusion_matrix(y_test, smote_pred))"
   ]
  },
  {
   "cell_type": "code",
   "execution_count": 54,
   "metadata": {},
   "outputs": [
    {
     "name": "stdout",
     "output_type": "stream",
     "text": [
      "               Accuracy /     Recall /  Precision /         F1\n",
      "LR         :    0.99923 /    0.63636 /    0.92308 /    0.75336\n",
      "RFC        :    0.99958 /    0.81061 /    0.95536 /    0.87705\n",
      "Up LR      :    0.97839 /    0.88636 /    0.07130 /    0.13198\n",
      "Up RFC     :    0.99962 /    0.81818 /    0.97297 /    0.88889\n",
      "Down LR    :    0.96500 /    0.88636 /    0.04510 /    0.08584\n",
      "Down RFC   :    0.97733 /    0.87879 /    0.06768 /    0.12568\n",
      "smote      :    0.97747 /    0.88636 /    0.06858 /    0.12731\n"
     ]
    }
   ],
   "source": [
    "print('               Accuracy /     Recall /  Precision /         F1')\n",
    "print('LR         : {:10.5f} / {:10.5f} / {:10.5f} / {:10.5f}'.format(accuracy_score(y_test, lr_pred), recall_score(y_test, lr_pred), precision_score(y_test, lr_pred), f1_score(y_test, lr_pred)))\n",
    "print('RFC        : {:10.5f} / {:10.5f} / {:10.5f} / {:10.5f}'.format(accuracy_score(y_test, rfc_pred), recall_score(y_test, rfc_pred), precision_score(y_test, rfc_pred), f1_score(y_test, rfc_pred)))\n",
    "print('Up LR      : {:10.5f} / {:10.5f} / {:10.5f} / {:10.5f}'.format(accuracy_score(y_test, upsampled_pred), recall_score(y_test, upsampled_pred), precision_score(y_test, upsampled_pred), f1_score(y_test, upsampled_pred)))\n",
    "print('Up RFC     : {:10.5f} / {:10.5f} / {:10.5f} / {:10.5f}'.format(accuracy_score(y_test, upsampled_rfc_pred), recall_score(y_test, upsampled_rfc_pred), precision_score(y_test, upsampled_rfc_pred), f1_score(y_test, upsampled_rfc_pred)))\n",
    "print('Down LR    : {:10.5f} / {:10.5f} / {:10.5f} / {:10.5f}'.format(accuracy_score(y_test, downsampled_pred), recall_score(y_test, downsampled_pred), precision_score(y_test, downsampled_pred), f1_score(y_test, downsampled_pred)))\n",
    "print('Down RFC   : {:10.5f} / {:10.5f} / {:10.5f} / {:10.5f}'.format(accuracy_score(y_test, downsampled_rfc_pred), recall_score(y_test, downsampled_rfc_pred), precision_score(y_test, downsampled_rfc_pred), f1_score(y_test, downsampled_rfc_pred)))\n",
    "print('smote      : {:10.5f} / {:10.5f} / {:10.5f} / {:10.5f}'.format(accuracy_score(y_test, smote_pred), recall_score(y_test, smote_pred), precision_score(y_test, smote_pred), f1_score(y_test, smote_pred)))"
   ]
  },
  {
   "cell_type": "code",
   "execution_count": null,
   "metadata": {},
   "outputs": [],
   "source": []
  },
  {
   "cell_type": "markdown",
   "metadata": {},
   "source": [
    "### Generate Synthetic Sampling후에 RandomForest"
   ]
  },
  {
   "cell_type": "code",
   "execution_count": 55,
   "metadata": {},
   "outputs": [
    {
     "data": {
      "text/plain": [
       "1    213245\n",
       "0    213245\n",
       "Name: Class, dtype: int64"
      ]
     },
     "execution_count": 55,
     "metadata": {},
     "output_type": "execute_result"
    }
   ],
   "source": [
    "sm = SMOTE(random_state=27, ratio=1.0)\n",
    "X_train_smote, y_train_smote = sm.fit_sample(X_train, y_train)\n",
    "X_SMOTE = pd.concat([pd.DataFrame(X_train_smote), pd.DataFrame({'Class':y_train_smote})], axis=1)\n",
    "X_SMOTE.Class.value_counts()"
   ]
  },
  {
   "cell_type": "code",
   "execution_count": 56,
   "metadata": {},
   "outputs": [
    {
     "data": {
      "text/plain": [
       "0.999522485323446"
      ]
     },
     "execution_count": 56,
     "metadata": {},
     "output_type": "execute_result"
    }
   ],
   "source": [
    "smote_rfc = RandomForestClassifier(n_estimators=10).fit(X_train_smote, y_train_smote)\n",
    "smote_rfc_pred = smote_rfc.predict(X_test)\n",
    "# Checking accuracy\n",
    "accuracy_score(y_test, smote_rfc_pred)"
   ]
  },
  {
   "cell_type": "code",
   "execution_count": 57,
   "metadata": {},
   "outputs": [
    {
     "data": {
      "text/html": [
       "<div>\n",
       "<style scoped>\n",
       "    .dataframe tbody tr th:only-of-type {\n",
       "        vertical-align: middle;\n",
       "    }\n",
       "\n",
       "    .dataframe tbody tr th {\n",
       "        vertical-align: top;\n",
       "    }\n",
       "\n",
       "    .dataframe thead th {\n",
       "        text-align: right;\n",
       "    }\n",
       "</style>\n",
       "<table border=\"1\" class=\"dataframe\">\n",
       "  <thead>\n",
       "    <tr style=\"text-align: right;\">\n",
       "      <th></th>\n",
       "      <th>0</th>\n",
       "      <th>1</th>\n",
       "    </tr>\n",
       "  </thead>\n",
       "  <tbody>\n",
       "    <tr>\n",
       "      <th>0</th>\n",
       "      <td>71058</td>\n",
       "      <td>12</td>\n",
       "    </tr>\n",
       "    <tr>\n",
       "      <th>1</th>\n",
       "      <td>22</td>\n",
       "      <td>110</td>\n",
       "    </tr>\n",
       "  </tbody>\n",
       "</table>\n",
       "</div>"
      ],
      "text/plain": [
       "       0    1\n",
       "0  71058   12\n",
       "1     22  110"
      ]
     },
     "execution_count": 57,
     "metadata": {},
     "output_type": "execute_result"
    }
   ],
   "source": [
    "# confusion matrix\n",
    "pd.DataFrame(confusion_matrix(y_test, smote_rfc_pred))"
   ]
  },
  {
   "cell_type": "code",
   "execution_count": 58,
   "metadata": {},
   "outputs": [
    {
     "name": "stdout",
     "output_type": "stream",
     "text": [
      "        Accuracy /     Recall /  Precision /         F1\n",
      "LR         :    0.99923 /    0.63636 /    0.92308 /    0.75336\n",
      "RFC        :    0.99958 /    0.81061 /    0.95536 /    0.87705\n",
      "Up LR      :    0.97839 /    0.88636 /    0.07130 /    0.13198\n",
      "Up RFC     :    0.99962 /    0.81818 /    0.97297 /    0.88889\n",
      "Down LR    :    0.96500 /    0.88636 /    0.04510 /    0.08584\n",
      "Down RFC   :    0.97733 /    0.87879 /    0.06768 /    0.12568\n",
      "smote LR   :    0.97747 /    0.88636 /    0.06858 /    0.12731\n",
      "smote RFC  :    0.99952 /    0.83333 /    0.90164 /    0.86614\n"
     ]
    }
   ],
   "source": [
    "print('        Accuracy /     Recall /  Precision /         F1')\n",
    "print('LR         : {:10.5f} / {:10.5f} / {:10.5f} / {:10.5f}'.format(accuracy_score(y_test, lr_pred), recall_score(y_test, lr_pred), precision_score(y_test, lr_pred), f1_score(y_test, lr_pred)))\n",
    "print('RFC        : {:10.5f} / {:10.5f} / {:10.5f} / {:10.5f}'.format(accuracy_score(y_test, rfc_pred), recall_score(y_test, rfc_pred), precision_score(y_test, rfc_pred), f1_score(y_test, rfc_pred)))\n",
    "print('Up LR      : {:10.5f} / {:10.5f} / {:10.5f} / {:10.5f}'.format(accuracy_score(y_test, upsampled_pred), recall_score(y_test, upsampled_pred), precision_score(y_test, upsampled_pred), f1_score(y_test, upsampled_pred)))\n",
    "print('Up RFC     : {:10.5f} / {:10.5f} / {:10.5f} / {:10.5f}'.format(accuracy_score(y_test, upsampled_rfc_pred), recall_score(y_test, upsampled_rfc_pred), precision_score(y_test, upsampled_rfc_pred), f1_score(y_test, upsampled_rfc_pred)))\n",
    "print('Down LR    : {:10.5f} / {:10.5f} / {:10.5f} / {:10.5f}'.format(accuracy_score(y_test, downsampled_pred), recall_score(y_test, downsampled_pred), precision_score(y_test, downsampled_pred), f1_score(y_test, downsampled_pred)))\n",
    "print('Down RFC   : {:10.5f} / {:10.5f} / {:10.5f} / {:10.5f}'.format(accuracy_score(y_test, downsampled_rfc_pred), recall_score(y_test, downsampled_rfc_pred), precision_score(y_test, downsampled_rfc_pred), f1_score(y_test, downsampled_rfc_pred)))\n",
    "print('smote LR   : {:10.5f} / {:10.5f} / {:10.5f} / {:10.5f}'.format(accuracy_score(y_test, smote_pred), recall_score(y_test, smote_pred), precision_score(y_test, smote_pred), f1_score(y_test, smote_pred)))\n",
    "print('smote RFC  : {:10.5f} / {:10.5f} / {:10.5f} / {:10.5f}'.format(accuracy_score(y_test, smote_rfc_pred), recall_score(y_test, smote_rfc_pred), precision_score(y_test, smote_rfc_pred), f1_score(y_test, smote_rfc_pred)))\n"
   ]
  },
  {
   "cell_type": "code",
   "execution_count": 60,
   "metadata": {},
   "outputs": [
    {
     "name": "stdout",
     "output_type": "stream",
     "text": [
      "**************************************************************************************************** \n",
      "LogisticRegression\n"
     ]
    },
    {
     "data": {
      "text/html": [
       "<div>\n",
       "<style scoped>\n",
       "    .dataframe tbody tr th:only-of-type {\n",
       "        vertical-align: middle;\n",
       "    }\n",
       "\n",
       "    .dataframe tbody tr th {\n",
       "        vertical-align: top;\n",
       "    }\n",
       "\n",
       "    .dataframe thead th {\n",
       "        text-align: right;\n",
       "    }\n",
       "</style>\n",
       "<table border=\"1\" class=\"dataframe\">\n",
       "  <thead>\n",
       "    <tr style=\"text-align: right;\">\n",
       "      <th></th>\n",
       "      <th>0</th>\n",
       "      <th>1</th>\n",
       "    </tr>\n",
       "  </thead>\n",
       "  <tbody>\n",
       "    <tr>\n",
       "      <th>0</th>\n",
       "      <td>71063</td>\n",
       "      <td>7</td>\n",
       "    </tr>\n",
       "    <tr>\n",
       "      <th>1</th>\n",
       "      <td>48</td>\n",
       "      <td>84</td>\n",
       "    </tr>\n",
       "  </tbody>\n",
       "</table>\n",
       "</div>"
      ],
      "text/plain": [
       "       0   1\n",
       "0  71063   7\n",
       "1     48  84"
      ]
     },
     "metadata": {},
     "output_type": "display_data"
    },
    {
     "name": "stdout",
     "output_type": "stream",
     "text": [
      "**************************************************************************************************** \n",
      "RandomForestClassifier\n"
     ]
    },
    {
     "data": {
      "text/html": [
       "<div>\n",
       "<style scoped>\n",
       "    .dataframe tbody tr th:only-of-type {\n",
       "        vertical-align: middle;\n",
       "    }\n",
       "\n",
       "    .dataframe tbody tr th {\n",
       "        vertical-align: top;\n",
       "    }\n",
       "\n",
       "    .dataframe thead th {\n",
       "        text-align: right;\n",
       "    }\n",
       "</style>\n",
       "<table border=\"1\" class=\"dataframe\">\n",
       "  <thead>\n",
       "    <tr style=\"text-align: right;\">\n",
       "      <th></th>\n",
       "      <th>0</th>\n",
       "      <th>1</th>\n",
       "    </tr>\n",
       "  </thead>\n",
       "  <tbody>\n",
       "    <tr>\n",
       "      <th>0</th>\n",
       "      <td>71065</td>\n",
       "      <td>5</td>\n",
       "    </tr>\n",
       "    <tr>\n",
       "      <th>1</th>\n",
       "      <td>25</td>\n",
       "      <td>107</td>\n",
       "    </tr>\n",
       "  </tbody>\n",
       "</table>\n",
       "</div>"
      ],
      "text/plain": [
       "       0    1\n",
       "0  71065    5\n",
       "1     25  107"
      ]
     },
     "metadata": {},
     "output_type": "display_data"
    },
    {
     "name": "stdout",
     "output_type": "stream",
     "text": [
      "**************************************************************************************************** \n",
      "Upsampling LogisticRegression\n"
     ]
    },
    {
     "data": {
      "text/html": [
       "<div>\n",
       "<style scoped>\n",
       "    .dataframe tbody tr th:only-of-type {\n",
       "        vertical-align: middle;\n",
       "    }\n",
       "\n",
       "    .dataframe tbody tr th {\n",
       "        vertical-align: top;\n",
       "    }\n",
       "\n",
       "    .dataframe thead th {\n",
       "        text-align: right;\n",
       "    }\n",
       "</style>\n",
       "<table border=\"1\" class=\"dataframe\">\n",
       "  <thead>\n",
       "    <tr style=\"text-align: right;\">\n",
       "      <th></th>\n",
       "      <th>0</th>\n",
       "      <th>1</th>\n",
       "    </tr>\n",
       "  </thead>\n",
       "  <tbody>\n",
       "    <tr>\n",
       "      <th>0</th>\n",
       "      <td>69546</td>\n",
       "      <td>1524</td>\n",
       "    </tr>\n",
       "    <tr>\n",
       "      <th>1</th>\n",
       "      <td>15</td>\n",
       "      <td>117</td>\n",
       "    </tr>\n",
       "  </tbody>\n",
       "</table>\n",
       "</div>"
      ],
      "text/plain": [
       "       0     1\n",
       "0  69546  1524\n",
       "1     15   117"
      ]
     },
     "metadata": {},
     "output_type": "display_data"
    },
    {
     "name": "stdout",
     "output_type": "stream",
     "text": [
      "**************************************************************************************************** \n",
      "Upsampling RandomForestClassifier\n"
     ]
    },
    {
     "data": {
      "text/html": [
       "<div>\n",
       "<style scoped>\n",
       "    .dataframe tbody tr th:only-of-type {\n",
       "        vertical-align: middle;\n",
       "    }\n",
       "\n",
       "    .dataframe tbody tr th {\n",
       "        vertical-align: top;\n",
       "    }\n",
       "\n",
       "    .dataframe thead th {\n",
       "        text-align: right;\n",
       "    }\n",
       "</style>\n",
       "<table border=\"1\" class=\"dataframe\">\n",
       "  <thead>\n",
       "    <tr style=\"text-align: right;\">\n",
       "      <th></th>\n",
       "      <th>0</th>\n",
       "      <th>1</th>\n",
       "    </tr>\n",
       "  </thead>\n",
       "  <tbody>\n",
       "    <tr>\n",
       "      <th>0</th>\n",
       "      <td>71067</td>\n",
       "      <td>3</td>\n",
       "    </tr>\n",
       "    <tr>\n",
       "      <th>1</th>\n",
       "      <td>24</td>\n",
       "      <td>108</td>\n",
       "    </tr>\n",
       "  </tbody>\n",
       "</table>\n",
       "</div>"
      ],
      "text/plain": [
       "       0    1\n",
       "0  71067    3\n",
       "1     24  108"
      ]
     },
     "metadata": {},
     "output_type": "display_data"
    },
    {
     "name": "stdout",
     "output_type": "stream",
     "text": [
      "**************************************************************************************************** \n",
      "Downsampling LogisticRegression\n"
     ]
    },
    {
     "data": {
      "text/html": [
       "<div>\n",
       "<style scoped>\n",
       "    .dataframe tbody tr th:only-of-type {\n",
       "        vertical-align: middle;\n",
       "    }\n",
       "\n",
       "    .dataframe tbody tr th {\n",
       "        vertical-align: top;\n",
       "    }\n",
       "\n",
       "    .dataframe thead th {\n",
       "        text-align: right;\n",
       "    }\n",
       "</style>\n",
       "<table border=\"1\" class=\"dataframe\">\n",
       "  <thead>\n",
       "    <tr style=\"text-align: right;\">\n",
       "      <th></th>\n",
       "      <th>0</th>\n",
       "      <th>1</th>\n",
       "    </tr>\n",
       "  </thead>\n",
       "  <tbody>\n",
       "    <tr>\n",
       "      <th>0</th>\n",
       "      <td>68593</td>\n",
       "      <td>2477</td>\n",
       "    </tr>\n",
       "    <tr>\n",
       "      <th>1</th>\n",
       "      <td>15</td>\n",
       "      <td>117</td>\n",
       "    </tr>\n",
       "  </tbody>\n",
       "</table>\n",
       "</div>"
      ],
      "text/plain": [
       "       0     1\n",
       "0  68593  2477\n",
       "1     15   117"
      ]
     },
     "metadata": {},
     "output_type": "display_data"
    },
    {
     "name": "stdout",
     "output_type": "stream",
     "text": [
      "**************************************************************************************************** \n",
      "Downsampling RandomForestClassifier\n"
     ]
    },
    {
     "data": {
      "text/html": [
       "<div>\n",
       "<style scoped>\n",
       "    .dataframe tbody tr th:only-of-type {\n",
       "        vertical-align: middle;\n",
       "    }\n",
       "\n",
       "    .dataframe tbody tr th {\n",
       "        vertical-align: top;\n",
       "    }\n",
       "\n",
       "    .dataframe thead th {\n",
       "        text-align: right;\n",
       "    }\n",
       "</style>\n",
       "<table border=\"1\" class=\"dataframe\">\n",
       "  <thead>\n",
       "    <tr style=\"text-align: right;\">\n",
       "      <th></th>\n",
       "      <th>0</th>\n",
       "      <th>1</th>\n",
       "    </tr>\n",
       "  </thead>\n",
       "  <tbody>\n",
       "    <tr>\n",
       "      <th>0</th>\n",
       "      <td>69472</td>\n",
       "      <td>1598</td>\n",
       "    </tr>\n",
       "    <tr>\n",
       "      <th>1</th>\n",
       "      <td>16</td>\n",
       "      <td>116</td>\n",
       "    </tr>\n",
       "  </tbody>\n",
       "</table>\n",
       "</div>"
      ],
      "text/plain": [
       "       0     1\n",
       "0  69472  1598\n",
       "1     16   116"
      ]
     },
     "metadata": {},
     "output_type": "display_data"
    },
    {
     "name": "stdout",
     "output_type": "stream",
     "text": [
      "**************************************************************************************************** \n",
      "Synthetic SamplingLogisticRegression\n"
     ]
    },
    {
     "data": {
      "text/html": [
       "<div>\n",
       "<style scoped>\n",
       "    .dataframe tbody tr th:only-of-type {\n",
       "        vertical-align: middle;\n",
       "    }\n",
       "\n",
       "    .dataframe tbody tr th {\n",
       "        vertical-align: top;\n",
       "    }\n",
       "\n",
       "    .dataframe thead th {\n",
       "        text-align: right;\n",
       "    }\n",
       "</style>\n",
       "<table border=\"1\" class=\"dataframe\">\n",
       "  <thead>\n",
       "    <tr style=\"text-align: right;\">\n",
       "      <th></th>\n",
       "      <th>0</th>\n",
       "      <th>1</th>\n",
       "    </tr>\n",
       "  </thead>\n",
       "  <tbody>\n",
       "    <tr>\n",
       "      <th>0</th>\n",
       "      <td>69481</td>\n",
       "      <td>1589</td>\n",
       "    </tr>\n",
       "    <tr>\n",
       "      <th>1</th>\n",
       "      <td>15</td>\n",
       "      <td>117</td>\n",
       "    </tr>\n",
       "  </tbody>\n",
       "</table>\n",
       "</div>"
      ],
      "text/plain": [
       "       0     1\n",
       "0  69481  1589\n",
       "1     15   117"
      ]
     },
     "metadata": {},
     "output_type": "display_data"
    },
    {
     "name": "stdout",
     "output_type": "stream",
     "text": [
      "**************************************************************************************************** \n",
      "Synthetic SamplingRandomForestClassifier\n"
     ]
    },
    {
     "data": {
      "text/html": [
       "<div>\n",
       "<style scoped>\n",
       "    .dataframe tbody tr th:only-of-type {\n",
       "        vertical-align: middle;\n",
       "    }\n",
       "\n",
       "    .dataframe tbody tr th {\n",
       "        vertical-align: top;\n",
       "    }\n",
       "\n",
       "    .dataframe thead th {\n",
       "        text-align: right;\n",
       "    }\n",
       "</style>\n",
       "<table border=\"1\" class=\"dataframe\">\n",
       "  <thead>\n",
       "    <tr style=\"text-align: right;\">\n",
       "      <th></th>\n",
       "      <th>0</th>\n",
       "      <th>1</th>\n",
       "    </tr>\n",
       "  </thead>\n",
       "  <tbody>\n",
       "    <tr>\n",
       "      <th>0</th>\n",
       "      <td>71058</td>\n",
       "      <td>12</td>\n",
       "    </tr>\n",
       "    <tr>\n",
       "      <th>1</th>\n",
       "      <td>22</td>\n",
       "      <td>110</td>\n",
       "    </tr>\n",
       "  </tbody>\n",
       "</table>\n",
       "</div>"
      ],
      "text/plain": [
       "       0    1\n",
       "0  71058   12\n",
       "1     22  110"
      ]
     },
     "metadata": {},
     "output_type": "display_data"
    }
   ],
   "source": [
    "from IPython import display\n",
    "print('*'*100,'\\nLogisticRegression')\n",
    "display.display(pd.DataFrame(confusion_matrix(y_test, lr_pred)))\n",
    "print('*'*100,'\\nRandomForestClassifier')\n",
    "#print('*'*100,RandomForestClassifier')\n",
    "display.display(pd.DataFrame(confusion_matrix(y_test, rfc_pred)))\n",
    "print('*'*100,'\\nUpsampling LogisticRegression')\n",
    "display.display(pd.DataFrame(confusion_matrix(y_test, upsampled_pred)))\n",
    "print('*'*100,'\\nUpsampling RandomForestClassifier')\n",
    "display.display(pd.DataFrame(confusion_matrix(y_test, upsampled_rfc_pred)))\n",
    "print('*'*100,'\\nDownsampling LogisticRegression')\n",
    "display.display(pd.DataFrame(confusion_matrix(y_test, downsampled_pred)))\n",
    "print('*'*100,'\\nDownsampling RandomForestClassifier')\n",
    "display.display(pd.DataFrame(confusion_matrix(y_test, downsampled_rfc_pred)))\n",
    "print('*'*100,'\\nSynthetic SamplingLogisticRegression')\n",
    "display.display(pd.DataFrame(confusion_matrix(y_test, smote_pred)))\n",
    "print('*'*100,'\\nSynthetic SamplingRandomForestClassifier')\n",
    "display.display(pd.DataFrame(confusion_matrix(y_test, smote_rfc_pred)))"
   ]
  },
  {
   "cell_type": "markdown",
   "metadata": {},
   "source": [
    "# Conclusion\n",
    "We covered 5 different methods for dealing with imbalanced datasets:\n",
    "\n",
    "1. Change the performance metric\n",
    "2. Oversampling minority class\n",
    "3. Undersampling majority class\n",
    "4. Change the algorithm\n",
    "5. Generate synthetic samples\n",
    "\n",
    "#### These are just some of the many possible methods to try when dealing with imbalanced datasets, and not an exhaustive list. Some others methods to consider are collecting more data or choosing different resampling ratios - you don't have to have exactly a 1:1 ratio! You should always try several approaches and then decide which is best for your problem.\n",
    "#### 이들은 불균형 데이터 세트를 다룰 때 시도 할 수있는 많은 방법 중 일부일 뿐이며 전체 목록은 아닙니다. 고려해야 할 다른 방법은 더 많은 데이터를 수집하거나 다른 리샘플링 비율을 선택하는 것입니다. 정확히 1 : 1 비율 일 필요는 없습니다! 항상 몇 가지 접근 방식을 시도한 다음 문제에 가장 적합한 방법을 결정해야합니다."
   ]
  },
  {
   "cell_type": "code",
   "execution_count": null,
   "metadata": {},
   "outputs": [],
   "source": []
  },
  {
   "cell_type": "code",
   "execution_count": 61,
   "metadata": {},
   "outputs": [
    {
     "data": {
      "text/html": [
       "<div>\n",
       "<style scoped>\n",
       "    .dataframe tbody tr th:only-of-type {\n",
       "        vertical-align: middle;\n",
       "    }\n",
       "\n",
       "    .dataframe tbody tr th {\n",
       "        vertical-align: top;\n",
       "    }\n",
       "\n",
       "    .dataframe thead th {\n",
       "        text-align: right;\n",
       "    }\n",
       "</style>\n",
       "<table border=\"1\" class=\"dataframe\">\n",
       "  <thead>\n",
       "    <tr style=\"text-align: right;\">\n",
       "      <th></th>\n",
       "      <th>0</th>\n",
       "      <th>1</th>\n",
       "    </tr>\n",
       "  </thead>\n",
       "  <tbody>\n",
       "    <tr>\n",
       "      <th>0</th>\n",
       "      <td>71063</td>\n",
       "      <td>7</td>\n",
       "    </tr>\n",
       "    <tr>\n",
       "      <th>1</th>\n",
       "      <td>48</td>\n",
       "      <td>84</td>\n",
       "    </tr>\n",
       "  </tbody>\n",
       "</table>\n",
       "</div>"
      ],
      "text/plain": [
       "       0   1\n",
       "0  71063   7\n",
       "1     48  84"
      ]
     },
     "execution_count": 61,
     "metadata": {},
     "output_type": "execute_result"
    }
   ],
   "source": [
    "pd.DataFrame(confusion_matrix(y_test, lr_pred))"
   ]
  },
  {
   "cell_type": "code",
   "execution_count": 72,
   "metadata": {},
   "outputs": [
    {
     "data": {
      "text/plain": [
       "(71063, 7, 48, 84, 0.7660888915942948)"
      ]
     },
     "execution_count": 72,
     "metadata": {},
     "output_type": "execute_result"
    }
   ],
   "source": [
    "tp = pd.DataFrame(confusion_matrix(y_test, lr_pred))[0][0]\n",
    "fn = pd.DataFrame(confusion_matrix(y_test, lr_pred))[1][0]\n",
    "fp = pd.DataFrame(confusion_matrix(y_test, lr_pred))[0][1]\n",
    "tn = pd.DataFrame(confusion_matrix(y_test, lr_pred))[1][1]\n",
    "lr_mcc = (tp*tn-fp*fn)/(((tp+fp)*(tp+fn)*(tn+fp)*(tn+fn))**0.5)\n",
    "tp, fn, fp, tn, lr_mcc"
   ]
  },
  {
   "cell_type": "code",
   "execution_count": 70,
   "metadata": {},
   "outputs": [
    {
     "data": {
      "text/plain": [
       "(71065, 5, 25, 107, 0.8798102290019919)"
      ]
     },
     "execution_count": 70,
     "metadata": {},
     "output_type": "execute_result"
    }
   ],
   "source": [
    "tp = pd.DataFrame(confusion_matrix(y_test, rfc_pred))[0][0]\n",
    "fn = pd.DataFrame(confusion_matrix(y_test, rfc_pred))[1][0]\n",
    "fp = pd.DataFrame(confusion_matrix(y_test, rfc_pred))[0][1]\n",
    "tn = pd.DataFrame(confusion_matrix(y_test, rfc_pred))[1][1]\n",
    "rfc_mcc = (tp*tn-fp*fn)/(((tp+fp)*(tp+fn)*(tn+fp)*(tn+fn))**0.5)\n",
    "tp, fn, fp, tn, rfc_mcc"
   ]
  },
  {
   "cell_type": "code",
   "execution_count": 73,
   "metadata": {},
   "outputs": [
    {
     "data": {
      "text/plain": [
       "(69546, 1524, 15, 117, 0.24795270965819663)"
      ]
     },
     "execution_count": 73,
     "metadata": {},
     "output_type": "execute_result"
    }
   ],
   "source": [
    "tp = pd.DataFrame(confusion_matrix(y_test, upsampled_pred))[0][0]\n",
    "fn = pd.DataFrame(confusion_matrix(y_test, upsampled_pred))[1][0]\n",
    "fp = pd.DataFrame(confusion_matrix(y_test, upsampled_pred))[0][1]\n",
    "tn = pd.DataFrame(confusion_matrix(y_test, upsampled_pred))[1][1]\n",
    "upsampled_mcc = (tp*tn-fp*fn)/(((tp+fp)*(tp+fn)*(tn+fp)*(tn+fn))**0.5)\n",
    "tp, fn, fp, tn, upsampled_mcc"
   ]
  },
  {
   "cell_type": "code",
   "execution_count": 74,
   "metadata": {},
   "outputs": [
    {
     "data": {
      "text/plain": [
       "(71067, 3, 24, 108, 0.8920490596359072)"
      ]
     },
     "execution_count": 74,
     "metadata": {},
     "output_type": "execute_result"
    }
   ],
   "source": [
    "tp = pd.DataFrame(confusion_matrix(y_test, upsampled_rfc_pred))[0][0]\n",
    "fn = pd.DataFrame(confusion_matrix(y_test, upsampled_rfc_pred))[1][0]\n",
    "fp = pd.DataFrame(confusion_matrix(y_test, upsampled_rfc_pred))[0][1]\n",
    "tn = pd.DataFrame(confusion_matrix(y_test, upsampled_rfc_pred))[1][1]\n",
    "upsampled_rfc_mcc = (tp*tn-fp*fn)/(((tp+fp)*(tp+fn)*(tn+fp)*(tn+fn))**0.5)\n",
    "tp, fn, fp, tn, upsampled_rfc_mcc"
   ]
  },
  {
   "cell_type": "code",
   "execution_count": 75,
   "metadata": {},
   "outputs": [
    {
     "data": {
      "text/plain": [
       "(68593, 2477, 15, 117, 0.19550049187391386)"
      ]
     },
     "execution_count": 75,
     "metadata": {},
     "output_type": "execute_result"
    }
   ],
   "source": [
    "tp = pd.DataFrame(confusion_matrix(y_test, downsampled_pred))[0][0]\n",
    "fn = pd.DataFrame(confusion_matrix(y_test, downsampled_pred))[1][0]\n",
    "fp = pd.DataFrame(confusion_matrix(y_test, downsampled_pred))[0][1]\n",
    "tn = pd.DataFrame(confusion_matrix(y_test, downsampled_pred))[1][1]\n",
    "downsampled_mcc = (tp*tn-fp*fn)/(((tp+fp)*(tp+fn)*(tn+fp)*(tn+fn))**0.5)\n",
    "tp, fn, fp, tn, downsampled_mcc"
   ]
  },
  {
   "cell_type": "code",
   "execution_count": 76,
   "metadata": {},
   "outputs": [
    {
     "data": {
      "text/plain": [
       "(69472, 1598, 16, 116, 0.24032407337318845)"
      ]
     },
     "execution_count": 76,
     "metadata": {},
     "output_type": "execute_result"
    }
   ],
   "source": [
    "tp = pd.DataFrame(confusion_matrix(y_test, downsampled_rfc_pred))[0][0]\n",
    "fn = pd.DataFrame(confusion_matrix(y_test, downsampled_rfc_pred))[1][0]\n",
    "fp = pd.DataFrame(confusion_matrix(y_test, downsampled_rfc_pred))[0][1]\n",
    "tn = pd.DataFrame(confusion_matrix(y_test, downsampled_rfc_pred))[1][1]\n",
    "downsampled_rfc_mcc = (tp*tn-fp*fn)/(((tp+fp)*(tp+fn)*(tn+fp)*(tn+fn))**0.5)\n",
    "tp, fn, fp, tn, downsampled_rfc_mcc"
   ]
  },
  {
   "cell_type": "code",
   "execution_count": 77,
   "metadata": {},
   "outputs": [
    {
     "data": {
      "text/plain": [
       "(69481, 1589, 15, 117, 0.24303966699615984)"
      ]
     },
     "execution_count": 77,
     "metadata": {},
     "output_type": "execute_result"
    }
   ],
   "source": [
    "tp = pd.DataFrame(confusion_matrix(y_test, smote_pred))[0][0]\n",
    "fn = pd.DataFrame(confusion_matrix(y_test, smote_pred))[1][0]\n",
    "fp = pd.DataFrame(confusion_matrix(y_test, smote_pred))[0][1]\n",
    "tn = pd.DataFrame(confusion_matrix(y_test, smote_pred))[1][1]\n",
    "smote_mcc = (tp*tn-fp*fn)/(((tp+fp)*(tp+fn)*(tn+fp)*(tn+fn))**0.5)\n",
    "tp, fn, fp, tn, smote_mcc"
   ]
  },
  {
   "cell_type": "code",
   "execution_count": 78,
   "metadata": {},
   "outputs": [
    {
     "data": {
      "text/plain": [
       "(71058, 12, 22, 110, 0.8665771791845449)"
      ]
     },
     "execution_count": 78,
     "metadata": {},
     "output_type": "execute_result"
    }
   ],
   "source": [
    "tp = pd.DataFrame(confusion_matrix(y_test, smote_rfc_pred))[0][0]\n",
    "fn = pd.DataFrame(confusion_matrix(y_test, smote_rfc_pred))[1][0]\n",
    "fp = pd.DataFrame(confusion_matrix(y_test, smote_rfc_pred))[0][1]\n",
    "tn = pd.DataFrame(confusion_matrix(y_test, smote_rfc_pred))[1][1]\n",
    "smote_rfc_mcc = (tp*tn-fp*fn)/(((tp+fp)*(tp+fn)*(tn+fp)*(tn+fn))**0.5)\n",
    "tp, fn, fp, tn, smote_rfc_mcc"
   ]
  },
  {
   "cell_type": "code",
   "execution_count": 96,
   "metadata": {},
   "outputs": [
    {
     "name": "stdout",
     "output_type": "stream",
     "text": [
      "               Accuracy /     Recall /  Precision /         F1 /    MCC(매튜상관계수)\n",
      "LR         :    0.99923 /    0.63636 /    0.92308 /    0.75336 /    0.76609 0.6383266872319615\n",
      "RFC        :    0.99958 /    0.81061 /    0.95536 /    0.87705 /    0.87981 0.8118239182692307\n",
      "Up LR      :    0.97839 /    0.88636 /    0.07130 /    0.13198 /    0.24795 0.7962401455427532\n",
      "Up RFC     :    0.99962 /    0.81818 /    0.97297 /    0.88889 /    0.89205 0.8194726166328601\n",
      "Down LR    :    0.96500 /    0.88636 /    0.04510 /    0.08584 /    0.19550 0.7481955172850449\n",
      "Down RFC   :    0.97733 /    0.87879 /    0.06768 /    0.12568 /    0.24032 0.7855706048008582\n",
      "smote LR   :    0.97747 /    0.88636 /    0.06858 /    0.12731 /    0.24304 0.7927680128807191\n",
      "smote RFC  :    0.99952 /    0.83333 /    0.90164 /    0.86614 /    0.86658 0.8339588650352802\n"
     ]
    }
   ],
   "source": [
    "beta=10\n",
    "print('               Accuracy /     Recall /  Precision /         F1 /    MCC(매튜상관계수)')\n",
    "print('LR         : {:10.5f} / {:10.5f} / {:10.5f} / {:10.5f} / {:10.5f}'.format(accuracy_score(y_test, lr_pred), recall_score(y_test, lr_pred), precision_score(y_test, lr_pred), f1_score(y_test, lr_pred),lr_mcc), fbeta_score(y_test, lr_pred, beta))\n",
    "print('RFC        : {:10.5f} / {:10.5f} / {:10.5f} / {:10.5f} / {:10.5f}'.format(accuracy_score(y_test, rfc_pred), recall_score(y_test, rfc_pred), precision_score(y_test, rfc_pred), f1_score(y_test, rfc_pred),rfc_mcc), fbeta_score(y_test, rfc_pred, beta))\n",
    "print('Up LR      : {:10.5f} / {:10.5f} / {:10.5f} / {:10.5f} / {:10.5f}'.format(accuracy_score(y_test, upsampled_pred), recall_score(y_test, upsampled_pred), precision_score(y_test, upsampled_pred), f1_score(y_test, upsampled_pred),upsampled_mcc), fbeta_score(y_test, upsampled_pred, beta))\n",
    "print('Up RFC     : {:10.5f} / {:10.5f} / {:10.5f} / {:10.5f} / {:10.5f}'.format(accuracy_score(y_test, upsampled_rfc_pred), recall_score(y_test, upsampled_rfc_pred), precision_score(y_test, upsampled_rfc_pred), f1_score(y_test, upsampled_rfc_pred),upsampled_rfc_mcc), fbeta_score(y_test, upsampled_rfc_pred, beta))\n",
    "print('Down LR    : {:10.5f} / {:10.5f} / {:10.5f} / {:10.5f} / {:10.5f}'.format(accuracy_score(y_test, downsampled_pred), recall_score(y_test, downsampled_pred), precision_score(y_test, downsampled_pred), f1_score(y_test, downsampled_pred),downsampled_mcc), fbeta_score(y_test, downsampled_pred, beta))\n",
    "print('Down RFC   : {:10.5f} / {:10.5f} / {:10.5f} / {:10.5f} / {:10.5f}'.format(accuracy_score(y_test, downsampled_rfc_pred), recall_score(y_test, downsampled_rfc_pred), precision_score(y_test, downsampled_rfc_pred), f1_score(y_test, downsampled_rfc_pred),downsampled_rfc_mcc), fbeta_score(y_test, downsampled_rfc_pred, beta))\n",
    "print('smote LR   : {:10.5f} / {:10.5f} / {:10.5f} / {:10.5f} / {:10.5f}'.format(accuracy_score(y_test, smote_pred), recall_score(y_test, smote_pred), precision_score(y_test, smote_pred), f1_score(y_test, smote_pred),smote_mcc), fbeta_score(y_test, smote_pred, beta))\n",
    "print('smote RFC  : {:10.5f} / {:10.5f} / {:10.5f} / {:10.5f} / {:10.5f}'.format(accuracy_score(y_test, smote_rfc_pred), recall_score(y_test, smote_rfc_pred), precision_score(y_test, smote_rfc_pred), f1_score(y_test, smote_rfc_pred),smote_rfc_mcc), fbeta_score(y_test, smote_rfc_pred, beta))\n"
   ]
  },
  {
   "cell_type": "code",
   "execution_count": 97,
   "metadata": {},
   "outputs": [
    {
     "name": "stdout",
     "output_type": "stream",
     "text": [
      "               Accuracy /     Recall /  Precision /         F1 /    MCC(매튜상관계수)\n",
      "LR         :    0.99923 /    0.63636 /    0.92308 /    0.75336 /    0.76609 0.6383266872319615\n",
      "Up LR      :    0.97839 /    0.88636 /    0.07130 /    0.13198 /    0.24795 0.7962401455427532\n",
      "Down LR    :    0.96500 /    0.88636 /    0.04510 /    0.08584 /    0.19550 0.7481955172850449\n",
      "smote LR   :    0.97747 /    0.88636 /    0.06858 /    0.12731 /    0.24304 0.7927680128807191\n"
     ]
    }
   ],
   "source": [
    "beta=10\n",
    "print('               Accuracy /     Recall /  Precision /         F1 /    MCC(매튜상관계수)')\n",
    "print('LR         : {:10.5f} / {:10.5f} / {:10.5f} / {:10.5f} / {:10.5f}'.format(accuracy_score(y_test, lr_pred), recall_score(y_test, lr_pred), precision_score(y_test, lr_pred), f1_score(y_test, lr_pred),lr_mcc), fbeta_score(y_test, lr_pred, beta))\n",
    "print('Up LR      : {:10.5f} / {:10.5f} / {:10.5f} / {:10.5f} / {:10.5f}'.format(accuracy_score(y_test, upsampled_pred), recall_score(y_test, upsampled_pred), precision_score(y_test, upsampled_pred), f1_score(y_test, upsampled_pred),upsampled_mcc), fbeta_score(y_test, upsampled_pred, beta))\n",
    "print('Down LR    : {:10.5f} / {:10.5f} / {:10.5f} / {:10.5f} / {:10.5f}'.format(accuracy_score(y_test, downsampled_pred), recall_score(y_test, downsampled_pred), precision_score(y_test, downsampled_pred), f1_score(y_test, downsampled_pred),downsampled_mcc), fbeta_score(y_test, downsampled_pred, beta))\n",
    "print('smote LR   : {:10.5f} / {:10.5f} / {:10.5f} / {:10.5f} / {:10.5f}'.format(accuracy_score(y_test, smote_pred), recall_score(y_test, smote_pred), precision_score(y_test, smote_pred), f1_score(y_test, smote_pred),smote_mcc), fbeta_score(y_test, smote_pred, beta))\n"
   ]
  },
  {
   "cell_type": "code",
   "execution_count": null,
   "metadata": {},
   "outputs": [],
   "source": []
  }
 ],
 "metadata": {
  "kernelspec": {
   "display_name": "Python 3",
   "language": "python",
   "name": "python3"
  },
  "language_info": {
   "codemirror_mode": {
    "name": "ipython",
    "version": 3
   },
   "file_extension": ".py",
   "mimetype": "text/x-python",
   "name": "python",
   "nbconvert_exporter": "python",
   "pygments_lexer": "ipython3",
   "version": "3.5.3"
  }
 },
 "nbformat": 4,
 "nbformat_minor": 4
}
