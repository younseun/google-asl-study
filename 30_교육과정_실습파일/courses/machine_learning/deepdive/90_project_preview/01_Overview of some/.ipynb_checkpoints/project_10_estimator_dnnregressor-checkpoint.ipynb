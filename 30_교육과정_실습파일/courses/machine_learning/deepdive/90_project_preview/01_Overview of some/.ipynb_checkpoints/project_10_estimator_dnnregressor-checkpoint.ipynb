{
 "cells": [
  {
   "cell_type": "code",
   "execution_count": 2,
   "metadata": {},
   "outputs": [
    {
     "name": "stdout",
     "output_type": "stream",
     "text": [
      "1.15.0\n"
     ]
    }
   ],
   "source": [
    "import tensorflow as tf\n",
    "import numpy as np\n",
    "import shutil\n",
    "print(tf.__version__)"
   ]
  },
  {
   "cell_type": "code",
   "execution_count": 36,
   "metadata": {},
   "outputs": [
    {
     "name": "stdout",
     "output_type": "stream",
     "text": [
      "CSV_COLUMN_NAMES:['time', 'V1', 'V2', 'V3', 'V4', 'V5', 'V6', 'V7', 'V8', 'V9', 'V10', 'V11', 'V12', 'V13', 'V14', 'V15', 'V16', 'V17', 'V18', 'V19', 'V20', 'V21', 'V22', 'V23', 'V24', 'V25', 'V26', 'V27', 'V28', 'Amount', 'Class']\n",
      "CSV_DEFAULTS:[[0.0], [0.0], [0.0], [0.0], [0.0], [0.0], [0.0], [0.0], [0.0], [0.0], [0.0], [0.0], [0.0], [0.0], [0.0], [0.0], [0.0], [0.0], [0.0], [0.0], [0.0], [0.0], [0.0], [0.0], [0.0], [0.0], [0.0], [0.0], [0.0], [0.0], [0]]\n"
     ]
    }
   ],
   "source": [
    "CSV_COLUMN_NAMES = [\"time\"]+['V'+(i+1).astype(np.str) for i in np.array(range(28))]+['Amount','Class']\n",
    "CSV_DEFAULTS = [[0.0] for i in np.array(range(30))]+[[0]]\n",
    "print('CSV_COLUMN_NAMES:{}\\nCSV_DEFAULTS:{}'.format(CSV_COLUMN_NAMES,CSV_DEFAULTS))"
   ]
  },
  {
   "cell_type": "code",
   "execution_count": 78,
   "metadata": {},
   "outputs": [],
   "source": [
    "def parse_row(row):\n",
    "    fields = tf.decode_csv(records = row, record_defaults = CSV_DEFAULTS)\n",
    "    features = dict(zip(CSV_COLUMN_NAMES, fields))\n",
    "    label = features.pop(\"Class\")\n",
    "    return features, label\n",
    "\n",
    "def read_dataset(csv_path):\n",
    "    dataset = tf.data.TextLineDataset(filenames = csv_path).skip(count = 1) # skip header\n",
    "    dataset = dataset.map(map_func = parse_row)\n",
    "    return dataset\n",
    "\n",
    "def train_input_fn(csv_path, batch_size = 128):\n",
    "    dataset = read_dataset(csv_path)\n",
    "    dataset = dataset.shuffle(buffer_size = 1000).repeat(count = None).batch(batch_size = batch_size)\n",
    "    return dataset\n",
    "\n",
    "def eval_input_fn(csv_path, batch_size = 128):\n",
    "    dataset = read_dataset(csv_path)\n",
    "    dataset = dataset.batch(batch_size = batch_size)\n",
    "    return dataset"
   ]
  },
  {
   "cell_type": "code",
   "execution_count": 79,
   "metadata": {},
   "outputs": [
    {
     "name": "stdout",
     "output_type": "stream",
     "text": [
      "NumericColumn(key='time', shape=(1,), default_value=None, dtype=tf.float32, normalizer_fn=None)\n",
      "NumericColumn(key='V1', shape=(1,), default_value=None, dtype=tf.float32, normalizer_fn=None)\n",
      "NumericColumn(key='V2', shape=(1,), default_value=None, dtype=tf.float32, normalizer_fn=None)\n",
      "NumericColumn(key='V3', shape=(1,), default_value=None, dtype=tf.float32, normalizer_fn=None)\n",
      "NumericColumn(key='V4', shape=(1,), default_value=None, dtype=tf.float32, normalizer_fn=None)\n",
      "NumericColumn(key='V5', shape=(1,), default_value=None, dtype=tf.float32, normalizer_fn=None)\n",
      "NumericColumn(key='V6', shape=(1,), default_value=None, dtype=tf.float32, normalizer_fn=None)\n",
      "NumericColumn(key='V7', shape=(1,), default_value=None, dtype=tf.float32, normalizer_fn=None)\n",
      "NumericColumn(key='V8', shape=(1,), default_value=None, dtype=tf.float32, normalizer_fn=None)\n",
      "NumericColumn(key='V9', shape=(1,), default_value=None, dtype=tf.float32, normalizer_fn=None)\n",
      "NumericColumn(key='V10', shape=(1,), default_value=None, dtype=tf.float32, normalizer_fn=None)\n",
      "NumericColumn(key='V11', shape=(1,), default_value=None, dtype=tf.float32, normalizer_fn=None)\n",
      "NumericColumn(key='V12', shape=(1,), default_value=None, dtype=tf.float32, normalizer_fn=None)\n",
      "NumericColumn(key='V13', shape=(1,), default_value=None, dtype=tf.float32, normalizer_fn=None)\n",
      "NumericColumn(key='V14', shape=(1,), default_value=None, dtype=tf.float32, normalizer_fn=None)\n",
      "NumericColumn(key='V15', shape=(1,), default_value=None, dtype=tf.float32, normalizer_fn=None)\n",
      "NumericColumn(key='V16', shape=(1,), default_value=None, dtype=tf.float32, normalizer_fn=None)\n",
      "NumericColumn(key='V17', shape=(1,), default_value=None, dtype=tf.float32, normalizer_fn=None)\n",
      "NumericColumn(key='V18', shape=(1,), default_value=None, dtype=tf.float32, normalizer_fn=None)\n",
      "NumericColumn(key='V19', shape=(1,), default_value=None, dtype=tf.float32, normalizer_fn=None)\n",
      "NumericColumn(key='V20', shape=(1,), default_value=None, dtype=tf.float32, normalizer_fn=None)\n",
      "NumericColumn(key='V21', shape=(1,), default_value=None, dtype=tf.float32, normalizer_fn=None)\n",
      "NumericColumn(key='V22', shape=(1,), default_value=None, dtype=tf.float32, normalizer_fn=None)\n",
      "NumericColumn(key='V23', shape=(1,), default_value=None, dtype=tf.float32, normalizer_fn=None)\n",
      "NumericColumn(key='V24', shape=(1,), default_value=None, dtype=tf.float32, normalizer_fn=None)\n",
      "NumericColumn(key='V25', shape=(1,), default_value=None, dtype=tf.float32, normalizer_fn=None)\n",
      "NumericColumn(key='V26', shape=(1,), default_value=None, dtype=tf.float32, normalizer_fn=None)\n",
      "NumericColumn(key='V27', shape=(1,), default_value=None, dtype=tf.float32, normalizer_fn=None)\n",
      "NumericColumn(key='V28', shape=(1,), default_value=None, dtype=tf.float32, normalizer_fn=None)\n",
      "NumericColumn(key='Amount', shape=(1,), default_value=None, dtype=tf.float32, normalizer_fn=None)\n"
     ]
    }
   ],
   "source": [
    "FEATURE_NAMES = CSV_COLUMN_NAMES[:-1] # all but first column\n",
    "\n",
    "feature_cols = [tf.feature_column.numeric_column(key = k) for k in FEATURE_NAMES]\n",
    "for i in feature_cols:\n",
    "    print(i)  "
   ]
  },
  {
   "cell_type": "code",
   "execution_count": 80,
   "metadata": {},
   "outputs": [],
   "source": [
    "def serving_input_receiver_fn():\n",
    "    receiver_tensors = {'time'  :tf.placeholder(dtype = tf.float32,shape=[None]),\n",
    "                        'V1'    :tf.placeholder(dtype = tf.float32,shape=[None]),\n",
    "                        'V2'    :tf.placeholder(dtype = tf.float32,shape=[None]),\n",
    "                        'V3'    :tf.placeholder(dtype = tf.float32,shape=[None]),\n",
    "                        'V4'    :tf.placeholder(dtype = tf.float32,shape=[None]),\n",
    "                        'V5'    :tf.placeholder(dtype = tf.float32,shape=[None]),\n",
    "                        'V6'    :tf.placeholder(dtype = tf.float32,shape=[None]),\n",
    "                        'V7'    :tf.placeholder(dtype = tf.float32,shape=[None]),\n",
    "                        'V8'    :tf.placeholder(dtype = tf.float32,shape=[None]),\n",
    "                        'V9'    :tf.placeholder(dtype = tf.float32,shape=[None]),\n",
    "                        'V10'   :tf.placeholder(dtype = tf.float32,shape=[None]),\n",
    "                        'V11'   :tf.placeholder(dtype = tf.float32,shape=[None]),\n",
    "                        'V12'   :tf.placeholder(dtype = tf.float32,shape=[None]),\n",
    "                        'V13'   :tf.placeholder(dtype = tf.float32,shape=[None]),\n",
    "                        'V14'   :tf.placeholder(dtype = tf.float32,shape=[None]),\n",
    "                        'V15'   :tf.placeholder(dtype = tf.float32,shape=[None]),\n",
    "                        'V16'   :tf.placeholder(dtype = tf.float32,shape=[None]),\n",
    "                        'V17'   :tf.placeholder(dtype = tf.float32,shape=[None]),\n",
    "                        'V18'   :tf.placeholder(dtype = tf.float32,shape=[None]),\n",
    "                        'V19'   :tf.placeholder(dtype = tf.float32,shape=[None]),\n",
    "                        'V20'   :tf.placeholder(dtype = tf.float32,shape=[None]),\n",
    "                        'V21'   :tf.placeholder(dtype = tf.float32,shape=[None]),\n",
    "                        'V22'   :tf.placeholder(dtype = tf.float32,shape=[None]),\n",
    "                        'V23'   :tf.placeholder(dtype = tf.float32,shape=[None]),\n",
    "                        'V24'   :tf.placeholder(dtype = tf.float32,shape=[None]),\n",
    "                        'V25'   :tf.placeholder(dtype = tf.float32,shape=[None]),\n",
    "                        'V26'   :tf.placeholder(dtype = tf.float32,shape=[None]),\n",
    "                        'V27'   :tf.placeholder(dtype = tf.float32,shape=[None]),\n",
    "                        'V28'   :tf.placeholder(dtype = tf.float32,shape=[None]),\n",
    "                        'Amount':tf.placeholder(dtype = tf.float32,shape=[None])\n",
    "                        }\n",
    "    features = receiver_tensors\n",
    "    return tf.estimator.export.ServingInputReceiver(features = features, receiver_tensors = receiver_tensors)\n"
   ]
  },
  {
   "cell_type": "code",
   "execution_count": 95,
   "metadata": {},
   "outputs": [],
   "source": [
    "OUTDIR = \"credit_trained\"\n",
    "\n",
    "config = tf.estimator.RunConfig(\n",
    "    model_dir=OUTDIR,\n",
    "    save_summary_steps=100,\n",
    "    save_checkpoints_steps=2000\n",
    ")"
   ]
  },
  {
   "cell_type": "code",
   "execution_count": 96,
   "metadata": {},
   "outputs": [
    {
     "name": "stdout",
     "output_type": "stream",
     "text": [
      "INFO:tensorflow:Using config: {'_log_step_count_steps': 100, '_tf_random_seed': None, '_task_id': 0, '_save_checkpoints_secs': None, '_experimental_max_worker_delay_secs': None, '_keep_checkpoint_max': 5, '_device_fn': None, '_master': '', '_keep_checkpoint_every_n_hours': 10000, '_is_chief': True, '_num_ps_replicas': 0, '_eval_distribute': None, '_global_id_in_cluster': 0, '_num_worker_replicas': 1, '_service': None, '_evaluation_master': '', '_cluster_spec': <tensorflow.python.training.server_lib.ClusterSpec object at 0x7fd30c6ea278>, '_protocol': None, '_model_dir': 'credit_trained', '_experimental_distribute': None, '_session_creation_timeout_secs': 7200, '_session_config': allow_soft_placement: true\n",
      "graph_options {\n",
      "  rewrite_options {\n",
      "    meta_optimizer_iterations: ONE\n",
      "  }\n",
      "}\n",
      ", '_save_summary_steps': 100, '_task_type': 'worker', '_save_checkpoints_steps': 2000, '_train_distribute': None}\n"
     ]
    }
   ],
   "source": [
    "myopt = tf.train.AdamOptimizer(learning_rate=0.01)\n",
    "model = tf.estimator.DNNRegressor(model_dir=OUTDIR,\n",
    "                                  hidden_units=[10, 10],\n",
    "                                  feature_columns=feature_cols,\n",
    "                                  activation_fn=tf.nn.relu,\n",
    "                                  optimizer=myopt,\n",
    "                                  config = config)"
   ]
  },
  {
   "cell_type": "code",
   "execution_count": 97,
   "metadata": {},
   "outputs": [],
   "source": [
    "train_spec = tf.estimator.TrainSpec(\n",
    "    input_fn = lambda: train_input_fn('./input/creditcard_train.csv'),\n",
    "    max_steps = 500\n",
    ")"
   ]
  },
  {
   "cell_type": "code",
   "execution_count": 98,
   "metadata": {},
   "outputs": [],
   "source": [
    "exporter = tf.estimator.FinalExporter('./exporter', serving_input_receiver_fn=serving_input_receiver_fn)"
   ]
  },
  {
   "cell_type": "code",
   "execution_count": 99,
   "metadata": {},
   "outputs": [],
   "source": [
    "eval_spec = tf.estimator.EvalSpec(\n",
    "    input_fn = lambda: eval_input_fn(\"./input/creditcard_eval.csv\"),\n",
    "    steps = None,\n",
    "    start_delay_secs = 1,\n",
    "    throttle_secs = 1,\n",
    "    exporters = exporter,\n",
    ")"
   ]
  },
  {
   "cell_type": "code",
   "execution_count": 100,
   "metadata": {},
   "outputs": [
    {
     "name": "stdout",
     "output_type": "stream",
     "text": [
      "INFO:tensorflow:Not using Distribute Coordinator.\n",
      "INFO:tensorflow:Running training and evaluation locally (non-distributed).\n",
      "INFO:tensorflow:Start train and evaluate loop. The evaluate will happen after every checkpoint. Checkpoint frequency is determined based on RunConfig arguments: save_checkpoints_steps 2000 or save_checkpoints_secs None.\n",
      "INFO:tensorflow:Calling model_fn.\n",
      "INFO:tensorflow:Done calling model_fn.\n",
      "INFO:tensorflow:Create CheckpointSaverHook.\n",
      "INFO:tensorflow:Graph was finalized.\n",
      "INFO:tensorflow:Running local_init_op.\n",
      "INFO:tensorflow:Done running local_init_op.\n",
      "INFO:tensorflow:Saving checkpoints for 0 into credit_trained/model.ckpt.\n",
      "INFO:tensorflow:loss = 31917253000.0, step = 0\n",
      "INFO:tensorflow:global_step/sec: 39.8184\n",
      "INFO:tensorflow:loss = 96910.33, step = 100 (2.514 sec)\n",
      "INFO:tensorflow:global_step/sec: 42.4912\n",
      "INFO:tensorflow:loss = 23.80839, step = 200 (2.355 sec)\n",
      "INFO:tensorflow:global_step/sec: 41.2828\n",
      "INFO:tensorflow:loss = 25.36325, step = 300 (2.419 sec)\n",
      "INFO:tensorflow:global_step/sec: 41.3929\n",
      "INFO:tensorflow:loss = 13.292778, step = 400 (2.416 sec)\n",
      "INFO:tensorflow:Saving checkpoints for 500 into credit_trained/model.ckpt.\n",
      "INFO:tensorflow:Calling model_fn.\n",
      "INFO:tensorflow:Done calling model_fn.\n",
      "INFO:tensorflow:Starting evaluation at 2019-12-04T15:14:51Z\n",
      "INFO:tensorflow:Graph was finalized.\n",
      "INFO:tensorflow:Restoring parameters from credit_trained/model.ckpt-500\n",
      "INFO:tensorflow:Running local_init_op.\n",
      "INFO:tensorflow:Done running local_init_op.\n",
      "INFO:tensorflow:Finished evaluation at 2019-12-04-15:15:37\n",
      "INFO:tensorflow:Saving dict for global step 500: average_loss = 1.7700294, global_step = 500, label/mean = 0.0016853538, loss = 226.53513, prediction/mean = -0.04667148\n",
      "INFO:tensorflow:Saving 'checkpoint_path' summary for global step 500: credit_trained/model.ckpt-500\n",
      "INFO:tensorflow:Performing the final export in the end of training.\n",
      "INFO:tensorflow:Calling model_fn.\n",
      "INFO:tensorflow:Done calling model_fn.\n",
      "WARNING:tensorflow:From /usr/local/lib/python3.5/dist-packages/tensorflow_core/python/saved_model/signature_def_utils_impl.py:201: build_tensor_info (from tensorflow.python.saved_model.utils_impl) is deprecated and will be removed in a future version.\n",
      "Instructions for updating:\n",
      "This function will only be available through the v1 compatibility library as tf.compat.v1.saved_model.utils.build_tensor_info or tf.compat.v1.saved_model.build_tensor_info.\n",
      "INFO:tensorflow:Signatures INCLUDED in export for Eval: None\n",
      "INFO:tensorflow:Signatures INCLUDED in export for Train: None\n",
      "INFO:tensorflow:Signatures INCLUDED in export for Predict: ['predict']\n",
      "INFO:tensorflow:Signatures INCLUDED in export for Classify: None\n",
      "INFO:tensorflow:Signatures INCLUDED in export for Regress: None\n",
      "INFO:tensorflow:Signatures EXCLUDED from export because they cannot be be served via TensorFlow Serving APIs:\n",
      "INFO:tensorflow:'regression' : Regression input must be a single string Tensor; got {'V12': <tf.Tensor 'Placeholder_12:0' shape=(?,) dtype=float32>, 'V22': <tf.Tensor 'Placeholder_22:0' shape=(?,) dtype=float32>, 'V28': <tf.Tensor 'Placeholder_28:0' shape=(?,) dtype=float32>, 'V11': <tf.Tensor 'Placeholder_11:0' shape=(?,) dtype=float32>, 'V24': <tf.Tensor 'Placeholder_24:0' shape=(?,) dtype=float32>, 'V5': <tf.Tensor 'Placeholder_5:0' shape=(?,) dtype=float32>, 'V20': <tf.Tensor 'Placeholder_20:0' shape=(?,) dtype=float32>, 'V18': <tf.Tensor 'Placeholder_18:0' shape=(?,) dtype=float32>, 'V26': <tf.Tensor 'Placeholder_26:0' shape=(?,) dtype=float32>, 'V27': <tf.Tensor 'Placeholder_27:0' shape=(?,) dtype=float32>, 'V2': <tf.Tensor 'Placeholder_2:0' shape=(?,) dtype=float32>, 'V1': <tf.Tensor 'Placeholder_1:0' shape=(?,) dtype=float32>, 'V17': <tf.Tensor 'Placeholder_17:0' shape=(?,) dtype=float32>, 'V10': <tf.Tensor 'Placeholder_10:0' shape=(?,) dtype=float32>, 'V16': <tf.Tensor 'Placeholder_16:0' shape=(?,) dtype=float32>, 'V14': <tf.Tensor 'Placeholder_14:0' shape=(?,) dtype=float32>, 'V4': <tf.Tensor 'Placeholder_4:0' shape=(?,) dtype=float32>, 'V8': <tf.Tensor 'Placeholder_8:0' shape=(?,) dtype=float32>, 'V15': <tf.Tensor 'Placeholder_15:0' shape=(?,) dtype=float32>, 'V3': <tf.Tensor 'Placeholder_3:0' shape=(?,) dtype=float32>, 'time': <tf.Tensor 'Placeholder:0' shape=(?,) dtype=float32>, 'V25': <tf.Tensor 'Placeholder_25:0' shape=(?,) dtype=float32>, 'Amount': <tf.Tensor 'Placeholder_29:0' shape=(?,) dtype=float32>, 'V13': <tf.Tensor 'Placeholder_13:0' shape=(?,) dtype=float32>, 'V7': <tf.Tensor 'Placeholder_7:0' shape=(?,) dtype=float32>, 'V6': <tf.Tensor 'Placeholder_6:0' shape=(?,) dtype=float32>, 'V19': <tf.Tensor 'Placeholder_19:0' shape=(?,) dtype=float32>, 'V21': <tf.Tensor 'Placeholder_21:0' shape=(?,) dtype=float32>, 'V23': <tf.Tensor 'Placeholder_23:0' shape=(?,) dtype=float32>, 'V9': <tf.Tensor 'Placeholder_9:0' shape=(?,) dtype=float32>}\n",
      "INFO:tensorflow:'serving_default' : Regression input must be a single string Tensor; got {'V12': <tf.Tensor 'Placeholder_12:0' shape=(?,) dtype=float32>, 'V22': <tf.Tensor 'Placeholder_22:0' shape=(?,) dtype=float32>, 'V28': <tf.Tensor 'Placeholder_28:0' shape=(?,) dtype=float32>, 'V11': <tf.Tensor 'Placeholder_11:0' shape=(?,) dtype=float32>, 'V24': <tf.Tensor 'Placeholder_24:0' shape=(?,) dtype=float32>, 'V5': <tf.Tensor 'Placeholder_5:0' shape=(?,) dtype=float32>, 'V20': <tf.Tensor 'Placeholder_20:0' shape=(?,) dtype=float32>, 'V18': <tf.Tensor 'Placeholder_18:0' shape=(?,) dtype=float32>, 'V26': <tf.Tensor 'Placeholder_26:0' shape=(?,) dtype=float32>, 'V27': <tf.Tensor 'Placeholder_27:0' shape=(?,) dtype=float32>, 'V2': <tf.Tensor 'Placeholder_2:0' shape=(?,) dtype=float32>, 'V1': <tf.Tensor 'Placeholder_1:0' shape=(?,) dtype=float32>, 'V17': <tf.Tensor 'Placeholder_17:0' shape=(?,) dtype=float32>, 'V10': <tf.Tensor 'Placeholder_10:0' shape=(?,) dtype=float32>, 'V16': <tf.Tensor 'Placeholder_16:0' shape=(?,) dtype=float32>, 'V14': <tf.Tensor 'Placeholder_14:0' shape=(?,) dtype=float32>, 'V4': <tf.Tensor 'Placeholder_4:0' shape=(?,) dtype=float32>, 'V8': <tf.Tensor 'Placeholder_8:0' shape=(?,) dtype=float32>, 'V15': <tf.Tensor 'Placeholder_15:0' shape=(?,) dtype=float32>, 'V3': <tf.Tensor 'Placeholder_3:0' shape=(?,) dtype=float32>, 'time': <tf.Tensor 'Placeholder:0' shape=(?,) dtype=float32>, 'V25': <tf.Tensor 'Placeholder_25:0' shape=(?,) dtype=float32>, 'Amount': <tf.Tensor 'Placeholder_29:0' shape=(?,) dtype=float32>, 'V13': <tf.Tensor 'Placeholder_13:0' shape=(?,) dtype=float32>, 'V7': <tf.Tensor 'Placeholder_7:0' shape=(?,) dtype=float32>, 'V6': <tf.Tensor 'Placeholder_6:0' shape=(?,) dtype=float32>, 'V19': <tf.Tensor 'Placeholder_19:0' shape=(?,) dtype=float32>, 'V21': <tf.Tensor 'Placeholder_21:0' shape=(?,) dtype=float32>, 'V23': <tf.Tensor 'Placeholder_23:0' shape=(?,) dtype=float32>, 'V9': <tf.Tensor 'Placeholder_9:0' shape=(?,) dtype=float32>}\n",
      "WARNING:tensorflow:Export includes no default signature!\n",
      "INFO:tensorflow:Restoring parameters from credit_trained/model.ckpt-500\n",
      "INFO:tensorflow:Assets added to graph.\n",
      "INFO:tensorflow:No assets to write.\n",
      "INFO:tensorflow:SavedModel written to: credit_trained/export/./exporter/temp-b'1575472537'/saved_model.pb\n",
      "INFO:tensorflow:Loss for final step: 8.9640875.\n"
     ]
    },
    {
     "data": {
      "text/plain": [
       "({'average_loss': 1.7700294,\n",
       "  'global_step': 500,\n",
       "  'label/mean': 0.0016853538,\n",
       "  'loss': 226.53513,\n",
       "  'prediction/mean': -0.04667148},\n",
       " [b'credit_trained/export/./exporter/1575472537'])"
      ]
     },
     "execution_count": 100,
     "metadata": {},
     "output_type": "execute_result"
    }
   ],
   "source": [
    "\n",
    "tf.estimator.train_and_evaluate(estimator = model, \n",
    "                                train_spec = train_spec, \n",
    "                                eval_spec = eval_spec)"
   ]
  },
  {
   "cell_type": "code",
   "execution_count": null,
   "metadata": {},
   "outputs": [],
   "source": []
  },
  {
   "cell_type": "code",
   "execution_count": null,
   "metadata": {},
   "outputs": [],
   "source": []
  }
 ],
 "metadata": {
  "kernelspec": {
   "display_name": "Python 3",
   "language": "python",
   "name": "python3"
  },
  "language_info": {
   "codemirror_mode": {
    "name": "ipython",
    "version": 3
   },
   "file_extension": ".py",
   "mimetype": "text/x-python",
   "name": "python",
   "nbconvert_exporter": "python",
   "pygments_lexer": "ipython3",
   "version": "3.5.3"
  }
 },
 "nbformat": 4,
 "nbformat_minor": 4
}
