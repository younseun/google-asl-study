{
 "cells": [
  {
   "cell_type": "code",
   "execution_count": 2,
   "metadata": {},
   "outputs": [
    {
     "name": "stdout",
     "output_type": "stream",
     "text": [
      "1.15.0\n"
     ]
    }
   ],
   "source": [
    "import os\n",
    "import shutil\n",
    "import numpy as np\n",
    "import tensorflow as tf\n",
    "from datetime import datetime\n",
    "print(tf.__version__)"
   ]
  },
  {
   "cell_type": "code",
   "execution_count": 3,
   "metadata": {},
   "outputs": [],
   "source": [
    "PROJECT = \"qwiklabs-gcp-ml-49b827b781ab\"  # Replace with your PROJECT\n",
    "REGION = \"us-central1\"            # Choose an available region for Cloud MLE\n",
    "TFVERSION = \"1.14\"                # TF version for CMLE to use"
   ]
  },
  {
   "cell_type": "code",
   "execution_count": 4,
   "metadata": {},
   "outputs": [],
   "source": [
    "# 나중에 하이퍼파라미터로 쓸수 있는것.\n",
    "\n",
    "BUCKET     = \"qwiklabs-gcp-ml-49b827b781ab\"  # Replace with your BUCKET\n",
    "DATA_DIR   = \"gs://{}/babyweight/preproc\".format(BUCKET)\n",
    "DATA_DIR   = \".\"\n",
    "OUTPUT_DIR = \"babyweight_trained_\"+datetime.now().strftime('%Y%m%d_%H%M%S')\n",
    "PATTERN    = \"\"\n",
    "TRAIN_STEPS = 1000\n",
    "BATCH_SIZE = 128\n",
    "NNSIZE = [64,32,1]\n",
    "NNSIZE = [128,64,32]\n",
    "NEMBEDS = 6\n",
    "SAVE_CHECKPOINTS_SECS = 30\n",
    "KEEP_CHECKPOINT_MAX = 10\n",
    "EVAL_SECS= 30\n",
    "\n",
    "def parameter_display():\n",
    "    print('>>>>> BUCKET                : {}'.format(BUCKET))\n",
    "    print('>>>>> DATA_DIR              : {}'.format(DATA_DIR))\n",
    "    print('>>>>> OUTPUT_DIR            : {}'.format(OUTPUT_DIR))\n",
    "    print('>>>>> PATTERN               : {}'.format(PATTERN))\n",
    "    print('>>>>> TRAIN_STEPS           : {}'.format(TRAIN_STEPS))\n",
    "    print('>>>>> BATCH_SIZE            : {}'.format(BATCH_SIZE))\n",
    "    print('>>>>> NNSIZE                : {}'.format(NNSIZE))\n",
    "    print('>>>>> NEMBEDS               : {}'.format(NEMBEDS))\n",
    "    print('>>>>> SAVE_CHECKPOINTS_SECS : {}'.format(SAVE_CHECKPOINTS_SECS))\n",
    "    print('>>>>> KEEP_CHECKPOINT_MAX   : {}'.format(KEEP_CHECKPOINT_MAX))\n",
    "    print('>>>>> EVAL_SECS             : {}'.format(EVAL_SECS))  "
   ]
  },
  {
   "cell_type": "code",
   "execution_count": 5,
   "metadata": {},
   "outputs": [],
   "source": [
    "os.environ[\"BUCKET\"] = BUCKET\n",
    "os.environ[\"PROJECT\"] = PROJECT\n",
    "os.environ[\"REGION\"] = REGION\n",
    "os.environ[\"TFVERSION\"] = TFVERSION"
   ]
  },
  {
   "cell_type": "code",
   "execution_count": 6,
   "metadata": {},
   "outputs": [],
   "source": [
    "# Columns명 지정\n",
    "CSV_COLUMNS = \"weight_pounds,is_male,mother_age,plurality,gestation_weeks\".split(',')\n",
    "LABEL_COLUMN = \"weight_pounds\"\n",
    "# Set default values for each CSV column\n",
    "DEFAULTS = [[0.0], [\"null\"], [0.0], [\"null\"], [0.0]]"
   ]
  },
  {
   "cell_type": "code",
   "execution_count": 7,
   "metadata": {},
   "outputs": [],
   "source": [
    "def add_engineered_features(features):\n",
    "    features[\"dummy\"] = features[\"mother_age\"]\n",
    "    \n",
    "    return features"
   ]
  },
  {
   "cell_type": "code",
   "execution_count": 8,
   "metadata": {},
   "outputs": [],
   "source": [
    "def read_dataset(data_dir, filename_pattern, mode, batch_size = 512):\n",
    "    def _input_fn():\n",
    "        def decode_csv(value_column):\n",
    "            columns = tf.decode_csv(records = value_column, record_defaults = DEFAULTS)\n",
    "            # Default feature\n",
    "            features = dict(zip(CSV_COLUMNS, columns))\n",
    "            # NEW: Add engineered features\n",
    "            features = add_engineered_features(features)\n",
    "            # Default label\n",
    "            label = features.pop(LABEL_COLUMN)\n",
    "            return features, label\n",
    "    \n",
    "        if PATTERN == \"\":\n",
    "            file_path = \"{}/{}*\".format(data_dir, filename_pattern)\n",
    "        else:\n",
    "            file_path = \"{}/{}*{}*\".format(data_dir, filename_pattern, PATTERN)\n",
    "        print('>>>>> data filename : {}'.format(file_path))\n",
    "        \n",
    "        # Create list of files that match pattern\n",
    "        file_list = tf.gfile.Glob(filename = file_path)\n",
    "\n",
    "        # Create dataset from file list\n",
    "        dataset = (tf.data.TextLineDataset(filenames = file_list)  # Read text file\n",
    "                     .map(map_func = decode_csv))  # Transform each elem by applying decode_csv fn\n",
    "\n",
    "        if mode == tf.estimator.ModeKeys.TRAIN:\n",
    "            num_epochs = None # indefinitely\n",
    "            dataset = dataset.shuffle(buffer_size = 10 * batch_size)\n",
    "        else:\n",
    "            num_epochs = 1 # end-of-input after this\n",
    "\n",
    "        dataset = dataset.repeat(count = num_epochs).batch(batch_size = batch_size)\n",
    "        return dataset\n",
    "    return _input_fn"
   ]
  },
  {
   "cell_type": "code",
   "execution_count": 9,
   "metadata": {},
   "outputs": [],
   "source": [
    "def get_categorical_indicator(name, values):\n",
    "    return tf.feature_column.indicator_column(\n",
    "        categorical_column = tf.feature_column.categorical_column_with_vocabulary_list(key = name, vocabulary_list = values))\n",
    "\n",
    "def get_feature_cols():\n",
    "    # Vocabulary List\n",
    "    voca_list_is_male = [\"True\",\"False\",\"Unknown\"]\n",
    "    voca_list_plurality = [\"Single(1)\",\"Twins(2)\",\"Triplets(3)\",\"Quadruplets(4)\",\"Quintuplets(5)\",\"Multiple(2+)\"]\n",
    "\n",
    "    # Default Feature column\n",
    "    fc_is_male = tf.feature_column.categorical_column_with_vocabulary_list(key=\"is_male\", vocabulary_list=voca_list_is_male)\n",
    "    fc_plurality = tf.feature_column.categorical_column_with_vocabulary_list(key=\"plurality\", vocabulary_list=voca_list_plurality)\n",
    "    fc_mother_age = tf.feature_column.numeric_column(key = \"mother_age\")\n",
    "    fc_gestation_weeks = tf.feature_column.numeric_column(key = \"gestation_weeks\")\n",
    "    # DNNRegressor모델인 경우에는, 아래의 함수를 써야 한다.\n",
    "    # One-Hot Encoding을 해서 넣어야 하는거 같다.\n",
    "    # fc_is_male   = get_categorical_indicator(\"is_male\", voca_list_is_male)\n",
    "    # fc_plurality = get_categorical_indicator(\"plurality\", voca_list_plurality)\n",
    "\n",
    "    \n",
    "    # ADD Feature column\n",
    "    fc_dummy = tf.feature_column.numeric_column(key = \"dummy\")\n",
    "\n",
    "    # Bucketized columns\n",
    "    fc_buckets_mother_age = tf.feature_column.bucketized_column(source_column = fc_mother_age, boundaries = np.arange(start = 15, stop = 45, step = 1).tolist())\n",
    "    fc_buckets_gestation_weeks = tf.feature_column.bucketized_column(source_column = fc_gestation_weeks, boundaries = np.arange(start = 17, stop = 47, step = 1).tolist())\n",
    "   \n",
    "    # Embeded Feature columns\n",
    "    crossed = tf.feature_column.crossed_column(keys=[fc_is_male,fc_plurality,fc_buckets_mother_age,fc_buckets_gestation_weeks], \n",
    "                                            hash_bucket_size = 20000)\n",
    "    fc_embed = tf.feature_column.embedding_column(categorical_column = crossed, dimension = NEMBEDS)\n",
    "\n",
    "    # Feature columns\n",
    "    feature_columns = [fc_is_male,\n",
    "                       fc_plurality,\n",
    "                       fc_mother_age,\n",
    "                       fc_gestation_weeks,\n",
    "                       fc_dummy\n",
    "                      ]\n",
    "    \n",
    "    # Sparse wide columns\n",
    "    wide = [fc_is_male,fc_plurality,fc_buckets_mother_age,fc_buckets_gestation_weeks]\n",
    "    \n",
    "    #Deep colomns\n",
    "    deep = [fc_mother_age,\n",
    "            fc_gestation_weeks,\n",
    "            fc_embed]\n",
    "    \n",
    "    return feature_columns, wide, deep"
   ]
  },
  {
   "cell_type": "code",
   "execution_count": 10,
   "metadata": {},
   "outputs": [],
   "source": [
    "def serving_input_fn():\n",
    "    feature_placeholders = {\n",
    "        \"is_male\"        : tf.placeholder(dtype = tf.string,  shape = [None]),\n",
    "        \"mother_age\"     : tf.placeholder(dtype = tf.float32, shape = [None]),\n",
    "        \"plurality\"      : tf.placeholder(dtype = tf.string,  shape = [None]),\n",
    "        \"gestation_weeks\": tf.placeholder(dtype = tf.float32, shape = [None])\n",
    "    }\n",
    "    \n",
    "    features = add_engineered_features(feature_placeholders)\n",
    "    \n",
    "    # feature의 shape=(?,)이면, 아래 방법으로 차원을 증가시킨다.\n",
    "    features = {\n",
    "                key: tf.expand_dims(input = tensor, axis = -1)\n",
    "                for key, tensor in feature_placeholders.items()\n",
    "               }\n",
    "\n",
    "    print(features[\"is_male\"])\n",
    "    return tf.estimator.export.ServingInputReceiver(features = features, receiver_tensors = feature_placeholders)"
   ]
  },
  {
   "cell_type": "code",
   "execution_count": 11,
   "metadata": {},
   "outputs": [],
   "source": [
    "# BestExporter를 사용하게 되면, 아래 Function이 있어야 하며, compare_fn으로 사용한다.\n",
    "def _accuracy_bigger(best_eval_result, current_eval_result):\n",
    "    metric = 'accuracy'\n",
    "    return best_eval_result[metric] < current_eval_result[metric]"
   ]
  },
  {
   "cell_type": "code",
   "execution_count": null,
   "metadata": {},
   "outputs": [],
   "source": [
    "def my_rmse(labels, predictions):\n",
    "    pred_values = predictions[\"predictions\"]\n",
    "    return {\n",
    "        \"rmse\": tf.metrics.root_mean_squared_error(\n",
    "            labels=labels,\n",
    "            predictions=pred_values\n",
    "        )\n",
    "    }"
   ]
  },
  {
   "cell_type": "code",
   "execution_count": 12,
   "metadata": {},
   "outputs": [],
   "source": [
    "def train_and_evaluate(output_dir):\n",
    "    parameter_display()\n",
    "    \n",
    "    feature_columns, wide, deep = get_feature_cols()\n",
    "        \n",
    "    run_config = tf.estimator.RunConfig(\n",
    "        save_checkpoints_secs = SAVE_CHECKPOINTS_SECS,\n",
    "        keep_checkpoint_max = KEEP_CHECKPOINT_MAX)\n",
    "\n",
    "    estimator = tf.estimator.DNNLinearCombinedRegressor(\n",
    "        model_dir = output_dir,\n",
    "        linear_feature_columns = wide,\n",
    "        dnn_feature_columns = deep,\n",
    "        dnn_hidden_units = NNSIZE,\n",
    "        config = run_config)\n",
    " \n",
    "    estimator = tf.contrib.estimator.add_metrics(estimator, my_rmse)\n",
    "\n",
    "    train_spec = tf.estimator.TrainSpec(\n",
    "        input_fn = read_dataset(DATA_DIR, \"train\", mode = tf.estimator.ModeKeys.TRAIN, batch_size=BATCH_SIZE),\n",
    "        max_steps = TRAIN_STEPS)\n",
    "    \n",
    "    Final_exporter = tf.estimator.FinalExporter('./exporter', serving_input_receiver_fn=serving_input_fn)\n",
    "    exporters = [Final_exporter]\n",
    "    \n",
    "    eval_spec = tf.estimator.EvalSpec(\n",
    "        input_fn = read_dataset(DATA_DIR, \"eval\", mode = tf.estimator.ModeKeys.EVAL, batch_size=BATCH_SIZE),\n",
    "        steps = None,\n",
    "        start_delay_secs = 60, # start evaluating after N seconds\n",
    "        throttle_secs = EVAL_SECS,  # evaluate every N seconds\n",
    "        exporters = exporters)\n",
    "    \n",
    "    tf.estimator.train_and_evaluate(estimator, train_spec, eval_spec)"
   ]
  },
  {
   "cell_type": "code",
   "execution_count": 65,
   "metadata": {},
   "outputs": [
    {
     "name": "stdout",
     "output_type": "stream",
     "text": [
      ">>>>> BUCKET                : qwiklabs-gcp-ml-49b827b781ab\n",
      ">>>>> DATA_DIR              : .\n",
      ">>>>> OUTPUT_DIR            : babyweight_trained_20191130_051555\n",
      ">>>>> PATTERN               : \n",
      ">>>>> TRAIN_STEPS           : 1000\n",
      ">>>>> BATCH_SIZE            : 128\n",
      ">>>>> NNSIZE                : [128, 64, 32]\n",
      ">>>>> NEMBEDS               : 6\n",
      ">>>>> SAVE_CHECKPOINTS_SECS : 30\n",
      ">>>>> KEEP_CHECKPOINT_MAX   : 10\n",
      ">>>>> EVAL_SECS             : 30\n",
      "INFO:tensorflow:Using config: {'_experimental_max_worker_delay_secs': None, '_task_type': 'worker', '_master': '', '_save_checkpoints_steps': None, '_model_dir': 'babyweight_trained_20191130_051555', '_protocol': None, '_session_creation_timeout_secs': 7200, '_log_step_count_steps': 100, '_num_worker_replicas': 1, '_session_config': allow_soft_placement: true\n",
      "graph_options {\n",
      "  rewrite_options {\n",
      "    meta_optimizer_iterations: ONE\n",
      "  }\n",
      "}\n",
      ", '_cluster_spec': <tensorflow.python.training.server_lib.ClusterSpec object at 0x7f7c98252358>, '_task_id': 0, '_tf_random_seed': None, '_keep_checkpoint_max': 10, '_save_checkpoints_secs': 30, '_evaluation_master': '', '_is_chief': True, '_save_summary_steps': 100, '_num_ps_replicas': 0, '_keep_checkpoint_every_n_hours': 10000, '_eval_distribute': None, '_device_fn': None, '_service': None, '_train_distribute': None, '_experimental_distribute': None, '_global_id_in_cluster': 0}\n",
      "INFO:tensorflow:Not using Distribute Coordinator.\n",
      "INFO:tensorflow:Running training and evaluation locally (non-distributed).\n",
      "INFO:tensorflow:Start train and evaluate loop. The evaluate will happen after every checkpoint. Checkpoint frequency is determined based on RunConfig arguments: save_checkpoints_steps None or save_checkpoints_secs 30.\n",
      ">>>>> data filename : ./train*\n",
      "INFO:tensorflow:Calling model_fn.\n",
      "INFO:tensorflow:Done calling model_fn.\n",
      "INFO:tensorflow:Create CheckpointSaverHook.\n",
      "INFO:tensorflow:Graph was finalized.\n",
      "INFO:tensorflow:Running local_init_op.\n",
      "INFO:tensorflow:Done running local_init_op.\n",
      "INFO:tensorflow:Saving checkpoints for 0 into babyweight_trained_20191130_051555/model.ckpt.\n",
      "INFO:tensorflow:loss = 2333.437, step = 0\n",
      "INFO:tensorflow:global_step/sec: 48.5011\n",
      "INFO:tensorflow:loss = 142.38039, step = 100 (2.063 sec)\n",
      "INFO:tensorflow:global_step/sec: 56.9388\n",
      "INFO:tensorflow:loss = 160.23405, step = 200 (1.759 sec)\n",
      "INFO:tensorflow:global_step/sec: 57.642\n",
      "INFO:tensorflow:loss = 157.464, step = 300 (1.734 sec)\n",
      "INFO:tensorflow:global_step/sec: 58.296\n",
      "INFO:tensorflow:loss = 128.78375, step = 400 (1.714 sec)\n",
      "INFO:tensorflow:global_step/sec: 57.0687\n",
      "INFO:tensorflow:loss = 171.13486, step = 500 (1.754 sec)\n",
      "INFO:tensorflow:global_step/sec: 57.211\n",
      "INFO:tensorflow:loss = 109.9413, step = 600 (1.746 sec)\n",
      "INFO:tensorflow:global_step/sec: 57.555\n",
      "INFO:tensorflow:loss = 131.40198, step = 700 (1.737 sec)\n",
      "INFO:tensorflow:global_step/sec: 36.299\n",
      "INFO:tensorflow:loss = 185.57979, step = 800 (2.755 sec)\n",
      "INFO:tensorflow:global_step/sec: 49.4164\n",
      "INFO:tensorflow:loss = 167.28035, step = 900 (2.026 sec)\n",
      "INFO:tensorflow:Saving checkpoints for 1000 into babyweight_trained_20191130_051555/model.ckpt.\n",
      ">>>>> data filename : ./eval*\n",
      "INFO:tensorflow:Calling model_fn.\n",
      "INFO:tensorflow:Done calling model_fn.\n",
      "INFO:tensorflow:Starting evaluation at 2019-11-30T05:16:26Z\n",
      "INFO:tensorflow:Graph was finalized.\n",
      "INFO:tensorflow:Restoring parameters from babyweight_trained_20191130_051555/model.ckpt-1000\n",
      "INFO:tensorflow:Running local_init_op.\n",
      "INFO:tensorflow:Done running local_init_op.\n",
      "INFO:tensorflow:Finished evaluation at 2019-11-30-05:16:27\n",
      "INFO:tensorflow:Saving dict for global step 1000: average_loss = 1.1494523, global_step = 1000, label/mean = 7.237542, loss = 143.68153, prediction/mean = 7.2409596\n",
      "INFO:tensorflow:Saving 'checkpoint_path' summary for global step 1000: babyweight_trained_20191130_051555/model.ckpt-1000\n",
      "INFO:tensorflow:Performing the final export in the end of training.\n",
      "Tensor(\"ExpandDims_3:0\", shape=(?, 1), dtype=string)\n",
      "INFO:tensorflow:Calling model_fn.\n",
      "INFO:tensorflow:Done calling model_fn.\n",
      "INFO:tensorflow:Signatures INCLUDED in export for Classify: None\n",
      "INFO:tensorflow:Signatures INCLUDED in export for Predict: ['predict']\n",
      "INFO:tensorflow:Signatures INCLUDED in export for Regress: None\n",
      "INFO:tensorflow:Signatures INCLUDED in export for Eval: None\n",
      "INFO:tensorflow:Signatures INCLUDED in export for Train: None\n",
      "INFO:tensorflow:Signatures EXCLUDED from export because they cannot be be served via TensorFlow Serving APIs:\n",
      "INFO:tensorflow:'serving_default' : Regression input must be a single string Tensor; got {'mother_age': <tf.Tensor 'Placeholder_1:0' shape=(?,) dtype=float32>, 'gestation_weeks': <tf.Tensor 'Placeholder_3:0' shape=(?,) dtype=float32>, 'plurality': <tf.Tensor 'Placeholder_2:0' shape=(?,) dtype=string>, 'is_male': <tf.Tensor 'Placeholder:0' shape=(?,) dtype=string>, 'dummy': <tf.Tensor 'Placeholder_1:0' shape=(?,) dtype=float32>}\n",
      "INFO:tensorflow:'regression' : Regression input must be a single string Tensor; got {'mother_age': <tf.Tensor 'Placeholder_1:0' shape=(?,) dtype=float32>, 'gestation_weeks': <tf.Tensor 'Placeholder_3:0' shape=(?,) dtype=float32>, 'plurality': <tf.Tensor 'Placeholder_2:0' shape=(?,) dtype=string>, 'is_male': <tf.Tensor 'Placeholder:0' shape=(?,) dtype=string>, 'dummy': <tf.Tensor 'Placeholder_1:0' shape=(?,) dtype=float32>}\n",
      "WARNING:tensorflow:Export includes no default signature!\n",
      "INFO:tensorflow:Restoring parameters from babyweight_trained_20191130_051555/model.ckpt-1000\n",
      "INFO:tensorflow:Assets added to graph.\n",
      "INFO:tensorflow:No assets to write.\n",
      "INFO:tensorflow:SavedModel written to: babyweight_trained_20191130_051555/export/./exporter/temp-b'1575090988'/saved_model.pb\n",
      "INFO:tensorflow:Loss for final step: 120.970795.\n"
     ]
    }
   ],
   "source": [
    "!rm -rf {OUTPUT_DIR}\n",
    "train_and_evaluate(OUTPUT_DIR)"
   ]
  },
  {
   "cell_type": "code",
   "execution_count": 35,
   "metadata": {},
   "outputs": [],
   "source": [
    "%%bash\n",
    "touch babyweight/trainer/__init__.py"
   ]
  },
  {
   "cell_type": "code",
   "execution_count": 55,
   "metadata": {},
   "outputs": [
    {
     "name": "stdout",
     "output_type": "stream",
     "text": [
      "Overwriting babyweight/trainer/task.py\n"
     ]
    }
   ],
   "source": [
    "%%writefile babyweight/trainer/task.py\n",
    "import argparse\n",
    "import json\n",
    "import os\n",
    "\n",
    "from . import model\n",
    "\n",
    "import tensorflow as tf\n",
    "\n",
    "\n",
    "if __name__ == \"__main__\":\n",
    "    parser = argparse.ArgumentParser()\n",
    "    parser.add_argument(\n",
    "        \"--bucket\",\n",
    "        help=\"GCS path to data. We assume that data is in \\\n",
    "        gs://BUCKET/babyweight/preproc/\",\n",
    "        required=True\n",
    "    )\n",
    "    parser.add_argument(\n",
    "        \"--data_dir\",\n",
    "        help=\"train and eval data directory\",\n",
    "        required=True\n",
    "    )\n",
    "    parser.add_argument(\n",
    "        \"--output_dir\",\n",
    "        help=\"GCS location to write checkpoints and export models\",\n",
    "        required=True\n",
    "    )\n",
    "    parser.add_argument(\n",
    "        \"--pattern\",\n",
    "        help=\"data file pattern\",\n",
    "        default=\"of\"\n",
    "    )\n",
    "    parser.add_argument(\n",
    "        \"--train_steps\",\n",
    "        help=\"Number of Train Step.\",\n",
    "        type=int,\n",
    "        default=1000\n",
    "    )\n",
    "    parser.add_argument(\n",
    "        \"--batch_size\",\n",
    "        help=\"Number of examples to compute gradient over.\",\n",
    "        type=int,\n",
    "        default=512\n",
    "    )\n",
    "    parser.add_argument(\n",
    "        \"--job-dir\",\n",
    "        help=\"this model ignores this field, but it is required by gcloud\",\n",
    "        default=\"junk\"\n",
    "    )\n",
    "    parser.add_argument(\n",
    "        \"--nnsize\",\n",
    "        help=\"Hidden layer sizes to use for DNN feature columns -- provide \\\n",
    "        space-separated layers\",\n",
    "        nargs=\"+\",\n",
    "        type=int,\n",
    "        default=[128, 32, 4]\n",
    "    )\n",
    "    parser.add_argument(\n",
    "        \"--nembeds\",\n",
    "        help=\"Embedding size of a cross of n key real-valued parameters\",\n",
    "        type=int,\n",
    "        default=6\n",
    "    )\n",
    "    parser.add_argument(\n",
    "        \"--keep_checkpoints_max\",\n",
    "        help=\"\",\n",
    "        type=int,\n",
    "        default=10\n",
    "    )\n",
    "\n",
    "    # Parse arguments\n",
    "    args = parser.parse_args()\n",
    "    arguments = args.__dict__\n",
    "\n",
    "    # Pop unnecessary args needed for gcloud\n",
    "    arguments.pop(\"job-dir\", None)\n",
    "\n",
    "    # Assign the arguments to the model variables\n",
    "    output_dir                  = arguments.pop(\"output_dir\")\n",
    "    model.OUTPUT_DIR            = output_dir\n",
    "    model.BUCKET                = arguments.pop(\"bucket\")\n",
    "    model.DATA_DIR              = arguments.pop(\"data_dir\")\n",
    "    model.PATTERN               = arguments.pop(\"pattern\")\n",
    "    model.TRAIN_STEPS           = arguments.pop(\"train_steps\")\n",
    "    model.BATCH_SIZE            = arguments.pop(\"batch_size\")\n",
    "    model.NNSIZE                = arguments.pop(\"nnsize\")\n",
    "    model.NEMBEDS               = arguments.pop(\"nembeds\")\n",
    "    model.KEEP_CHECKPOINT_MAX   = arguments.pop(\"keep_checkpoints_max\")\n",
    "    \n",
    "    # Append trial_id to path if we are doing hptuning\n",
    "    # This code can be removed if you are not using hyperparameter tuning\n",
    "    output_dir = os.path.join(\n",
    "        output_dir,\n",
    "        json.loads(\n",
    "            os.environ.get(\"TF_CONFIG\", \"{}\")\n",
    "        ).get(\"task\", {}).get(\"trial\", \"\")\n",
    "    )\n",
    "\n",
    "    # Run the training job\n",
    "    model.train_and_evaluate(output_dir)\n"
   ]
  },
  {
   "cell_type": "code",
   "execution_count": 58,
   "metadata": {},
   "outputs": [
    {
     "name": "stdout",
     "output_type": "stream",
     "text": [
      "Overwriting babyweight/trainer/model.py\n"
     ]
    }
   ],
   "source": [
    "%%writefile babyweight/trainer/model.py\n",
    "# -*- coding: utf-8 -*- \n",
    "import os\n",
    "import shutil\n",
    "import numpy as np\n",
    "import tensorflow as tf\n",
    "from datetime import datetime\n",
    "print(tf.__version__)\n",
    "\n",
    "def parameter_display():\n",
    "    print('>>>>> BUCKET                : {}'.format(BUCKET))\n",
    "    print('>>>>> DATA_DIR              : {}'.format(DATA_DIR))\n",
    "    print('>>>>> OUTPUT_DIR            : {}'.format(OUTPUT_DIR))\n",
    "    print('>>>>> PATTERN               : {}'.format(PATTERN))\n",
    "    print('>>>>> TRAIN_STEPS           : {}'.format(TRAIN_STEPS))\n",
    "    print('>>>>> BATCH_SIZE            : {}'.format(BATCH_SIZE))\n",
    "    print('>>>>> NNSIZE                : {}'.format(NNSIZE))\n",
    "    print('>>>>> NEMBEDS               : {}'.format(NEMBEDS))\n",
    "    print('>>>>> KEEP_CHECKPOINT_MAX   : {}'.format(KEEP_CHECKPOINT_MAX))\n",
    "    \n",
    "\n",
    "######################################################################\n",
    "# Columns define\n",
    "CSV_COLUMNS = \"weight_pounds,is_male,mother_age,plurality,gestation_weeks\".split(',')\n",
    "LABEL_COLUMN = \"weight_pounds\"\n",
    "# Set default values for each CSV column\n",
    "DEFAULTS = [[0.0], [\"null\"], [0.0], [\"null\"], [0.0]]\n",
    "\n",
    "######################################################################\n",
    "def add_engineered_features(features):\n",
    "    features[\"dummy\"] = features[\"mother_age\"]\n",
    "    return features\n",
    "\n",
    "######################################################################\n",
    "def get_categorical_indicator(name, values):\n",
    "    return tf.feature_column.indicator_column(\n",
    "        categorical_column = tf.feature_column.categorical_column_with_vocabulary_list(key = name, vocabulary_list = values))\n",
    "\n",
    "######################################################################\n",
    "def read_dataset(data_dir, filename_pattern, mode, batch_size = 512):\n",
    "    def _input_fn():\n",
    "        def decode_csv(value_column):\n",
    "            columns = tf.decode_csv(records = value_column, record_defaults = DEFAULTS)\n",
    "            # Default feature\n",
    "            features = dict(zip(CSV_COLUMNS, columns))\n",
    "            # NEW: Add engineered features\n",
    "            #features = add_engineered_features(features)\n",
    "            # Default label\n",
    "            label = features.pop(LABEL_COLUMN)\n",
    "            return features, label\n",
    "    \n",
    "        if PATTERN == \"\":\n",
    "            file_path = \"{}/{}*\".format(data_dir, filename_pattern)\n",
    "        else:\n",
    "            file_path = \"{}/{}*{}*\".format(data_dir, filename_pattern, PATTERN)\n",
    "        print('>>>>> data filename : {}'.format(file_path))\n",
    "        \n",
    "        # Create list of files that match pattern\n",
    "        file_list = tf.gfile.Glob(filename = file_path)\n",
    "\n",
    "        # Create dataset from file list\n",
    "        dataset = (tf.data.TextLineDataset(filenames = file_list)  # Read text file\n",
    "                     .map(map_func = decode_csv))  # Transform each elem by applying decode_csv fn\n",
    "\n",
    "        if mode == tf.estimator.ModeKeys.TRAIN:\n",
    "            num_epochs = None # indefinitely\n",
    "            dataset = dataset.shuffle(buffer_size = 10 * batch_size)\n",
    "        else:\n",
    "            num_epochs = 1 # end-of-input after this\n",
    "\n",
    "        dataset = dataset.repeat(count = num_epochs).batch(batch_size = batch_size)\n",
    "        return dataset\n",
    "    return _input_fn\n",
    "\n",
    "######################################################################\n",
    "def get_feature_cols():\n",
    "    # Vocabulary List\n",
    "    voca_list_is_male = [\"True\",\"False\",\"Unknown\"]\n",
    "    voca_list_plurality = [\"Single(1)\",\"Twins(2)\",\"Triplets(3)\",\"Quadruplets(4)\",\"Quintuplets(5)\",\"Multiple(2+)\"]\n",
    "\n",
    "    # Default Feature column\n",
    "    fc_is_male = tf.feature_column.categorical_column_with_vocabulary_list(key=\"is_male\", vocabulary_list=voca_list_is_male)\n",
    "    fc_plurality = tf.feature_column.categorical_column_with_vocabulary_list(key=\"plurality\", vocabulary_list=voca_list_plurality)\n",
    "    fc_mother_age = tf.feature_column.numeric_column(key = \"mother_age\")\n",
    "    fc_gestation_weeks = tf.feature_column.numeric_column(key = \"gestation_weeks\")\n",
    "\n",
    "    # if DNNRegressor model, use below line\n",
    "    # fc_is_male   = get_categorical_indicator(\"is_male\", voca_list_is_male)\n",
    "    # fc_plurality = get_categorical_indicator(\"plurality\", voca_list_plurality)\n",
    "\n",
    "    \n",
    "    # ADD Feature column\n",
    "    fc_dummy = tf.feature_column.numeric_column(key = \"dummy\")\n",
    "\n",
    "    # Bucketized columns\n",
    "    fc_buckets_mother_age = tf.feature_column.bucketized_column(source_column = fc_mother_age, boundaries = np.arange(start = 15, stop = 45, step = 1).tolist())\n",
    "    fc_buckets_gestation_weeks = tf.feature_column.bucketized_column(source_column = fc_gestation_weeks, boundaries = np.arange(start = 17, stop = 47, step = 1).tolist())\n",
    "   \n",
    "    # Embeded Feature columns\n",
    "    crossed = tf.feature_column.crossed_column(keys=[fc_is_male,fc_plurality,fc_buckets_mother_age,fc_buckets_gestation_weeks], \n",
    "                                            hash_bucket_size = 20000)\n",
    "    fc_embed = tf.feature_column.embedding_column(categorical_column = crossed, dimension = NEMBEDS)\n",
    "\n",
    "    # Feature columns\n",
    "    feature_columns = [fc_is_male,\n",
    "                       fc_plurality,\n",
    "                       fc_mother_age,\n",
    "                       fc_gestation_weeks,\n",
    "                       fc_dummy\n",
    "                      ]\n",
    "    \n",
    "    # Sparse wide columns\n",
    "    wide = [fc_is_male,fc_plurality,fc_buckets_mother_age,fc_buckets_gestation_weeks]\n",
    "    \n",
    "    #Deep colomns\n",
    "    deep = [fc_mother_age,\n",
    "            fc_gestation_weeks,\n",
    "            fc_embed]\n",
    "    \n",
    "    return feature_columns, wide, deep\n",
    "\n",
    "######################################################################\n",
    "def serving_input_fn():\n",
    "    feature_placeholders = {\n",
    "        \"is_male\"        : tf.placeholder(dtype = tf.string,  shape = [None]),\n",
    "        \"mother_age\"     : tf.placeholder(dtype = tf.float32, shape = [None]),\n",
    "        \"plurality\"      : tf.placeholder(dtype = tf.string,  shape = [None]),\n",
    "        \"gestation_weeks\": tf.placeholder(dtype = tf.float32, shape = [None])\n",
    "    }\n",
    "    \n",
    "    #features = add_engineered_features(feature_placeholders)\n",
    "    \n",
    "    # if feature의 shape=(?,), use below line\n",
    "    features = {\n",
    "                key: tf.expand_dims(input = tensor, axis = -1)\n",
    "                for key, tensor in feature_placeholders.items()\n",
    "               }\n",
    "    return tf.estimator.export.ServingInputReceiver(features = features, receiver_tensors = feature_placeholders)\n",
    "\n",
    "\n",
    "######################################################################\n",
    "def _accuracy_bigger(best_eval_result, current_eval_result):\n",
    "    metric = 'accuracy'\n",
    "    return best_eval_result[metric] < current_eval_result[metric]\n",
    "\n",
    "\n",
    "######################################################################\n",
    "def my_rmse(labels, predictions):\n",
    "    pred_values = predictions[\"predictions\"]\n",
    "    return {\n",
    "        \"rmse\": tf.metrics.root_mean_squared_error(\n",
    "            labels=labels,\n",
    "            predictions=pred_values\n",
    "        )\n",
    "    }\n",
    "\n",
    "######################################################################\n",
    "def train_and_evaluate(output_dir):\n",
    "    EVAL_INTERVAL = 300  # seconds\n",
    "    \n",
    "    parameter_display()\n",
    "    feature_columns, wide, deep = get_feature_cols()\n",
    "        \n",
    "    run_config = tf.estimator.RunConfig(\n",
    "        save_checkpoints_secs = EVAL_INTERVAL,\n",
    "        keep_checkpoint_max = KEEP_CHECKPOINT_MAX)\n",
    "\n",
    "    estimator = tf.estimator.DNNLinearCombinedRegressor(\n",
    "        model_dir = output_dir,\n",
    "        linear_feature_columns = wide,\n",
    "        dnn_feature_columns = deep,\n",
    "        dnn_hidden_units = NNSIZE,\n",
    "        config = run_config)\n",
    " \n",
    "    estimator = tf.contrib.estimator.add_metrics(estimator, my_rmse)\n",
    "\n",
    "    train_spec = tf.estimator.TrainSpec(\n",
    "        input_fn = read_dataset(DATA_DIR, \"train\", mode = tf.estimator.ModeKeys.TRAIN, batch_size=BATCH_SIZE),\n",
    "        max_steps = TRAIN_STEPS)\n",
    "    \n",
    "    #Final_exporter = tf.estimator.FinalExporter('./exporter', serving_input_receiver_fn=serving_input_fn)\n",
    "    #exporter = Final_exporter\n",
    "\n",
    "    exporter = tf.estimator.LatestExporter(\n",
    "        name=\"exporter\",\n",
    "        serving_input_receiver_fn=serving_input_fn,\n",
    "        exports_to_keep=None)\n",
    "    \n",
    "    \n",
    "    eval_spec = tf.estimator.EvalSpec(\n",
    "        input_fn = read_dataset(DATA_DIR, \"eval\", mode = tf.estimator.ModeKeys.EVAL, batch_size=BATCH_SIZE),\n",
    "        steps = None,\n",
    "        start_delay_secs = 60, # start evaluating after N seconds\n",
    "        throttle_secs = EVAL_INTERVAL,  # evaluate every N seconds\n",
    "        exporters = exporter)\n",
    "    \n",
    "    tf.estimator.train_and_evaluate(estimator, train_spec, eval_spec)\n",
    "    "
   ]
  },
  {
   "cell_type": "markdown",
   "metadata": {},
   "source": [
    "# Model을 CMLE에 올려보자."
   ]
  },
  {
   "cell_type": "code",
   "execution_count": 6,
   "metadata": {},
   "outputs": [],
   "source": [
    "%%bash\n",
    "if ! gsutil ls -r gs://$BUCKET | grep -q gs://$BUCKET/babyweight/preproc; then\n",
    "    gsutil mb -l ${REGION} gs://${BUCKET}\n",
    "    # copy canonical set of preprocessed files if you didn't do previous notebook\n",
    "    gsutil -m cp -R gs://cloud-training-demos/babyweight gs://${BUCKET}\n",
    "fi"
   ]
  },
  {
   "cell_type": "code",
   "execution_count": 7,
   "metadata": {},
   "outputs": [
    {
     "name": "stdout",
     "output_type": "stream",
     "text": [
      "gs://qwiklabs-gcp-ml-49b827b781ab/babyweight/preproc/eval.csv-00000-of-00002\n",
      "gs://qwiklabs-gcp-ml-49b827b781ab/babyweight/preproc/train.csv-00000-of-00028\n"
     ]
    }
   ],
   "source": [
    "%%bash\n",
    "gsutil ls gs://${BUCKET}/babyweight/preproc/*-00000*"
   ]
  },
  {
   "cell_type": "code",
   "execution_count": 82,
   "metadata": {},
   "outputs": [
    {
     "name": "stdout",
     "output_type": "stream",
     "text": [
      "DATA_DIR:gs://qwiklabs-gcp-ml-49b827b781ab/babyweight/preproc \n",
      "OUTDIR  :gs://qwiklabs-gcp-ml-49b827b781ab/babyweight/trained_model_20191130\n"
     ]
    }
   ],
   "source": [
    "# 실행전 변수 정의\n",
    "DATA_DIR   = \"gs://{}/babyweight/preproc\".format(BUCKET)\n",
    "OUTDIR=\"gs://{}/babyweight/trained_model_20191130\".format(BUCKET)\n",
    "print('DATA_DIR:{} \\nOUTDIR  :{}'.format(DATA_DIR, OUTDIR))"
   ]
  },
  {
   "cell_type": "markdown",
   "metadata": {},
   "source": [
    "## AI-platforma training"
   ]
  },
  {
   "cell_type": "code",
   "execution_count": 59,
   "metadata": {},
   "outputs": [
    {
     "name": "stdout",
     "output_type": "stream",
     "text": [
      "gs://qwiklabs-gcp-ml-49b827b781ab/babyweight/trained_model_test us-central1 babyweight_191130_105150\n",
      "jobId: babyweight_191130_105150\n",
      "state: QUEUED\n"
     ]
    },
    {
     "name": "stderr",
     "output_type": "stream",
     "text": [
      "Removing gs://qwiklabs-gcp-ml-49b827b781ab/babyweight/trained_model_test/#1575110983344751...\n",
      "Removing gs://qwiklabs-gcp-ml-49b827b781ab/babyweight/trained_model_test/events.out.tfevents.1575110987.cmle-training-worker-85d4e56175-0-9f6gr#1575110997478890...\n",
      "Removing gs://qwiklabs-gcp-ml-49b827b781ab/babyweight/trained_model_test/events.out.tfevents.1575110983.cmle-training-master-85d4e56175-0-czjrw#1575110984046674...\n",
      "Removing gs://qwiklabs-gcp-ml-49b827b781ab/babyweight/trained_model_test/checkpoint#1575111017090679...\n",
      "Removing gs://qwiklabs-gcp-ml-49b827b781ab/babyweight/trained_model_test/graph.pbtxt#1575110986324211...\n",
      "Removing gs://qwiklabs-gcp-ml-49b827b781ab/babyweight/trained_model_test/model.ckpt-0.data-00000-of-00012#1575110993630936...\n",
      "Removing gs://qwiklabs-gcp-ml-49b827b781ab/babyweight/trained_model_test/model.ckpt-0.data-00001-of-00012#1575110994376289...\n",
      "Removing gs://qwiklabs-gcp-ml-49b827b781ab/babyweight/trained_model_test/model.ckpt-0.data-00003-of-00012#1575110995481421...\n",
      "Removing gs://qwiklabs-gcp-ml-49b827b781ab/babyweight/trained_model_test/model.ckpt-0.meta#1575111001656021...\n",
      "Removing gs://qwiklabs-gcp-ml-49b827b781ab/babyweight/trained_model_test/model.ckpt-1003.data-00000-of-00012#1575111009997712...\n",
      "Removing gs://qwiklabs-gcp-ml-49b827b781ab/babyweight/trained_model_test/model.ckpt-0.data-00005-of-00012#1575110996673030...\n",
      "Removing gs://qwiklabs-gcp-ml-49b827b781ab/babyweight/trained_model_test/model.ckpt-0.data-00002-of-00012#1575110994736412...\n",
      "Removing gs://qwiklabs-gcp-ml-49b827b781ab/babyweight/trained_model_test/model.ckpt-0.index#1575110998031191...\n",
      "Removing gs://qwiklabs-gcp-ml-49b827b781ab/babyweight/trained_model_test/model.ckpt-0.data-00006-of-00012#1575110996245665...\n",
      "Removing gs://qwiklabs-gcp-ml-49b827b781ab/babyweight/trained_model_test/model.ckpt-0.data-00011-of-00012#1575110995866375...\n",
      "Removing gs://qwiklabs-gcp-ml-49b827b781ab/babyweight/trained_model_test/model.ckpt-0.data-00007-of-00012#1575110997421394...\n",
      "Removing gs://qwiklabs-gcp-ml-49b827b781ab/babyweight/trained_model_test/model.ckpt-0.data-00004-of-00012#1575110995097811...\n",
      "Removing gs://qwiklabs-gcp-ml-49b827b781ab/babyweight/trained_model_test/model.ckpt-0.data-00010-of-00012#1575110993187649...\n",
      "Removing gs://qwiklabs-gcp-ml-49b827b781ab/babyweight/trained_model_test/model.ckpt-0.data-00009-of-00012#1575110994005536...\n",
      "Removing gs://qwiklabs-gcp-ml-49b827b781ab/babyweight/trained_model_test/model.ckpt-0.data-00008-of-00012#1575110997019859...\n",
      "Removing gs://qwiklabs-gcp-ml-49b827b781ab/babyweight/trained_model_test/model.ckpt-1003.data-00001-of-00012#1575111010367670...\n",
      "Removing gs://qwiklabs-gcp-ml-49b827b781ab/babyweight/trained_model_test/model.ckpt-1003.data-00002-of-00012#1575111011105406...\n",
      "Removing gs://qwiklabs-gcp-ml-49b827b781ab/babyweight/trained_model_test/model.ckpt-1003.data-00003-of-00012#1575111011799468...\n",
      "Removing gs://qwiklabs-gcp-ml-49b827b781ab/babyweight/trained_model_test/model.ckpt-1003.data-00004-of-00012#1575111011445960...\n",
      "Removing gs://qwiklabs-gcp-ml-49b827b781ab/babyweight/trained_model_test/model.ckpt-1003.data-00005-of-00012#1575111012149797...\n",
      "Removing gs://qwiklabs-gcp-ml-49b827b781ab/babyweight/trained_model_test/model.ckpt-1003.data-00006-of-00012#1575111012640471...\n",
      "Removing gs://qwiklabs-gcp-ml-49b827b781ab/babyweight/trained_model_test/model.ckpt-1003.data-00007-of-00012#1575111013012209...\n",
      "Removing gs://qwiklabs-gcp-ml-49b827b781ab/babyweight/trained_model_test/model.ckpt-1003.data-00008-of-00012#1575111013388222...\n",
      "Removing gs://qwiklabs-gcp-ml-49b827b781ab/babyweight/trained_model_test/model.ckpt-1003.data-00009-of-00012#1575111013861025...\n",
      "Removing gs://qwiklabs-gcp-ml-49b827b781ab/babyweight/trained_model_test/model.ckpt-1003.data-00010-of-00012#1575111009650906...\n",
      "Removing gs://qwiklabs-gcp-ml-49b827b781ab/babyweight/trained_model_test/model.ckpt-1003.data-00011-of-00012#1575111010732300...\n",
      "Removing gs://qwiklabs-gcp-ml-49b827b781ab/babyweight/trained_model_test/model.ckpt-1003.index#1575111014320979...\n",
      "Removing gs://qwiklabs-gcp-ml-49b827b781ab/babyweight/trained_model_test/model.ckpt-1003.meta#1575111017982042...\n",
      "/ [33/33 objects] 100% Done                                                     \n",
      "Operation completed over 33 objects.                                             \n",
      "Job [babyweight_191130_105150] submitted successfully.\n",
      "Your job is still active. You may view the status of your job with the command\n",
      "\n",
      "  $ gcloud ai-platform jobs describe babyweight_191130_105150\n",
      "\n",
      "or continue streaming the logs with the command\n",
      "\n",
      "  $ gcloud ai-platform jobs stream-logs babyweight_191130_105150\n"
     ]
    }
   ],
   "source": [
    "%%bash\n",
    "OUTDIR=gs://${BUCKET}/babyweight/trained_model_test\n",
    "DATA_DIR=gs://${BUCKET}/babyweight/preproc\n",
    "JOBNAME=babyweight_$(date -u +%y%m%d_%H%M%S)\n",
    "echo $OUTDIR $REGION $JOBNAME\n",
    "gsutil -m rm -rf $OUTDIR\n",
    "gcloud ai-platform jobs submit training $JOBNAME \\\n",
    "    --region=$REGION \\\n",
    "    --module-name=trainer.task \\\n",
    "    --package-path=$(pwd)/babyweight/trainer \\\n",
    "    --job-dir=$OUTDIR \\\n",
    "    --staging-bucket=gs://$BUCKET \\\n",
    "    --scale-tier=PREMIUM_1 \\\n",
    "    --runtime-version=$TFVERSION \\\n",
    "    -- \\\n",
    "    --bucket=qwiklabs-gcp-ml-49b827b781ab \\\n",
    "    --data_dir=$DATA_DIR \\\n",
    "    --output_dir=$OUTDIR \\\n",
    "    --train_steps=1000 \\\n",
    "    --batch_size=128 \\\n",
    "    --nembeds=6 \\\n",
    "    --keep_checkpoints_max=10    "
   ]
  },
  {
   "cell_type": "markdown",
   "metadata": {},
   "source": [
    "### 아래꺼 돌리면 Job은 수행되는데, 상세 hyperparameter 내부 job들이 실패로 되어 있음."
   ]
  },
  {
   "cell_type": "raw",
   "metadata": {},
   "source": [
    "%%bash\n",
    "OUTDIR=gs://${BUCKET}/babyweight/trained_model_20191130_hyperparam\n",
    "DATA_DIR=gs://${BUCKET}/babyweight/preproc\n",
    "JOBNAME=babyweight_$(date -u +%y%m%d_%H%M%S)\n",
    "echo $OUTDIR $REGION $JOBNAME\n",
    "gsutil -m rm -rf $OUTDIR\n",
    "gcloud ai-platform jobs submit training $JOBNAME \\\n",
    "    --region=$REGION \\\n",
    "    --module-name=trainer_20191130_cmle.task \\\n",
    "    --package-path=$(pwd)/babyweight/trainer \\\n",
    "    --job-dir=$OUTDIR \\\n",
    "    --staging-bucket=gs://$BUCKET \\\n",
    "    --scale-tier=PREMIUM_1 \\\n",
    "    --config=hyperparam.yaml \\\n",
    "    --runtime-version=$TFVERSION \\\n",
    "    -- \\\n",
    "    --bucket=qwiklabs-gcp-ml-49b827b781ab \\\n",
    "    --data_dir=gs://qwiklabs-gcp-ml-49b827b781ab/babyweight/preproc \\\n",
    "    --output_dir=gs://qwiklabs-gcp-ml-49b827b781ab/babyweight/trained_model_20191130 \\\n",
    "    --train_steps=1000 \\\n",
    "    --batch_size=128 \\\n",
    "    --nembeds=6 \\\n",
    "    --save_checkpoints_sec=30 \\\n",
    "    --keep_checkpoints_max=10 \\\n",
    "    --eval_secs=30"
   ]
  },
  {
   "cell_type": "markdown",
   "metadata": {},
   "source": [
    "## gs://${BUCKET}/babyweight/trained_model_20191130를 모델로 올려보자."
   ]
  },
  {
   "cell_type": "code",
   "execution_count": 13,
   "metadata": {},
   "outputs": [],
   "source": [
    "%%bash\n",
    "if ! gsutil ls -r gs://${BUCKET} | grep -q gs://${BUCKET}/babyweight/trained_model_20191130/; then\n",
    "    gsutil mb -l ${REGION} gs://${BUCKET}\n",
    "    # copy canonical model if you didn't do previous notebook\n",
    "    gsutil -m cp -R gs://cloud-training-demos/babyweight/trained_model gs://${BUCKET}/babyweight/trained_model_20191130\n",
    "fi"
   ]
  },
  {
   "cell_type": "code",
   "execution_count": 16,
   "metadata": {},
   "outputs": [
    {
     "name": "stdout",
     "output_type": "stream",
     "text": [
      "The model 'babyweight_20191130' with version 'ml_on_gcp' does not exist.\n"
     ]
    }
   ],
   "source": [
    "%%bash\n",
    "MODEL_NAME=\"babyweight_20191130\"\n",
    "MODEL_VERSION=\"ml_on_gcp\"\n",
    "\n",
    "# Check to see if the model and version already exist, \n",
    "# if so, delete them to deploy anew\n",
    "if gcloud ai-platform models list | grep \"$MODEL_NAME \\+ $MODEL_VERSION\"; then\n",
    "    echo \"Deleting the version '$MODEL_VERSION' of model '$MODEL_NAME'\"\n",
    "    yes | gcloud ai-platform versions delete ${MODEL_VERSION} --model=$MODEL_NAME\n",
    "    \n",
    "    echo \"Deleting the model '$MODEL_NAME'\"\n",
    "    yes | gcloud ai-platform models delete ${MODEL_NAME}\n",
    "else \n",
    "    echo \"The model '$MODEL_NAME' with version '$MODEL_VERSION' does not exist.\"\n",
    "fi"
   ]
  },
  {
   "cell_type": "markdown",
   "metadata": {},
   "source": [
    "### Model 생성"
   ]
  },
  {
   "cell_type": "code",
   "execution_count": 60,
   "metadata": {},
   "outputs": [
    {
     "name": "stdout",
     "output_type": "stream",
     "text": [
      "Deploying the model 'babyweight_20191130', version 'ml_on_gcp' from gs://qwiklabs-gcp-ml-49b827b781ab/babyweight/trained_model_test/export/exporter/1575111495/\n",
      "... this will take a few minutes\n"
     ]
    },
    {
     "name": "stderr",
     "output_type": "stream",
     "text": [
      "Created ml engine model [projects/qwiklabs-gcp-ml-49b827b781ab/models/babyweight_20191130].\n"
     ]
    }
   ],
   "source": [
    "%%bash\n",
    "MODEL_NAME=\"babyweight_20191130\"\n",
    "MODEL_VERSION=\"ml_on_gcp\"\n",
    "MODEL_LOCATION=$(gsutil ls gs://${BUCKET}/babyweight/trained_model_test/export/exporter/ | tail -1)\n",
    "    \n",
    "echo \"Deploying the model '$MODEL_NAME', version '$MODEL_VERSION' from $MODEL_LOCATION\"\n",
    "echo \"... this will take a few minutes\"\n",
    "\n",
    "gcloud ai-platform models create ${MODEL_NAME} --regions $REGION"
   ]
  },
  {
   "cell_type": "markdown",
   "metadata": {},
   "source": [
    "### Model version 생성"
   ]
  },
  {
   "cell_type": "code",
   "execution_count": 61,
   "metadata": {},
   "outputs": [
    {
     "name": "stderr",
     "output_type": "stream",
     "text": [
      "Creating version (this might take a few minutes)......\n",
      "..................................................................................................................................................................................................................................................done.\n"
     ]
    }
   ],
   "source": [
    "%%bash\n",
    "MODEL_NAME=\"babyweight_20191130\"\n",
    "MODEL_VERSION=\"ml_on_gcp_v1\"\n",
    "MODEL_LOCATION=$(gsutil ls gs://${BUCKET}/babyweight/trained_model_test/export/exporter/ | tail -1)\n",
    "\n",
    "gcloud ai-platform versions create ${MODEL_VERSION} --model ${MODEL_NAME} --origin ${MODEL_LOCATION} --runtime-version ${TFVERSION}"
   ]
  },
  {
   "cell_type": "markdown",
   "metadata": {},
   "source": [
    "# Prediction(배치)"
   ]
  },
  {
   "cell_type": "code",
   "execution_count": 77,
   "metadata": {},
   "outputs": [
    {
     "name": "stdout",
     "output_type": "stream",
     "text": [
      "Overwriting inputs.json\n"
     ]
    }
   ],
   "source": [
    "%%writefile inputs.json\n",
    "{\"is_male\": \"True\", \"mother_age\": 31.0, \"plurality\": \"Single(1)\", \"gestation_weeks\": 39}\n",
    "{\"is_male\": \"False\", \"mother_age\": 32.0, \"plurality\": \"Single(1)\", \"gestation_weeks\": 39}"
   ]
  },
  {
   "cell_type": "code",
   "execution_count": 78,
   "metadata": {},
   "outputs": [
    {
     "name": "stdout",
     "output_type": "stream",
     "text": [
      "jobId: babypred_191130_114122\n",
      "state: QUEUED\n"
     ]
    },
    {
     "name": "stderr",
     "output_type": "stream",
     "text": [
      "Copying file://inputs.json [Content-Type=application/json]...\n",
      "/ [1 files][  179.0 B/  179.0 B]                                                \n",
      "Operation completed over 1 objects/179.0 B.                                      \n",
      "Removing gs://qwiklabs-gcp-ml-49b827b781ab/babyweight/batchpred_20191130/outputs/prediction.errors_stats-00000-of-00001#1575113785651953...\n",
      "Removing gs://qwiklabs-gcp-ml-49b827b781ab/babyweight/batchpred_20191130/outputs/prediction.results-00000-of-00001#1575113777053769...\n",
      "/ [2/2 objects] 100% Done                                                       \n",
      "Operation completed over 2 objects.                                              \n",
      "Job [babypred_191130_114122] submitted successfully.\n",
      "Your job is still active. You may view the status of your job with the command\n",
      "\n",
      "  $ gcloud ai-platform jobs describe babypred_191130_114122\n",
      "\n",
      "or continue streaming the logs with the command\n",
      "\n",
      "  $ gcloud ai-platform jobs stream-logs babypred_191130_114122\n"
     ]
    }
   ],
   "source": [
    "%%bash\n",
    "INPUT=gs://${BUCKET}/babyweight/batchpred_20191130/inputs.json\n",
    "OUTPUT=gs://${BUCKET}/babyweight/batchpred_20191130/outputs\n",
    "\n",
    "gsutil cp inputs.json $INPUT\n",
    "gsutil -m rm -rf $OUTPUT \n",
    "gcloud ai-platform jobs submit prediction babypred_$(date -u +%y%m%d_%H%M%S) \\\n",
    "    --data-format=TEXT \\\n",
    "    --region ${REGION} \\\n",
    "    --input-paths=$INPUT \\\n",
    "    --output-path=$OUTPUT \\\n",
    "    --model=babyweight_20191130 \\\n",
    "    --version=ml_on_gcp_v1"
   ]
  },
  {
   "cell_type": "code",
   "execution_count": 75,
   "metadata": {},
   "outputs": [
    {
     "name": "stdout",
     "output_type": "stream",
     "text": [
      "gs://qwiklabs-gcp-ml-49b827b781ab/babyweight/batchpred_20191130/outputs/prediction.errors_stats-00000-of-00001\n",
      "gs://qwiklabs-gcp-ml-49b827b781ab/babyweight/batchpred_20191130/outputs/prediction.results-00000-of-00001\n"
     ]
    }
   ],
   "source": [
    "!gsutil ls gs://$BUCKET/babyweight/batchpred_20191130/outputs"
   ]
  },
  {
   "cell_type": "code",
   "execution_count": 76,
   "metadata": {},
   "outputs": [
    {
     "name": "stdout",
     "output_type": "stream",
     "text": [
      "{\"predictions\": [7.628013610839844]}\n",
      "{\"predictions\": [7.422759056091309]}\n"
     ]
    }
   ],
   "source": [
    "!gsutil cat gs://$BUCKET/babyweight/batchpred_20191130/outputs/prediction.results*"
   ]
  },
  {
   "cell_type": "markdown",
   "metadata": {},
   "source": [
    "## Prediction(API)"
   ]
  },
  {
   "cell_type": "code",
   "execution_count": 79,
   "metadata": {},
   "outputs": [
    {
     "name": "stdout",
     "output_type": "stream",
     "text": [
      "b'{\"predictions\": [{\"predictions\": [6.799725532531738]}, {\"predictions\": [6.524709224700928]}, {\"predictions\": [7.628015518188477]}, {\"predictions\": [6.689780235290527]}, {\"predictions\": [7.317388534545898]}, {\"predictions\": [6.435290813446045]}]}'\n"
     ]
    }
   ],
   "source": [
    "from oauth2client.client import GoogleCredentials\n",
    "import requests\n",
    "import json\n",
    "\n",
    "MODEL_NAME = \"babyweight_20191130\"\n",
    "MODEL_VERSION = \"ml_on_gcp_v1\"\n",
    "\n",
    "token = GoogleCredentials.get_application_default().get_access_token().access_token\n",
    "api = \"https://ml.googleapis.com/v1/projects/{}/models/{}/versions/{}:predict\" \\\n",
    "         .format(PROJECT, MODEL_NAME, MODEL_VERSION)\n",
    "headers = {\"Authorization\": \"Bearer \" + token }\n",
    "data = {\n",
    "  \"instances\": [\n",
    "    {\n",
    "      \"is_male\": \"True\",\n",
    "      \"mother_age\": 31.0,\n",
    "      \"plurality\": \"Single(1)\",\n",
    "      \"gestation_weeks\": 39\n",
    "    },\n",
    "    {\n",
    "      \"is_male\": \"True\",\n",
    "      \"mother_age\": 32.0,\n",
    "      \"plurality\": \"Single(1)\",\n",
    "      \"gestation_weeks\": 39\n",
    "    },\n",
    "    {\n",
    "      \"is_male\": \"True\",\n",
    "      \"mother_age\": 26.0,\n",
    "      \"plurality\": \"Single(1)\",\n",
    "      \"gestation_weeks\": 39\n",
    "    },\n",
    "    {\n",
    "      \"is_male\": \"False\",\n",
    "      \"mother_age\": 29.0,\n",
    "      \"plurality\": \"Single(1)\",\n",
    "      \"gestation_weeks\": 38\n",
    "    },\n",
    "    {\n",
    "      \"is_male\": \"True\",\n",
    "      \"mother_age\": 26.0,\n",
    "      \"plurality\": \"Triplets(3)\",\n",
    "      \"gestation_weeks\": 39\n",
    "    },\n",
    "    {\n",
    "      \"is_male\": \"Unknown\",\n",
    "      \"mother_age\": 29.0,\n",
    "      \"plurality\": \"Multiple(2+)\",\n",
    "      \"gestation_weeks\": 38\n",
    "    },\n",
    "  ]\n",
    "}\n",
    "response = requests.post(api, json=data, headers=headers)\n",
    "print(response.content)"
   ]
  },
  {
   "cell_type": "code",
   "execution_count": null,
   "metadata": {},
   "outputs": [],
   "source": []
  }
 ],
 "metadata": {
  "kernelspec": {
   "display_name": "Python 3",
   "language": "python",
   "name": "python3"
  },
  "language_info": {
   "codemirror_mode": {
    "name": "ipython",
    "version": 3
   },
   "file_extension": ".py",
   "mimetype": "text/x-python",
   "name": "python",
   "nbconvert_exporter": "python",
   "pygments_lexer": "ipython3",
   "version": "3.5.3"
  }
 },
 "nbformat": 4,
 "nbformat_minor": 4
}
