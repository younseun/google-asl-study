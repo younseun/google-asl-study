{
 "cells": [
  {
   "cell_type": "code",
   "execution_count": 16,
   "metadata": {},
   "outputs": [
    {
     "name": "stdout",
     "output_type": "stream",
     "text": [
      "1.15.0\n"
     ]
    }
   ],
   "source": [
    "import tensorflow as tf\n",
    "import numpy as np\n",
    "print(tf.__version__)\n",
    "tf.enable_eager_execution()"
   ]
  },
  {
   "cell_type": "code",
   "execution_count": 13,
   "metadata": {},
   "outputs": [
    {
     "name": "stdout",
     "output_type": "stream",
     "text": [
      "VocabularyListCategoricalColumn(key='employeeId', vocabulary_list=('aaa', 'bbb', 'ccc'), dtype=tf.string, default_value=-1, num_oov_buckets=0)\n",
      "IdentityCategoricalColumn(key='employeeId', number_buckets=5, default_value=None)\n",
      "HashedCategoricalColumn(key='employeeId', hash_bucket_size=10, dtype=tf.string)\n"
     ]
    }
   ],
   "source": [
    "a = tf.feature_column.categorical_column_with_vocabulary_list('employeeId',\n",
    "      vocabulary_list = ['aaa','bbb','ccc'])\n",
    "b = tf.feature_column.categorical_column_with_identity('employeeId',\n",
    "      num_buckets = 5)\n",
    "c = tf.feature_column.categorical_column_with_hash_bucket('employeeId',\n",
    "      hash_bucket_size = 10)\n",
    "print(a)\n",
    "print(b)\n",
    "print(c)"
   ]
  },
  {
   "cell_type": "code",
   "execution_count": 20,
   "metadata": {},
   "outputs": [],
   "source": [
    "lat = tf.feature_column.numeric_column('latitude')\n",
    "buckets = np.arange(32,42,1).tolist()\n",
    "dlat = tf.feature_column.bucketized_column(lat, boundaries=buckets)"
   ]
  },
  {
   "cell_type": "code",
   "execution_count": 23,
   "metadata": {},
   "outputs": [
    {
     "data": {
      "text/plain": [
       "<tf.Tensor: id=15, shape=(7,), dtype=float32, numpy=array([1. , 0.3, 0. , 0. , 1. , 0.4, 1. ], dtype=float32)>"
      ]
     },
     "execution_count": 23,
     "metadata": {},
     "output_type": "execute_result"
    }
   ],
   "source": [
    "clip_by_value = tf.clip_by_value([1,0.3,-10,0,2,0.4,6,],0.0,1.0)\n",
    "clip_by_value"
   ]
  },
  {
   "cell_type": "code",
   "execution_count": null,
   "metadata": {},
   "outputs": [],
   "source": []
  },
  {
   "cell_type": "code",
   "execution_count": null,
   "metadata": {},
   "outputs": [],
   "source": []
  },
  {
   "cell_type": "code",
   "execution_count": null,
   "metadata": {},
   "outputs": [],
   "source": []
  },
  {
   "cell_type": "code",
   "execution_count": null,
   "metadata": {},
   "outputs": [],
   "source": []
  },
  {
   "cell_type": "code",
   "execution_count": 25,
   "metadata": {},
   "outputs": [
    {
     "name": "stdout",
     "output_type": "stream",
     "text": [
      "Writing younseun_input/train_data.csv\n"
     ]
    }
   ],
   "source": [
    "%%writefile younseun_input/train_data.csv\n",
    "country,age,sex,height\n",
    "'kr',10,'boy',120.0\n",
    "'kr',10,'girl',110.0\n",
    "'kr',13,'boy',150.0\n",
    "'kr',13,'girl',140.0\n",
    "'kr',16,'boy',170.0\n",
    "'kr',16,'girl',155.0\n",
    "'kr',19,'boy',180.0\n",
    "'kr',19,'girl',165.0\n",
    "'kr',22,'boy',182.0\n",
    "'kr',22,'girl',167.0\n",
    "'ca',10,'boy',122.0\n",
    "'ca',10,'girl',113.0\n",
    "'ca',13,'boy',153.0\n",
    "'ca',13,'girl',143.0\n",
    "'ca',16,'boy',173.0\n",
    "'ca',16,'girl',157.0\n",
    "'ca',19,'boy',182.0\n",
    "'ca',19,'girl',165.0\n",
    "'ca',22,'boy',185.0\n",
    "'ca',22,'girl',169.0"
   ]
  },
  {
   "cell_type": "code",
   "execution_count": null,
   "metadata": {},
   "outputs": [],
   "source": []
  }
 ],
 "metadata": {
  "kernelspec": {
   "display_name": "Python 3",
   "language": "python",
   "name": "python3"
  },
  "language_info": {
   "codemirror_mode": {
    "name": "ipython",
    "version": 3
   },
   "file_extension": ".py",
   "mimetype": "text/x-python",
   "name": "python",
   "nbconvert_exporter": "python",
   "pygments_lexer": "ipython3",
   "version": "3.5.3"
  }
 },
 "nbformat": 4,
 "nbformat_minor": 4
}
