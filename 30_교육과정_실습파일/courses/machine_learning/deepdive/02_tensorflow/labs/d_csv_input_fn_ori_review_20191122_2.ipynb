{
 "cells": [
  {
   "cell_type": "code",
   "execution_count": 68,
   "metadata": {},
   "outputs": [
    {
     "name": "stdout",
     "output_type": "stream",
     "text": [
      "{'dropofflat': 20.7, 'pickuplon': -73.0, 'hourofday': 0, 'dayofweek': 1, 'dropofflon': -74.0, 'pickuplat': 41.0} 28.0\n",
      "{'dropofflat': 40.6, 'pickuplon': -72.0, 'hourofday': 0, 'dayofweek': 1, 'dropofflon': -75.0, 'pickuplat': 44.0} 12.3\n",
      "{'dropofflat': 42.9, 'pickuplon': -71.0, 'hourofday': 0, 'dayofweek': 1, 'dropofflon': -71.0, 'pickuplat': 41.0} 10.0\n"
     ]
    }
   ],
   "source": [
    "import tensorflow as tf\n",
    "\n",
    "CSV_COLUMN_NAMES = [\"fare_amount\",\"dayofweek\",\"hourofday\",\"pickuplon\",\"pickuplat\",\"dropofflon\",\"dropofflat\"]\n",
    "CSV_DEFAULTS = [[0.0],[1],[0],[-74.0], [40.0], [-74.0], [40.7]]\n",
    "FEATURE_NAMES = CSV_COLUMN_NAMES[1:]\n",
    "LABEL = CSV_COLUMN_NAMES[0]\n",
    "\n",
    "def parse_row(row):\n",
    "    fields = tf.decode_csv(records=row, record_defaults=CSV_DEFAULTS)\n",
    "    features = {'dayofweek' : fields[1],'hourofday' : fields[2],'pickuplon' : fields[3],'pickuplat' : fields[4],'dropofflon' : fields[5],'dropofflat' : fields[6]}\n",
    "    label = fields[0]\n",
    "    return features, label\n",
    "\n",
    "def read_dataset(csv_filename):\n",
    "    dataset = tf.data.TextLineDataset(csv_filename)\n",
    "    dataset = dataset.skip(1).map(parse_row)\n",
    "    return dataset\n",
    "\n",
    "dataset= read_dataset(\"./test.csv\")\n",
    "dataset_iterator = dataset.make_one_shot_iterator()\n",
    "features, labels = dataset_iterator.get_next()\n",
    "\n",
    "with tf.Session() as sess:\n",
    "    o_features, o_labels = sess.run([features, labels]);print(o_features, o_labels)\n",
    "    o_features, o_labels = sess.run([features, labels]);print(o_features, o_labels)\n",
    "    o_features, o_labels = sess.run([features, labels]);print(o_features, o_labels)    "
   ]
  },
  {
   "cell_type": "code",
   "execution_count": null,
   "metadata": {},
   "outputs": [],
   "source": []
  }
 ],
 "metadata": {
  "kernelspec": {
   "display_name": "Python 3",
   "language": "python",
   "name": "python3"
  },
  "language_info": {
   "codemirror_mode": {
    "name": "ipython",
    "version": 3
   },
   "file_extension": ".py",
   "mimetype": "text/x-python",
   "name": "python",
   "nbconvert_exporter": "python",
   "pygments_lexer": "ipython3",
   "version": "3.5.3"
  }
 },
 "nbformat": 4,
 "nbformat_minor": 4
}
