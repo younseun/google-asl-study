{
 "cells": [
  {
   "cell_type": "code",
   "execution_count": 35,
   "metadata": {},
   "outputs": [
    {
     "name": "stdout",
     "output_type": "stream",
     "text": [
      "1.15.0\n"
     ]
    }
   ],
   "source": [
    "import os\n",
    "import shutil\n",
    "import numpy as np\n",
    "import tensorflow as tf\n",
    "import datetime\n",
    "print(tf.__version__)"
   ]
  },
  {
   "cell_type": "code",
   "execution_count": 2,
   "metadata": {},
   "outputs": [],
   "source": [
    "PROJECT = \"qwiklabs-gcp-ml-49b827b781ab\"  # Replace with your PROJECT\n",
    "BUCKET = \"qwiklabs-gcp-ml-49b827b781ab\"  # Replace with your BUCKET\n",
    "REGION = \"us-central1\"            # Choose an available region for Cloud MLE\n",
    "TFVERSION = \"1.14\"                # TF version for CMLE to use"
   ]
  },
  {
   "cell_type": "code",
   "execution_count": 3,
   "metadata": {},
   "outputs": [],
   "source": [
    "os.environ[\"BUCKET\"] = BUCKET\n",
    "os.environ[\"PROJECT\"] = PROJECT\n",
    "os.environ[\"REGION\"] = REGION\n",
    "os.environ[\"TFVERSION\"] = TFVERSION"
   ]
  },
  {
   "cell_type": "code",
   "execution_count": 4,
   "metadata": {},
   "outputs": [],
   "source": [
    "# 나중에 하이퍼파라미터로 쓸수 있는것.\n",
    "HP_FC_EMBED_DIMENSION = 6\n",
    "TRAIN_STEPS = 1000\n",
    "EVAL_INTERVAL = 300\n"
   ]
  },
  {
   "cell_type": "code",
   "execution_count": 5,
   "metadata": {},
   "outputs": [],
   "source": [
    "# Columns명 지정\n",
    "CSV_COLUMNS = \"weight_pounds,is_male,mother_age,plurality,gestation_weeks\".split(',')\n",
    "LABEL_COLUMN = \"weight_pounds\"\n",
    "# Set default values for each CSV column\n",
    "DEFAULTS = [[0.0], [\"null\"], [0.0], [\"null\"], [0.0]]"
   ]
  },
  {
   "cell_type": "code",
   "execution_count": 6,
   "metadata": {},
   "outputs": [],
   "source": [
    "def add_engineered_features(features):\n",
    "    features[\"dummy\"] = features[\"mother_age\"]\n",
    "    \n",
    "    return features"
   ]
  },
  {
   "cell_type": "code",
   "execution_count": 7,
   "metadata": {},
   "outputs": [],
   "source": [
    "def read_dataset(filename_pattern, mode, batch_size = 512):\n",
    "    def _input_fn():\n",
    "        def decode_csv(value_column):\n",
    "            columns = tf.decode_csv(records = value_column, record_defaults = DEFAULTS)\n",
    "            # Default feature\n",
    "            features = dict(zip(CSV_COLUMNS, columns))\n",
    "            # NEW: Add engineered features\n",
    "            features = add_engineered_features(features)\n",
    "            # Default label\n",
    "            label = features.pop(LABEL_COLUMN)\n",
    "            return features, label\n",
    "    \n",
    "        # Create list of files that match pattern\n",
    "        file_list = tf.gfile.Glob(filename = filename_pattern)\n",
    "\n",
    "        # Create dataset from file list\n",
    "        dataset = (tf.data.TextLineDataset(filenames = file_list)  # Read text file\n",
    "                     .map(map_func = decode_csv))  # Transform each elem by applying decode_csv fn\n",
    "\n",
    "        if mode == tf.estimator.ModeKeys.TRAIN:\n",
    "            num_epochs = None # indefinitely\n",
    "            dataset = dataset.shuffle(buffer_size = 10 * batch_size)\n",
    "        else:\n",
    "            num_epochs = 1 # end-of-input after this\n",
    "\n",
    "        dataset = dataset.repeat(count = num_epochs).batch(batch_size = batch_size)\n",
    "        return dataset\n",
    "    return _input_fn"
   ]
  },
  {
   "cell_type": "code",
   "execution_count": 8,
   "metadata": {},
   "outputs": [],
   "source": [
    "def get_categorical_indicator(name, values):\n",
    "    return tf.feature_column.indicator_column(\n",
    "        categorical_column = tf.feature_column.categorical_column_with_vocabulary_list(key = name, vocabulary_list = values))\n",
    "\n",
    "def get_feature_cols():\n",
    "    # Vocabulary List\n",
    "    voca_list_is_male = [\"True\",\"False\",\"Unknown\"]\n",
    "    voca_list_plurality = [\"Single(1)\",\"Twins(2)\",\"Triplets(3)\",\"Quadruplets(4)\",\"Quintuplets(5)\",\"Multiple(2+)\"]\n",
    "\n",
    "    # Default Feature column\n",
    "    fc_is_male = tf.feature_column.categorical_column_with_vocabulary_list(key=\"is_male\", vocabulary_list=voca_list_is_male)\n",
    "    fc_plurality = tf.feature_column.categorical_column_with_vocabulary_list(key=\"plurality\", vocabulary_list=voca_list_plurality)\n",
    "    fc_mother_age = tf.feature_column.numeric_column(key = \"mother_age\")\n",
    "    fc_gestation_weeks = tf.feature_column.numeric_column(key = \"gestation_weeks\")\n",
    "    # DNNRegressor모델인 경우에는, 아래의 함수를 써야 한다.\n",
    "    # One-Hot Encoding을 해서 넣어야 하는거 같다.\n",
    "    # fc_is_male   = get_categorical_indicator(\"is_male\", voca_list_is_male)\n",
    "    # fc_plurality = get_categorical_indicator(\"plurality\", voca_list_plurality)\n",
    "\n",
    "    \n",
    "    # ADD Feature column\n",
    "    fc_dummy = tf.feature_column.numeric_column(key = \"dummy\")\n",
    "\n",
    "    # Bucketized columns\n",
    "    fc_buckets_mother_age = tf.feature_column.bucketized_column(source_column = fc_mother_age, boundaries = np.arange(start = 15, stop = 45, step = 1).tolist())\n",
    "    fc_buckets_gestation_weeks = tf.feature_column.bucketized_column(source_column = fc_gestation_weeks, boundaries = np.arange(start = 17, stop = 47, step = 1).tolist())\n",
    "   \n",
    "    # Embeded Feature columns\n",
    "    crossed = tf.feature_column.crossed_column(keys=[fc_is_male,fc_plurality,fc_buckets_mother_age,fc_buckets_gestation_weeks], \n",
    "                                            hash_bucket_size = 20000)\n",
    "    fc_embed = tf.feature_column.embedding_column(categorical_column = crossed, dimension = HP_FC_EMBED_DIMENSION)\n",
    "\n",
    "    # Feature columns\n",
    "    feature_columns = [fc_is_male,\n",
    "                       fc_plurality,\n",
    "                       fc_mother_age,\n",
    "                       fc_gestation_weeks,\n",
    "                       fc_dummy\n",
    "                      ]\n",
    "    \n",
    "    # Sparse wide columns\n",
    "    wide = [fc_is_male,fc_plurality,fc_buckets_mother_age,fc_buckets_gestation_weeks]\n",
    "    \n",
    "    #Deep colomns\n",
    "    deep = [fc_mother_age,\n",
    "            fc_gestation_weeks,\n",
    "            fc_embed]\n",
    "    \n",
    "    return feature_columns, wide, deep"
   ]
  },
  {
   "cell_type": "code",
   "execution_count": 9,
   "metadata": {},
   "outputs": [],
   "source": [
    "def serving_input_fn():\n",
    "    feature_placeholders = {\n",
    "        \"is_male\"        : tf.placeholder(dtype = tf.string,  shape = [None]),\n",
    "        \"mother_age\"     : tf.placeholder(dtype = tf.float32, shape = [None]),\n",
    "        \"plurality\"      : tf.placeholder(dtype = tf.string,  shape = [None]),\n",
    "        \"gestation_weeks\": tf.placeholder(dtype = tf.float32, shape = [None])\n",
    "    }\n",
    "    \n",
    "    #features = add_engineered_features(feature_placeholders)\n",
    "    print(feature_placeholders[\"is_male\"])\n",
    "\n",
    "    # feature의 shape=(?,)이면, 아래 방법으로 차원을 증가시킨다.\n",
    "    features = {\n",
    "                key: tf.expand_dims(input = tensor, axis = -1)\n",
    "                for key, tensor in feature_placeholders.items()\n",
    "               }\n",
    "\n",
    "    print(features[\"is_male\"])\n",
    "    return tf.estimator.export.ServingInputReceiver(features = features, receiver_tensors = feature_placeholders)"
   ]
  },
  {
   "cell_type": "code",
   "execution_count": 41,
   "metadata": {},
   "outputs": [],
   "source": [
    "# BestExporter를 사용하게 되면, 아래 Function이 있어야 하며, compare_fn으로 사용한다.\n",
    "def _accuracy_bigger(best_eval_result, current_eval_result):\n",
    "    metric = 'accuracy'\n",
    "    return best_eval_result[metric] < current_eval_result[metric]"
   ]
  },
  {
   "cell_type": "code",
   "execution_count": 71,
   "metadata": {},
   "outputs": [],
   "source": [
    "def train_and_evaluate_DNNLinearCombinedRegressor(output_dir):\n",
    "    feature_columns, wide, deep = get_feature_cols()\n",
    "        \n",
    "    run_config = tf.estimator.RunConfig(\n",
    "        save_checkpoints_secs = EVAL_INTERVAL,\n",
    "        keep_checkpoint_max = 3)\n",
    "    \n",
    "    estimator = tf.estimator.DNNLinearCombinedRegressor(\n",
    "        model_dir = output_dir,\n",
    "        linear_feature_columns = wide,\n",
    "        dnn_feature_columns = deep,\n",
    "        dnn_hidden_units = [128, 64, 32],\n",
    "        config = run_config)\n",
    " \n",
    "\n",
    "\n",
    "\n",
    "    train_spec = tf.estimator.TrainSpec(\n",
    "        input_fn = read_dataset(\"train.csv\", mode = tf.estimator.ModeKeys.TRAIN),\n",
    "        max_steps = TRAIN_STEPS)\n",
    "    \n",
    "    Last_exporter = tf.estimator.LatestExporter(name = \"exporter\", serving_input_receiver_fn = serving_input_fn)\n",
    "    Final_exporter = tf.estimator.FinalExporter('./exporter', serving_input_receiver_fn=serving_input_fn)\n",
    "    best_exporter = tf.estimator.BestExporter(\n",
    "                  name=\"best_exporter\",  # Saved models are exported under /export/best_exporter/\n",
    "                  compare_fn=_accuracy_bigger,\n",
    "                  event_file_pattern='eval_{}/*.tfevents.*'.format(datetime.datetime.utcnow().strftime(\"%H%M%S\")),\n",
    "                  serving_input_receiver_fn=serving_input_fn,\n",
    "                  exports_to_keep=5 )\n",
    "    exporters = [best_exporter]\n",
    "    \n",
    "    eval_spec = tf.estimator.EvalSpec(\n",
    "        input_fn = read_dataset(\"eval.csv\", mode = tf.estimator.ModeKeys.EVAL),\n",
    "        steps = None,\n",
    "        start_delay_secs = 60, # start evaluating after N seconds\n",
    "        throttle_secs = EVAL_INTERVAL,  # evaluate every N seconds\n",
    "        exporters = exporter)\n",
    "    \n",
    "    tf.estimator.train_and_evaluate(estimator, train_spec, eval_spec)"
   ]
  },
  {
   "cell_type": "code",
   "execution_count": 72,
   "metadata": {},
   "outputs": [
    {
     "name": "stdout",
     "output_type": "stream",
     "text": [
      "INFO:tensorflow:Using config: {'_protocol': None, '_cluster_spec': <tensorflow.python.training.server_lib.ClusterSpec object at 0x7f4bb0bf6668>, '_eval_distribute': None, '_keep_checkpoint_every_n_hours': 10000, '_device_fn': None, '_save_checkpoints_steps': None, '_num_worker_replicas': 1, '_task_id': 0, '_is_chief': True, '_save_summary_steps': 100, '_num_ps_replicas': 0, '_experimental_distribute': None, '_evaluation_master': '', '_save_checkpoints_secs': 300, '_master': '', '_session_creation_timeout_secs': 7200, '_session_config': allow_soft_placement: true\n",
      "graph_options {\n",
      "  rewrite_options {\n",
      "    meta_optimizer_iterations: ONE\n",
      "  }\n",
      "}\n",
      ", '_experimental_max_worker_delay_secs': None, '_model_dir': 'babyweight_trained_DNNLinearCombinedRegressor', '_tf_random_seed': None, '_train_distribute': None, '_global_id_in_cluster': 0, '_task_type': 'worker', '_keep_checkpoint_max': 3, '_service': None, '_log_step_count_steps': 100}\n"
     ]
    },
    {
     "ename": "NameError",
     "evalue": "name 'exporter' is not defined",
     "output_type": "error",
     "traceback": [
      "\u001b[0;31m---------------------------------------------------------------------------\u001b[0m",
      "\u001b[0;31mNameError\u001b[0m                                 Traceback (most recent call last)",
      "\u001b[0;32m<ipython-input-72-1a1c83f62fee>\u001b[0m in \u001b[0;36m<module>\u001b[0;34m\u001b[0m\n\u001b[1;32m      1\u001b[0m \u001b[0mget_ipython\u001b[0m\u001b[0;34m(\u001b[0m\u001b[0;34m)\u001b[0m\u001b[0;34m.\u001b[0m\u001b[0msystem\u001b[0m\u001b[0;34m(\u001b[0m\u001b[0;34m'rm -rf babyweight_trained_DNNLinearCombinedRegressor'\u001b[0m\u001b[0;34m)\u001b[0m\u001b[0;34m\u001b[0m\u001b[0m\n\u001b[0;32m----> 2\u001b[0;31m \u001b[0mtrain_and_evaluate_DNNLinearCombinedRegressor\u001b[0m\u001b[0;34m(\u001b[0m\u001b[0;34m\"babyweight_trained_DNNLinearCombinedRegressor\"\u001b[0m\u001b[0;34m)\u001b[0m\u001b[0;34m\u001b[0m\u001b[0m\n\u001b[0m",
      "\u001b[0;32m<ipython-input-71-5a67a4448a09>\u001b[0m in \u001b[0;36mtrain_and_evaluate_DNNLinearCombinedRegressor\u001b[0;34m(output_dir)\u001b[0m\n\u001b[1;32m     35\u001b[0m         \u001b[0mstart_delay_secs\u001b[0m \u001b[0;34m=\u001b[0m \u001b[0;36m60\u001b[0m\u001b[0;34m,\u001b[0m \u001b[0;31m# start evaluating after N seconds\u001b[0m\u001b[0;34m\u001b[0m\u001b[0m\n\u001b[1;32m     36\u001b[0m         \u001b[0mthrottle_secs\u001b[0m \u001b[0;34m=\u001b[0m \u001b[0mEVAL_INTERVAL\u001b[0m\u001b[0;34m,\u001b[0m  \u001b[0;31m# evaluate every N seconds\u001b[0m\u001b[0;34m\u001b[0m\u001b[0m\n\u001b[0;32m---> 37\u001b[0;31m         exporters = exporter)\n\u001b[0m\u001b[1;32m     38\u001b[0m \u001b[0;34m\u001b[0m\u001b[0m\n\u001b[1;32m     39\u001b[0m     \u001b[0mtf\u001b[0m\u001b[0;34m.\u001b[0m\u001b[0mestimator\u001b[0m\u001b[0;34m.\u001b[0m\u001b[0mtrain_and_evaluate\u001b[0m\u001b[0;34m(\u001b[0m\u001b[0mestimator\u001b[0m\u001b[0;34m,\u001b[0m \u001b[0mtrain_spec\u001b[0m\u001b[0;34m,\u001b[0m \u001b[0meval_spec\u001b[0m\u001b[0;34m)\u001b[0m\u001b[0;34m\u001b[0m\u001b[0m\n",
      "\u001b[0;31mNameError\u001b[0m: name 'exporter' is not defined"
     ]
    }
   ],
   "source": [
    "!rm -rf babyweight_trained_DNNLinearCombinedRegressor\n",
    "train_and_evaluate_DNNLinearCombinedRegressor(\"babyweight_trained_DNNLinearCombinedRegressor\")"
   ]
  },
  {
   "cell_type": "code",
   "execution_count": 37,
   "metadata": {},
   "outputs": [
    {
     "data": {
      "text/plain": [
       "datetime.datetime(2019, 11, 29, 23, 26, 1, 944722)"
      ]
     },
     "execution_count": 37,
     "metadata": {},
     "output_type": "execute_result"
    }
   ],
   "source": [
    "import datetime\n",
    "\n",
    "datetime.datetime.utcnow()"
   ]
  },
  {
   "cell_type": "code",
   "execution_count": 21,
   "metadata": {},
   "outputs": [
    {
     "ename": "NameError",
     "evalue": "name 'feature_columns' is not defined",
     "output_type": "error",
     "traceback": [
      "\u001b[0;31m---------------------------------------------------------------------------\u001b[0m",
      "\u001b[0;31mNameError\u001b[0m                                 Traceback (most recent call last)",
      "\u001b[0;32m<ipython-input-21-f789b5ae1202>\u001b[0m in \u001b[0;36m<module>\u001b[0;34m\u001b[0m\n\u001b[1;32m     25\u001b[0m \u001b[0;34m\u001b[0m\u001b[0m\n\u001b[1;32m     26\u001b[0m model = tf.estimator.LinearRegressor(\n\u001b[0;32m---> 27\u001b[0;31m     \u001b[0mfeature_columns\u001b[0m \u001b[0;34m=\u001b[0m \u001b[0mfeature_columns\u001b[0m\u001b[0;34m,\u001b[0m\u001b[0;34m\u001b[0m\u001b[0m\n\u001b[0m\u001b[1;32m     28\u001b[0m     \u001b[0mmodel_dir\u001b[0m \u001b[0;34m=\u001b[0m \u001b[0mOUTDIR\u001b[0m\u001b[0;34m,\u001b[0m\u001b[0;34m\u001b[0m\u001b[0m\n\u001b[1;32m     29\u001b[0m     \u001b[0mconfig\u001b[0m \u001b[0;34m=\u001b[0m \u001b[0mtf\u001b[0m\u001b[0;34m.\u001b[0m\u001b[0mestimator\u001b[0m\u001b[0;34m.\u001b[0m\u001b[0mRunConfig\u001b[0m\u001b[0;34m(\u001b[0m\u001b[0mtf_random_seed\u001b[0m \u001b[0;34m=\u001b[0m \u001b[0;36m1\u001b[0m\u001b[0;34m)\u001b[0m \u001b[0;31m# for reproducibility\u001b[0m\u001b[0;34m\u001b[0m\u001b[0m\n",
      "\u001b[0;31mNameError\u001b[0m: name 'feature_columns' is not defined"
     ]
    }
   ],
   "source": [
    "def train_and_evaluate_LinearRegressor(output_dir):\n",
    "    feature_columns, wide, deep = get_feature_cols()\n",
    "        \n",
    "    run_config = tf.estimator.RunConfig(tf_random_seed = 1)\n",
    "    \n",
    "    estimator = tf.estimator.LinearRegressor(\n",
    "        feature_columns = feature_columns,\n",
    "        model_dir = OUTDIR,\n",
    "        config = run_config)\n",
    "    \n",
    "    train_spec = tf.estimator.TrainSpec(\n",
    "        input_fn = read_dataset(\"train.csv\", mode = tf.estimator.ModeKeys.TRAIN),\n",
    "        max_steps = TRAIN_STEPS)\n",
    "    \n",
    "    exporter = tf.estimator.LatestExporter(name = \"exporter\", serving_input_receiver_fn = serving_input_fn)\n",
    "    \n",
    "    eval_spec = tf.estimator.EvalSpec(\n",
    "        input_fn = read_dataset(\"eval.csv\", mode = tf.estimator.ModeKeys.EVAL),\n",
    "        steps = None,\n",
    "        start_delay_secs = 60, # start evaluating after N seconds\n",
    "        throttle_secs = EVAL_INTERVAL,  # evaluate every N seconds\n",
    "        exporters = exporter)\n",
    "    \n",
    "    tf.estimator.train_and_evaluate(estimator, train_spec, eval_spec)\n",
    "\n",
    "model = tf.estimator.LinearRegressor(\n",
    "    feature_columns = feature_columns,\n",
    "    model_dir = OUTDIR,\n",
    "    config = tf.estimator.RunConfig(tf_random_seed = 1) # for reproducibility\n",
    ")"
   ]
  },
  {
   "cell_type": "code",
   "execution_count": null,
   "metadata": {},
   "outputs": [],
   "source": [
    "train_and_evaluate_LinearRegressor(\"babyweight_trained_LinearRegressor\")"
   ]
  }
 ],
 "metadata": {
  "kernelspec": {
   "display_name": "Python 3",
   "language": "python",
   "name": "python3"
  },
  "language_info": {
   "codemirror_mode": {
    "name": "ipython",
    "version": 3
   },
   "file_extension": ".py",
   "mimetype": "text/x-python",
   "name": "python",
   "nbconvert_exporter": "python",
   "pygments_lexer": "ipython3",
   "version": "3.5.3"
  }
 },
 "nbformat": 4,
 "nbformat_minor": 4
}
