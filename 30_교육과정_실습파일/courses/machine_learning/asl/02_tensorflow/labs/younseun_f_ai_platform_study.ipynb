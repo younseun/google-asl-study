{
 "cells": [
  {
   "cell_type": "code",
   "execution_count": 34,
   "metadata": {},
   "outputs": [
    {
     "name": "stdout",
     "output_type": "stream",
     "text": [
      "Overwriting younseun_input/train_data.csv\n"
     ]
    }
   ],
   "source": [
    "%%writefile younseun_input/train_data.csv\n",
    "country,age,sex,height\n",
    "kr,10,boy,120.0\n",
    "kr,10,girl,110.0\n",
    "kr,13,boy,150.0\n",
    "kr,13,girl,140.0\n",
    "kr,16,boy,170.0\n",
    "kr,16,girl,155.0\n",
    "kr,19,boy,180.0\n",
    "kr,19,girl,165.0\n",
    "kr,22,boy,182.0\n",
    "kr,22,girl,167.0\n",
    "ca,10,boy,122.0\n",
    "ca,10,girl,113.0\n",
    "ca,13,boy,153.0\n",
    "ca,13,girl,143.0\n",
    "ca,16,boy,173.0\n",
    "ca,16,girl,157.0\n",
    "ca,19,boy,182.0\n",
    "ca,19,girl,165.0\n",
    "ca,22,boy,185.0\n",
    "ca,22,girl,169.0"
   ]
  },
  {
   "cell_type": "code",
   "execution_count": 2,
   "metadata": {},
   "outputs": [
    {
     "name": "stdout",
     "output_type": "stream",
     "text": [
      "1.15.0\n"
     ]
    }
   ],
   "source": [
    "import tensorflow as tf\n",
    "import pandas as pd\n",
    "import numpy as np\n",
    "import shutil\n",
    "print(tf.__version__)\n"
   ]
  },
  {
   "cell_type": "code",
   "execution_count": 47,
   "metadata": {},
   "outputs": [
    {
     "data": {
      "text/plain": [
       "(['country', 'age', 'sex', 'height'], [['z1'], [10], ['none'], [150.0]])"
      ]
     },
     "execution_count": 47,
     "metadata": {},
     "output_type": "execute_result"
    }
   ],
   "source": [
    "CSV_COLUMN_NAMES = [\"country\",\"age\",\"sex\",\"height\"]\n",
    "CSV_DEFAULTS = [['z1'],[10],['none'],[150.0]]\n",
    "CSV_COLUMN_NAMES,CSV_DEFAULTS"
   ]
  },
  {
   "cell_type": "code",
   "execution_count": 48,
   "metadata": {},
   "outputs": [],
   "source": [
    "def parse_row(row):\n",
    "    fields = tf.decode_csv(records = row, record_defaults = CSV_DEFAULTS)\n",
    "    features = dict(zip(CSV_COLUMN_NAMES, fields))\n",
    "    label = features.pop(\"height\")\n",
    "    return features, label"
   ]
  },
  {
   "cell_type": "code",
   "execution_count": 49,
   "metadata": {},
   "outputs": [],
   "source": [
    "def read_dataset(csv_path):\n",
    "    dataset = tf.data.TextLineDataset(filenames = csv_path).skip(count = 1) # skip header\n",
    "    dataset = dataset.map(map_func = parse_row)\n",
    "    return dataset"
   ]
  },
  {
   "cell_type": "code",
   "execution_count": 50,
   "metadata": {},
   "outputs": [],
   "source": [
    "def train_input_fn(csv_path, batch_size = 3):\n",
    "    dataset = read_dataset(csv_path)\n",
    "    dataset = dataset.shuffle(buffer_size = 10).repeat(count = None).batch(batch_size = batch_size)\n",
    "    print(dataset)\n",
    "    return dataset"
   ]
  },
  {
   "cell_type": "code",
   "execution_count": 51,
   "metadata": {},
   "outputs": [],
   "source": [
    "def eval_input_fn(csv_path, batch_size = 3):\n",
    "    dataset = read_dataset(csv_path)\n",
    "    dataset = dataset.batch(batch_size = batch_size)\n",
    "    return dataset"
   ]
  },
  {
   "cell_type": "code",
   "execution_count": 52,
   "metadata": {},
   "outputs": [
    {
     "data": {
      "text/plain": [
       "[IndicatorColumn(categorical_column=VocabularyListCategoricalColumn(key='country', vocabulary_list=('kr', 'ca'), dtype=tf.string, default_value=-1, num_oov_buckets=0)),\n",
       " NumericColumn(key='age', shape=(1,), default_value=None, dtype=tf.float32, normalizer_fn=None),\n",
       " IndicatorColumn(categorical_column=VocabularyListCategoricalColumn(key='sex', vocabulary_list=('man', 'woman'), dtype=tf.string, default_value=-1, num_oov_buckets=0))]"
      ]
     },
     "execution_count": 52,
     "metadata": {},
     "output_type": "execute_result"
    }
   ],
   "source": [
    "FEATURE_NAMES = CSV_COLUMN_NAMES[:-1] # all but first column\n",
    "categorical_country = tf.feature_column.categorical_column_with_vocabulary_list(key = 'country',\n",
    "                                                       vocabulary_list = ['kr','ca']) \n",
    "categorical_sex = tf.feature_column.categorical_column_with_vocabulary_list(key = 'sex',\n",
    "                                                       vocabulary_list = ['man','woman']) \n",
    "feature_cols = [\n",
    "                tf.feature_column.indicator_column(categorical_country),\n",
    "                tf.feature_column.numeric_column(key = 'age') ,\n",
    "                tf.feature_column.indicator_column(categorical_sex),\n",
    "                ]\n",
    "feature_cols"
   ]
  },
  {
   "cell_type": "code",
   "execution_count": 53,
   "metadata": {},
   "outputs": [
    {
     "data": {
      "text/html": [
       "<div>\n",
       "<style scoped>\n",
       "    .dataframe tbody tr th:only-of-type {\n",
       "        vertical-align: middle;\n",
       "    }\n",
       "\n",
       "    .dataframe tbody tr th {\n",
       "        vertical-align: top;\n",
       "    }\n",
       "\n",
       "    .dataframe thead th {\n",
       "        text-align: right;\n",
       "    }\n",
       "</style>\n",
       "<table border=\"1\" class=\"dataframe\">\n",
       "  <thead>\n",
       "    <tr style=\"text-align: right;\">\n",
       "      <th></th>\n",
       "      <th>country</th>\n",
       "      <th>age</th>\n",
       "      <th>sex</th>\n",
       "      <th>height</th>\n",
       "    </tr>\n",
       "  </thead>\n",
       "  <tbody>\n",
       "    <tr>\n",
       "      <th>0</th>\n",
       "      <td>kr</td>\n",
       "      <td>10</td>\n",
       "      <td>boy</td>\n",
       "      <td>120.0</td>\n",
       "    </tr>\n",
       "    <tr>\n",
       "      <th>1</th>\n",
       "      <td>kr</td>\n",
       "      <td>10</td>\n",
       "      <td>girl</td>\n",
       "      <td>110.0</td>\n",
       "    </tr>\n",
       "    <tr>\n",
       "      <th>2</th>\n",
       "      <td>kr</td>\n",
       "      <td>13</td>\n",
       "      <td>boy</td>\n",
       "      <td>150.0</td>\n",
       "    </tr>\n",
       "    <tr>\n",
       "      <th>3</th>\n",
       "      <td>kr</td>\n",
       "      <td>13</td>\n",
       "      <td>girl</td>\n",
       "      <td>140.0</td>\n",
       "    </tr>\n",
       "    <tr>\n",
       "      <th>4</th>\n",
       "      <td>kr</td>\n",
       "      <td>16</td>\n",
       "      <td>boy</td>\n",
       "      <td>170.0</td>\n",
       "    </tr>\n",
       "    <tr>\n",
       "      <th>5</th>\n",
       "      <td>kr</td>\n",
       "      <td>16</td>\n",
       "      <td>girl</td>\n",
       "      <td>155.0</td>\n",
       "    </tr>\n",
       "    <tr>\n",
       "      <th>6</th>\n",
       "      <td>kr</td>\n",
       "      <td>19</td>\n",
       "      <td>boy</td>\n",
       "      <td>180.0</td>\n",
       "    </tr>\n",
       "    <tr>\n",
       "      <th>7</th>\n",
       "      <td>kr</td>\n",
       "      <td>19</td>\n",
       "      <td>girl</td>\n",
       "      <td>165.0</td>\n",
       "    </tr>\n",
       "    <tr>\n",
       "      <th>8</th>\n",
       "      <td>kr</td>\n",
       "      <td>22</td>\n",
       "      <td>boy</td>\n",
       "      <td>182.0</td>\n",
       "    </tr>\n",
       "    <tr>\n",
       "      <th>9</th>\n",
       "      <td>kr</td>\n",
       "      <td>22</td>\n",
       "      <td>girl</td>\n",
       "      <td>167.0</td>\n",
       "    </tr>\n",
       "    <tr>\n",
       "      <th>10</th>\n",
       "      <td>ca</td>\n",
       "      <td>10</td>\n",
       "      <td>boy</td>\n",
       "      <td>122.0</td>\n",
       "    </tr>\n",
       "    <tr>\n",
       "      <th>11</th>\n",
       "      <td>ca</td>\n",
       "      <td>10</td>\n",
       "      <td>girl</td>\n",
       "      <td>113.0</td>\n",
       "    </tr>\n",
       "    <tr>\n",
       "      <th>12</th>\n",
       "      <td>ca</td>\n",
       "      <td>13</td>\n",
       "      <td>boy</td>\n",
       "      <td>153.0</td>\n",
       "    </tr>\n",
       "    <tr>\n",
       "      <th>13</th>\n",
       "      <td>ca</td>\n",
       "      <td>13</td>\n",
       "      <td>girl</td>\n",
       "      <td>143.0</td>\n",
       "    </tr>\n",
       "    <tr>\n",
       "      <th>14</th>\n",
       "      <td>ca</td>\n",
       "      <td>16</td>\n",
       "      <td>boy</td>\n",
       "      <td>173.0</td>\n",
       "    </tr>\n",
       "    <tr>\n",
       "      <th>15</th>\n",
       "      <td>ca</td>\n",
       "      <td>16</td>\n",
       "      <td>girl</td>\n",
       "      <td>157.0</td>\n",
       "    </tr>\n",
       "    <tr>\n",
       "      <th>16</th>\n",
       "      <td>ca</td>\n",
       "      <td>19</td>\n",
       "      <td>boy</td>\n",
       "      <td>182.0</td>\n",
       "    </tr>\n",
       "    <tr>\n",
       "      <th>17</th>\n",
       "      <td>ca</td>\n",
       "      <td>19</td>\n",
       "      <td>girl</td>\n",
       "      <td>165.0</td>\n",
       "    </tr>\n",
       "    <tr>\n",
       "      <th>18</th>\n",
       "      <td>ca</td>\n",
       "      <td>22</td>\n",
       "      <td>boy</td>\n",
       "      <td>185.0</td>\n",
       "    </tr>\n",
       "    <tr>\n",
       "      <th>19</th>\n",
       "      <td>ca</td>\n",
       "      <td>22</td>\n",
       "      <td>girl</td>\n",
       "      <td>169.0</td>\n",
       "    </tr>\n",
       "  </tbody>\n",
       "</table>\n",
       "</div>"
      ],
      "text/plain": [
       "   country  age   sex  height\n",
       "0       kr   10   boy   120.0\n",
       "1       kr   10  girl   110.0\n",
       "2       kr   13   boy   150.0\n",
       "3       kr   13  girl   140.0\n",
       "4       kr   16   boy   170.0\n",
       "5       kr   16  girl   155.0\n",
       "6       kr   19   boy   180.0\n",
       "7       kr   19  girl   165.0\n",
       "8       kr   22   boy   182.0\n",
       "9       kr   22  girl   167.0\n",
       "10      ca   10   boy   122.0\n",
       "11      ca   10  girl   113.0\n",
       "12      ca   13   boy   153.0\n",
       "13      ca   13  girl   143.0\n",
       "14      ca   16   boy   173.0\n",
       "15      ca   16  girl   157.0\n",
       "16      ca   19   boy   182.0\n",
       "17      ca   19  girl   165.0\n",
       "18      ca   22   boy   185.0\n",
       "19      ca   22  girl   169.0"
      ]
     },
     "execution_count": 53,
     "metadata": {},
     "output_type": "execute_result"
    }
   ],
   "source": [
    "# Data 확인\n",
    "df_train = pd.read_csv(filepath_or_buffer = \"./younseun_input/train_data.csv\")\n",
    "df_train"
   ]
  },
  {
   "cell_type": "code",
   "execution_count": 61,
   "metadata": {},
   "outputs": [],
   "source": [
    "def serving_input_receiver_fn():\n",
    "    receiver_tensors = {'country':tf.placeholder(dtype = tf.string,shape=[None]),\n",
    "                        'age'    :tf.placeholder(dtype = tf.float32,shape=[None]),\n",
    "                        'sex'    :tf.placeholder(dtype = tf.string,shape=[None]),\n",
    "                        }\n",
    "    features = receiver_tensors\n",
    "    return tf.estimator.export.ServingInputReceiver(features = features, receiver_tensors = receiver_tensors)\n"
   ]
  },
  {
   "cell_type": "code",
   "execution_count": 62,
   "metadata": {},
   "outputs": [],
   "source": [
    "OUTDIR = \"younseun_trained\"\n",
    "\n",
    "config = tf.estimator.RunConfig(\n",
    "    model_dir=OUTDIR,\n",
    "    save_summary_steps=100,\n",
    "    save_checkpoints_steps=2000\n",
    ")"
   ]
  },
  {
   "cell_type": "code",
   "execution_count": 63,
   "metadata": {},
   "outputs": [
    {
     "name": "stdout",
     "output_type": "stream",
     "text": [
      "INFO:tensorflow:Using config: {'_evaluation_master': '', '_keep_checkpoint_max': 5, '_num_worker_replicas': 1, '_save_summary_steps': 100, '_cluster_spec': <tensorflow.python.training.server_lib.ClusterSpec object at 0x7f7950039908>, '_protocol': None, '_log_step_count_steps': 100, '_is_chief': True, '_experimental_max_worker_delay_secs': None, '_session_config': allow_soft_placement: true\n",
      "graph_options {\n",
      "  rewrite_options {\n",
      "    meta_optimizer_iterations: ONE\n",
      "  }\n",
      "}\n",
      ", '_session_creation_timeout_secs': 7200, '_task_id': 0, '_master': '', '_eval_distribute': None, '_task_type': 'worker', '_experimental_distribute': None, '_train_distribute': None, '_global_id_in_cluster': 0, '_save_checkpoints_secs': None, '_save_checkpoints_steps': 2000, '_keep_checkpoint_every_n_hours': 10000, '_tf_random_seed': None, '_device_fn': None, '_service': None, '_model_dir': 'younseun_trained', '_num_ps_replicas': 0}\n"
     ]
    }
   ],
   "source": [
    "myopt = tf.train.AdamOptimizer(learning_rate=0.01)\n",
    "model = tf.estimator.DNNRegressor(model_dir=OUTDIR,\n",
    "                                  hidden_units=[10, 10],\n",
    "                                  feature_columns=feature_cols,\n",
    "                                  activation_fn=tf.nn.relu,\n",
    "                                  optimizer=myopt,\n",
    "                                  config = config)"
   ]
  },
  {
   "cell_type": "code",
   "execution_count": 64,
   "metadata": {},
   "outputs": [],
   "source": [
    "train_spec = tf.estimator.TrainSpec(\n",
    "    input_fn = lambda: train_input_fn('./younseun_input/train_data.csv'),\n",
    "    max_steps = 500\n",
    ")"
   ]
  },
  {
   "cell_type": "code",
   "execution_count": 65,
   "metadata": {},
   "outputs": [],
   "source": [
    "exporter = tf.estimator.FinalExporter('./exporter', serving_input_receiver_fn=serving_input_receiver_fn)"
   ]
  },
  {
   "cell_type": "code",
   "execution_count": 66,
   "metadata": {},
   "outputs": [],
   "source": [
    "eval_spec = tf.estimator.EvalSpec(\n",
    "    input_fn = lambda: eval_input_fn(\"./younseun_input/train_data.csv\"),\n",
    "    steps = None,\n",
    "    start_delay_secs = 1,\n",
    "    throttle_secs = 1,\n",
    "    exporters = exporter,\n",
    ")"
   ]
  },
  {
   "cell_type": "code",
   "execution_count": 67,
   "metadata": {},
   "outputs": [
    {
     "name": "stdout",
     "output_type": "stream",
     "text": [
      "INFO:tensorflow:Not using Distribute Coordinator.\n",
      "INFO:tensorflow:Running training and evaluation locally (non-distributed).\n",
      "INFO:tensorflow:Start train and evaluate loop. The evaluate will happen after every checkpoint. Checkpoint frequency is determined based on RunConfig arguments: save_checkpoints_steps 2000 or save_checkpoints_secs None.\n",
      "<DatasetV1Adapter shapes: ({sex: (?,), country: (?,), age: (?,)}, (?,)), types: ({sex: tf.string, country: tf.string, age: tf.int32}, tf.float32)>\n",
      "INFO:tensorflow:Calling model_fn.\n",
      "INFO:tensorflow:Done calling model_fn.\n",
      "INFO:tensorflow:Create CheckpointSaverHook.\n",
      "INFO:tensorflow:Graph was finalized.\n",
      "INFO:tensorflow:Running local_init_op.\n",
      "INFO:tensorflow:Done running local_init_op.\n",
      "INFO:tensorflow:Saving checkpoints for 0 into younseun_trained/model.ckpt.\n",
      "INFO:tensorflow:loss = 74103.375, step = 0\n",
      "INFO:tensorflow:global_step/sec: 240.686\n",
      "INFO:tensorflow:loss = 953.4709, step = 100 (0.419 sec)\n",
      "INFO:tensorflow:global_step/sec: 286.971\n",
      "INFO:tensorflow:loss = 773.0206, step = 200 (0.347 sec)\n",
      "INFO:tensorflow:global_step/sec: 290.727\n",
      "INFO:tensorflow:loss = 1602.652, step = 300 (0.345 sec)\n",
      "INFO:tensorflow:global_step/sec: 293.15\n",
      "INFO:tensorflow:loss = 1092.6488, step = 400 (0.340 sec)\n",
      "INFO:tensorflow:Saving checkpoints for 500 into younseun_trained/model.ckpt.\n",
      "INFO:tensorflow:Calling model_fn.\n",
      "INFO:tensorflow:Done calling model_fn.\n",
      "INFO:tensorflow:Starting evaluation at 2019-11-25T15:26:07Z\n",
      "INFO:tensorflow:Graph was finalized.\n",
      "INFO:tensorflow:Restoring parameters from younseun_trained/model.ckpt-500\n",
      "INFO:tensorflow:Running local_init_op.\n",
      "INFO:tensorflow:Done running local_init_op.\n",
      "INFO:tensorflow:Finished evaluation at 2019-11-25-15:26:08\n",
      "INFO:tensorflow:Saving dict for global step 500: average_loss = 266.36395, global_step = 500, label/mean = 155.05, loss = 761.0399, prediction/mean = 150.28204\n",
      "INFO:tensorflow:Saving 'checkpoint_path' summary for global step 500: younseun_trained/model.ckpt-500\n",
      "INFO:tensorflow:Performing the final export in the end of training.\n",
      "INFO:tensorflow:Calling model_fn.\n",
      "INFO:tensorflow:Done calling model_fn.\n",
      "WARNING:tensorflow:From /usr/local/lib/python3.5/dist-packages/tensorflow_core/python/saved_model/signature_def_utils_impl.py:201: build_tensor_info (from tensorflow.python.saved_model.utils_impl) is deprecated and will be removed in a future version.\n",
      "Instructions for updating:\n",
      "This function will only be available through the v1 compatibility library as tf.compat.v1.saved_model.utils.build_tensor_info or tf.compat.v1.saved_model.build_tensor_info.\n",
      "INFO:tensorflow:Signatures INCLUDED in export for Eval: None\n",
      "INFO:tensorflow:Signatures INCLUDED in export for Regress: None\n",
      "INFO:tensorflow:Signatures INCLUDED in export for Predict: ['predict']\n",
      "INFO:tensorflow:Signatures INCLUDED in export for Classify: None\n",
      "INFO:tensorflow:Signatures INCLUDED in export for Train: None\n",
      "INFO:tensorflow:Signatures EXCLUDED from export because they cannot be be served via TensorFlow Serving APIs:\n",
      "INFO:tensorflow:'serving_default' : Regression input must be a single string Tensor; got {'sex': <tf.Tensor 'Placeholder_2:0' shape=(?,) dtype=string>, 'country': <tf.Tensor 'Placeholder:0' shape=(?,) dtype=string>, 'age': <tf.Tensor 'Placeholder_1:0' shape=(?,) dtype=float32>}\n",
      "INFO:tensorflow:'regression' : Regression input must be a single string Tensor; got {'sex': <tf.Tensor 'Placeholder_2:0' shape=(?,) dtype=string>, 'country': <tf.Tensor 'Placeholder:0' shape=(?,) dtype=string>, 'age': <tf.Tensor 'Placeholder_1:0' shape=(?,) dtype=float32>}\n",
      "WARNING:tensorflow:Export includes no default signature!\n",
      "INFO:tensorflow:Restoring parameters from younseun_trained/model.ckpt-500\n",
      "INFO:tensorflow:Assets added to graph.\n",
      "INFO:tensorflow:No assets to write.\n",
      "INFO:tensorflow:SavedModel written to: younseun_trained/export/./exporter/temp-b'1574695568'/saved_model.pb\n",
      "INFO:tensorflow:Loss for final step: 768.5165.\n"
     ]
    },
    {
     "data": {
      "text/plain": [
       "({'average_loss': 266.36395,\n",
       "  'global_step': 500,\n",
       "  'label/mean': 155.05,\n",
       "  'loss': 761.0399,\n",
       "  'prediction/mean': 150.28204},\n",
       " [b'younseun_trained/export/./exporter/1574695568'])"
      ]
     },
     "execution_count": 67,
     "metadata": {},
     "output_type": "execute_result"
    }
   ],
   "source": [
    "tf.logging.set_verbosity(tf.logging.INFO) \n",
    "shutil.rmtree(path = OUTDIR, ignore_errors = True)\n",
    "tf.summary.FileWriterCache.clear() # ensure filewriter cache is clear for TensorBoard events file\n",
    "\n",
    "tf.estimator.train_and_evaluate(estimator = model, \n",
    "                                train_spec = train_spec, \n",
    "                                eval_spec = eval_spec)"
   ]
  },
  {
   "cell_type": "code",
   "execution_count": null,
   "metadata": {},
   "outputs": [],
   "source": []
  },
  {
   "cell_type": "code",
   "execution_count": null,
   "metadata": {},
   "outputs": [],
   "source": []
  }
 ],
 "metadata": {
  "kernelspec": {
   "display_name": "Python 3",
   "language": "python",
   "name": "python3"
  },
  "language_info": {
   "codemirror_mode": {
    "name": "ipython",
    "version": 3
   },
   "file_extension": ".py",
   "mimetype": "text/x-python",
   "name": "python",
   "nbconvert_exporter": "python",
   "pygments_lexer": "ipython3",
   "version": "3.5.3"
  }
 },
 "nbformat": 4,
 "nbformat_minor": 4
}
