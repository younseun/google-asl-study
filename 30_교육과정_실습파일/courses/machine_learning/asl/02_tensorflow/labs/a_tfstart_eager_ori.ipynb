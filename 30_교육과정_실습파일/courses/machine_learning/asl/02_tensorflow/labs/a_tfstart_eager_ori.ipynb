{
 "cells": [
  {
   "cell_type": "markdown",
   "metadata": {},
   "source": [
    "# Getting started with TensorFlow (Eager Mode)\n",
    "\n",
    "**Learning Objectives**\n",
    "  - Understand difference between Tensorflow's two modes: Eager Execution and Graph Execution\n",
    "  - Practice defining and performing basic operations on constant Tensors\n",
    "  - Use Tensorflow's automatic differentiation capability\n",
    "\n",
    "## Introduction\n",
    "**Eager Execution**\n",
    "\n",
    "Eager mode evaluates operations immediatley and return concrete values immediately. To enable eager mode simply place `tf.enable_eager_execution()` at the top of your code. We recommend using eager execution when prototyping as it is intuitive, easier to debug, and requires less boilerplate code.\n",
    "\n",
    "**Graph Execution**\n",
    "\n",
    "Graph mode is TensorFlow's default execution mode (although it will change to eager with TF 2.0). In graph mode operations only produce a symbolic graph which doesn't get executed until run within the context of a tf.Session(). This style of coding is less inutitive and has more boilerplate, however it can lead to performance optimizations and is particularly suited for distributing training across multiple devices. We recommend using delayed execution for performance sensitive production code. "
   ]
  },
  {
   "cell_type": "code",
   "execution_count": 1,
   "metadata": {},
   "outputs": [
    {
     "name": "stdout",
     "output_type": "stream",
     "text": [
      "1.15.0\n"
     ]
    }
   ],
   "source": [
    "import tensorflow as tf\n",
    "print(tf.__version__)"
   ]
  },
  {
   "cell_type": "markdown",
   "metadata": {},
   "source": [
    "## Eager Execution"
   ]
  },
  {
   "cell_type": "code",
   "execution_count": 2,
   "metadata": {},
   "outputs": [],
   "source": [
    "tf.enable_eager_execution() "
   ]
  },
  {
   "cell_type": "markdown",
   "metadata": {},
   "source": [
    "### Adding Two Tensors \n",
    "\n",
    "The value of the tensor, as well as its shape and data type are printed"
   ]
  },
  {
   "cell_type": "code",
   "execution_count": 3,
   "metadata": {},
   "outputs": [
    {
     "name": "stdout",
     "output_type": "stream",
     "text": [
      "tf.Tensor([ 8  2 10], shape=(3,), dtype=int32)\n"
     ]
    }
   ],
   "source": [
    "a = tf.constant(value = [5, 3, 8], dtype = tf.int32)\n",
    "b = tf.constant(value = [3, -1, 2], dtype = tf.int32)\n",
    "c = tf.add(x = a, y = b)\n",
    "print(c)"
   ]
  },
  {
   "cell_type": "markdown",
   "metadata": {},
   "source": [
    "#### Overloaded Operators\n",
    "We can also perform a `tf.add()` using the `+` operator. The `/,-,*` and `**` operators are similarly overloaded with the appropriate tensorflow operation."
   ]
  },
  {
   "cell_type": "code",
   "execution_count": 4,
   "metadata": {},
   "outputs": [
    {
     "name": "stdout",
     "output_type": "stream",
     "text": [
      "tf.Tensor([ 8  2 10], shape=(3,), dtype=int32)\n"
     ]
    }
   ],
   "source": [
    "c = a + b # this is equivalent to tf.add(a,b)\n",
    "print(c)"
   ]
  },
  {
   "cell_type": "markdown",
   "metadata": {},
   "source": [
    "### NumPy Interoperability\n",
    "\n",
    "In addition to native TF tensors, tensorflow operations can take native python types and NumPy arrays as operands. "
   ]
  },
  {
   "cell_type": "code",
   "execution_count": 5,
   "metadata": {},
   "outputs": [
    {
     "name": "stdout",
     "output_type": "stream",
     "text": [
      "Type: <class 'tensorflow.python.framework.ops.EagerTensor'>, Value: [4 6]\n",
      "Type: <class 'tensorflow.python.framework.ops.EagerTensor'>, Value: [4 6]\n",
      "Type: <class 'tensorflow.python.framework.ops.EagerTensor'>, Value: [4 6]\n"
     ]
    }
   ],
   "source": [
    "import numpy as np \n",
    "\n",
    "a_py = [1,2] # native python list\n",
    "b_py = [3,4] # native python list\n",
    "\n",
    "a_np = np.array(object = [1,2]) # numpy array\n",
    "b_np = np.array(object = [3,4]) # numpy array\n",
    "\n",
    "a_tf = tf.constant(value = [1,2], dtype = tf.int32) # native TF tensor\n",
    "b_tf = tf.constant(value = [3,4], dtype = tf.int32) # native TF tensor\n",
    "\n",
    "for result in [tf.add(x = a_py, y = b_py), tf.add(x = a_np, y = b_np), tf.add(x = a_tf, y = b_tf)]:\n",
    "    print(\"Type: {}, Value: {}\".format(type(result), result))"
   ]
  },
  {
   "cell_type": "markdown",
   "metadata": {},
   "source": [
    "You can convert a native TF tensor to a NumPy array using .numpy()"
   ]
  },
  {
   "cell_type": "code",
   "execution_count": 6,
   "metadata": {},
   "outputs": [
    {
     "data": {
      "text/plain": [
       "array([1, 2], dtype=int32)"
      ]
     },
     "execution_count": 6,
     "metadata": {},
     "output_type": "execute_result"
    }
   ],
   "source": [
    "a_tf.numpy()"
   ]
  },
  {
   "cell_type": "markdown",
   "metadata": {},
   "source": [
    "### Linear Regression\n",
    "\n",
    "Now let's use low level tensorflow operations to implement linear regression.\n",
    "\n",
    "Later in the course you'll see abstracted ways to do this using high level TensorFlow."
   ]
  },
  {
   "cell_type": "markdown",
   "metadata": {},
   "source": [
    "#### Toy Dataset\n",
    "\n",
    "We'll model the following function:\n",
    "\n",
    "\\begin{equation}\n",
    "y= 2x + 10\n",
    "\\end{equation}"
   ]
  },
  {
   "cell_type": "code",
   "execution_count": 7,
   "metadata": {},
   "outputs": [
    {
     "name": "stdout",
     "output_type": "stream",
     "text": [
      "X:[ 1.  2.  3.  4.  5.  6.  7.  8.  9. 10.]\n",
      "Y:[12. 14. 16. 18. 20. 22. 24. 26. 28. 30.]\n"
     ]
    }
   ],
   "source": [
    "X = tf.constant(value = [1,2,3,4,5,6,7,8,9,10], dtype = tf.float32)\n",
    "Y = 2 * X + 10\n",
    "print(\"X:{}\".format(X))\n",
    "print(\"Y:{}\".format(Y))"
   ]
  },
  {
   "cell_type": "markdown",
   "metadata": {},
   "source": [
    "#### Loss Function\n",
    "\n",
    "Using mean squared error, our loss function is:\n",
    "\\begin{equation}\n",
    "MSE = \\frac{1}{m}\\sum_{i=1}^{m}(\\hat{Y}_i-Y_i)^2\n",
    "\\end{equation}\n",
    "\n",
    "$\\hat{Y}$ represents the vector containing our model's predictions:\n",
    "\\begin{equation}\n",
    "\\hat{Y} = w_oX + w_1\n",
    "\\end{equation}"
   ]
  },
  {
   "cell_type": "markdown",
   "metadata": {},
   "source": [
    "#### **Exercise 1**\n",
    "\n",
    "The function `loss_mse` below takes four arguments: the tensors $X$, $Y$ and the weights $w_0$ and $w_1$. Complete the function below to compute the Mean Square Error (MSE). Hint: [check out](https://www.tensorflow.org/api_docs/python/tf/math/reduce_mean) the `tf.reduce_mean` function."
   ]
  },
  {
   "cell_type": "code",
   "execution_count": 16,
   "metadata": {},
   "outputs": [],
   "source": [
    "def loss_mse(X, Y, w0, w1):\n",
    "    # TODO: Your code goes here\n",
    "    Y_hat =(w0 * X + w1)\n",
    "    return tf.reduce_mean((Y_hat - Y)**2)"
   ]
  },
  {
   "cell_type": "markdown",
   "metadata": {},
   "source": [
    "#### Gradient Function\n",
    "\n",
    "To use gradient descent we need to take the partial derivative of the loss function with respect to each of the weights. We could manually compute the derivatives, but with Tensorflow's automatic differentiation capabilities we don't have to!\n",
    "\n",
    "During gradient descent we think of the loss as a function of the parameters $w_0$ and $w_1$. Thus, we want to compute the partial derivative with respect to these variables. The `params=[2,3]` argument tells TensorFlow to only compute derivatives with respect to the 2nd and 3rd arguments to the loss function (counting from 0, so really the 3rd and 4th)."
   ]
  },
  {
   "cell_type": "code",
   "execution_count": 17,
   "metadata": {},
   "outputs": [],
   "source": [
    "# Counting from 0, the 2nd and 3rd parameter to the loss function are our weights\n",
    "grad_f = tf.contrib.eager.gradients_function(f = loss_mse, params = [2, 3])"
   ]
  },
  {
   "cell_type": "markdown",
   "metadata": {},
   "source": [
    "#### Training Loop\n",
    "\n",
    "Here we have a very simple training loop that converges. Note we are ignoring best practices like batching, creating a separate test set, and random weight initialization for the sake of simplicity.\n",
    "\n",
    "#### **Exercise 2**\n",
    "\n",
    "Complete the code to update the parameters $w_0$ and $w_1$ according to the gradients `d_w0` and `d_w1` and the specified learning rate."
   ]
  },
  {
   "cell_type": "code",
   "execution_count": 18,
   "metadata": {},
   "outputs": [
    {
     "name": "stdout",
     "output_type": "stream",
     "text": [
      "STEP: 0 MSE: 167.6111602783203\n",
      "STEP: 100 MSE: 3.5321757793426514\n",
      "STEP: 200 MSE: 0.6537718176841736\n",
      "STEP: 300 MSE: 0.12100745737552643\n",
      "STEP: 400 MSE: 0.022397063672542572\n",
      "STEP: 500 MSE: 0.004145539831370115\n",
      "STEP: 600 MSE: 0.0007674093940295279\n",
      "STEP: 700 MSE: 0.00014202017337083817\n",
      "STEP: 800 MSE: 2.628635775181465e-05\n",
      "STEP: 900 MSE: 4.86889211970265e-06\n",
      "STEP: 1000 MSE: 9.178326081382693e-07\n",
      "w0:2.0003\n",
      "w1:9.9979\n"
     ]
    }
   ],
   "source": [
    "STEPS = 1000\n",
    "LEARNING_RATE = .02\n",
    "\n",
    "# Initialize weights\n",
    "w0 = tf.constant(value = 0.0, dtype = tf.float32)\n",
    "w1 = tf.constant(value = 0.0, dtype = tf.float32)\n",
    "\n",
    "for step in range(STEPS):\n",
    "    #1. Calculate gradients\n",
    "    d_w0, d_w1 = grad_f(X, Y, w0, w1) # derivatives calculated by tensorflow!\n",
    "\n",
    "    #2. Update weights\n",
    "    w0 = w0 - LEARNING_RATE * d_w0  # TODO: Your code goes here\n",
    "    w1 = w1 - LEARNING_RATE * d_w1  # TODO: Your code goes here\n",
    "\n",
    "    #3. Periodically print MSE\n",
    "    if step % 100 == 0:\n",
    "        print(\"STEP: {} MSE: {}\".format(step,loss_mse(X, Y, w0, w1)))\n",
    "\n",
    "# Print final MSE and weights\n",
    "print(\"STEP: {} MSE: {}\".format(STEPS,loss_mse(X, Y, w0, w1)))\n",
    "print(\"w0:{}\".format(round(float(w0), 4)))\n",
    "print(\"w1:{}\".format(round(float(w1), 4)))"
   ]
  },
  {
   "cell_type": "markdown",
   "metadata": {},
   "source": [
    "## Bonus"
   ]
  },
  {
   "cell_type": "markdown",
   "metadata": {},
   "source": [
    "Try modelling a non-linear function such as: $y=xe^{-x^2}$\n",
    "\n",
    "Hint: Creating more training data will help. Also, you will need to build non-linear features."
   ]
  },
  {
   "cell_type": "code",
   "execution_count": 19,
   "metadata": {},
   "outputs": [
    {
     "data": {
      "text/plain": [
       "[<matplotlib.lines.Line2D at 0x7f3bd04e1978>]"
      ]
     },
     "execution_count": 19,
     "metadata": {},
     "output_type": "execute_result"
    },
    {
     "data": {
      "image/png": "[encoded data removed]",
      "text/plain": [
       "<Figure size 432x288 with 1 Axes>"
      ]
     },
     "metadata": {
      "needs_background": "light"
     },
     "output_type": "display_data"
    }
   ],
   "source": [
    "from matplotlib import pyplot as plt\n",
    "%matplotlib inline\n",
    "\n",
    "X = tf.constant(value = np.linspace(0,2,1000), dtype = tf.float32)\n",
    "Y = X*np.exp(-X**2) * X\n",
    "plt.plot(X, Y)"
   ]
  },
  {
   "cell_type": "code",
   "execution_count": 35,
   "metadata": {},
   "outputs": [],
   "source": [
    "features = [X]"
   ]
  },
  {
   "cell_type": "code",
   "execution_count": 46,
   "metadata": {},
   "outputs": [],
   "source": [
    "features.append(tf.ones_like(X))  # Bias.\n",
    "features.append(tf.square(X))\n",
    "features.append(tf.sqrt(X))\n",
    "features.append(tf.exp(X))\n",
    "# return tf.stack(features, axis=1)"
   ]
  },
  {
   "cell_type": "code",
   "execution_count": 49,
   "metadata": {},
   "outputs": [
    {
     "name": "stdout",
     "output_type": "stream",
     "text": [
      "tf.Tensor(0.002002002, shape=(), dtype=float32)\n",
      "tf.Tensor(1.0, shape=(), dtype=float32)\n",
      "tf.Tensor(4.0080117e-06, shape=(), dtype=float32)\n",
      "tf.Tensor(0.044743735, shape=(), dtype=float32)\n",
      "tf.Tensor(1.002004, shape=(), dtype=float32)\n"
     ]
    }
   ],
   "source": [
    "print(features[0][1])\n",
    "print(features[1][1])\n",
    "print(features[2][1])\n",
    "print(features[3][1])\n",
    "print(features[4][1])"
   ]
  },
  {
   "cell_type": "code",
   "execution_count": 39,
   "metadata": {},
   "outputs": [
    {
     "data": {
      "text/plain": [
       "[<tf.Tensor: id=106190, shape=(1000,), dtype=float32, numpy=\n",
       " array([0.        , 0.002002  , 0.004004  , 0.00600601, 0.00800801,\n",
       "        0.01001001, 0.01201201, 0.01401401, 0.01601602, 0.01801802,\n",
       "        0.02002002, 0.02202202, 0.02402402, 0.02602603, 0.02802803,\n",
       "        0.03003003, 0.03203203, 0.03403403, 0.03603604, 0.03803804,\n",
       "        0.04004004, 0.04204204, 0.04404404, 0.04604604, 0.04804805,\n",
       "        0.05005005, 0.05205205, 0.05405406, 0.05605606, 0.05805806,\n",
       "        0.06006006, 0.06206206, 0.06406406, 0.06606606, 0.06806806,\n",
       "        0.07007007, 0.07207207, 0.07407407, 0.07607608, 0.07807808,\n",
       "        0.08008008, 0.08208209, 0.08408409, 0.08608609, 0.08808809,\n",
       "        0.09009009, 0.09209209, 0.0940941 , 0.0960961 , 0.0980981 ,\n",
       "        0.1001001 , 0.1021021 , 0.1041041 , 0.1061061 , 0.10810811,\n",
       "        0.11011011, 0.11211211, 0.11411411, 0.11611611, 0.11811811,\n",
       "        0.12012012, 0.12212212, 0.12412412, 0.12612613, 0.12812813,\n",
       "        0.13013013, 0.13213213, 0.13413413, 0.13613613, 0.13813815,\n",
       "        0.14014015, 0.14214215, 0.14414415, 0.14614615, 0.14814815,\n",
       "        0.15015015, 0.15215215, 0.15415415, 0.15615615, 0.15815815,\n",
       "        0.16016015, 0.16216215, 0.16416417, 0.16616617, 0.16816817,\n",
       "        0.17017017, 0.17217217, 0.17417417, 0.17617618, 0.17817818,\n",
       "        0.18018018, 0.18218218, 0.18418418, 0.18618618, 0.1881882 ,\n",
       "        0.1901902 , 0.1921922 , 0.1941942 , 0.1961962 , 0.1981982 ,\n",
       "        0.2002002 , 0.2022022 , 0.2042042 , 0.2062062 , 0.2082082 ,\n",
       "        0.2102102 , 0.2122122 , 0.21421422, 0.21621622, 0.21821822,\n",
       "        0.22022022, 0.22222222, 0.22422422, 0.22622623, 0.22822823,\n",
       "        0.23023023, 0.23223223, 0.23423423, 0.23623623, 0.23823825,\n",
       "        0.24024025, 0.24224225, 0.24424425, 0.24624625, 0.24824825,\n",
       "        0.25025025, 0.25225225, 0.25425425, 0.25625625, 0.25825825,\n",
       "        0.26026025, 0.26226225, 0.26426426, 0.26626626, 0.26826826,\n",
       "        0.27027026, 0.27227226, 0.27427426, 0.2762763 , 0.2782783 ,\n",
       "        0.2802803 , 0.2822823 , 0.2842843 , 0.2862863 , 0.2882883 ,\n",
       "        0.2902903 , 0.2922923 , 0.2942943 , 0.2962963 , 0.2982983 ,\n",
       "        0.3003003 , 0.3023023 , 0.3043043 , 0.3063063 , 0.3083083 ,\n",
       "        0.3103103 , 0.3123123 , 0.3143143 , 0.3163163 , 0.3183183 ,\n",
       "        0.3203203 , 0.3223223 , 0.3243243 , 0.32632634, 0.32832834,\n",
       "        0.33033034, 0.33233234, 0.33433434, 0.33633634, 0.33833835,\n",
       "        0.34034035, 0.34234235, 0.34434435, 0.34634635, 0.34834835,\n",
       "        0.35035035, 0.35235235, 0.35435435, 0.35635635, 0.35835835,\n",
       "        0.36036035, 0.36236235, 0.36436436, 0.36636636, 0.36836836,\n",
       "        0.37037036, 0.37237236, 0.37437436, 0.3763764 , 0.3783784 ,\n",
       "        0.3803804 , 0.3823824 , 0.3843844 , 0.3863864 , 0.3883884 ,\n",
       "        0.3903904 , 0.3923924 , 0.3943944 , 0.3963964 , 0.3983984 ,\n",
       "        0.4004004 , 0.4024024 , 0.4044044 , 0.4064064 , 0.4084084 ,\n",
       "        0.4104104 , 0.4124124 , 0.4144144 , 0.4164164 , 0.4184184 ,\n",
       "        0.4204204 , 0.4224224 , 0.4244244 , 0.42642644, 0.42842844,\n",
       "        0.43043044, 0.43243244, 0.43443444, 0.43643644, 0.43843845,\n",
       "        0.44044045, 0.44244245, 0.44444445, 0.44644645, 0.44844845,\n",
       "        0.45045045, 0.45245245, 0.45445445, 0.45645645, 0.45845845,\n",
       "        0.46046045, 0.46246246, 0.46446446, 0.46646646, 0.46846846,\n",
       "        0.47047046, 0.47247246, 0.47447446, 0.4764765 , 0.4784785 ,\n",
       "        0.4804805 , 0.4824825 , 0.4844845 , 0.4864865 , 0.4884885 ,\n",
       "        0.4904905 , 0.4924925 , 0.4944945 , 0.4964965 , 0.4984985 ,\n",
       "        0.5005005 , 0.5025025 , 0.5045045 , 0.5065065 , 0.5085085 ,\n",
       "        0.5105105 , 0.5125125 , 0.5145145 , 0.5165165 , 0.5185185 ,\n",
       "        0.5205205 , 0.5225225 , 0.5245245 , 0.5265265 , 0.5285285 ,\n",
       "        0.5305305 , 0.5325325 , 0.5345345 , 0.5365365 , 0.5385385 ,\n",
       "        0.5405405 , 0.5425425 , 0.5445445 , 0.5465465 , 0.5485485 ,\n",
       "        0.5505506 , 0.5525526 , 0.5545546 , 0.5565566 , 0.5585586 ,\n",
       "        0.5605606 , 0.5625626 , 0.5645646 , 0.5665666 , 0.5685686 ,\n",
       "        0.5705706 , 0.5725726 , 0.5745746 , 0.5765766 , 0.5785786 ,\n",
       "        0.5805806 , 0.5825826 , 0.5845846 , 0.5865866 , 0.5885886 ,\n",
       "        0.5905906 , 0.5925926 , 0.5945946 , 0.5965966 , 0.5985986 ,\n",
       "        0.6006006 , 0.6026026 , 0.6046046 , 0.6066066 , 0.6086086 ,\n",
       "        0.6106106 , 0.6126126 , 0.6146146 , 0.6166166 , 0.6186186 ,\n",
       "        0.6206206 , 0.6226226 , 0.6246246 , 0.6266266 , 0.6286286 ,\n",
       "        0.6306306 , 0.6326326 , 0.6346346 , 0.6366366 , 0.6386386 ,\n",
       "        0.6406406 , 0.6426426 , 0.6446446 , 0.6466466 , 0.6486486 ,\n",
       "        0.6506507 , 0.6526527 , 0.6546547 , 0.6566567 , 0.6586587 ,\n",
       "        0.6606607 , 0.6626627 , 0.6646647 , 0.6666667 , 0.6686687 ,\n",
       "        0.6706707 , 0.6726727 , 0.6746747 , 0.6766767 , 0.6786787 ,\n",
       "        0.6806807 , 0.6826827 , 0.6846847 , 0.6866867 , 0.6886887 ,\n",
       "        0.6906907 , 0.6926927 , 0.6946947 , 0.6966967 , 0.6986987 ,\n",
       "        0.7007007 , 0.7027027 , 0.7047047 , 0.7067067 , 0.7087087 ,\n",
       "        0.7107107 , 0.7127127 , 0.7147147 , 0.7167167 , 0.7187187 ,\n",
       "        0.7207207 , 0.7227227 , 0.7247247 , 0.7267267 , 0.7287287 ,\n",
       "        0.7307307 , 0.7327327 , 0.7347347 , 0.7367367 , 0.7387387 ,\n",
       "        0.7407407 , 0.7427427 , 0.7447447 , 0.7467467 , 0.7487487 ,\n",
       "        0.7507508 , 0.7527528 , 0.7547548 , 0.7567568 , 0.7587588 ,\n",
       "        0.7607608 , 0.7627628 , 0.7647648 , 0.7667668 , 0.7687688 ,\n",
       "        0.7707708 , 0.7727728 , 0.7747748 , 0.7767768 , 0.7787788 ,\n",
       "        0.7807808 , 0.7827828 , 0.7847848 , 0.7867868 , 0.7887888 ,\n",
       "        0.7907908 , 0.7927928 , 0.7947948 , 0.7967968 , 0.7987988 ,\n",
       "        0.8008008 , 0.8028028 , 0.8048048 , 0.8068068 , 0.8088088 ,\n",
       "        0.8108108 , 0.8128128 , 0.8148148 , 0.8168168 , 0.8188188 ,\n",
       "        0.8208208 , 0.8228228 , 0.8248248 , 0.8268268 , 0.8288288 ,\n",
       "        0.8308308 , 0.8328328 , 0.8348348 , 0.8368368 , 0.8388388 ,\n",
       "        0.8408408 , 0.8428428 , 0.8448448 , 0.8468468 , 0.8488488 ,\n",
       "        0.8508509 , 0.8528529 , 0.8548549 , 0.8568569 , 0.8588589 ,\n",
       "        0.8608609 , 0.8628629 , 0.8648649 , 0.8668669 , 0.8688689 ,\n",
       "        0.8708709 , 0.8728729 , 0.8748749 , 0.8768769 , 0.8788789 ,\n",
       "        0.8808809 , 0.8828829 , 0.8848849 , 0.8868869 , 0.8888889 ,\n",
       "        0.8908909 , 0.8928929 , 0.8948949 , 0.8968969 , 0.8988989 ,\n",
       "        0.9009009 , 0.9029029 , 0.9049049 , 0.9069069 , 0.9089089 ,\n",
       "        0.9109109 , 0.9129129 , 0.9149149 , 0.9169169 , 0.9189189 ,\n",
       "        0.9209209 , 0.9229229 , 0.9249249 , 0.9269269 , 0.9289289 ,\n",
       "        0.9309309 , 0.9329329 , 0.9349349 , 0.9369369 , 0.9389389 ,\n",
       "        0.9409409 , 0.9429429 , 0.9449449 , 0.9469469 , 0.9489489 ,\n",
       "        0.950951  , 0.952953  , 0.954955  , 0.956957  , 0.958959  ,\n",
       "        0.960961  , 0.962963  , 0.964965  , 0.966967  , 0.968969  ,\n",
       "        0.970971  , 0.972973  , 0.974975  , 0.976977  , 0.978979  ,\n",
       "        0.980981  , 0.982983  , 0.984985  , 0.986987  , 0.988989  ,\n",
       "        0.990991  , 0.992993  , 0.994995  , 0.996997  , 0.998999  ,\n",
       "        1.001001  , 1.003003  , 1.005005  , 1.007007  , 1.009009  ,\n",
       "        1.011011  , 1.013013  , 1.015015  , 1.017017  , 1.019019  ,\n",
       "        1.021021  , 1.023023  , 1.025025  , 1.027027  , 1.029029  ,\n",
       "        1.031031  , 1.033033  , 1.035035  , 1.037037  , 1.039039  ,\n",
       "        1.041041  , 1.043043  , 1.045045  , 1.047047  , 1.049049  ,\n",
       "        1.051051  , 1.053053  , 1.055055  , 1.057057  , 1.059059  ,\n",
       "        1.061061  , 1.063063  , 1.065065  , 1.067067  , 1.069069  ,\n",
       "        1.071071  , 1.073073  , 1.075075  , 1.077077  , 1.079079  ,\n",
       "        1.081081  , 1.083083  , 1.085085  , 1.087087  , 1.089089  ,\n",
       "        1.091091  , 1.093093  , 1.095095  , 1.097097  , 1.099099  ,\n",
       "        1.1011012 , 1.1031032 , 1.1051052 , 1.1071072 , 1.1091092 ,\n",
       "        1.1111112 , 1.1131132 , 1.1151152 , 1.1171172 , 1.1191192 ,\n",
       "        1.1211212 , 1.1231232 , 1.1251252 , 1.1271272 , 1.1291292 ,\n",
       "        1.1311312 , 1.1331332 , 1.1351352 , 1.1371372 , 1.1391392 ,\n",
       "        1.1411412 , 1.1431432 , 1.1451452 , 1.1471472 , 1.1491492 ,\n",
       "        1.1511512 , 1.1531532 , 1.1551552 , 1.1571572 , 1.1591592 ,\n",
       "        1.1611612 , 1.1631632 , 1.1651652 , 1.1671672 , 1.1691692 ,\n",
       "        1.1711712 , 1.1731732 , 1.1751752 , 1.1771772 , 1.1791792 ,\n",
       "        1.1811812 , 1.1831832 , 1.1851852 , 1.1871872 , 1.1891892 ,\n",
       "        1.1911912 , 1.1931932 , 1.1951952 , 1.1971972 , 1.1991992 ,\n",
       "        1.2012012 , 1.2032032 , 1.2052052 , 1.2072072 , 1.2092092 ,\n",
       "        1.2112112 , 1.2132132 , 1.2152152 , 1.2172172 , 1.2192192 ,\n",
       "        1.2212212 , 1.2232232 , 1.2252252 , 1.2272272 , 1.2292292 ,\n",
       "        1.2312312 , 1.2332332 , 1.2352352 , 1.2372372 , 1.2392392 ,\n",
       "        1.2412412 , 1.2432432 , 1.2452452 , 1.2472472 , 1.2492492 ,\n",
       "        1.2512512 , 1.2532532 , 1.2552552 , 1.2572572 , 1.2592592 ,\n",
       "        1.2612612 , 1.2632632 , 1.2652652 , 1.2672672 , 1.2692692 ,\n",
       "        1.2712712 , 1.2732732 , 1.2752752 , 1.2772772 , 1.2792792 ,\n",
       "        1.2812812 , 1.2832832 , 1.2852852 , 1.2872872 , 1.2892892 ,\n",
       "        1.2912912 , 1.2932932 , 1.2952952 , 1.2972972 , 1.2992992 ,\n",
       "        1.3013014 , 1.3033034 , 1.3053054 , 1.3073074 , 1.3093094 ,\n",
       "        1.3113114 , 1.3133134 , 1.3153154 , 1.3173174 , 1.3193194 ,\n",
       "        1.3213214 , 1.3233234 , 1.3253254 , 1.3273274 , 1.3293294 ,\n",
       "        1.3313314 , 1.3333334 , 1.3353354 , 1.3373374 , 1.3393394 ,\n",
       "        1.3413414 , 1.3433434 , 1.3453454 , 1.3473474 , 1.3493494 ,\n",
       "        1.3513514 , 1.3533534 , 1.3553554 , 1.3573574 , 1.3593594 ,\n",
       "        1.3613614 , 1.3633634 , 1.3653654 , 1.3673674 , 1.3693694 ,\n",
       "        1.3713714 , 1.3733734 , 1.3753754 , 1.3773774 , 1.3793794 ,\n",
       "        1.3813814 , 1.3833834 , 1.3853854 , 1.3873874 , 1.3893894 ,\n",
       "        1.3913914 , 1.3933934 , 1.3953954 , 1.3973974 , 1.3993994 ,\n",
       "        1.4014014 , 1.4034034 , 1.4054054 , 1.4074074 , 1.4094094 ,\n",
       "        1.4114114 , 1.4134134 , 1.4154154 , 1.4174174 , 1.4194194 ,\n",
       "        1.4214214 , 1.4234234 , 1.4254254 , 1.4274274 , 1.4294294 ,\n",
       "        1.4314314 , 1.4334334 , 1.4354354 , 1.4374374 , 1.4394394 ,\n",
       "        1.4414414 , 1.4434434 , 1.4454454 , 1.4474474 , 1.4494494 ,\n",
       "        1.4514514 , 1.4534534 , 1.4554554 , 1.4574574 , 1.4594594 ,\n",
       "        1.4614614 , 1.4634634 , 1.4654654 , 1.4674674 , 1.4694694 ,\n",
       "        1.4714714 , 1.4734734 , 1.4754754 , 1.4774774 , 1.4794794 ,\n",
       "        1.4814814 , 1.4834834 , 1.4854854 , 1.4874874 , 1.4894894 ,\n",
       "        1.4914914 , 1.4934934 , 1.4954954 , 1.4974974 , 1.4994994 ,\n",
       "        1.5015016 , 1.5035036 , 1.5055056 , 1.5075076 , 1.5095096 ,\n",
       "        1.5115116 , 1.5135136 , 1.5155156 , 1.5175176 , 1.5195196 ,\n",
       "        1.5215216 , 1.5235236 , 1.5255256 , 1.5275276 , 1.5295296 ,\n",
       "        1.5315316 , 1.5335336 , 1.5355356 , 1.5375376 , 1.5395396 ,\n",
       "        1.5415416 , 1.5435436 , 1.5455456 , 1.5475476 , 1.5495496 ,\n",
       "        1.5515516 , 1.5535536 , 1.5555556 , 1.5575576 , 1.5595596 ,\n",
       "        1.5615616 , 1.5635636 , 1.5655656 , 1.5675676 , 1.5695696 ,\n",
       "        1.5715716 , 1.5735736 , 1.5755756 , 1.5775776 , 1.5795796 ,\n",
       "        1.5815816 , 1.5835836 , 1.5855856 , 1.5875876 , 1.5895896 ,\n",
       "        1.5915916 , 1.5935936 , 1.5955956 , 1.5975976 , 1.5995996 ,\n",
       "        1.6016016 , 1.6036036 , 1.6056056 , 1.6076076 , 1.6096096 ,\n",
       "        1.6116116 , 1.6136136 , 1.6156156 , 1.6176176 , 1.6196196 ,\n",
       "        1.6216216 , 1.6236236 , 1.6256256 , 1.6276276 , 1.6296296 ,\n",
       "        1.6316316 , 1.6336336 , 1.6356356 , 1.6376376 , 1.6396396 ,\n",
       "        1.6416416 , 1.6436436 , 1.6456456 , 1.6476476 , 1.6496496 ,\n",
       "        1.6516516 , 1.6536536 , 1.6556556 , 1.6576576 , 1.6596596 ,\n",
       "        1.6616616 , 1.6636636 , 1.6656656 , 1.6676676 , 1.6696696 ,\n",
       "        1.6716716 , 1.6736736 , 1.6756756 , 1.6776776 , 1.6796796 ,\n",
       "        1.6816816 , 1.6836836 , 1.6856856 , 1.6876876 , 1.6896896 ,\n",
       "        1.6916916 , 1.6936936 , 1.6956956 , 1.6976976 , 1.6996996 ,\n",
       "        1.7017018 , 1.7037038 , 1.7057058 , 1.7077078 , 1.7097098 ,\n",
       "        1.7117118 , 1.7137138 , 1.7157158 , 1.7177178 , 1.7197198 ,\n",
       "        1.7217218 , 1.7237238 , 1.7257258 , 1.7277278 , 1.7297298 ,\n",
       "        1.7317318 , 1.7337338 , 1.7357358 , 1.7377378 , 1.7397398 ,\n",
       "        1.7417418 , 1.7437438 , 1.7457458 , 1.7477478 , 1.7497498 ,\n",
       "        1.7517518 , 1.7537538 , 1.7557558 , 1.7577578 , 1.7597598 ,\n",
       "        1.7617618 , 1.7637638 , 1.7657658 , 1.7677678 , 1.7697698 ,\n",
       "        1.7717718 , 1.7737738 , 1.7757758 , 1.7777778 , 1.7797798 ,\n",
       "        1.7817818 , 1.7837838 , 1.7857858 , 1.7877878 , 1.7897898 ,\n",
       "        1.7917918 , 1.7937938 , 1.7957958 , 1.7977978 , 1.7997998 ,\n",
       "        1.8018018 , 1.8038038 , 1.8058058 , 1.8078078 , 1.8098098 ,\n",
       "        1.8118118 , 1.8138138 , 1.8158158 , 1.8178178 , 1.8198198 ,\n",
       "        1.8218218 , 1.8238238 , 1.8258258 , 1.8278278 , 1.8298298 ,\n",
       "        1.8318318 , 1.8338338 , 1.8358358 , 1.8378378 , 1.8398398 ,\n",
       "        1.8418418 , 1.8438438 , 1.8458458 , 1.8478478 , 1.8498498 ,\n",
       "        1.8518518 , 1.8538538 , 1.8558558 , 1.8578578 , 1.8598598 ,\n",
       "        1.8618618 , 1.8638638 , 1.8658658 , 1.8678678 , 1.8698698 ,\n",
       "        1.8718718 , 1.8738738 , 1.8758758 , 1.8778778 , 1.8798798 ,\n",
       "        1.8818818 , 1.8838838 , 1.8858858 , 1.8878878 , 1.8898898 ,\n",
       "        1.8918918 , 1.8938938 , 1.8958958 , 1.8978978 , 1.8998998 ,\n",
       "        1.901902  , 1.903904  , 1.905906  , 1.907908  , 1.90991   ,\n",
       "        1.911912  , 1.913914  , 1.915916  , 1.917918  , 1.91992   ,\n",
       "        1.921922  , 1.923924  , 1.925926  , 1.927928  , 1.92993   ,\n",
       "        1.931932  , 1.933934  , 1.935936  , 1.937938  , 1.93994   ,\n",
       "        1.941942  , 1.943944  , 1.945946  , 1.947948  , 1.94995   ,\n",
       "        1.951952  , 1.953954  , 1.955956  , 1.957958  , 1.95996   ,\n",
       "        1.961962  , 1.963964  , 1.965966  , 1.967968  , 1.96997   ,\n",
       "        1.971972  , 1.973974  , 1.975976  , 1.977978  , 1.97998   ,\n",
       "        1.981982  , 1.983984  , 1.985986  , 1.987988  , 1.98999   ,\n",
       "        1.991992  , 1.993994  , 1.995996  , 1.997998  , 2.        ],\n",
       "       dtype=float32)>]"
      ]
     },
     "execution_count": 39,
     "metadata": {},
     "output_type": "execute_result"
    }
   ],
   "source": [
    "features"
   ]
  },
  {
   "cell_type": "code",
   "execution_count": 38,
   "metadata": {},
   "outputs": [
    {
     "data": {
      "text/plain": [
       "<tf.Tensor: id=106270, shape=(), dtype=float32, numpy=0.002002002>"
      ]
     },
     "execution_count": 38,
     "metadata": {},
     "output_type": "execute_result"
    }
   ],
   "source": [
    "features[0][1]"
   ]
  },
  {
   "cell_type": "code",
   "execution_count": null,
   "metadata": {},
   "outputs": [],
   "source": [
    "features[0][2]"
   ]
  },
  {
   "cell_type": "code",
   "execution_count": 25,
   "metadata": {},
   "outputs": [
    {
     "data": {
      "text/plain": [
       "(tensorflow.python.framework.ops.EagerTensor, TensorShape([Dimension(1000)]))"
      ]
     },
     "execution_count": 25,
     "metadata": {},
     "output_type": "execute_result"
    }
   ],
   "source": [
    "type(X), X.shape\n",
    "X*np.exp(-X**2) * X"
   ]
  },
  {
   "cell_type": "code",
   "execution_count": null,
   "metadata": {
    "collapsed": true,
    "jupyter": {
     "outputs_hidden": true
    }
   },
   "outputs": [],
   "source": [
    "def make_features(X):\n",
    "    features = [X]\n",
    "    features.append(tf.ones_like(X))  # Bias.\n",
    "    features.append()\n",
    "    # TODO: add new features.\n",
    "    return tf.stack(features, axis=1)\n",
    "\n",
    "def make_weights(n_weights):\n",
    "    W = [tf.constant(value = 0.0, dtype = tf.float32) for _ in range(n_weights)]\n",
    "    return tf.expand_dims(tf.stack(W),-1)\n",
    "\n",
    "def predict(X, W):\n",
    "    Y_hat = tf.matmul(# TODO)\n",
    "    return tf.squeeze(Y_hat, axis=-1)\n",
    "\n",
    "def loss_mse(X, Y, W):\n",
    "    Y_hat = predict(X, W)\n",
    "    return tf.reduce_mean(input_tensor = (Y_hat - Y)**2)\n",
    "\n",
    "X = tf.constant(value = np.linspace(0,2,1000), dtype = tf.float32)\n",
    "Y = np.exp(-X**2) * X\n",
    "\n",
    "grad_f = tf.contrib.eager.gradients_function(f = loss_mse, params=[2])"
   ]
  },
  {
   "cell_type": "code",
   "execution_count": null,
   "metadata": {
    "collapsed": true,
    "jupyter": {
     "outputs_hidden": true
    }
   },
   "outputs": [],
   "source": [
    "STEPS = 2000\n",
    "LEARNING_RATE = .02\n",
    "\n",
    "# Weights/features.\n",
    "Xf = make_features(X)\n",
    "# Xf = Xf[:,0:2]  # Linear features only.\n",
    "W = make_weights(Xf.get_shape()[1].value)\n",
    "\n",
    "# For plotting\n",
    "steps = []\n",
    "losses = []\n",
    "\n",
    "plt.figure()\n",
    "for step in range(STEPS):\n",
    "    #1. Calculate gradients\n",
    "    dW = grad_f(Xf, Y, W)[0]\n",
    "    #2. Update weights\n",
    "    W -= dW * LEARNING_RATE\n",
    "    #3. Periodically print MSE\n",
    "    if step % 100 == 0:\n",
    "        loss = loss_mse(Xf, Y, W)\n",
    "        steps.append(step)\n",
    "        losses.append(loss)\n",
    "        plt.clf()\n",
    "        plt.plot(steps, losses)\n",
    "# Print final MSE and weights\n",
    "print(\"STEP: {} MSE: {}\".format(STEPS,loss_mse(Xf, Y, W)))\n",
    "\n",
    "# Plot results\n",
    "plt.figure()\n",
    "plt.plot(X, Y, label='actual')\n",
    "plt.plot(X, predict(Xf, W), label='predicted')\n",
    "plt.legend()"
   ]
  },
  {
   "cell_type": "markdown",
   "metadata": {},
   "source": [
    "Copyright 2019 Google Inc. Licensed under the Apache License, Version 2.0 (the \"License\"); you may not use this file except in compliance with the License. You may obtain a copy of the License at http://www.apache.org/licenses/LICENSE-2.0 Unless required by applicable law or agreed to in writing, software distributed under the License is distributed on an \"AS IS\" BASIS, WITHOUT WARRANTIES OR CONDITIONS OF ANY KIND, either express or implied. See the License for the specific language governing permissions and limitations under the License"
   ]
  }
 ],
 "metadata": {
  "kernelspec": {
   "display_name": "Python 3",
   "language": "python",
   "name": "python3"
  },
  "language_info": {
   "codemirror_mode": {
    "name": "ipython",
    "version": 3
   },
   "file_extension": ".py",
   "mimetype": "text/x-python",
   "name": "python",
   "nbconvert_exporter": "python",
   "pygments_lexer": "ipython3",
   "version": "3.5.3"
  }
 },
 "nbformat": 4,
 "nbformat_minor": 4
}
