{
 "cells": [
  {
   "cell_type": "code",
   "execution_count": 1,
   "metadata": {},
   "outputs": [],
   "source": [
    "import numpy as np\n",
    "import tensorflow as tf"
   ]
  },
  {
   "cell_type": "code",
   "execution_count": 2,
   "metadata": {},
   "outputs": [],
   "source": [
    "x = np.array(['x0', 'x1', 'x2'])\n",
    "y = np.array(['y0', 'y1', 'y2'])\n",
    "z = dict({'f1':x, 'f2':y})"
   ]
  },
  {
   "cell_type": "code",
   "execution_count": 3,
   "metadata": {},
   "outputs": [
    {
     "name": "stdout",
     "output_type": "stream",
     "text": [
      "<class 'numpy.ndarray'> <class 'numpy.ndarray'> <class 'dict'>\n",
      "x : ['x0' 'x1' 'x2']\n",
      "y : ['y0' 'y1' 'y2']\n",
      "z : {'f2': array(['y0', 'y1', 'y2'], dtype='<U2'), 'f1': array(['x0', 'x1', 'x2'], dtype='<U2')}\n"
     ]
    }
   ],
   "source": [
    "print('{} {} {}'.format(type(x),type(y),type(z)))\n",
    "print('x : {}'.format(x))\n",
    "print('y : {}'.format(y))\n",
    "print('z : {}'.format(z))"
   ]
  },
  {
   "cell_type": "code",
   "execution_count": 13,
   "metadata": {},
   "outputs": [],
   "source": [
    "def generator():\n",
    "    for el in sequence:\n",
    "        yield el"
   ]
  },
  {
   "cell_type": "code",
   "execution_count": 10,
   "metadata": {},
   "outputs": [],
   "source": [
    "dataset_1 = tf.data.Dataset.from_tensor_slices((x,y))\n",
    "iter_1 = dataset_1.make_initializable_iterator()\n",
    "el_1 = iter_1.get_next()"
   ]
  },
  {
   "cell_type": "code",
   "execution_count": 5,
   "metadata": {},
   "outputs": [],
   "source": [
    "dataset_2 = tf.data.Dataset.from_tensor_slices(z)\n",
    "iter_2 = dataset_2.make_initializable_iterator()\n",
    "el_2 = iter_2.get_next()"
   ]
  },
  {
   "cell_type": "code",
   "execution_count": 6,
   "metadata": {},
   "outputs": [],
   "source": [
    "dataset_3 = tf.data.Dataset.from_tensor_slices((z,y))\n",
    "iter_3 = dataset_3.make_initializable_iterator()\n",
    "el_3 = iter_3.get_next()"
   ]
  },
  {
   "cell_type": "code",
   "execution_count": 7,
   "metadata": {},
   "outputs": [
    {
     "name": "stdout",
     "output_type": "stream",
     "text": [
      "(b'x0', b'y0')\n",
      "(b'x1', b'y1')\n",
      "(b'x2', b'y2')\n"
     ]
    }
   ],
   "source": [
    "with tf.Session() as sess:\n",
    "    sess.run(iter_1.initializer)\n",
    "    print(sess.run(el_1))\n",
    "    print(sess.run(el_1))\n",
    "    print(sess.run(el_1))"
   ]
  },
  {
   "cell_type": "code",
   "execution_count": 8,
   "metadata": {},
   "outputs": [
    {
     "name": "stdout",
     "output_type": "stream",
     "text": [
      "{'f2': b'y0', 'f1': b'x0'}\n",
      "{'f2': b'y1', 'f1': b'x1'}\n",
      "{'f2': b'y2', 'f1': b'x2'}\n"
     ]
    }
   ],
   "source": [
    "with tf.Session() as sess:\n",
    "    sess.run(iter_2.initializer)\n",
    "    print(sess.run(el_2))\n",
    "    print(sess.run(el_2))\n",
    "    print(sess.run(el_2))"
   ]
  },
  {
   "cell_type": "code",
   "execution_count": 9,
   "metadata": {},
   "outputs": [
    {
     "name": "stdout",
     "output_type": "stream",
     "text": [
      "({'f2': b'y0', 'f1': b'x0'}, b'y0')\n",
      "({'f2': b'y1', 'f1': b'x1'}, b'y1')\n",
      "({'f2': b'y2', 'f1': b'x2'}, b'y2')\n"
     ]
    }
   ],
   "source": [
    "with tf.Session() as sess:\n",
    "    sess.run(iter_3.initializer)\n",
    "    print(sess.run(el_3))\n",
    "    print(sess.run(el_3))\n",
    "    print(sess.run(el_3))"
   ]
  },
  {
   "cell_type": "code",
   "execution_count": null,
   "metadata": {},
   "outputs": [],
   "source": []
  },
  {
   "cell_type": "code",
   "execution_count": 22,
   "metadata": {},
   "outputs": [
    {
     "name": "stdout",
     "output_type": "stream",
     "text": [
      "(b'x0', b'y0')\n",
      "(b'x1', b'y1')\n",
      "(b'x2', b'y2')\n"
     ]
    }
   ],
   "source": [
    "import numpy as np\n",
    "import tensorflow as tf\n",
    "\n",
    "x = np.array(['x0', 'x1', 'x2'])\n",
    "y = np.array(['y0', 'y1', 'y2'])\n",
    "z = dict({'f1':x, 'f2':y})\n",
    "\n",
    "dataset_1 = tf.data.Dataset.from_tensor_slices((x,y))\n",
    "iter_1 = dataset_1.make_initializable_iterator()\n",
    "el_1 = iter_1.get_next()\n",
    "\n",
    "with tf.Session() as sess:\n",
    "    sess.run(iter_1.initializer)\n",
    "    print(sess.run(el_1))\n",
    "    print(sess.run(el_1))\n",
    "    print(sess.run(el_1))"
   ]
  },
  {
   "cell_type": "code",
   "execution_count": 23,
   "metadata": {},
   "outputs": [
    {
     "name": "stdout",
     "output_type": "stream",
     "text": [
      "{'f2': b'y0', 'f1': b'x0'}\n",
      "{'f2': b'y1', 'f1': b'x1'}\n",
      "{'f2': b'y2', 'f1': b'x2'}\n"
     ]
    }
   ],
   "source": [
    "import numpy as np\n",
    "import tensorflow as tf\n",
    "\n",
    "x = np.array(['x0', 'x1', 'x2'])\n",
    "y = np.array(['y0', 'y1', 'y2'])\n",
    "z = dict({'f1':x, 'f2':y})\n",
    "\n",
    "dataset_1 = tf.data.Dataset.from_tensor_slices(z)\n",
    "iter_1 = dataset_1.make_initializable_iterator()\n",
    "el_1 = iter_1.get_next()\n",
    "\n",
    "with tf.Session() as sess:\n",
    "    sess.run(iter_1.initializer)\n",
    "    print(sess.run(el_1))\n",
    "    print(sess.run(el_1))\n",
    "    print(sess.run(el_1))"
   ]
  },
  {
   "cell_type": "code",
   "execution_count": 24,
   "metadata": {},
   "outputs": [
    {
     "name": "stdout",
     "output_type": "stream",
     "text": [
      "({'f2': b'y0', 'f1': b'x0'}, b'y0')\n",
      "({'f2': b'y1', 'f1': b'x1'}, b'y1')\n",
      "({'f2': b'y2', 'f1': b'x2'}, b'y2')\n"
     ]
    }
   ],
   "source": [
    "import numpy as np\n",
    "import tensorflow as tf\n",
    "\n",
    "x = np.array(['x0', 'x1', 'x2'])\n",
    "y = np.array(['y0', 'y1', 'y2'])\n",
    "z = dict({'f1':x, 'f2':y})\n",
    "\n",
    "dataset_1 = tf.data.Dataset.from_tensor_slices((z,y))\n",
    "iter_1 = dataset_1.make_initializable_iterator()\n",
    "el_1 = iter_1.get_next()\n",
    "\n",
    "with tf.Session() as sess:\n",
    "    sess.run(iter_1.initializer)\n",
    "    print(sess.run(el_1))\n",
    "    print(sess.run(el_1))\n",
    "    print(sess.run(el_1))"
   ]
  },
  {
   "cell_type": "code",
   "execution_count": null,
   "metadata": {},
   "outputs": [],
   "source": []
  }
 ],
 "metadata": {
  "kernelspec": {
   "display_name": "Python 3",
   "language": "python",
   "name": "python3"
  },
  "language_info": {
   "codemirror_mode": {
    "name": "ipython",
    "version": 3
   },
   "file_extension": ".py",
   "mimetype": "text/x-python",
   "name": "python",
   "nbconvert_exporter": "python",
   "pygments_lexer": "ipython3",
   "version": "3.5.3"
  }
 },
 "nbformat": 4,
 "nbformat_minor": 4
}
