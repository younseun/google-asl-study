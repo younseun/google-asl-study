{
 "cells": [
  {
   "cell_type": "markdown",
   "metadata": {},
   "source": [
    "# Set-up procedure"
   ]
  },
  {
   "cell_type": "markdown",
   "metadata": {},
   "source": [
    "## Update notebooks with your project, bucket, and region"
   ]
  },
  {
   "cell_type": "markdown",
   "metadata": {},
   "source": [
    "### Step 0\n",
    "[Create a bucket](http://console.cloud.google.com/storage) if you haven't already."
   ]
  },
  {
   "cell_type": "markdown",
   "metadata": {},
   "source": [
    "### Step 2"
   ]
  },
  {
   "cell_type": "markdown",
   "metadata": {},
   "source": [
    "Fill in with your GCP project, bucket, and desired region.\n"
   ]
  },
  {
   "cell_type": "code",
   "execution_count": 1,
   "metadata": {},
   "outputs": [
    {
     "name": "stdout",
     "output_type": "stream",
     "text": [
      "env: PROJECT='qwiklabs-gcp-ml-49b827b781ab'\n",
      "env: BUCKET='qwiklabs-gcp-ml-49b827b781ab'\n",
      "env: REGION=us-central1\n"
     ]
    }
   ],
   "source": [
    "# e.g., %env PROJECT=qwiklabs-...\n",
    "%env PROJECT= 'qwiklabs-gcp-ml-49b827b781ab'\n",
    "%env BUCKET= 'qwiklabs-gcp-ml-49b827b781ab'\n",
    "%env REGION=us-central1"
   ]
  },
  {
   "cell_type": "markdown",
   "metadata": {},
   "source": [
    "### Step 3\n",
    "Run script to update all notebooks"
   ]
  },
  {
   "cell_type": "code",
   "execution_count": 2,
   "metadata": {},
   "outputs": [],
   "source": [
    "%%bash\n",
    "# Updates project.\n",
    "string2replace=\"PROJECT = '.*'\"\n",
    "grep -rl \"$string2replace\" ./ | xargs sed -i \"s/$string2replace/PROJECT = '$PROJECT'/g\"\n",
    "# Updates bucket.\n",
    "string2replace=\"BUCKET = '.*'\"\n",
    "grep -rl \"$string2replace\" ./ | xargs sed -i \"s/$string2replace/BUCKET = '$BUCKET'/g\"\n",
    "# Updates region.\n",
    "string2replace=\"REGION = 'us-central1'\"\n",
    "grep -rl \"$string2replace\" ./ | xargs sed -i \"s/$string2replace/REGION = '$REGION'/g\""
   ]
  },
  {
   "cell_type": "code",
   "execution_count": null,
   "metadata": {},
   "outputs": [],
   "source": []
  }
 ],
 "metadata": {
  "kernelspec": {
   "display_name": "Python 3",
   "language": "python",
   "name": "python3"
  },
  "language_info": {
   "codemirror_mode": {
    "name": "ipython",
    "version": 3
   },
   "file_extension": ".py",
   "mimetype": "text/x-python",
   "name": "python",
   "nbconvert_exporter": "python",
   "pygments_lexer": "ipython3",
   "version": "3.5.3"
  }
 },
 "nbformat": 4,
 "nbformat_minor": 4
}
