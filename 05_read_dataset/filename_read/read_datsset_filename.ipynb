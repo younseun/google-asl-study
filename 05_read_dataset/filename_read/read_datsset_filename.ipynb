{
 "cells": [
  {
   "cell_type": "code",
   "execution_count": 89,
   "metadata": {},
   "outputs": [
    {
     "name": "stdout",
     "output_type": "stream",
     "text": [
      "1.15.0\n"
     ]
    }
   ],
   "source": [
    "import tensorflow as tf\n",
    "import numpy as np\n",
    "import shutil\n",
    "print(tf.__version__)"
   ]
  },
  {
   "cell_type": "code",
   "execution_count": 90,
   "metadata": {},
   "outputs": [],
   "source": [
    "tf.enable_eager_execution()"
   ]
  },
  {
   "cell_type": "markdown",
   "metadata": {},
   "source": [
    "# Test Data CSV"
   ]
  },
  {
   "cell_type": "code",
   "execution_count": 91,
   "metadata": {},
   "outputs": [
    {
     "name": "stdout",
     "output_type": "stream",
     "text": [
      "Overwriting test.csv\n"
     ]
    }
   ],
   "source": [
    "%%writefile test.csv\n",
    "fare_amount,dayofweek,hourofday,pickuplon,pickuplat,dropofflon,dropofflat\n",
    "28,1,0,-73.0,41.0,-74.0,20.7\n",
    "12.3,1,0,-72.0,44.0,-75.0,40.6\n",
    "10,1,0,-71.0,41.0,-71.0,42.9"
   ]
  },
  {
   "cell_type": "markdown",
   "metadata": {},
   "source": [
    "# Input Function reading from CSV"
   ]
  },
  {
   "cell_type": "code",
   "execution_count": 92,
   "metadata": {},
   "outputs": [],
   "source": [
    "CSV_COLUMN_NAMES = [\"fare_amount\",\"dayofweek\",\"hourofday\",\"pickuplon\",\"pickuplat\",\"dropofflon\",\"dropofflat\"]\n",
    "CSV_DEFAULTS = [[0.0],[1],[0],[-74.0], [40.0], [-74.0], [40.7]]"
   ]
  },
  {
   "cell_type": "code",
   "execution_count": 93,
   "metadata": {},
   "outputs": [],
   "source": [
    "def parse_row(row):\n",
    "    fields = tf.decode_csv(records = row, record_defaults = CSV_DEFAULTS)\n",
    "    features = dict(zip(CSV_COLUMN_NAMES, fields))\n",
    "    label = features.pop(\"fare_amount\") # remove label from features and store\n",
    "    return features, label"
   ]
  },
  {
   "cell_type": "code",
   "execution_count": 94,
   "metadata": {},
   "outputs": [],
   "source": [
    "def read_dataset(csv_path):  \n",
    "    dataset = tf.data.TextLineDataset(filenames = csv_path).skip(count = 1) # skip header\n",
    "    dataset = dataset.map(map_func = parse_row) \n",
    "    return dataset"
   ]
  },
  {
   "cell_type": "markdown",
   "metadata": {},
   "source": [
    "# parse_row 확인"
   ]
  },
  {
   "cell_type": "code",
   "execution_count": 95,
   "metadata": {},
   "outputs": [
    {
     "name": "stdout",
     "output_type": "stream",
     "text": [
      "dayofweek:1   hourofday:0   pickuplon:-74.0\n",
      "pickuplat:40.0   dropofflon:-74.0   dropofflat:40.70000076293945\n",
      "fare_amount:0.0\n",
      "You rock!\n"
     ]
    }
   ],
   "source": [
    "a_row = \"0.0,1,0,-74.0,40.0,-74.0,40.7\"\n",
    "features, labels = parse_row(a_row)\n",
    "\n",
    "assert labels.numpy() == 0.0\n",
    "assert features[\"pickuplon\"].numpy() == -74.0\n",
    "print(\"dayofweek:{}   hourofday:{}   pickuplon:{}\".format(features[\"dayofweek\"].numpy(), features[\"hourofday\"].numpy(), features[\"pickuplon\"].numpy()))\n",
    "print(\"pickuplat:{}   dropofflon:{}   dropofflat:{}\".format(features[\"pickuplat\"].numpy(), features[\"dropofflon\"].numpy(), features[\"dropofflat\"].numpy()))\n",
    "print(\"fare_amount:{}\".format(labels.numpy()))\n",
    "#                features[\"pickuplon\"].numpy(), \n",
    "#                \n",
    "#                pickuplat.numpy(), dropofflon.numpy(), dropofflat.numpy(), ))\n",
    "print(\"You rock!\")"
   ]
  },
  {
   "cell_type": "markdown",
   "metadata": {},
   "source": [
    "# read_dataset 확인"
   ]
  },
  {
   "cell_type": "code",
   "execution_count": 96,
   "metadata": {},
   "outputs": [
    {
     "name": "stdout",
     "output_type": "stream",
     "text": [
      "****************************************************************************************************\n",
      "dayofweek:1   hourofday:0   pickuplon:-73.0\n",
      "pickuplat:41.0   dropofflon:-74.0   dropofflat:20.700000762939453\n",
      "fare_amount:28.0\n",
      "****************************************************************************************************\n",
      "dayofweek:1   hourofday:0   pickuplon:-72.0\n",
      "pickuplat:44.0   dropofflon:-75.0   dropofflat:40.599998474121094\n",
      "fare_amount:12.300000190734863\n",
      "****************************************************************************************************\n",
      "dayofweek:1   hourofday:0   pickuplon:-71.0\n",
      "pickuplat:41.0   dropofflon:-71.0   dropofflat:42.900001525878906\n",
      "fare_amount:10.0\n"
     ]
    }
   ],
   "source": [
    "for feature, label in read_dataset(\"./test.csv\"):\n",
    "    print('*'*100)\n",
    "    print(\"dayofweek:{}   hourofday:{}   pickuplon:{}\".format(feature[\"dayofweek\"].numpy(), feature[\"hourofday\"].numpy(), feature[\"pickuplon\"].numpy()))\n",
    "    print(\"pickuplat:{}   dropofflon:{}   dropofflat:{}\".format(feature[\"pickuplat\"].numpy(), feature[\"dropofflon\"].numpy(), feature[\"dropofflat\"].numpy()))\n",
    "    print(\"fare_amount:{}\".format(label.numpy()))"
   ]
  },
  {
   "cell_type": "markdown",
   "metadata": {},
   "source": [
    "# iterator로 한건씩 읽기"
   ]
  },
  {
   "cell_type": "code",
   "execution_count": 97,
   "metadata": {},
   "outputs": [
    {
     "name": "stdout",
     "output_type": "stream",
     "text": [
      "****************************************************************************************************\n",
      "dayofweek:1   hourofday:0   pickuplon:-73.0\n",
      "pickuplat:41.0   dropofflon:-74.0   dropofflat:20.700000762939453\n",
      "fare_amount:28.0\n",
      "****************************************************************************************************\n",
      "dayofweek:1   hourofday:0   pickuplon:-72.0\n",
      "pickuplat:44.0   dropofflon:-75.0   dropofflat:40.599998474121094\n",
      "fare_amount:12.300000190734863\n",
      "****************************************************************************************************\n",
      "dayofweek:1   hourofday:0   pickuplon:-71.0\n",
      "pickuplat:41.0   dropofflon:-71.0   dropofflat:42.900001525878906\n",
      "fare_amount:10.0\n"
     ]
    }
   ],
   "source": [
    "dataset= read_dataset(\"./test.csv\")\n",
    "dataset_iterator = dataset.make_one_shot_iterator()\n",
    "\n",
    "for i in np.array(range(3)):\n",
    "    features, labels = dataset_iterator.get_next()\n",
    "    print('*'*100)\n",
    "    print(\"dayofweek:{}   hourofday:{}   pickuplon:{}\".format(features[\"dayofweek\"].numpy(), features[\"hourofday\"].numpy(), features[\"pickuplon\"].numpy()))\n",
    "    print(\"pickuplat:{}   dropofflon:{}   dropofflat:{}\".format(features[\"pickuplat\"].numpy(), features[\"dropofflon\"].numpy(), features[\"dropofflat\"].numpy()))\n",
    "    print(\"fare_amount:{}\".format(labels.numpy()))\n"
   ]
  },
  {
   "cell_type": "markdown",
   "metadata": {},
   "source": [
    "# Train_input_fn Define"
   ]
  },
  {
   "cell_type": "code",
   "execution_count": 129,
   "metadata": {},
   "outputs": [],
   "source": [
    "def train_input_fn(csv_path, batch_size = 3):\n",
    "    dataset = read_dataset(csv_path)\n",
    "    dataset = dataset.shuffle(buffer_size = 1000).repeat(count = None).batch(batch_size = batch_size)\n",
    "    return dataset"
   ]
  },
  {
   "cell_type": "code",
   "execution_count": 130,
   "metadata": {},
   "outputs": [
    {
     "name": "stdout",
     "output_type": "stream",
     "text": [
      "0 >> pickuplat:[41. 41. 44.]   pickuplon:[-73. -71. -72.]   label:[28.  10.  12.3]\n",
      "1 >> pickuplat:[41. 44. 41.]   pickuplon:[-73. -72. -71.]   label:[28.  12.3 10. ]\n",
      "2 >> pickuplat:[44. 41. 41.]   pickuplon:[-72. -71. -73.]   label:[12.3 10.  28. ]\n",
      "3 >> pickuplat:[44. 41. 41.]   pickuplon:[-72. -73. -71.]   label:[12.3 28.  10. ]\n",
      "4 >> pickuplat:[44. 41. 41.]   pickuplon:[-72. -73. -71.]   label:[12.3 28.  10. ]\n",
      "5 >> pickuplat:[41. 41. 44.]   pickuplon:[-71. -73. -72.]   label:[10.  28.  12.3]\n",
      "6 >> pickuplat:[41. 44. 41.]   pickuplon:[-71. -72. -73.]   label:[10.  12.3 28. ]\n",
      "7 >> pickuplat:[41. 44. 41.]   pickuplon:[-73. -72. -71.]   label:[28.  12.3 10. ]\n",
      "8 >> pickuplat:[41. 41. 44.]   pickuplon:[-71. -73. -72.]   label:[10.  28.  12.3]\n",
      "9 >> pickuplat:[44. 41. 41.]   pickuplon:[-72. -71. -73.]   label:[12.3 10.  28. ]\n"
     ]
    }
   ],
   "source": [
    "for i, data in enumerate(train_input_fn('test.csv')):\n",
    "    if i >= 10:\n",
    "        break\n",
    "    print('{} >> pickuplat:{}   pickuplon:{}   label:{}'.format(i, data[0][\"pickuplat\"].numpy(),data[0][\"pickuplon\"].numpy(),data[1].numpy()))"
   ]
  },
  {
   "cell_type": "markdown",
   "metadata": {},
   "source": [
    "# Eval_input_fn Define(suffle, repeat하지 않는다.)"
   ]
  },
  {
   "cell_type": "code",
   "execution_count": 131,
   "metadata": {},
   "outputs": [],
   "source": [
    "def eval_input_fn(csv_path, batch_size = 3):\n",
    "    dataset = read_dataset(csv_path)\n",
    "    dataset = dataset.batch(batch_size = batch_size)\n",
    "    return dataset"
   ]
  },
  {
   "cell_type": "code",
   "execution_count": 132,
   "metadata": {},
   "outputs": [
    {
     "name": "stdout",
     "output_type": "stream",
     "text": [
      "0 >> pickuplat:[41. 44. 41.]   pickuplon:[-73. -72. -71.]   label:[28.  12.3 10. ]\n"
     ]
    }
   ],
   "source": [
    "for i, data in enumerate(eval_input_fn('test.csv')):\n",
    "    if i >= 10:\n",
    "        break\n",
    "    print('{} >> pickuplat:{}   pickuplon:{}   label:{}'.format(i, data[0][\"pickuplat\"].numpy(),data[0][\"pickuplon\"].numpy(),data[1].numpy()))"
   ]
  },
  {
   "cell_type": "code",
   "execution_count": null,
   "metadata": {},
   "outputs": [],
   "source": []
  }
 ],
 "metadata": {
  "kernelspec": {
   "display_name": "Python 3",
   "language": "python",
   "name": "python3"
  },
  "language_info": {
   "codemirror_mode": {
    "name": "ipython",
    "version": 3
   },
   "file_extension": ".py",
   "mimetype": "text/x-python",
   "name": "python",
   "nbconvert_exporter": "python",
   "pygments_lexer": "ipython3",
   "version": "3.5.3"
  }
 },
 "nbformat": 4,
 "nbformat_minor": 4
}
