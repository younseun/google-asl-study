{
 "cells": [
  {
   "cell_type": "code",
   "execution_count": 1,
   "metadata": {},
   "outputs": [],
   "source": [
    "PROJECT = \"qwiklabs-gcp-ml-49b827b781ab\"  # Replace with your PROJECT\n",
    "BUCKET = \"qwiklabs-gcp-ml-49b827b781ab\"  # Replace with your BUCKET\n",
    "REGION = \"us-central1\"            # Choose an available region for AI Platform Training Service\n",
    "TFVERSION = \"1.14\"                # TF version for AI Platform Training Service to use"
   ]
  },
  {
   "cell_type": "markdown",
   "metadata": {},
   "source": [
    "# Run distributed cloud job\n",
    "원래는 train_data_path=gs://cloud-training-demos/taxifare/small/taxi-train*.csv \\\n",
    "데이터를 사용해야 하지만, 시간상 small을 이용하겠다.\n",
    "## 옵션중 scale-tier를 사용한다"
   ]
  },
  {
   "cell_type": "code",
   "execution_count": 2,
   "metadata": {},
   "outputs": [
    {
     "name": "stdout",
     "output_type": "stream",
     "text": [
      "Removing gs://qwiklabs-gcp-ml-49b827b781ab/taxifare/trained_large/#1574406845295030...\n",
      "Removing gs://qwiklabs-gcp-ml-49b827b781ab/taxifare/trained_large/checkpoint#1574407346715392...\n",
      "Removing gs://qwiklabs-gcp-ml-49b827b781ab/taxifare/trained_large/eval/#1574406975446315...\n",
      "Removing gs://qwiklabs-gcp-ml-49b827b781ab/taxifare/trained_large/eval/events.out.tfevents.1574406975.cmle-training-master-5355504fe2-0-4qxv8#1574407354224827...\n",
      "Removing gs://qwiklabs-gcp-ml-49b827b781ab/taxifare/trained_large/events.out.tfevents.1574406845.cmle-training-master-5355504fe2-0-4qxv8#1574407348956116...\n",
      "Removing gs://qwiklabs-gcp-ml-49b827b781ab/taxifare/trained_large/events.out.tfevents.1574406861.cmle-training-worker-5355504fe2-0-fc5cr#1574407340556370...\n",
      "Removing gs://qwiklabs-gcp-ml-49b827b781ab/taxifare/trained_large/export/#1574407355282846...\n",
      "Removing gs://qwiklabs-gcp-ml-49b827b781ab/taxifare/trained_large/export/exporter/#1574407355731027...\n",
      "Removing gs://qwiklabs-gcp-ml-49b827b781ab/taxifare/trained_large/export/exporter/1574407354/#1574407362199601...\n",
      "Removing gs://qwiklabs-gcp-ml-49b827b781ab/taxifare/trained_large/export/exporter/1574407354/saved_model.pb#1574407362553079...\n",
      "Removing gs://qwiklabs-gcp-ml-49b827b781ab/taxifare/trained_large/export/exporter/1574407354/variables/#1574407362844314...\n",
      "Removing gs://qwiklabs-gcp-ml-49b827b781ab/taxifare/trained_large/export/exporter/1574407354/variables/variables.data-00000-of-00002#1574407363146162...\n",
      "Removing gs://qwiklabs-gcp-ml-49b827b781ab/taxifare/trained_large/model.ckpt-120032.data-00000-of-00004#1574407176374873...\n",
      "Removing gs://qwiklabs-gcp-ml-49b827b781ab/taxifare/trained_large/export/exporter/1574407354/variables/variables.data-00001-of-00002#1574407363455468...\n",
      "Removing gs://qwiklabs-gcp-ml-49b827b781ab/taxifare/trained_large/export/exporter/1574407354/variables/variables.index#1574407363756536...\n",
      "Removing gs://qwiklabs-gcp-ml-49b827b781ab/taxifare/trained_large/graph.pbtxt#1574406897378384...\n",
      "Removing gs://qwiklabs-gcp-ml-49b827b781ab/taxifare/trained_large/model.ckpt-120032.data-00001-of-00004#1574407175934742...\n",
      "Removing gs://qwiklabs-gcp-ml-49b827b781ab/taxifare/trained_large/model.ckpt-120032.data-00002-of-00004#1574407175487672...\n",
      "Removing gs://qwiklabs-gcp-ml-49b827b781ab/taxifare/trained_large/model.ckpt-120032.data-00003-of-00004#1574407175047494...\n",
      "Removing gs://qwiklabs-gcp-ml-49b827b781ab/taxifare/trained_large/model.ckpt-120032.index#1574407176979960...\n",
      "Removing gs://qwiklabs-gcp-ml-49b827b781ab/taxifare/trained_large/model.ckpt-120032.meta#1574407180427861...\n",
      "Removing gs://qwiklabs-gcp-ml-49b827b781ab/taxifare/trained_large/model.ckpt-140036.data-00000-of-00004#1574407217746682...\n",
      "Removing gs://qwiklabs-gcp-ml-49b827b781ab/taxifare/trained_large/model.ckpt-140036.data-00001-of-00004#1574407217335548...\n",
      "Removing gs://qwiklabs-gcp-ml-49b827b781ab/taxifare/trained_large/model.ckpt-140036.data-00002-of-00004#1574407216880945...\n",
      "Removing gs://qwiklabs-gcp-ml-49b827b781ab/taxifare/trained_large/model.ckpt-140036.index#1574407218226044...\n",
      "Removing gs://qwiklabs-gcp-ml-49b827b781ab/taxifare/trained_large/model.ckpt-140036.meta#1574407221683829...\n",
      "Removing gs://qwiklabs-gcp-ml-49b827b781ab/taxifare/trained_large/model.ckpt-160043.data-00000-of-00004#1574407260519492...\n",
      "Removing gs://qwiklabs-gcp-ml-49b827b781ab/taxifare/trained_large/model.ckpt-160043.data-00001-of-00004#1574407260122911...\n",
      "Removing gs://qwiklabs-gcp-ml-49b827b781ab/taxifare/trained_large/model.ckpt-160043.data-00002-of-00004#1574407259706690...\n",
      "Removing gs://qwiklabs-gcp-ml-49b827b781ab/taxifare/trained_large/model.ckpt-160043.data-00003-of-00004#1574407259322470...\n",
      "Removing gs://qwiklabs-gcp-ml-49b827b781ab/taxifare/trained_large/model.ckpt-140036.data-00003-of-00004#1574407216403839...\n",
      "Removing gs://qwiklabs-gcp-ml-49b827b781ab/taxifare/trained_large/model.ckpt-160043.index#1574407261012509...\n",
      "Removing gs://qwiklabs-gcp-ml-49b827b781ab/taxifare/trained_large/model.ckpt-160043.meta#1574407264435624...\n",
      "Removing gs://qwiklabs-gcp-ml-49b827b781ab/taxifare/trained_large/model.ckpt-180048.data-00000-of-00004#1574407302721132...\n",
      "Removing gs://qwiklabs-gcp-ml-49b827b781ab/taxifare/trained_large/model.ckpt-180048.data-00001-of-00004#1574407302323322...\n",
      "Removing gs://qwiklabs-gcp-ml-49b827b781ab/taxifare/trained_large/model.ckpt-180048.data-00002-of-00004#1574407301857294...\n",
      "Removing gs://qwiklabs-gcp-ml-49b827b781ab/taxifare/trained_large/model.ckpt-180048.data-00003-of-00004#1574407301411067...\n",
      "Removing gs://qwiklabs-gcp-ml-49b827b781ab/taxifare/trained_large/model.ckpt-180048.index#1574407303142366...\n",
      "Removing gs://qwiklabs-gcp-ml-49b827b781ab/taxifare/trained_large/model.ckpt-180048.meta#1574407306748310...\n",
      "Removing gs://qwiklabs-gcp-ml-49b827b781ab/taxifare/trained_large/model.ckpt-200007.data-00000-of-00004#1574407344670531...\n",
      "Removing gs://qwiklabs-gcp-ml-49b827b781ab/taxifare/trained_large/model.ckpt-200007.data-00001-of-00004#1574407344166293...\n",
      "Removing gs://qwiklabs-gcp-ml-49b827b781ab/taxifare/trained_large/model.ckpt-200007.data-00002-of-00004#1574407343721011...\n",
      "Removing gs://qwiklabs-gcp-ml-49b827b781ab/taxifare/trained_large/model.ckpt-200007.data-00003-of-00004#1574407343314950...\n",
      "Removing gs://qwiklabs-gcp-ml-49b827b781ab/taxifare/trained_large/model.ckpt-200007.index#1574407345068906...\n",
      "Removing gs://qwiklabs-gcp-ml-49b827b781ab/taxifare/trained_large/model.ckpt-200007.meta#1574407348533287...\n",
      "/ [45/45 objects] 100% Done                                                     \n",
      "Operation completed over 45 objects.                                             \n",
      "Job [taxifare_large_191205_145402] submitted successfully.\n",
      "Your job is still active. You may view the status of your job with the command\n",
      "\n",
      "  $ gcloud ai-platform jobs describe taxifare_large_191205_145402\n",
      "\n",
      "or continue streaming the logs with the command\n",
      "\n",
      "  $ gcloud ai-platform jobs stream-logs taxifare_large_191205_145402\n",
      "jobId: taxifare_large_191205_145402\n",
      "state: QUEUED\n"
     ]
    }
   ],
   "source": [
    "OUTDIR = \"gs://{}/taxifare/trained_large\".format(BUCKET)\n",
    "!gsutil -m rm -rf {OUTDIR} # start fresh each time\n",
    "!gcloud ai-platform jobs submit training taxifare_large_$(date -u +%y%m%d_%H%M%S) \\\n",
    "    --package-path=taxifaremodel \\\n",
    "    --module-name=taxifaremodel.task \\\n",
    "    --job-dir=gs://{BUCKET}/taxifare \\\n",
    "    --python-version=3.5 \\\n",
    "    --runtime-version={TFVERSION} \\\n",
    "    --region={REGION} \\\n",
    "    --scale-tier=PREMIUM_1 \\\n",
    "    -- \\\n",
    "    --train_data_path=gs://cloud-training-demos/taxifare/small/taxi-train*.csv \\\n",
    "    --eval_data_path=gs://cloud-training-demos/taxifare/small/taxi-valid.csv  \\\n",
    "    --train_steps=200000 \\\n",
    "    --output_dir={OUTDIR}b"
   ]
  },
  {
   "cell_type": "code",
   "execution_count": null,
   "metadata": {},
   "outputs": [],
   "source": []
  }
 ],
 "metadata": {
  "kernelspec": {
   "display_name": "Python 3",
   "language": "python",
   "name": "python3"
  },
  "language_info": {
   "codemirror_mode": {
    "name": "ipython",
    "version": 3
   },
   "file_extension": ".py",
   "mimetype": "text/x-python",
   "name": "python",
   "nbconvert_exporter": "python",
   "pygments_lexer": "ipython3",
   "version": "3.5.3"
  }
 },
 "nbformat": 4,
 "nbformat_minor": 4
}
