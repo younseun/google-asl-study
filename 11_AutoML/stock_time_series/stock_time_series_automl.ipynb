{
 "cells": [
  {
   "cell_type": "markdown",
   "metadata": {},
   "source": [
    "# Time Series Prediction with AutoML\n",
    "\n",
    "**Objectives**\n",
    " 3. Learn how to use AutoML Tables to build a time series model from data in BigQuery."
   ]
  },
  {
   "cell_type": "markdown",
   "metadata": {},
   "source": [
    "## Train a Time Series model using AutoML Tables\n",
    "\n",
    "### Step 1. Launch AutoML\n",
    "\n",
    "#TODO 3\n",
    "\n",
    "Within the GCP console, navigate to Tables in the console menu.\n",
    "\n",
    "<img src='./assets/console_menu_tables.png' width='50%'>"
   ]
  },
  {
   "cell_type": "markdown",
   "metadata": {},
   "source": [
    "### Step 2. Create a Dataset\n",
    "\n",
    "Select New Dataset and give it a name like `stock_market`. In the section on Importing data, select the option to import your data from a BigQuery Table. Fill in the details for your project, the dataset ID, and the table ID.\n",
    "\n",
    "<img src='./assets/import_data_options.png' width='50%'>"
   ]
  },
  {
   "cell_type": "markdown",
   "metadata": {},
   "source": [
    "### Step 3. Import the Data\n",
    "\n",
    "Once you have created the dataset you can then import the data. This will take a few minutes.\n",
    "\n",
    "<img src='./assets/importing_data.png' width='50%'>"
   ]
  },
  {
   "cell_type": "markdown",
   "metadata": {},
   "source": [
    "### Step 4. Train the model.\n",
    "\n",
    "Once the data has been imported into the dataset. You can examine the Schema of your data, Analyze the properties and values of the features and ultimately Train the model. Here you can also determine the label column and features for training the model. Since we are doing a classifcation model, we'll use `direction` as our target column.\n",
    "\n",
    "<img src='./assets/schema_analyze_train.png' width='80%'>"
   ]
  },
  {
   "cell_type": "markdown",
   "metadata": {},
   "source": [
    "# 아래 lab을 할때, Normalized_change 칼럼은 제외해야 한다."
   ]
  },
  {
   "cell_type": "markdown",
   "metadata": {},
   "source": [
    "Under the `Train` tab you can choose the features to use when training. Select the same features as we used above. \n",
    "\n",
    "<img src='./assets/train_model.png' width='50%'>"
   ]
  },
  {
   "cell_type": "markdown",
   "metadata": {},
   "source": [
    "### Step 5. Evaluate your model.\n",
    "\n",
    "Training can take many hours. But once training is complete you can inspect the evaluation metrics of your model. Since this is a classification task, we can also adjust the threshold and explore how different thresholds will affect your evaluation metrics. Also on that page, we can explore the feature importance of the various features used in the model and view confusion matrix for our model predictions.\n",
    "\n",
    "<img src='./assets/eval_metrics.png' width='80%'>"
   ]
  },
  {
   "cell_type": "markdown",
   "metadata": {},
   "source": [
    "### Step 6. Predict with the trained model. \n",
    "\n",
    "Once the model is done training, navigate to the Models page and Deploy the model, so we can test prediction. \n",
    "\n",
    "<img src='./assets/deploy_model.png' width='80%'>\n",
    "\n",
    "When calling predictions, you can call batch prediction jobs by specifying a BigQuery table or csv file. Or you can do online prediction for a single instance."
   ]
  },
  {
   "cell_type": "markdown",
   "metadata": {},
   "source": [
    "Copyright 2019 Google Inc. Licensed under the Apache License, Version 2.0 (the \"License\"); you may not use this file except in compliance with the License. You may obtain a copy of the License at http://www.apache.org/licenses/LICENSE-2.0 Unless required by applicable law or agreed to in writing, software distributed under the License is distributed on an \"AS IS\" BASIS, WITHOUT WARRANTIES OR CONDITIONS OF ANY KIND, either express or implied. See the License for the specific language governing permissions and limitations under the License"
   ]
  },
  {
   "cell_type": "code",
   "execution_count": null,
   "metadata": {},
   "outputs": [],
   "source": []
  }
 ],
 "metadata": {
  "kernelspec": {
   "display_name": "Python 3",
   "language": "python",
   "name": "python3"
  },
  "language_info": {
   "codemirror_mode": {
    "name": "ipython",
    "version": 3
   },
   "file_extension": ".py",
   "mimetype": "text/x-python",
   "name": "python",
   "nbconvert_exporter": "python",
   "pygments_lexer": "ipython3",
   "version": "3.5.3"
  }
 },
 "nbformat": 4,
 "nbformat_minor": 4
}
